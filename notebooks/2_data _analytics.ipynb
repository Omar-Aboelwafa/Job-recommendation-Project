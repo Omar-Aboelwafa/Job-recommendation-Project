{
 "cells": [
  {
   "cell_type": "code",
   "execution_count": 44,
   "id": "2efe32f4-ed20-4f94-9a65-f220c54f54bb",
   "metadata": {
    "tags": []
   },
   "outputs": [],
   "source": [
    "DF_PATH = '../data/processed/1_preprocessed_df.pkl'\n",
    "ROLES_PATH = '../data/raw/roles_short_names.csv'\n",
    "EXPORT_PATH = 'C:/Users/pc/Jop_recommendation_Project/Jop_recommendation/data/processed/2_preprocessed_df.pkl'\n",
    "FIG_DIR = \"../reports/figures\"\n",
    "\n",
    "\n",
    "JOPS_COLS      = ['DevType']\n",
    "SKILLS_COLS      = ['LanguageWorkedWith',\n",
    "                  'DatabaseWorkedWith',\n",
    "                  'PlatformWorkedWith',\n",
    "                  'WebframeWorkedWith',\n",
    "                  'MiscTechWorkedWith',\n",
    "                  'NEWCollabToolsWorkedWith']"
   ]
  },
  {
   "cell_type": "code",
   "execution_count": 45,
   "id": "2f0d2d40-d030-4ba0-ae9a-1dc32726093a",
   "metadata": {},
   "outputs": [],
   "source": [
    "# Load packages\n",
    "import pandas as pd \n",
    "import numpy as np\n",
    "import logging\n",
    "import pickle\n",
    "import os\n",
    "\n",
    "import plotly \n",
    "import plotly.graph_objects as go\n",
    "from plotly.subplots import make_subplots\n",
    "import plotly.express as px\n",
    "import plotly.figure_factory as ff\n",
    "\n",
    "from sklearn.manifold import TSNE\n",
    "from sklearn.preprocessing import MultiLabelBinarizer\n",
    "from sklearn.preprocessing import StandardScaler\n",
    "from sklearn.preprocessing import RobustScaler\n",
    "from sklearn.preprocessing import MinMaxScaler\n",
    "from sklearn.pipeline import make_pipeline\n",
    "from sklearn.cluster import AgglomerativeClustering\n",
    "\n",
    "from matplotlib import pyplot as plt\n",
    "from scipy.cluster.hierarchy import dendrogram"
   ]
  },
  {
   "cell_type": "markdown",
   "id": "6b37eb7c-7429-45d7-be6d-db4510b084cb",
   "metadata": {},
   "source": [
    "### Read data and preprocess\n"
   ]
  },
  {
   "cell_type": "code",
   "execution_count": 46,
   "id": "4402f86b-2e8b-4c31-b900-d6d6fb83442b",
   "metadata": {},
   "outputs": [],
   "source": [
    "raw_df = pd.read_pickle(DF_PATH)\n",
    "roles_names = pd.read_csv(ROLES_PATH, sep=';')"
   ]
  },
  {
   "cell_type": "code",
   "execution_count": 47,
   "id": "eef7b89e-cfac-43fa-8407-d736f094e816",
   "metadata": {},
   "outputs": [
    {
     "data": {
      "text/plain": [
       "Index(['Respondent', 'MainBranch', 'Hobbyist', 'Age', 'Age1stCode', 'CompFreq',\n",
       "       'CompTotal', 'ConvertedComp', 'Country', 'CurrencyDesc',\n",
       "       'CurrencySymbol', 'DatabaseDesireNextYear', 'DatabaseWorkedWith',\n",
       "       'DevType', 'EdLevel', 'Employment', 'Ethnicity', 'Gender', 'JobFactors',\n",
       "       'JobSat', 'JobSeek', 'LanguageDesireNextYear', 'LanguageWorkedWith',\n",
       "       'MiscTechDesireNextYear', 'MiscTechWorkedWith',\n",
       "       'NEWCollabToolsDesireNextYear', 'NEWCollabToolsWorkedWith', 'NEWDevOps',\n",
       "       'NEWDevOpsImpt', 'NEWEdImpt', 'NEWJobHunt', 'NEWJobHuntResearch',\n",
       "       'NEWLearn', 'NEWOffTopic', 'NEWOnboardGood', 'NEWOtherComms',\n",
       "       'NEWOvertime', 'NEWPurchaseResearch', 'NEWPurpleLink', 'NEWSOSites',\n",
       "       'NEWStuck', 'OpSys', 'OrgSize', 'PlatformDesireNextYear',\n",
       "       'PlatformWorkedWith', 'PurchaseWhat', 'Sexuality', 'SOAccount',\n",
       "       'SOComm', 'SOPartFreq', 'SOVisitFreq', 'SurveyEase', 'SurveyLength',\n",
       "       'Trans', 'UndergradMajor', 'WebframeDesireNextYear',\n",
       "       'WebframeWorkedWith', 'WelcomeChange', 'WorkWeekHrs', 'YearsCode',\n",
       "       'YearsCodePro'],\n",
       "      dtype='object')"
      ]
     },
     "execution_count": 47,
     "metadata": {},
     "output_type": "execute_result"
    }
   ],
   "source": [
    "raw_df.columns\n"
   ]
  },
  {
   "cell_type": "code",
   "execution_count": 48,
   "id": "fbc6619d-8a99-4117-9dd2-8480ebf5dab4",
   "metadata": {},
   "outputs": [
    {
     "name": "stdout",
     "output_type": "stream",
     "text": [
      "DevType\n",
      "---------------------\n",
      "0        [Developer, desktop or enterprise applications...\n",
      "1               [Developer, full-stack, Developer, mobile]\n",
      "2                                                       []\n",
      "3                                                       []\n",
      "4                                                       []\n",
      "                               ...                        \n",
      "64456                                [Senior executive/VP]\n",
      "64457                                                   []\n",
      "64458                                                   []\n",
      "64459                                                   []\n",
      "64460                                                   []\n",
      "Name: DevType, Length: 64461, dtype: object\n",
      "LanguageWorkedWith\n",
      "---------------------\n",
      "0                               [C#, HTML/CSS, JavaScript]\n",
      "1                                      [JavaScript, Swift]\n",
      "2                             [Objective-C, Python, Swift]\n",
      "3                                                       []\n",
      "4                                    [HTML/CSS, Ruby, SQL]\n",
      "                               ...                        \n",
      "64456                                                   []\n",
      "64457    [Assembly, Bash/Shell/PowerShell, C, C#, C++, ...\n",
      "64458                                                   []\n",
      "64459                                           [HTML/CSS]\n",
      "64460                [C#, HTML/CSS, Java, JavaScript, SQL]\n",
      "Name: LanguageWorkedWith, Length: 64461, dtype: object\n",
      "DatabaseWorkedWith\n",
      "---------------------\n",
      "0            [Elasticsearch, Microsoft SQL Server, Oracle]\n",
      "1                                                       []\n",
      "2                                                       []\n",
      "3                                                       []\n",
      "4                       [MySQL, PostgreSQL, Redis, SQLite]\n",
      "                               ...                        \n",
      "64456                                                   []\n",
      "64457    [Cassandra, Couchbase, DynamoDB, Elasticsearch...\n",
      "64458                                                   []\n",
      "64459                                             [Oracle]\n",
      "64460       [MariaDB, Microsoft SQL Server, MySQL, Oracle]\n",
      "Name: DatabaseWorkedWith, Length: 64461, dtype: object\n",
      "PlatformWorkedWith\n",
      "---------------------\n",
      "0                                               [Windows]\n",
      "1                                                   [iOS]\n",
      "2                                                      []\n",
      "3                                                      []\n",
      "4                    [AWS, Docker, Linux, MacOS, Windows]\n",
      "                               ...                       \n",
      "64456                                                  []\n",
      "64457                                                  []\n",
      "64458                                                  []\n",
      "64459                                    [Linux, Windows]\n",
      "64460    [Android, Arduino, Linux, Raspberry Pi, Windows]\n",
      "Name: PlatformWorkedWith, Length: 64461, dtype: object\n",
      "WebframeWorkedWith\n",
      "---------------------\n",
      "0                            [ASP.NET, ASP.NET Core]\n",
      "1                                                 []\n",
      "2                                                 []\n",
      "3                                                 []\n",
      "4                                    [Ruby on Rails]\n",
      "                            ...                     \n",
      "64456                                             []\n",
      "64457                                             []\n",
      "64458                                             []\n",
      "64459                                             []\n",
      "64460    [Angular, Angular.js, ASP.NET Core, jQuery]\n",
      "Name: WebframeWorkedWith, Length: 64461, dtype: object\n",
      "MiscTechWorkedWith\n",
      "---------------------\n",
      "0        [.NET, .NET Core]\n",
      "1           [React Native]\n",
      "2                       []\n",
      "3                       []\n",
      "4                [Ansible]\n",
      "               ...        \n",
      "64456                   []\n",
      "64457                   []\n",
      "64458                   []\n",
      "64459                   []\n",
      "64460    [.NET, .NET Core]\n",
      "Name: MiscTechWorkedWith, Length: 64461, dtype: object\n",
      "NEWCollabToolsWorkedWith\n",
      "---------------------\n",
      "0        [Confluence, Jira, Slack, Microsoft Azure, Tre...\n",
      "1                [Confluence, Jira, Github, Gitlab, Slack]\n",
      "2                                                       []\n",
      "3                                                       []\n",
      "4        [Confluence, Jira, Github, Slack, Google Suite...\n",
      "                               ...                        \n",
      "64456                                                   []\n",
      "64457                                                   []\n",
      "64458                                                   []\n",
      "64459           [Confluence, Jira, Slack, Microsoft Teams]\n",
      "64460                                             [Github]\n",
      "Name: NEWCollabToolsWorkedWith, Length: 64461, dtype: object\n"
     ]
    }
   ],
   "source": [
    "# display unique values in jops and skils columns\n",
    "for col in JOPS_COLS + SKILLS_COLS:\n",
    "    print(col)\n",
    "    print('---------------------')\n",
    "    print(raw_df[col])"
   ]
  },
  {
   "cell_type": "markdown",
   "id": "20e17c28-8644-4a8b-9149-29e91dbbf869",
   "metadata": {},
   "source": [
    "### Onehot enconde"
   ]
  },
  {
   "cell_type": "code",
   "execution_count": 49,
   "id": "2541025c-22af-4001-ae96-19f0905e57db",
   "metadata": {},
   "outputs": [],
   "source": [
    "df = raw_df.copy()\n",
    "encoded_dfs = {}\n",
    "for col in JOPS_COLS + SKILLS_COLS:\n",
    "    binarizer = MultiLabelBinarizer()\n",
    "    encoded_df = pd.DataFrame(binarizer.fit_transform(df[col]),\n",
    "                               columns=binarizer.classes_,\n",
    "                               index=df[col].index)\n",
    "    encoded_dfs[col] = encoded_df"
   ]
  },
  {
   "cell_type": "code",
   "execution_count": 50,
   "id": "f870edc7-af41-44d5-bcc8-24f459de88ec",
   "metadata": {},
   "outputs": [
    {
     "data": {
      "text/html": [
       "<div>\n",
       "<style scoped>\n",
       "    .dataframe tbody tr th:only-of-type {\n",
       "        vertical-align: middle;\n",
       "    }\n",
       "\n",
       "    .dataframe tbody tr th {\n",
       "        vertical-align: top;\n",
       "    }\n",
       "\n",
       "    .dataframe thead tr th {\n",
       "        text-align: left;\n",
       "    }\n",
       "</style>\n",
       "<table border=\"1\" class=\"dataframe\">\n",
       "  <thead>\n",
       "    <tr>\n",
       "      <th></th>\n",
       "      <th colspan=\"10\" halign=\"left\">DevType</th>\n",
       "      <th>...</th>\n",
       "      <th colspan=\"10\" halign=\"left\">NEWCollabToolsWorkedWith</th>\n",
       "    </tr>\n",
       "    <tr>\n",
       "      <th></th>\n",
       "      <th>Academic researcher</th>\n",
       "      <th>Data or business analyst</th>\n",
       "      <th>Data scientist or machine learning specialist</th>\n",
       "      <th>Database administrator</th>\n",
       "      <th>Designer</th>\n",
       "      <th>DevOps specialist</th>\n",
       "      <th>Developer, QA or test</th>\n",
       "      <th>Developer, back-end</th>\n",
       "      <th>Developer, desktop or enterprise applications</th>\n",
       "      <th>Developer, embedded applications or devices</th>\n",
       "      <th>...</th>\n",
       "      <th>Facebook Workplace</th>\n",
       "      <th>Github</th>\n",
       "      <th>Gitlab</th>\n",
       "      <th>Google Suite (Docs, Meet, etc)</th>\n",
       "      <th>Jira</th>\n",
       "      <th>Microsoft Azure</th>\n",
       "      <th>Microsoft Teams</th>\n",
       "      <th>Slack</th>\n",
       "      <th>Stack Overflow for Teams</th>\n",
       "      <th>Trello</th>\n",
       "    </tr>\n",
       "  </thead>\n",
       "  <tbody>\n",
       "    <tr>\n",
       "      <th>0</th>\n",
       "      <td>0</td>\n",
       "      <td>0</td>\n",
       "      <td>0</td>\n",
       "      <td>0</td>\n",
       "      <td>0</td>\n",
       "      <td>0</td>\n",
       "      <td>0</td>\n",
       "      <td>0</td>\n",
       "      <td>1</td>\n",
       "      <td>0</td>\n",
       "      <td>...</td>\n",
       "      <td>0</td>\n",
       "      <td>0</td>\n",
       "      <td>0</td>\n",
       "      <td>0</td>\n",
       "      <td>1</td>\n",
       "      <td>1</td>\n",
       "      <td>0</td>\n",
       "      <td>1</td>\n",
       "      <td>0</td>\n",
       "      <td>1</td>\n",
       "    </tr>\n",
       "    <tr>\n",
       "      <th>1</th>\n",
       "      <td>0</td>\n",
       "      <td>0</td>\n",
       "      <td>0</td>\n",
       "      <td>0</td>\n",
       "      <td>0</td>\n",
       "      <td>0</td>\n",
       "      <td>0</td>\n",
       "      <td>0</td>\n",
       "      <td>0</td>\n",
       "      <td>0</td>\n",
       "      <td>...</td>\n",
       "      <td>0</td>\n",
       "      <td>1</td>\n",
       "      <td>1</td>\n",
       "      <td>0</td>\n",
       "      <td>1</td>\n",
       "      <td>0</td>\n",
       "      <td>0</td>\n",
       "      <td>1</td>\n",
       "      <td>0</td>\n",
       "      <td>0</td>\n",
       "    </tr>\n",
       "    <tr>\n",
       "      <th>2</th>\n",
       "      <td>0</td>\n",
       "      <td>0</td>\n",
       "      <td>0</td>\n",
       "      <td>0</td>\n",
       "      <td>0</td>\n",
       "      <td>0</td>\n",
       "      <td>0</td>\n",
       "      <td>0</td>\n",
       "      <td>0</td>\n",
       "      <td>0</td>\n",
       "      <td>...</td>\n",
       "      <td>0</td>\n",
       "      <td>0</td>\n",
       "      <td>0</td>\n",
       "      <td>0</td>\n",
       "      <td>0</td>\n",
       "      <td>0</td>\n",
       "      <td>0</td>\n",
       "      <td>0</td>\n",
       "      <td>0</td>\n",
       "      <td>0</td>\n",
       "    </tr>\n",
       "    <tr>\n",
       "      <th>3</th>\n",
       "      <td>0</td>\n",
       "      <td>0</td>\n",
       "      <td>0</td>\n",
       "      <td>0</td>\n",
       "      <td>0</td>\n",
       "      <td>0</td>\n",
       "      <td>0</td>\n",
       "      <td>0</td>\n",
       "      <td>0</td>\n",
       "      <td>0</td>\n",
       "      <td>...</td>\n",
       "      <td>0</td>\n",
       "      <td>0</td>\n",
       "      <td>0</td>\n",
       "      <td>0</td>\n",
       "      <td>0</td>\n",
       "      <td>0</td>\n",
       "      <td>0</td>\n",
       "      <td>0</td>\n",
       "      <td>0</td>\n",
       "      <td>0</td>\n",
       "    </tr>\n",
       "    <tr>\n",
       "      <th>4</th>\n",
       "      <td>0</td>\n",
       "      <td>0</td>\n",
       "      <td>0</td>\n",
       "      <td>0</td>\n",
       "      <td>0</td>\n",
       "      <td>0</td>\n",
       "      <td>0</td>\n",
       "      <td>0</td>\n",
       "      <td>0</td>\n",
       "      <td>0</td>\n",
       "      <td>...</td>\n",
       "      <td>0</td>\n",
       "      <td>1</td>\n",
       "      <td>0</td>\n",
       "      <td>1</td>\n",
       "      <td>1</td>\n",
       "      <td>0</td>\n",
       "      <td>0</td>\n",
       "      <td>1</td>\n",
       "      <td>0</td>\n",
       "      <td>0</td>\n",
       "    </tr>\n",
       "    <tr>\n",
       "      <th>...</th>\n",
       "      <td>...</td>\n",
       "      <td>...</td>\n",
       "      <td>...</td>\n",
       "      <td>...</td>\n",
       "      <td>...</td>\n",
       "      <td>...</td>\n",
       "      <td>...</td>\n",
       "      <td>...</td>\n",
       "      <td>...</td>\n",
       "      <td>...</td>\n",
       "      <td>...</td>\n",
       "      <td>...</td>\n",
       "      <td>...</td>\n",
       "      <td>...</td>\n",
       "      <td>...</td>\n",
       "      <td>...</td>\n",
       "      <td>...</td>\n",
       "      <td>...</td>\n",
       "      <td>...</td>\n",
       "      <td>...</td>\n",
       "      <td>...</td>\n",
       "    </tr>\n",
       "    <tr>\n",
       "      <th>64456</th>\n",
       "      <td>0</td>\n",
       "      <td>0</td>\n",
       "      <td>0</td>\n",
       "      <td>0</td>\n",
       "      <td>0</td>\n",
       "      <td>0</td>\n",
       "      <td>0</td>\n",
       "      <td>0</td>\n",
       "      <td>0</td>\n",
       "      <td>0</td>\n",
       "      <td>...</td>\n",
       "      <td>0</td>\n",
       "      <td>0</td>\n",
       "      <td>0</td>\n",
       "      <td>0</td>\n",
       "      <td>0</td>\n",
       "      <td>0</td>\n",
       "      <td>0</td>\n",
       "      <td>0</td>\n",
       "      <td>0</td>\n",
       "      <td>0</td>\n",
       "    </tr>\n",
       "    <tr>\n",
       "      <th>64457</th>\n",
       "      <td>0</td>\n",
       "      <td>0</td>\n",
       "      <td>0</td>\n",
       "      <td>0</td>\n",
       "      <td>0</td>\n",
       "      <td>0</td>\n",
       "      <td>0</td>\n",
       "      <td>0</td>\n",
       "      <td>0</td>\n",
       "      <td>0</td>\n",
       "      <td>...</td>\n",
       "      <td>0</td>\n",
       "      <td>0</td>\n",
       "      <td>0</td>\n",
       "      <td>0</td>\n",
       "      <td>0</td>\n",
       "      <td>0</td>\n",
       "      <td>0</td>\n",
       "      <td>0</td>\n",
       "      <td>0</td>\n",
       "      <td>0</td>\n",
       "    </tr>\n",
       "    <tr>\n",
       "      <th>64458</th>\n",
       "      <td>0</td>\n",
       "      <td>0</td>\n",
       "      <td>0</td>\n",
       "      <td>0</td>\n",
       "      <td>0</td>\n",
       "      <td>0</td>\n",
       "      <td>0</td>\n",
       "      <td>0</td>\n",
       "      <td>0</td>\n",
       "      <td>0</td>\n",
       "      <td>...</td>\n",
       "      <td>0</td>\n",
       "      <td>0</td>\n",
       "      <td>0</td>\n",
       "      <td>0</td>\n",
       "      <td>0</td>\n",
       "      <td>0</td>\n",
       "      <td>0</td>\n",
       "      <td>0</td>\n",
       "      <td>0</td>\n",
       "      <td>0</td>\n",
       "    </tr>\n",
       "    <tr>\n",
       "      <th>64459</th>\n",
       "      <td>0</td>\n",
       "      <td>0</td>\n",
       "      <td>0</td>\n",
       "      <td>0</td>\n",
       "      <td>0</td>\n",
       "      <td>0</td>\n",
       "      <td>0</td>\n",
       "      <td>0</td>\n",
       "      <td>0</td>\n",
       "      <td>0</td>\n",
       "      <td>...</td>\n",
       "      <td>0</td>\n",
       "      <td>0</td>\n",
       "      <td>0</td>\n",
       "      <td>0</td>\n",
       "      <td>1</td>\n",
       "      <td>0</td>\n",
       "      <td>1</td>\n",
       "      <td>1</td>\n",
       "      <td>0</td>\n",
       "      <td>0</td>\n",
       "    </tr>\n",
       "    <tr>\n",
       "      <th>64460</th>\n",
       "      <td>0</td>\n",
       "      <td>0</td>\n",
       "      <td>0</td>\n",
       "      <td>0</td>\n",
       "      <td>0</td>\n",
       "      <td>0</td>\n",
       "      <td>0</td>\n",
       "      <td>0</td>\n",
       "      <td>0</td>\n",
       "      <td>0</td>\n",
       "      <td>...</td>\n",
       "      <td>0</td>\n",
       "      <td>1</td>\n",
       "      <td>0</td>\n",
       "      <td>0</td>\n",
       "      <td>0</td>\n",
       "      <td>0</td>\n",
       "      <td>0</td>\n",
       "      <td>0</td>\n",
       "      <td>0</td>\n",
       "      <td>0</td>\n",
       "    </tr>\n",
       "  </tbody>\n",
       "</table>\n",
       "<p>64461 rows × 124 columns</p>\n",
       "</div>"
      ],
      "text/plain": [
       "                  DevType                           \\\n",
       "      Academic researcher Data or business analyst   \n",
       "0                       0                        0   \n",
       "1                       0                        0   \n",
       "2                       0                        0   \n",
       "3                       0                        0   \n",
       "4                       0                        0   \n",
       "...                   ...                      ...   \n",
       "64456                   0                        0   \n",
       "64457                   0                        0   \n",
       "64458                   0                        0   \n",
       "64459                   0                        0   \n",
       "64460                   0                        0   \n",
       "\n",
       "                                                                            \\\n",
       "      Data scientist or machine learning specialist Database administrator   \n",
       "0                                                 0                      0   \n",
       "1                                                 0                      0   \n",
       "2                                                 0                      0   \n",
       "3                                                 0                      0   \n",
       "4                                                 0                      0   \n",
       "...                                             ...                    ...   \n",
       "64456                                             0                      0   \n",
       "64457                                             0                      0   \n",
       "64458                                             0                      0   \n",
       "64459                                             0                      0   \n",
       "64460                                             0                      0   \n",
       "\n",
       "                                                                            \\\n",
       "      Designer DevOps specialist Developer, QA or test Developer, back-end   \n",
       "0            0                 0                     0                   0   \n",
       "1            0                 0                     0                   0   \n",
       "2            0                 0                     0                   0   \n",
       "3            0                 0                     0                   0   \n",
       "4            0                 0                     0                   0   \n",
       "...        ...               ...                   ...                 ...   \n",
       "64456        0                 0                     0                   0   \n",
       "64457        0                 0                     0                   0   \n",
       "64458        0                 0                     0                   0   \n",
       "64459        0                 0                     0                   0   \n",
       "64460        0                 0                     0                   0   \n",
       "\n",
       "                                                     \\\n",
       "      Developer, desktop or enterprise applications   \n",
       "0                                                 1   \n",
       "1                                                 0   \n",
       "2                                                 0   \n",
       "3                                                 0   \n",
       "4                                                 0   \n",
       "...                                             ...   \n",
       "64456                                             0   \n",
       "64457                                             0   \n",
       "64458                                             0   \n",
       "64459                                             0   \n",
       "64460                                             0   \n",
       "\n",
       "                                                   ...  \\\n",
       "      Developer, embedded applications or devices  ...   \n",
       "0                                               0  ...   \n",
       "1                                               0  ...   \n",
       "2                                               0  ...   \n",
       "3                                               0  ...   \n",
       "4                                               0  ...   \n",
       "...                                           ...  ...   \n",
       "64456                                           0  ...   \n",
       "64457                                           0  ...   \n",
       "64458                                           0  ...   \n",
       "64459                                           0  ...   \n",
       "64460                                           0  ...   \n",
       "\n",
       "      NEWCollabToolsWorkedWith                                               \\\n",
       "            Facebook Workplace Github Gitlab Google Suite (Docs, Meet, etc)   \n",
       "0                            0      0      0                              0   \n",
       "1                            0      1      1                              0   \n",
       "2                            0      0      0                              0   \n",
       "3                            0      0      0                              0   \n",
       "4                            0      1      0                              1   \n",
       "...                        ...    ...    ...                            ...   \n",
       "64456                        0      0      0                              0   \n",
       "64457                        0      0      0                              0   \n",
       "64458                        0      0      0                              0   \n",
       "64459                        0      0      0                              0   \n",
       "64460                        0      1      0                              0   \n",
       "\n",
       "                                                                           \\\n",
       "      Jira Microsoft Azure Microsoft Teams Slack Stack Overflow for Teams   \n",
       "0        1               1               0     1                        0   \n",
       "1        1               0               0     1                        0   \n",
       "2        0               0               0     0                        0   \n",
       "3        0               0               0     0                        0   \n",
       "4        1               0               0     1                        0   \n",
       "...    ...             ...             ...   ...                      ...   \n",
       "64456    0               0               0     0                        0   \n",
       "64457    0               0               0     0                        0   \n",
       "64458    0               0               0     0                        0   \n",
       "64459    1               0               1     1                        0   \n",
       "64460    0               0               0     0                        0   \n",
       "\n",
       "              \n",
       "      Trello  \n",
       "0          1  \n",
       "1          0  \n",
       "2          0  \n",
       "3          0  \n",
       "4          0  \n",
       "...      ...  \n",
       "64456      0  \n",
       "64457      0  \n",
       "64458      0  \n",
       "64459      0  \n",
       "64460      0  \n",
       "\n",
       "[64461 rows x 124 columns]"
      ]
     },
     "execution_count": 50,
     "metadata": {},
     "output_type": "execute_result"
    }
   ],
   "source": [
    "# Merge 1-hot encoded \n",
    "df = pd.concat(encoded_dfs, axis=1)\n",
    "df"
   ]
  },
  {
   "cell_type": "markdown",
   "id": "65e8c592-5f4e-4b0d-959c-e1f2c7029722",
   "metadata": {},
   "source": [
    "### Display jobs frequency\n"
   ]
  },
  {
   "cell_type": "code",
   "execution_count": 51,
   "id": "b32fb557-781a-40d3-b5f0-7bf6afe60d4e",
   "metadata": {},
   "outputs": [],
   "source": [
    "jobs_freq = df['DevType'].copy().sum().sort_values().rename_axis('unique_jops').reset_index(name='count')"
   ]
  },
  {
   "cell_type": "code",
   "execution_count": 52,
   "id": "dac1f854-1724-4746-b43c-8ae6bc37d3c8",
   "metadata": {},
   "outputs": [
    {
     "data": {
      "text/html": [
       "<div>\n",
       "<style scoped>\n",
       "    .dataframe tbody tr th:only-of-type {\n",
       "        vertical-align: middle;\n",
       "    }\n",
       "\n",
       "    .dataframe tbody tr th {\n",
       "        vertical-align: top;\n",
       "    }\n",
       "\n",
       "    .dataframe thead th {\n",
       "        text-align: right;\n",
       "    }\n",
       "</style>\n",
       "<table border=\"1\" class=\"dataframe\">\n",
       "  <thead>\n",
       "    <tr style=\"text-align: right;\">\n",
       "      <th></th>\n",
       "      <th>unique_jops</th>\n",
       "      <th>count</th>\n",
       "    </tr>\n",
       "  </thead>\n",
       "  <tbody>\n",
       "    <tr>\n",
       "      <th>0</th>\n",
       "      <td>Marketing or sales professional</td>\n",
       "      <td>642</td>\n",
       "    </tr>\n",
       "    <tr>\n",
       "      <th>1</th>\n",
       "      <td>Senior executive/VP</td>\n",
       "      <td>1320</td>\n",
       "    </tr>\n",
       "    <tr>\n",
       "      <th>2</th>\n",
       "      <td>Engineer, site reliability</td>\n",
       "      <td>1940</td>\n",
       "    </tr>\n",
       "    <tr>\n",
       "      <th>3</th>\n",
       "      <td>Scientist</td>\n",
       "      <td>2086</td>\n",
       "    </tr>\n",
       "    <tr>\n",
       "      <th>4</th>\n",
       "      <td>Product manager</td>\n",
       "      <td>2497</td>\n",
       "    </tr>\n",
       "    <tr>\n",
       "      <th>5</th>\n",
       "      <td>Engineering manager</td>\n",
       "      <td>2724</td>\n",
       "    </tr>\n",
       "    <tr>\n",
       "      <th>6</th>\n",
       "      <td>Developer, game or graphics</td>\n",
       "      <td>2789</td>\n",
       "    </tr>\n",
       "    <tr>\n",
       "      <th>7</th>\n",
       "      <td>Educator</td>\n",
       "      <td>2928</td>\n",
       "    </tr>\n",
       "    <tr>\n",
       "      <th>8</th>\n",
       "      <td>Academic researcher</td>\n",
       "      <td>3552</td>\n",
       "    </tr>\n",
       "    <tr>\n",
       "      <th>9</th>\n",
       "      <td>Engineer, data</td>\n",
       "      <td>3738</td>\n",
       "    </tr>\n",
       "    <tr>\n",
       "      <th>10</th>\n",
       "      <td>Developer, QA or test</td>\n",
       "      <td>3947</td>\n",
       "    </tr>\n",
       "    <tr>\n",
       "      <th>11</th>\n",
       "      <td>Data scientist or machine learning specialist</td>\n",
       "      <td>3988</td>\n",
       "    </tr>\n",
       "    <tr>\n",
       "      <th>12</th>\n",
       "      <td>Data or business analyst</td>\n",
       "      <td>4024</td>\n",
       "    </tr>\n",
       "    <tr>\n",
       "      <th>13</th>\n",
       "      <td>Developer, embedded applications or devices</td>\n",
       "      <td>4750</td>\n",
       "    </tr>\n",
       "    <tr>\n",
       "      <th>14</th>\n",
       "      <td>System administrator</td>\n",
       "      <td>5242</td>\n",
       "    </tr>\n",
       "    <tr>\n",
       "      <th>15</th>\n",
       "      <td>Designer</td>\n",
       "      <td>5321</td>\n",
       "    </tr>\n",
       "    <tr>\n",
       "      <th>16</th>\n",
       "      <td>Database administrator</td>\n",
       "      <td>5722</td>\n",
       "    </tr>\n",
       "    <tr>\n",
       "      <th>17</th>\n",
       "      <td>DevOps specialist</td>\n",
       "      <td>5969</td>\n",
       "    </tr>\n",
       "    <tr>\n",
       "      <th>18</th>\n",
       "      <td>Developer, mobile</td>\n",
       "      <td>9482</td>\n",
       "    </tr>\n",
       "    <tr>\n",
       "      <th>19</th>\n",
       "      <td>Developer, desktop or enterprise applications</td>\n",
       "      <td>11784</td>\n",
       "    </tr>\n",
       "    <tr>\n",
       "      <th>20</th>\n",
       "      <td>Developer, front-end</td>\n",
       "      <td>18296</td>\n",
       "    </tr>\n",
       "    <tr>\n",
       "      <th>21</th>\n",
       "      <td>Developer, full-stack</td>\n",
       "      <td>27125</td>\n",
       "    </tr>\n",
       "    <tr>\n",
       "      <th>22</th>\n",
       "      <td>Developer, back-end</td>\n",
       "      <td>27228</td>\n",
       "    </tr>\n",
       "  </tbody>\n",
       "</table>\n",
       "</div>"
      ],
      "text/plain": [
       "                                      unique_jops  count\n",
       "0                 Marketing or sales professional    642\n",
       "1                             Senior executive/VP   1320\n",
       "2                      Engineer, site reliability   1940\n",
       "3                                       Scientist   2086\n",
       "4                                 Product manager   2497\n",
       "5                             Engineering manager   2724\n",
       "6                     Developer, game or graphics   2789\n",
       "7                                        Educator   2928\n",
       "8                             Academic researcher   3552\n",
       "9                                  Engineer, data   3738\n",
       "10                          Developer, QA or test   3947\n",
       "11  Data scientist or machine learning specialist   3988\n",
       "12                       Data or business analyst   4024\n",
       "13    Developer, embedded applications or devices   4750\n",
       "14                           System administrator   5242\n",
       "15                                       Designer   5321\n",
       "16                         Database administrator   5722\n",
       "17                              DevOps specialist   5969\n",
       "18                              Developer, mobile   9482\n",
       "19  Developer, desktop or enterprise applications  11784\n",
       "20                           Developer, front-end  18296\n",
       "21                          Developer, full-stack  27125\n",
       "22                            Developer, back-end  27228"
      ]
     },
     "execution_count": 52,
     "metadata": {},
     "output_type": "execute_result"
    }
   ],
   "source": [
    "jobs_freq"
   ]
  },
  {
   "cell_type": "markdown",
   "id": "e83db11f-5c9a-4089-a419-abc1092f0f63",
   "metadata": {},
   "source": [
    "### Display skills frequency"
   ]
  },
  {
   "cell_type": "code",
   "execution_count": 53,
   "id": "e2dfecdc-98dd-4aed-b2a8-dbe8cbf9ea5f",
   "metadata": {},
   "outputs": [],
   "source": [
    "# Calculate the sum for all cols except Devtypes\n",
    "skills_freq = df.copy().drop('DevType', axis=1).sum().reset_index()\n",
    "skills_freq.columns = ['group', 'skill', 'freq']"
   ]
  },
  {
   "cell_type": "code",
   "execution_count": 54,
   "id": "9b137f9b-71d2-4b6f-8f87-ebf53a53ce70",
   "metadata": {},
   "outputs": [
    {
     "data": {
      "text/html": [
       "<div>\n",
       "<style scoped>\n",
       "    .dataframe tbody tr th:only-of-type {\n",
       "        vertical-align: middle;\n",
       "    }\n",
       "\n",
       "    .dataframe tbody tr th {\n",
       "        vertical-align: top;\n",
       "    }\n",
       "\n",
       "    .dataframe thead th {\n",
       "        text-align: right;\n",
       "    }\n",
       "</style>\n",
       "<table border=\"1\" class=\"dataframe\">\n",
       "  <thead>\n",
       "    <tr style=\"text-align: right;\">\n",
       "      <th></th>\n",
       "      <th>group</th>\n",
       "      <th>skill</th>\n",
       "      <th>freq</th>\n",
       "    </tr>\n",
       "  </thead>\n",
       "  <tbody>\n",
       "    <tr>\n",
       "      <th>0</th>\n",
       "      <td>LanguageWorkedWith</td>\n",
       "      <td>Assembly</td>\n",
       "      <td>3553</td>\n",
       "    </tr>\n",
       "    <tr>\n",
       "      <th>1</th>\n",
       "      <td>LanguageWorkedWith</td>\n",
       "      <td>Bash/Shell/PowerShell</td>\n",
       "      <td>18980</td>\n",
       "    </tr>\n",
       "    <tr>\n",
       "      <th>2</th>\n",
       "      <td>LanguageWorkedWith</td>\n",
       "      <td>C</td>\n",
       "      <td>12487</td>\n",
       "    </tr>\n",
       "    <tr>\n",
       "      <th>3</th>\n",
       "      <td>LanguageWorkedWith</td>\n",
       "      <td>C#</td>\n",
       "      <td>18041</td>\n",
       "    </tr>\n",
       "    <tr>\n",
       "      <th>4</th>\n",
       "      <td>LanguageWorkedWith</td>\n",
       "      <td>C++</td>\n",
       "      <td>13707</td>\n",
       "    </tr>\n",
       "    <tr>\n",
       "      <th>...</th>\n",
       "      <td>...</td>\n",
       "      <td>...</td>\n",
       "      <td>...</td>\n",
       "    </tr>\n",
       "    <tr>\n",
       "      <th>96</th>\n",
       "      <td>NEWCollabToolsWorkedWith</td>\n",
       "      <td>Microsoft Azure</td>\n",
       "      <td>7849</td>\n",
       "    </tr>\n",
       "    <tr>\n",
       "      <th>97</th>\n",
       "      <td>NEWCollabToolsWorkedWith</td>\n",
       "      <td>Microsoft Teams</td>\n",
       "      <td>13518</td>\n",
       "    </tr>\n",
       "    <tr>\n",
       "      <th>98</th>\n",
       "      <td>NEWCollabToolsWorkedWith</td>\n",
       "      <td>Slack</td>\n",
       "      <td>28018</td>\n",
       "    </tr>\n",
       "    <tr>\n",
       "      <th>99</th>\n",
       "      <td>NEWCollabToolsWorkedWith</td>\n",
       "      <td>Stack Overflow for Teams</td>\n",
       "      <td>3057</td>\n",
       "    </tr>\n",
       "    <tr>\n",
       "      <th>100</th>\n",
       "      <td>NEWCollabToolsWorkedWith</td>\n",
       "      <td>Trello</td>\n",
       "      <td>15655</td>\n",
       "    </tr>\n",
       "  </tbody>\n",
       "</table>\n",
       "<p>101 rows × 3 columns</p>\n",
       "</div>"
      ],
      "text/plain": [
       "                        group                     skill   freq\n",
       "0          LanguageWorkedWith                  Assembly   3553\n",
       "1          LanguageWorkedWith     Bash/Shell/PowerShell  18980\n",
       "2          LanguageWorkedWith                         C  12487\n",
       "3          LanguageWorkedWith                        C#  18041\n",
       "4          LanguageWorkedWith                       C++  13707\n",
       "..                        ...                       ...    ...\n",
       "96   NEWCollabToolsWorkedWith           Microsoft Azure   7849\n",
       "97   NEWCollabToolsWorkedWith           Microsoft Teams  13518\n",
       "98   NEWCollabToolsWorkedWith                     Slack  28018\n",
       "99   NEWCollabToolsWorkedWith  Stack Overflow for Teams   3057\n",
       "100  NEWCollabToolsWorkedWith                    Trello  15655\n",
       "\n",
       "[101 rows x 3 columns]"
      ]
     },
     "execution_count": 54,
     "metadata": {},
     "output_type": "execute_result"
    }
   ],
   "source": [
    "skills_freq"
   ]
  },
  {
   "cell_type": "code",
   "execution_count": 55,
   "id": "ce377d17-5b3e-4e9d-bfee-5e36115962f6",
   "metadata": {},
   "outputs": [
    {
     "data": {
      "text/html": [
       "<div>\n",
       "<style scoped>\n",
       "    .dataframe tbody tr th:only-of-type {\n",
       "        vertical-align: middle;\n",
       "    }\n",
       "\n",
       "    .dataframe tbody tr th {\n",
       "        vertical-align: top;\n",
       "    }\n",
       "\n",
       "    .dataframe thead th {\n",
       "        text-align: right;\n",
       "    }\n",
       "</style>\n",
       "<table border=\"1\" class=\"dataframe\">\n",
       "  <thead>\n",
       "    <tr style=\"text-align: right;\">\n",
       "      <th></th>\n",
       "      <th>group</th>\n",
       "      <th>skill</th>\n",
       "      <th>freq</th>\n",
       "    </tr>\n",
       "  </thead>\n",
       "  <tbody>\n",
       "    <tr>\n",
       "      <th>92</th>\n",
       "      <td>NEWCollabToolsWorkedWith</td>\n",
       "      <td>Github</td>\n",
       "      <td>43786</td>\n",
       "    </tr>\n",
       "    <tr>\n",
       "      <th>10</th>\n",
       "      <td>LanguageWorkedWith</td>\n",
       "      <td>JavaScript</td>\n",
       "      <td>38822</td>\n",
       "    </tr>\n",
       "    <tr>\n",
       "      <th>7</th>\n",
       "      <td>LanguageWorkedWith</td>\n",
       "      <td>HTML/CSS</td>\n",
       "      <td>36181</td>\n",
       "    </tr>\n",
       "    <tr>\n",
       "      <th>20</th>\n",
       "      <td>LanguageWorkedWith</td>\n",
       "      <td>SQL</td>\n",
       "      <td>31413</td>\n",
       "    </tr>\n",
       "    <tr>\n",
       "      <th>47</th>\n",
       "      <td>PlatformWorkedWith</td>\n",
       "      <td>Linux</td>\n",
       "      <td>29600</td>\n",
       "    </tr>\n",
       "    <tr>\n",
       "      <th>...</th>\n",
       "      <td>...</td>\n",
       "      <td>...</td>\n",
       "      <td>...</td>\n",
       "    </tr>\n",
       "    <tr>\n",
       "      <th>82</th>\n",
       "      <td>MiscTechWorkedWith</td>\n",
       "      <td>Puppet</td>\n",
       "      <td>945</td>\n",
       "    </tr>\n",
       "    <tr>\n",
       "      <th>26</th>\n",
       "      <td>DatabaseWorkedWith</td>\n",
       "      <td>Couchbase</td>\n",
       "      <td>937</td>\n",
       "    </tr>\n",
       "    <tr>\n",
       "      <th>45</th>\n",
       "      <td>PlatformWorkedWith</td>\n",
       "      <td>IBM Cloud or Watson</td>\n",
       "      <td>876</td>\n",
       "    </tr>\n",
       "    <tr>\n",
       "      <th>75</th>\n",
       "      <td>MiscTechWorkedWith</td>\n",
       "      <td>Chef</td>\n",
       "      <td>733</td>\n",
       "    </tr>\n",
       "    <tr>\n",
       "      <th>11</th>\n",
       "      <td>LanguageWorkedWith</td>\n",
       "      <td>Julia</td>\n",
       "      <td>519</td>\n",
       "    </tr>\n",
       "  </tbody>\n",
       "</table>\n",
       "<p>101 rows × 3 columns</p>\n",
       "</div>"
      ],
      "text/plain": [
       "                       group                skill   freq\n",
       "92  NEWCollabToolsWorkedWith               Github  43786\n",
       "10        LanguageWorkedWith           JavaScript  38822\n",
       "7         LanguageWorkedWith             HTML/CSS  36181\n",
       "20        LanguageWorkedWith                  SQL  31413\n",
       "47        PlatformWorkedWith                Linux  29600\n",
       "..                       ...                  ...    ...\n",
       "82        MiscTechWorkedWith               Puppet    945\n",
       "26        DatabaseWorkedWith            Couchbase    937\n",
       "45        PlatformWorkedWith  IBM Cloud or Watson    876\n",
       "75        MiscTechWorkedWith                 Chef    733\n",
       "11        LanguageWorkedWith                Julia    519\n",
       "\n",
       "[101 rows x 3 columns]"
      ]
     },
     "execution_count": 55,
     "metadata": {},
     "output_type": "execute_result"
    }
   ],
   "source": [
    "skills_freq.sort_values('freq', ascending=False)"
   ]
  },
  {
   "cell_type": "markdown",
   "id": "fb3c0bb6-dab4-4328-8233-9014355b5254",
   "metadata": {},
   "source": [
    "### visualize  skills frequency"
   ]
  },
  {
   "cell_type": "code",
   "execution_count": 56,
   "id": "1c332011-9b5f-4ab4-b905-c0765f80ece3",
   "metadata": {},
   "outputs": [
    {
     "data": {
      "application/vnd.plotly.v1+json": {
       "config": {
        "plotlyServerURL": "https://plot.ly"
       },
       "data": [
        {
         "branchvalues": "total",
         "customdata": [
          [
           14144
          ],
          [
           10755
          ],
          [
           9258
          ],
          [
           8082
          ],
          [
           14389
          ],
          [
           14101
          ],
          [
           10617
          ],
          [
           6826
          ],
          [
           2955
          ],
          [
           2089
          ],
          [
           5712
          ],
          [
           3553
          ],
          [
           18980
          ],
          [
           12487
          ],
          [
           18041
          ],
          [
           13707
          ],
          [
           1654
          ],
          [
           733
          ],
          [
           17122
          ],
          [
           2419
          ],
          [
           937
          ],
          [
           2280
          ],
          [
           6014
          ],
          [
           18851
          ],
          [
           1369
          ],
          [
           3497
          ],
          [
           6817
          ],
          [
           8961
          ],
          [
           1580
          ],
          [
           7128
          ],
          [
           6005
          ],
          [
           2897
          ],
          [
           1703
          ],
          [
           43786
          ],
          [
           19545
          ],
          [
           5038
          ],
          [
           7569
          ],
          [
           21952
          ],
          [
           36181
          ],
          [
           1798
          ],
          [
           1222
          ],
          [
           5974
          ],
          [
           876
          ],
          [
           1421
          ],
          [
           23074
          ],
          [
           38822
          ],
          [
           25222
          ],
          [
           519
          ],
          [
           2504
          ],
          [
           4468
          ],
          [
           6178
          ],
          [
           4680
          ],
          [
           29600
          ],
          [
           12898
          ],
          [
           8312
          ],
          [
           7849
          ],
          [
           7830
          ],
          [
           16336
          ],
          [
           13518
          ],
          [
           13086
          ],
          [
           27559
          ],
          [
           20741
          ],
          [
           2340
          ],
          [
           8155
          ],
          [
           15007
          ],
          [
           6253
          ],
          [
           1796
          ],
          [
           17892
          ],
          [
           945
          ],
          [
           25287
          ],
          [
           3288
          ],
          [
           8010
          ],
          [
           4626
          ],
          [
           15167
          ],
          [
           9056
          ],
          [
           4046
          ],
          [
           2944
          ],
          [
           2929
          ],
          [
           31413
          ],
          [
           15434
          ],
          [
           2052
          ],
          [
           28018
          ],
          [
           3922
          ],
          [
           6941
          ],
          [
           3057
          ],
          [
           3397
          ],
          [
           1851
          ],
          [
           4652
          ],
          [
           2518
          ],
          [
           1872
          ],
          [
           15655
          ],
          [
           14578
          ],
          [
           4413
          ],
          [
           1316
          ],
          [
           3499
          ],
          [
           7322
          ],
          [
           28595
          ],
          [
           7654
          ],
          [
           2357
          ],
          [
           6562
          ],
          [
           18316
          ],
          [
           15214.337475598031
          ],
          [
           22845.057860307497
          ],
          [
           10034.034504984053
          ],
          [
           25324.856140777683
          ],
          [
           16945.23439886751
          ],
          [
           10072.249707037981
          ]
         ],
         "domain": {
          "x": [
           0,
           1
          ],
          "y": [
           0,
           1
          ]
         },
         "hovertemplate": "labels=%{label}<br>freq_sum=%{value}<br>parent=%{parent}<br>id=%{id}<br>freq=%{color}<extra></extra>",
         "ids": [
          "MiscTechWorkedWith/.NET",
          "MiscTechWorkedWith/.NET Core",
          "WebframeWorkedWith/ASP.NET",
          "WebframeWorkedWith/ASP.NET Core",
          "PlatformWorkedWith/AWS",
          "PlatformWorkedWith/Android",
          "WebframeWorkedWith/Angular",
          "WebframeWorkedWith/Angular.js",
          "MiscTechWorkedWith/Ansible",
          "MiscTechWorkedWith/Apache Spark",
          "PlatformWorkedWith/Arduino",
          "LanguageWorkedWith/Assembly",
          "LanguageWorkedWith/Bash/Shell/PowerShell",
          "LanguageWorkedWith/C",
          "LanguageWorkedWith/C#",
          "LanguageWorkedWith/C++",
          "DatabaseWorkedWith/Cassandra",
          "MiscTechWorkedWith/Chef",
          "NEWCollabToolsWorkedWith/Confluence",
          "MiscTechWorkedWith/Cordova",
          "DatabaseWorkedWith/Couchbase",
          "LanguageWorkedWith/Dart",
          "WebframeWorkedWith/Django",
          "PlatformWorkedWith/Docker",
          "WebframeWorkedWith/Drupal",
          "DatabaseWorkedWith/DynamoDB",
          "DatabaseWorkedWith/Elasticsearch",
          "WebframeWorkedWith/Express",
          "NEWCollabToolsWorkedWith/Facebook Workplace",
          "DatabaseWorkedWith/Firebase",
          "WebframeWorkedWith/Flask",
          "MiscTechWorkedWith/Flutter",
          "WebframeWorkedWith/Gatsby",
          "NEWCollabToolsWorkedWith/Github",
          "NEWCollabToolsWorkedWith/Gitlab",
          "LanguageWorkedWith/Go",
          "PlatformWorkedWith/Google Cloud Platform",
          "NEWCollabToolsWorkedWith/Google Suite (Docs, Meet, etc)",
          "LanguageWorkedWith/HTML/CSS",
          "MiscTechWorkedWith/Hadoop",
          "LanguageWorkedWith/Haskell",
          "PlatformWorkedWith/Heroku",
          "PlatformWorkedWith/IBM Cloud or Watson",
          "DatabaseWorkedWith/IBM DB2",
          "LanguageWorkedWith/Java",
          "LanguageWorkedWith/JavaScript",
          "NEWCollabToolsWorkedWith/Jira",
          "LanguageWorkedWith/Julia",
          "MiscTechWorkedWith/Keras",
          "LanguageWorkedWith/Kotlin",
          "PlatformWorkedWith/Kubernetes",
          "WebframeWorkedWith/Laravel",
          "PlatformWorkedWith/Linux",
          "PlatformWorkedWith/MacOS",
          "DatabaseWorkedWith/MariaDB",
          "NEWCollabToolsWorkedWith/Microsoft Azure",
          "PlatformWorkedWith/Microsoft Azure",
          "DatabaseWorkedWith/Microsoft SQL Server",
          "NEWCollabToolsWorkedWith/Microsoft Teams",
          "DatabaseWorkedWith/MongoDB",
          "DatabaseWorkedWith/MySQL",
          "MiscTechWorkedWith/Node.js",
          "LanguageWorkedWith/Objective-C",
          "DatabaseWorkedWith/Oracle",
          "LanguageWorkedWith/PHP",
          "MiscTechWorkedWith/Pandas",
          "LanguageWorkedWith/Perl",
          "DatabaseWorkedWith/PostgreSQL",
          "MiscTechWorkedWith/Puppet",
          "LanguageWorkedWith/Python",
          "LanguageWorkedWith/R",
          "PlatformWorkedWith/Raspberry Pi",
          "MiscTechWorkedWith/React Native",
          "WebframeWorkedWith/React.js",
          "DatabaseWorkedWith/Redis",
          "LanguageWorkedWith/Ruby",
          "WebframeWorkedWith/Ruby on Rails",
          "LanguageWorkedWith/Rust",
          "LanguageWorkedWith/SQL",
          "DatabaseWorkedWith/SQLite",
          "LanguageWorkedWith/Scala",
          "NEWCollabToolsWorkedWith/Slack",
          "PlatformWorkedWith/Slack Apps and Integrations",
          "WebframeWorkedWith/Spring",
          "NEWCollabToolsWorkedWith/Stack Overflow for Teams",
          "LanguageWorkedWith/Swift",
          "WebframeWorkedWith/Symfony",
          "MiscTechWorkedWith/TensorFlow",
          "MiscTechWorkedWith/Teraform",
          "MiscTechWorkedWith/Torch/PyTorch",
          "NEWCollabToolsWorkedWith/Trello",
          "LanguageWorkedWith/TypeScript",
          "MiscTechWorkedWith/Unity 3D",
          "MiscTechWorkedWith/Unreal Engine",
          "LanguageWorkedWith/VBA",
          "WebframeWorkedWith/Vue.js",
          "PlatformWorkedWith/Windows",
          "PlatformWorkedWith/WordPress",
          "MiscTechWorkedWith/Xamarin",
          "PlatformWorkedWith/iOS",
          "WebframeWorkedWith/jQuery",
          "DatabaseWorkedWith",
          "LanguageWorkedWith",
          "MiscTechWorkedWith",
          "NEWCollabToolsWorkedWith",
          "PlatformWorkedWith",
          "WebframeWorkedWith"
         ],
         "labels": [
          ".NET",
          ".NET Core",
          "ASP.NET",
          "ASP.NET Core",
          "AWS",
          "Android",
          "Angular",
          "Angular.js",
          "Ansible",
          "Apache Spark",
          "Arduino",
          "Assembly",
          "Bash/Shell/PowerShell",
          "C",
          "C#",
          "C++",
          "Cassandra",
          "Chef",
          "Confluence",
          "Cordova",
          "Couchbase",
          "Dart",
          "Django",
          "Docker",
          "Drupal",
          "DynamoDB",
          "Elasticsearch",
          "Express",
          "Facebook Workplace",
          "Firebase",
          "Flask",
          "Flutter",
          "Gatsby",
          "Github",
          "Gitlab",
          "Go",
          "Google Cloud Platform",
          "Google Suite (Docs, Meet, etc)",
          "HTML/CSS",
          "Hadoop",
          "Haskell",
          "Heroku",
          "IBM Cloud or Watson",
          "IBM DB2",
          "Java",
          "JavaScript",
          "Jira",
          "Julia",
          "Keras",
          "Kotlin",
          "Kubernetes",
          "Laravel",
          "Linux",
          "MacOS",
          "MariaDB",
          "Microsoft Azure",
          "Microsoft Azure",
          "Microsoft SQL Server",
          "Microsoft Teams",
          "MongoDB",
          "MySQL",
          "Node.js",
          "Objective-C",
          "Oracle",
          "PHP",
          "Pandas",
          "Perl",
          "PostgreSQL",
          "Puppet",
          "Python",
          "R",
          "Raspberry Pi",
          "React Native",
          "React.js",
          "Redis",
          "Ruby",
          "Ruby on Rails",
          "Rust",
          "SQL",
          "SQLite",
          "Scala",
          "Slack",
          "Slack Apps and Integrations",
          "Spring",
          "Stack Overflow for Teams",
          "Swift",
          "Symfony",
          "TensorFlow",
          "Teraform",
          "Torch/PyTorch",
          "Trello",
          "TypeScript",
          "Unity 3D",
          "Unreal Engine",
          "VBA",
          "Vue.js",
          "Windows",
          "WordPress",
          "Xamarin",
          "iOS",
          "jQuery",
          "DatabaseWorkedWith",
          "LanguageWorkedWith",
          "MiscTechWorkedWith",
          "NEWCollabToolsWorkedWith",
          "PlatformWorkedWith",
          "WebframeWorkedWith"
         ],
         "marker": {
          "coloraxis": "coloraxis",
          "colors": [
           14144,
           10755,
           9258,
           8082,
           14389,
           14101,
           10617,
           6826,
           2955,
           2089,
           5712,
           3553,
           18980,
           12487,
           18041,
           13707,
           1654,
           733,
           17122,
           2419,
           937,
           2280,
           6014,
           18851,
           1369,
           3497,
           6817,
           8961,
           1580,
           7128,
           6005,
           2897,
           1703,
           43786,
           19545,
           5038,
           7569,
           21952,
           36181,
           1798,
           1222,
           5974,
           876,
           1421,
           23074,
           38822,
           25222,
           519,
           2504,
           4468,
           6178,
           4680,
           29600,
           12898,
           8312,
           7849,
           7830,
           16336,
           13518,
           13086,
           27559,
           20741,
           2340,
           8155,
           15007,
           6253,
           1796,
           17892,
           945,
           25287,
           3288,
           8010,
           4626,
           15167,
           9056,
           4046,
           2944,
           2929,
           31413,
           15434,
           2052,
           28018,
           3922,
           6941,
           3057,
           3397,
           1851,
           4652,
           2518,
           1872,
           15655,
           14578,
           4413,
           1316,
           3499,
           7322,
           28595,
           7654,
           2357,
           6562,
           18316,
           15214.337475598031,
           22845.057860307497,
           10034.034504984053,
           25324.856140777683,
           16945.23439886751,
           10072.249707037981
          ]
         },
         "name": "",
         "parents": [
          "MiscTechWorkedWith",
          "MiscTechWorkedWith",
          "WebframeWorkedWith",
          "WebframeWorkedWith",
          "PlatformWorkedWith",
          "PlatformWorkedWith",
          "WebframeWorkedWith",
          "WebframeWorkedWith",
          "MiscTechWorkedWith",
          "MiscTechWorkedWith",
          "PlatformWorkedWith",
          "LanguageWorkedWith",
          "LanguageWorkedWith",
          "LanguageWorkedWith",
          "LanguageWorkedWith",
          "LanguageWorkedWith",
          "DatabaseWorkedWith",
          "MiscTechWorkedWith",
          "NEWCollabToolsWorkedWith",
          "MiscTechWorkedWith",
          "DatabaseWorkedWith",
          "LanguageWorkedWith",
          "WebframeWorkedWith",
          "PlatformWorkedWith",
          "WebframeWorkedWith",
          "DatabaseWorkedWith",
          "DatabaseWorkedWith",
          "WebframeWorkedWith",
          "NEWCollabToolsWorkedWith",
          "DatabaseWorkedWith",
          "WebframeWorkedWith",
          "MiscTechWorkedWith",
          "WebframeWorkedWith",
          "NEWCollabToolsWorkedWith",
          "NEWCollabToolsWorkedWith",
          "LanguageWorkedWith",
          "PlatformWorkedWith",
          "NEWCollabToolsWorkedWith",
          "LanguageWorkedWith",
          "MiscTechWorkedWith",
          "LanguageWorkedWith",
          "PlatformWorkedWith",
          "PlatformWorkedWith",
          "DatabaseWorkedWith",
          "LanguageWorkedWith",
          "LanguageWorkedWith",
          "NEWCollabToolsWorkedWith",
          "LanguageWorkedWith",
          "MiscTechWorkedWith",
          "LanguageWorkedWith",
          "PlatformWorkedWith",
          "WebframeWorkedWith",
          "PlatformWorkedWith",
          "PlatformWorkedWith",
          "DatabaseWorkedWith",
          "NEWCollabToolsWorkedWith",
          "PlatformWorkedWith",
          "DatabaseWorkedWith",
          "NEWCollabToolsWorkedWith",
          "DatabaseWorkedWith",
          "DatabaseWorkedWith",
          "MiscTechWorkedWith",
          "LanguageWorkedWith",
          "DatabaseWorkedWith",
          "LanguageWorkedWith",
          "MiscTechWorkedWith",
          "LanguageWorkedWith",
          "DatabaseWorkedWith",
          "MiscTechWorkedWith",
          "LanguageWorkedWith",
          "LanguageWorkedWith",
          "PlatformWorkedWith",
          "MiscTechWorkedWith",
          "WebframeWorkedWith",
          "DatabaseWorkedWith",
          "LanguageWorkedWith",
          "WebframeWorkedWith",
          "LanguageWorkedWith",
          "LanguageWorkedWith",
          "DatabaseWorkedWith",
          "LanguageWorkedWith",
          "NEWCollabToolsWorkedWith",
          "PlatformWorkedWith",
          "WebframeWorkedWith",
          "NEWCollabToolsWorkedWith",
          "LanguageWorkedWith",
          "WebframeWorkedWith",
          "MiscTechWorkedWith",
          "MiscTechWorkedWith",
          "MiscTechWorkedWith",
          "NEWCollabToolsWorkedWith",
          "LanguageWorkedWith",
          "MiscTechWorkedWith",
          "MiscTechWorkedWith",
          "LanguageWorkedWith",
          "WebframeWorkedWith",
          "PlatformWorkedWith",
          "PlatformWorkedWith",
          "MiscTechWorkedWith",
          "PlatformWorkedWith",
          "WebframeWorkedWith",
          "",
          "",
          "",
          "",
          "",
          ""
         ],
         "type": "treemap",
         "values": [
          14144,
          10755,
          9258,
          8082,
          14389,
          14101,
          10617,
          6826,
          2955,
          2089,
          5712,
          3553,
          18980,
          12487,
          18041,
          13707,
          1654,
          733,
          17122,
          2419,
          937,
          2280,
          6014,
          18851,
          1369,
          3497,
          6817,
          8961,
          1580,
          7128,
          6005,
          2897,
          1703,
          43786,
          19545,
          5038,
          7569,
          21952,
          36181,
          1798,
          1222,
          5974,
          876,
          1421,
          23074,
          38822,
          25222,
          519,
          2504,
          4468,
          6178,
          4680,
          29600,
          12898,
          8312,
          7849,
          7830,
          16336,
          13518,
          13086,
          27559,
          20741,
          2340,
          8155,
          15007,
          6253,
          1796,
          17892,
          945,
          25287,
          3288,
          8010,
          4626,
          15167,
          9056,
          4046,
          2944,
          2929,
          31413,
          15434,
          2052,
          28018,
          3922,
          6941,
          3057,
          3397,
          1851,
          4652,
          2518,
          1872,
          15655,
          14578,
          4413,
          1316,
          3499,
          7322,
          28595,
          7654,
          2357,
          6562,
          18316,
          137284,
          288004,
          89987,
          197304,
          178721,
          116056
         ]
        }
       ],
       "layout": {
        "coloraxis": {
         "colorbar": {
          "title": {
           "text": "freq"
          }
         },
         "colorscale": [
          [
           0,
           "rgb(253, 253, 204)"
          ],
          [
           0.09090909090909091,
           "rgb(206, 236, 179)"
          ],
          [
           0.18181818181818182,
           "rgb(156, 219, 165)"
          ],
          [
           0.2727272727272727,
           "rgb(111, 201, 163)"
          ],
          [
           0.36363636363636365,
           "rgb(86, 177, 163)"
          ],
          [
           0.45454545454545453,
           "rgb(76, 153, 160)"
          ],
          [
           0.5454545454545454,
           "rgb(68, 130, 155)"
          ],
          [
           0.6363636363636364,
           "rgb(62, 108, 150)"
          ],
          [
           0.7272727272727273,
           "rgb(62, 82, 143)"
          ],
          [
           0.8181818181818182,
           "rgb(64, 60, 115)"
          ],
          [
           0.9090909090909091,
           "rgb(54, 43, 77)"
          ],
          [
           1,
           "rgb(39, 26, 44)"
          ]
         ]
        },
        "height": 1000,
        "legend": {
         "tracegroupgap": 0
        },
        "margin": {
         "t": 60
        },
        "template": {
         "data": {
          "bar": [
           {
            "error_x": {
             "color": "#2a3f5f"
            },
            "error_y": {
             "color": "#2a3f5f"
            },
            "marker": {
             "line": {
              "color": "#E5ECF6",
              "width": 0.5
             },
             "pattern": {
              "fillmode": "overlay",
              "size": 10,
              "solidity": 0.2
             }
            },
            "type": "bar"
           }
          ],
          "barpolar": [
           {
            "marker": {
             "line": {
              "color": "#E5ECF6",
              "width": 0.5
             },
             "pattern": {
              "fillmode": "overlay",
              "size": 10,
              "solidity": 0.2
             }
            },
            "type": "barpolar"
           }
          ],
          "carpet": [
           {
            "aaxis": {
             "endlinecolor": "#2a3f5f",
             "gridcolor": "white",
             "linecolor": "white",
             "minorgridcolor": "white",
             "startlinecolor": "#2a3f5f"
            },
            "baxis": {
             "endlinecolor": "#2a3f5f",
             "gridcolor": "white",
             "linecolor": "white",
             "minorgridcolor": "white",
             "startlinecolor": "#2a3f5f"
            },
            "type": "carpet"
           }
          ],
          "choropleth": [
           {
            "colorbar": {
             "outlinewidth": 0,
             "ticks": ""
            },
            "type": "choropleth"
           }
          ],
          "contour": [
           {
            "colorbar": {
             "outlinewidth": 0,
             "ticks": ""
            },
            "colorscale": [
             [
              0,
              "#0d0887"
             ],
             [
              0.1111111111111111,
              "#46039f"
             ],
             [
              0.2222222222222222,
              "#7201a8"
             ],
             [
              0.3333333333333333,
              "#9c179e"
             ],
             [
              0.4444444444444444,
              "#bd3786"
             ],
             [
              0.5555555555555556,
              "#d8576b"
             ],
             [
              0.6666666666666666,
              "#ed7953"
             ],
             [
              0.7777777777777778,
              "#fb9f3a"
             ],
             [
              0.8888888888888888,
              "#fdca26"
             ],
             [
              1,
              "#f0f921"
             ]
            ],
            "type": "contour"
           }
          ],
          "contourcarpet": [
           {
            "colorbar": {
             "outlinewidth": 0,
             "ticks": ""
            },
            "type": "contourcarpet"
           }
          ],
          "heatmap": [
           {
            "colorbar": {
             "outlinewidth": 0,
             "ticks": ""
            },
            "colorscale": [
             [
              0,
              "#0d0887"
             ],
             [
              0.1111111111111111,
              "#46039f"
             ],
             [
              0.2222222222222222,
              "#7201a8"
             ],
             [
              0.3333333333333333,
              "#9c179e"
             ],
             [
              0.4444444444444444,
              "#bd3786"
             ],
             [
              0.5555555555555556,
              "#d8576b"
             ],
             [
              0.6666666666666666,
              "#ed7953"
             ],
             [
              0.7777777777777778,
              "#fb9f3a"
             ],
             [
              0.8888888888888888,
              "#fdca26"
             ],
             [
              1,
              "#f0f921"
             ]
            ],
            "type": "heatmap"
           }
          ],
          "heatmapgl": [
           {
            "colorbar": {
             "outlinewidth": 0,
             "ticks": ""
            },
            "colorscale": [
             [
              0,
              "#0d0887"
             ],
             [
              0.1111111111111111,
              "#46039f"
             ],
             [
              0.2222222222222222,
              "#7201a8"
             ],
             [
              0.3333333333333333,
              "#9c179e"
             ],
             [
              0.4444444444444444,
              "#bd3786"
             ],
             [
              0.5555555555555556,
              "#d8576b"
             ],
             [
              0.6666666666666666,
              "#ed7953"
             ],
             [
              0.7777777777777778,
              "#fb9f3a"
             ],
             [
              0.8888888888888888,
              "#fdca26"
             ],
             [
              1,
              "#f0f921"
             ]
            ],
            "type": "heatmapgl"
           }
          ],
          "histogram": [
           {
            "marker": {
             "pattern": {
              "fillmode": "overlay",
              "size": 10,
              "solidity": 0.2
             }
            },
            "type": "histogram"
           }
          ],
          "histogram2d": [
           {
            "colorbar": {
             "outlinewidth": 0,
             "ticks": ""
            },
            "colorscale": [
             [
              0,
              "#0d0887"
             ],
             [
              0.1111111111111111,
              "#46039f"
             ],
             [
              0.2222222222222222,
              "#7201a8"
             ],
             [
              0.3333333333333333,
              "#9c179e"
             ],
             [
              0.4444444444444444,
              "#bd3786"
             ],
             [
              0.5555555555555556,
              "#d8576b"
             ],
             [
              0.6666666666666666,
              "#ed7953"
             ],
             [
              0.7777777777777778,
              "#fb9f3a"
             ],
             [
              0.8888888888888888,
              "#fdca26"
             ],
             [
              1,
              "#f0f921"
             ]
            ],
            "type": "histogram2d"
           }
          ],
          "histogram2dcontour": [
           {
            "colorbar": {
             "outlinewidth": 0,
             "ticks": ""
            },
            "colorscale": [
             [
              0,
              "#0d0887"
             ],
             [
              0.1111111111111111,
              "#46039f"
             ],
             [
              0.2222222222222222,
              "#7201a8"
             ],
             [
              0.3333333333333333,
              "#9c179e"
             ],
             [
              0.4444444444444444,
              "#bd3786"
             ],
             [
              0.5555555555555556,
              "#d8576b"
             ],
             [
              0.6666666666666666,
              "#ed7953"
             ],
             [
              0.7777777777777778,
              "#fb9f3a"
             ],
             [
              0.8888888888888888,
              "#fdca26"
             ],
             [
              1,
              "#f0f921"
             ]
            ],
            "type": "histogram2dcontour"
           }
          ],
          "mesh3d": [
           {
            "colorbar": {
             "outlinewidth": 0,
             "ticks": ""
            },
            "type": "mesh3d"
           }
          ],
          "parcoords": [
           {
            "line": {
             "colorbar": {
              "outlinewidth": 0,
              "ticks": ""
             }
            },
            "type": "parcoords"
           }
          ],
          "pie": [
           {
            "automargin": true,
            "type": "pie"
           }
          ],
          "scatter": [
           {
            "fillpattern": {
             "fillmode": "overlay",
             "size": 10,
             "solidity": 0.2
            },
            "type": "scatter"
           }
          ],
          "scatter3d": [
           {
            "line": {
             "colorbar": {
              "outlinewidth": 0,
              "ticks": ""
             }
            },
            "marker": {
             "colorbar": {
              "outlinewidth": 0,
              "ticks": ""
             }
            },
            "type": "scatter3d"
           }
          ],
          "scattercarpet": [
           {
            "marker": {
             "colorbar": {
              "outlinewidth": 0,
              "ticks": ""
             }
            },
            "type": "scattercarpet"
           }
          ],
          "scattergeo": [
           {
            "marker": {
             "colorbar": {
              "outlinewidth": 0,
              "ticks": ""
             }
            },
            "type": "scattergeo"
           }
          ],
          "scattergl": [
           {
            "marker": {
             "colorbar": {
              "outlinewidth": 0,
              "ticks": ""
             }
            },
            "type": "scattergl"
           }
          ],
          "scattermapbox": [
           {
            "marker": {
             "colorbar": {
              "outlinewidth": 0,
              "ticks": ""
             }
            },
            "type": "scattermapbox"
           }
          ],
          "scatterpolar": [
           {
            "marker": {
             "colorbar": {
              "outlinewidth": 0,
              "ticks": ""
             }
            },
            "type": "scatterpolar"
           }
          ],
          "scatterpolargl": [
           {
            "marker": {
             "colorbar": {
              "outlinewidth": 0,
              "ticks": ""
             }
            },
            "type": "scatterpolargl"
           }
          ],
          "scatterternary": [
           {
            "marker": {
             "colorbar": {
              "outlinewidth": 0,
              "ticks": ""
             }
            },
            "type": "scatterternary"
           }
          ],
          "surface": [
           {
            "colorbar": {
             "outlinewidth": 0,
             "ticks": ""
            },
            "colorscale": [
             [
              0,
              "#0d0887"
             ],
             [
              0.1111111111111111,
              "#46039f"
             ],
             [
              0.2222222222222222,
              "#7201a8"
             ],
             [
              0.3333333333333333,
              "#9c179e"
             ],
             [
              0.4444444444444444,
              "#bd3786"
             ],
             [
              0.5555555555555556,
              "#d8576b"
             ],
             [
              0.6666666666666666,
              "#ed7953"
             ],
             [
              0.7777777777777778,
              "#fb9f3a"
             ],
             [
              0.8888888888888888,
              "#fdca26"
             ],
             [
              1,
              "#f0f921"
             ]
            ],
            "type": "surface"
           }
          ],
          "table": [
           {
            "cells": {
             "fill": {
              "color": "#EBF0F8"
             },
             "line": {
              "color": "white"
             }
            },
            "header": {
             "fill": {
              "color": "#C8D4E3"
             },
             "line": {
              "color": "white"
             }
            },
            "type": "table"
           }
          ]
         },
         "layout": {
          "annotationdefaults": {
           "arrowcolor": "#2a3f5f",
           "arrowhead": 0,
           "arrowwidth": 1
          },
          "autotypenumbers": "strict",
          "coloraxis": {
           "colorbar": {
            "outlinewidth": 0,
            "ticks": ""
           }
          },
          "colorscale": {
           "diverging": [
            [
             0,
             "#8e0152"
            ],
            [
             0.1,
             "#c51b7d"
            ],
            [
             0.2,
             "#de77ae"
            ],
            [
             0.3,
             "#f1b6da"
            ],
            [
             0.4,
             "#fde0ef"
            ],
            [
             0.5,
             "#f7f7f7"
            ],
            [
             0.6,
             "#e6f5d0"
            ],
            [
             0.7,
             "#b8e186"
            ],
            [
             0.8,
             "#7fbc41"
            ],
            [
             0.9,
             "#4d9221"
            ],
            [
             1,
             "#276419"
            ]
           ],
           "sequential": [
            [
             0,
             "#0d0887"
            ],
            [
             0.1111111111111111,
             "#46039f"
            ],
            [
             0.2222222222222222,
             "#7201a8"
            ],
            [
             0.3333333333333333,
             "#9c179e"
            ],
            [
             0.4444444444444444,
             "#bd3786"
            ],
            [
             0.5555555555555556,
             "#d8576b"
            ],
            [
             0.6666666666666666,
             "#ed7953"
            ],
            [
             0.7777777777777778,
             "#fb9f3a"
            ],
            [
             0.8888888888888888,
             "#fdca26"
            ],
            [
             1,
             "#f0f921"
            ]
           ],
           "sequentialminus": [
            [
             0,
             "#0d0887"
            ],
            [
             0.1111111111111111,
             "#46039f"
            ],
            [
             0.2222222222222222,
             "#7201a8"
            ],
            [
             0.3333333333333333,
             "#9c179e"
            ],
            [
             0.4444444444444444,
             "#bd3786"
            ],
            [
             0.5555555555555556,
             "#d8576b"
            ],
            [
             0.6666666666666666,
             "#ed7953"
            ],
            [
             0.7777777777777778,
             "#fb9f3a"
            ],
            [
             0.8888888888888888,
             "#fdca26"
            ],
            [
             1,
             "#f0f921"
            ]
           ]
          },
          "colorway": [
           "#636efa",
           "#EF553B",
           "#00cc96",
           "#ab63fa",
           "#FFA15A",
           "#19d3f3",
           "#FF6692",
           "#B6E880",
           "#FF97FF",
           "#FECB52"
          ],
          "font": {
           "color": "#2a3f5f"
          },
          "geo": {
           "bgcolor": "white",
           "lakecolor": "white",
           "landcolor": "#E5ECF6",
           "showlakes": true,
           "showland": true,
           "subunitcolor": "white"
          },
          "hoverlabel": {
           "align": "left"
          },
          "hovermode": "closest",
          "mapbox": {
           "style": "light"
          },
          "paper_bgcolor": "white",
          "plot_bgcolor": "#E5ECF6",
          "polar": {
           "angularaxis": {
            "gridcolor": "white",
            "linecolor": "white",
            "ticks": ""
           },
           "bgcolor": "#E5ECF6",
           "radialaxis": {
            "gridcolor": "white",
            "linecolor": "white",
            "ticks": ""
           }
          },
          "scene": {
           "xaxis": {
            "backgroundcolor": "#E5ECF6",
            "gridcolor": "white",
            "gridwidth": 2,
            "linecolor": "white",
            "showbackground": true,
            "ticks": "",
            "zerolinecolor": "white"
           },
           "yaxis": {
            "backgroundcolor": "#E5ECF6",
            "gridcolor": "white",
            "gridwidth": 2,
            "linecolor": "white",
            "showbackground": true,
            "ticks": "",
            "zerolinecolor": "white"
           },
           "zaxis": {
            "backgroundcolor": "#E5ECF6",
            "gridcolor": "white",
            "gridwidth": 2,
            "linecolor": "white",
            "showbackground": true,
            "ticks": "",
            "zerolinecolor": "white"
           }
          },
          "shapedefaults": {
           "line": {
            "color": "#2a3f5f"
           }
          },
          "ternary": {
           "aaxis": {
            "gridcolor": "white",
            "linecolor": "white",
            "ticks": ""
           },
           "baxis": {
            "gridcolor": "white",
            "linecolor": "white",
            "ticks": ""
           },
           "bgcolor": "#E5ECF6",
           "caxis": {
            "gridcolor": "white",
            "linecolor": "white",
            "ticks": ""
           }
          },
          "title": {
           "x": 0.05
          },
          "xaxis": {
           "automargin": true,
           "gridcolor": "white",
           "linecolor": "white",
           "ticks": "",
           "title": {
            "standoff": 15
           },
           "zerolinecolor": "white",
           "zerolinewidth": 2
          },
          "yaxis": {
           "automargin": true,
           "gridcolor": "white",
           "linecolor": "white",
           "ticks": "",
           "title": {
            "standoff": 15
           },
           "zerolinecolor": "white",
           "zerolinewidth": 2
          }
         }
        },
        "width": 1150
       }
      },
      "image/png": "[encoded data removed]",
      "text/html": [
       "<div>                            <div id=\"f457635b-b443-4af2-abb8-8d174f29f745\" class=\"plotly-graph-div\" style=\"height:1000px; width:1150px;\"></div>            <script type=\"text/javascript\">                require([\"plotly\"], function(Plotly) {                    window.PLOTLYENV=window.PLOTLYENV || {};                                    if (document.getElementById(\"f457635b-b443-4af2-abb8-8d174f29f745\")) {                    Plotly.newPlot(                        \"f457635b-b443-4af2-abb8-8d174f29f745\",                        [{\"branchvalues\":\"total\",\"customdata\":[[14144.0],[10755.0],[9258.0],[8082.0],[14389.0],[14101.0],[10617.0],[6826.0],[2955.0],[2089.0],[5712.0],[3553.0],[18980.0],[12487.0],[18041.0],[13707.0],[1654.0],[733.0],[17122.0],[2419.0],[937.0],[2280.0],[6014.0],[18851.0],[1369.0],[3497.0],[6817.0],[8961.0],[1580.0],[7128.0],[6005.0],[2897.0],[1703.0],[43786.0],[19545.0],[5038.0],[7569.0],[21952.0],[36181.0],[1798.0],[1222.0],[5974.0],[876.0],[1421.0],[23074.0],[38822.0],[25222.0],[519.0],[2504.0],[4468.0],[6178.0],[4680.0],[29600.0],[12898.0],[8312.0],[7849.0],[7830.0],[16336.0],[13518.0],[13086.0],[27559.0],[20741.0],[2340.0],[8155.0],[15007.0],[6253.0],[1796.0],[17892.0],[945.0],[25287.0],[3288.0],[8010.0],[4626.0],[15167.0],[9056.0],[4046.0],[2944.0],[2929.0],[31413.0],[15434.0],[2052.0],[28018.0],[3922.0],[6941.0],[3057.0],[3397.0],[1851.0],[4652.0],[2518.0],[1872.0],[15655.0],[14578.0],[4413.0],[1316.0],[3499.0],[7322.0],[28595.0],[7654.0],[2357.0],[6562.0],[18316.0],[15214.337475598031],[22845.057860307497],[10034.034504984053],[25324.856140777683],[16945.23439886751],[10072.249707037981]],\"domain\":{\"x\":[0.0,1.0],\"y\":[0.0,1.0]},\"hovertemplate\":\"labels=%{label}<br>freq_sum=%{value}<br>parent=%{parent}<br>id=%{id}<br>freq=%{color}<extra></extra>\",\"ids\":[\"MiscTechWorkedWith/.NET\",\"MiscTechWorkedWith/.NET Core\",\"WebframeWorkedWith/ASP.NET\",\"WebframeWorkedWith/ASP.NET Core\",\"PlatformWorkedWith/AWS\",\"PlatformWorkedWith/Android\",\"WebframeWorkedWith/Angular\",\"WebframeWorkedWith/Angular.js\",\"MiscTechWorkedWith/Ansible\",\"MiscTechWorkedWith/Apache Spark\",\"PlatformWorkedWith/Arduino\",\"LanguageWorkedWith/Assembly\",\"LanguageWorkedWith/Bash/Shell/PowerShell\",\"LanguageWorkedWith/C\",\"LanguageWorkedWith/C#\",\"LanguageWorkedWith/C++\",\"DatabaseWorkedWith/Cassandra\",\"MiscTechWorkedWith/Chef\",\"NEWCollabToolsWorkedWith/Confluence\",\"MiscTechWorkedWith/Cordova\",\"DatabaseWorkedWith/Couchbase\",\"LanguageWorkedWith/Dart\",\"WebframeWorkedWith/Django\",\"PlatformWorkedWith/Docker\",\"WebframeWorkedWith/Drupal\",\"DatabaseWorkedWith/DynamoDB\",\"DatabaseWorkedWith/Elasticsearch\",\"WebframeWorkedWith/Express\",\"NEWCollabToolsWorkedWith/Facebook Workplace\",\"DatabaseWorkedWith/Firebase\",\"WebframeWorkedWith/Flask\",\"MiscTechWorkedWith/Flutter\",\"WebframeWorkedWith/Gatsby\",\"NEWCollabToolsWorkedWith/Github\",\"NEWCollabToolsWorkedWith/Gitlab\",\"LanguageWorkedWith/Go\",\"PlatformWorkedWith/Google Cloud Platform\",\"NEWCollabToolsWorkedWith/Google Suite (Docs, Meet, etc)\",\"LanguageWorkedWith/HTML/CSS\",\"MiscTechWorkedWith/Hadoop\",\"LanguageWorkedWith/Haskell\",\"PlatformWorkedWith/Heroku\",\"PlatformWorkedWith/IBM Cloud or Watson\",\"DatabaseWorkedWith/IBM DB2\",\"LanguageWorkedWith/Java\",\"LanguageWorkedWith/JavaScript\",\"NEWCollabToolsWorkedWith/Jira\",\"LanguageWorkedWith/Julia\",\"MiscTechWorkedWith/Keras\",\"LanguageWorkedWith/Kotlin\",\"PlatformWorkedWith/Kubernetes\",\"WebframeWorkedWith/Laravel\",\"PlatformWorkedWith/Linux\",\"PlatformWorkedWith/MacOS\",\"DatabaseWorkedWith/MariaDB\",\"NEWCollabToolsWorkedWith/Microsoft Azure\",\"PlatformWorkedWith/Microsoft Azure\",\"DatabaseWorkedWith/Microsoft SQL Server\",\"NEWCollabToolsWorkedWith/Microsoft Teams\",\"DatabaseWorkedWith/MongoDB\",\"DatabaseWorkedWith/MySQL\",\"MiscTechWorkedWith/Node.js\",\"LanguageWorkedWith/Objective-C\",\"DatabaseWorkedWith/Oracle\",\"LanguageWorkedWith/PHP\",\"MiscTechWorkedWith/Pandas\",\"LanguageWorkedWith/Perl\",\"DatabaseWorkedWith/PostgreSQL\",\"MiscTechWorkedWith/Puppet\",\"LanguageWorkedWith/Python\",\"LanguageWorkedWith/R\",\"PlatformWorkedWith/Raspberry Pi\",\"MiscTechWorkedWith/React Native\",\"WebframeWorkedWith/React.js\",\"DatabaseWorkedWith/Redis\",\"LanguageWorkedWith/Ruby\",\"WebframeWorkedWith/Ruby on Rails\",\"LanguageWorkedWith/Rust\",\"LanguageWorkedWith/SQL\",\"DatabaseWorkedWith/SQLite\",\"LanguageWorkedWith/Scala\",\"NEWCollabToolsWorkedWith/Slack\",\"PlatformWorkedWith/Slack Apps and Integrations\",\"WebframeWorkedWith/Spring\",\"NEWCollabToolsWorkedWith/Stack Overflow for Teams\",\"LanguageWorkedWith/Swift\",\"WebframeWorkedWith/Symfony\",\"MiscTechWorkedWith/TensorFlow\",\"MiscTechWorkedWith/Teraform\",\"MiscTechWorkedWith/Torch/PyTorch\",\"NEWCollabToolsWorkedWith/Trello\",\"LanguageWorkedWith/TypeScript\",\"MiscTechWorkedWith/Unity 3D\",\"MiscTechWorkedWith/Unreal Engine\",\"LanguageWorkedWith/VBA\",\"WebframeWorkedWith/Vue.js\",\"PlatformWorkedWith/Windows\",\"PlatformWorkedWith/WordPress\",\"MiscTechWorkedWith/Xamarin\",\"PlatformWorkedWith/iOS\",\"WebframeWorkedWith/jQuery\",\"DatabaseWorkedWith\",\"LanguageWorkedWith\",\"MiscTechWorkedWith\",\"NEWCollabToolsWorkedWith\",\"PlatformWorkedWith\",\"WebframeWorkedWith\"],\"labels\":[\".NET\",\".NET Core\",\"ASP.NET\",\"ASP.NET Core\",\"AWS\",\"Android\",\"Angular\",\"Angular.js\",\"Ansible\",\"Apache Spark\",\"Arduino\",\"Assembly\",\"Bash/Shell/PowerShell\",\"C\",\"C#\",\"C++\",\"Cassandra\",\"Chef\",\"Confluence\",\"Cordova\",\"Couchbase\",\"Dart\",\"Django\",\"Docker\",\"Drupal\",\"DynamoDB\",\"Elasticsearch\",\"Express\",\"Facebook Workplace\",\"Firebase\",\"Flask\",\"Flutter\",\"Gatsby\",\"Github\",\"Gitlab\",\"Go\",\"Google Cloud Platform\",\"Google Suite (Docs, Meet, etc)\",\"HTML/CSS\",\"Hadoop\",\"Haskell\",\"Heroku\",\"IBM Cloud or Watson\",\"IBM DB2\",\"Java\",\"JavaScript\",\"Jira\",\"Julia\",\"Keras\",\"Kotlin\",\"Kubernetes\",\"Laravel\",\"Linux\",\"MacOS\",\"MariaDB\",\"Microsoft Azure\",\"Microsoft Azure\",\"Microsoft SQL Server\",\"Microsoft Teams\",\"MongoDB\",\"MySQL\",\"Node.js\",\"Objective-C\",\"Oracle\",\"PHP\",\"Pandas\",\"Perl\",\"PostgreSQL\",\"Puppet\",\"Python\",\"R\",\"Raspberry Pi\",\"React Native\",\"React.js\",\"Redis\",\"Ruby\",\"Ruby on Rails\",\"Rust\",\"SQL\",\"SQLite\",\"Scala\",\"Slack\",\"Slack Apps and Integrations\",\"Spring\",\"Stack Overflow for Teams\",\"Swift\",\"Symfony\",\"TensorFlow\",\"Teraform\",\"Torch/PyTorch\",\"Trello\",\"TypeScript\",\"Unity 3D\",\"Unreal Engine\",\"VBA\",\"Vue.js\",\"Windows\",\"WordPress\",\"Xamarin\",\"iOS\",\"jQuery\",\"DatabaseWorkedWith\",\"LanguageWorkedWith\",\"MiscTechWorkedWith\",\"NEWCollabToolsWorkedWith\",\"PlatformWorkedWith\",\"WebframeWorkedWith\"],\"marker\":{\"coloraxis\":\"coloraxis\",\"colors\":[14144.0,10755.0,9258.0,8082.0,14389.0,14101.0,10617.0,6826.0,2955.0,2089.0,5712.0,3553.0,18980.0,12487.0,18041.0,13707.0,1654.0,733.0,17122.0,2419.0,937.0,2280.0,6014.0,18851.0,1369.0,3497.0,6817.0,8961.0,1580.0,7128.0,6005.0,2897.0,1703.0,43786.0,19545.0,5038.0,7569.0,21952.0,36181.0,1798.0,1222.0,5974.0,876.0,1421.0,23074.0,38822.0,25222.0,519.0,2504.0,4468.0,6178.0,4680.0,29600.0,12898.0,8312.0,7849.0,7830.0,16336.0,13518.0,13086.0,27559.0,20741.0,2340.0,8155.0,15007.0,6253.0,1796.0,17892.0,945.0,25287.0,3288.0,8010.0,4626.0,15167.0,9056.0,4046.0,2944.0,2929.0,31413.0,15434.0,2052.0,28018.0,3922.0,6941.0,3057.0,3397.0,1851.0,4652.0,2518.0,1872.0,15655.0,14578.0,4413.0,1316.0,3499.0,7322.0,28595.0,7654.0,2357.0,6562.0,18316.0,15214.337475598031,22845.057860307497,10034.034504984053,25324.856140777683,16945.23439886751,10072.249707037981]},\"name\":\"\",\"parents\":[\"MiscTechWorkedWith\",\"MiscTechWorkedWith\",\"WebframeWorkedWith\",\"WebframeWorkedWith\",\"PlatformWorkedWith\",\"PlatformWorkedWith\",\"WebframeWorkedWith\",\"WebframeWorkedWith\",\"MiscTechWorkedWith\",\"MiscTechWorkedWith\",\"PlatformWorkedWith\",\"LanguageWorkedWith\",\"LanguageWorkedWith\",\"LanguageWorkedWith\",\"LanguageWorkedWith\",\"LanguageWorkedWith\",\"DatabaseWorkedWith\",\"MiscTechWorkedWith\",\"NEWCollabToolsWorkedWith\",\"MiscTechWorkedWith\",\"DatabaseWorkedWith\",\"LanguageWorkedWith\",\"WebframeWorkedWith\",\"PlatformWorkedWith\",\"WebframeWorkedWith\",\"DatabaseWorkedWith\",\"DatabaseWorkedWith\",\"WebframeWorkedWith\",\"NEWCollabToolsWorkedWith\",\"DatabaseWorkedWith\",\"WebframeWorkedWith\",\"MiscTechWorkedWith\",\"WebframeWorkedWith\",\"NEWCollabToolsWorkedWith\",\"NEWCollabToolsWorkedWith\",\"LanguageWorkedWith\",\"PlatformWorkedWith\",\"NEWCollabToolsWorkedWith\",\"LanguageWorkedWith\",\"MiscTechWorkedWith\",\"LanguageWorkedWith\",\"PlatformWorkedWith\",\"PlatformWorkedWith\",\"DatabaseWorkedWith\",\"LanguageWorkedWith\",\"LanguageWorkedWith\",\"NEWCollabToolsWorkedWith\",\"LanguageWorkedWith\",\"MiscTechWorkedWith\",\"LanguageWorkedWith\",\"PlatformWorkedWith\",\"WebframeWorkedWith\",\"PlatformWorkedWith\",\"PlatformWorkedWith\",\"DatabaseWorkedWith\",\"NEWCollabToolsWorkedWith\",\"PlatformWorkedWith\",\"DatabaseWorkedWith\",\"NEWCollabToolsWorkedWith\",\"DatabaseWorkedWith\",\"DatabaseWorkedWith\",\"MiscTechWorkedWith\",\"LanguageWorkedWith\",\"DatabaseWorkedWith\",\"LanguageWorkedWith\",\"MiscTechWorkedWith\",\"LanguageWorkedWith\",\"DatabaseWorkedWith\",\"MiscTechWorkedWith\",\"LanguageWorkedWith\",\"LanguageWorkedWith\",\"PlatformWorkedWith\",\"MiscTechWorkedWith\",\"WebframeWorkedWith\",\"DatabaseWorkedWith\",\"LanguageWorkedWith\",\"WebframeWorkedWith\",\"LanguageWorkedWith\",\"LanguageWorkedWith\",\"DatabaseWorkedWith\",\"LanguageWorkedWith\",\"NEWCollabToolsWorkedWith\",\"PlatformWorkedWith\",\"WebframeWorkedWith\",\"NEWCollabToolsWorkedWith\",\"LanguageWorkedWith\",\"WebframeWorkedWith\",\"MiscTechWorkedWith\",\"MiscTechWorkedWith\",\"MiscTechWorkedWith\",\"NEWCollabToolsWorkedWith\",\"LanguageWorkedWith\",\"MiscTechWorkedWith\",\"MiscTechWorkedWith\",\"LanguageWorkedWith\",\"WebframeWorkedWith\",\"PlatformWorkedWith\",\"PlatformWorkedWith\",\"MiscTechWorkedWith\",\"PlatformWorkedWith\",\"WebframeWorkedWith\",\"\",\"\",\"\",\"\",\"\",\"\"],\"values\":[14144,10755,9258,8082,14389,14101,10617,6826,2955,2089,5712,3553,18980,12487,18041,13707,1654,733,17122,2419,937,2280,6014,18851,1369,3497,6817,8961,1580,7128,6005,2897,1703,43786,19545,5038,7569,21952,36181,1798,1222,5974,876,1421,23074,38822,25222,519,2504,4468,6178,4680,29600,12898,8312,7849,7830,16336,13518,13086,27559,20741,2340,8155,15007,6253,1796,17892,945,25287,3288,8010,4626,15167,9056,4046,2944,2929,31413,15434,2052,28018,3922,6941,3057,3397,1851,4652,2518,1872,15655,14578,4413,1316,3499,7322,28595,7654,2357,6562,18316,137284,288004,89987,197304,178721,116056],\"type\":\"treemap\"}],                        {\"template\":{\"data\":{\"histogram2dcontour\":[{\"type\":\"histogram2dcontour\",\"colorbar\":{\"outlinewidth\":0,\"ticks\":\"\"},\"colorscale\":[[0.0,\"#0d0887\"],[0.1111111111111111,\"#46039f\"],[0.2222222222222222,\"#7201a8\"],[0.3333333333333333,\"#9c179e\"],[0.4444444444444444,\"#bd3786\"],[0.5555555555555556,\"#d8576b\"],[0.6666666666666666,\"#ed7953\"],[0.7777777777777778,\"#fb9f3a\"],[0.8888888888888888,\"#fdca26\"],[1.0,\"#f0f921\"]]}],\"choropleth\":[{\"type\":\"choropleth\",\"colorbar\":{\"outlinewidth\":0,\"ticks\":\"\"}}],\"histogram2d\":[{\"type\":\"histogram2d\",\"colorbar\":{\"outlinewidth\":0,\"ticks\":\"\"},\"colorscale\":[[0.0,\"#0d0887\"],[0.1111111111111111,\"#46039f\"],[0.2222222222222222,\"#7201a8\"],[0.3333333333333333,\"#9c179e\"],[0.4444444444444444,\"#bd3786\"],[0.5555555555555556,\"#d8576b\"],[0.6666666666666666,\"#ed7953\"],[0.7777777777777778,\"#fb9f3a\"],[0.8888888888888888,\"#fdca26\"],[1.0,\"#f0f921\"]]}],\"heatmap\":[{\"type\":\"heatmap\",\"colorbar\":{\"outlinewidth\":0,\"ticks\":\"\"},\"colorscale\":[[0.0,\"#0d0887\"],[0.1111111111111111,\"#46039f\"],[0.2222222222222222,\"#7201a8\"],[0.3333333333333333,\"#9c179e\"],[0.4444444444444444,\"#bd3786\"],[0.5555555555555556,\"#d8576b\"],[0.6666666666666666,\"#ed7953\"],[0.7777777777777778,\"#fb9f3a\"],[0.8888888888888888,\"#fdca26\"],[1.0,\"#f0f921\"]]}],\"heatmapgl\":[{\"type\":\"heatmapgl\",\"colorbar\":{\"outlinewidth\":0,\"ticks\":\"\"},\"colorscale\":[[0.0,\"#0d0887\"],[0.1111111111111111,\"#46039f\"],[0.2222222222222222,\"#7201a8\"],[0.3333333333333333,\"#9c179e\"],[0.4444444444444444,\"#bd3786\"],[0.5555555555555556,\"#d8576b\"],[0.6666666666666666,\"#ed7953\"],[0.7777777777777778,\"#fb9f3a\"],[0.8888888888888888,\"#fdca26\"],[1.0,\"#f0f921\"]]}],\"contourcarpet\":[{\"type\":\"contourcarpet\",\"colorbar\":{\"outlinewidth\":0,\"ticks\":\"\"}}],\"contour\":[{\"type\":\"contour\",\"colorbar\":{\"outlinewidth\":0,\"ticks\":\"\"},\"colorscale\":[[0.0,\"#0d0887\"],[0.1111111111111111,\"#46039f\"],[0.2222222222222222,\"#7201a8\"],[0.3333333333333333,\"#9c179e\"],[0.4444444444444444,\"#bd3786\"],[0.5555555555555556,\"#d8576b\"],[0.6666666666666666,\"#ed7953\"],[0.7777777777777778,\"#fb9f3a\"],[0.8888888888888888,\"#fdca26\"],[1.0,\"#f0f921\"]]}],\"surface\":[{\"type\":\"surface\",\"colorbar\":{\"outlinewidth\":0,\"ticks\":\"\"},\"colorscale\":[[0.0,\"#0d0887\"],[0.1111111111111111,\"#46039f\"],[0.2222222222222222,\"#7201a8\"],[0.3333333333333333,\"#9c179e\"],[0.4444444444444444,\"#bd3786\"],[0.5555555555555556,\"#d8576b\"],[0.6666666666666666,\"#ed7953\"],[0.7777777777777778,\"#fb9f3a\"],[0.8888888888888888,\"#fdca26\"],[1.0,\"#f0f921\"]]}],\"mesh3d\":[{\"type\":\"mesh3d\",\"colorbar\":{\"outlinewidth\":0,\"ticks\":\"\"}}],\"scatter\":[{\"fillpattern\":{\"fillmode\":\"overlay\",\"size\":10,\"solidity\":0.2},\"type\":\"scatter\"}],\"parcoords\":[{\"type\":\"parcoords\",\"line\":{\"colorbar\":{\"outlinewidth\":0,\"ticks\":\"\"}}}],\"scatterpolargl\":[{\"type\":\"scatterpolargl\",\"marker\":{\"colorbar\":{\"outlinewidth\":0,\"ticks\":\"\"}}}],\"bar\":[{\"error_x\":{\"color\":\"#2a3f5f\"},\"error_y\":{\"color\":\"#2a3f5f\"},\"marker\":{\"line\":{\"color\":\"#E5ECF6\",\"width\":0.5},\"pattern\":{\"fillmode\":\"overlay\",\"size\":10,\"solidity\":0.2}},\"type\":\"bar\"}],\"scattergeo\":[{\"type\":\"scattergeo\",\"marker\":{\"colorbar\":{\"outlinewidth\":0,\"ticks\":\"\"}}}],\"scatterpolar\":[{\"type\":\"scatterpolar\",\"marker\":{\"colorbar\":{\"outlinewidth\":0,\"ticks\":\"\"}}}],\"histogram\":[{\"marker\":{\"pattern\":{\"fillmode\":\"overlay\",\"size\":10,\"solidity\":0.2}},\"type\":\"histogram\"}],\"scattergl\":[{\"type\":\"scattergl\",\"marker\":{\"colorbar\":{\"outlinewidth\":0,\"ticks\":\"\"}}}],\"scatter3d\":[{\"type\":\"scatter3d\",\"line\":{\"colorbar\":{\"outlinewidth\":0,\"ticks\":\"\"}},\"marker\":{\"colorbar\":{\"outlinewidth\":0,\"ticks\":\"\"}}}],\"scattermapbox\":[{\"type\":\"scattermapbox\",\"marker\":{\"colorbar\":{\"outlinewidth\":0,\"ticks\":\"\"}}}],\"scatterternary\":[{\"type\":\"scatterternary\",\"marker\":{\"colorbar\":{\"outlinewidth\":0,\"ticks\":\"\"}}}],\"scattercarpet\":[{\"type\":\"scattercarpet\",\"marker\":{\"colorbar\":{\"outlinewidth\":0,\"ticks\":\"\"}}}],\"carpet\":[{\"aaxis\":{\"endlinecolor\":\"#2a3f5f\",\"gridcolor\":\"white\",\"linecolor\":\"white\",\"minorgridcolor\":\"white\",\"startlinecolor\":\"#2a3f5f\"},\"baxis\":{\"endlinecolor\":\"#2a3f5f\",\"gridcolor\":\"white\",\"linecolor\":\"white\",\"minorgridcolor\":\"white\",\"startlinecolor\":\"#2a3f5f\"},\"type\":\"carpet\"}],\"table\":[{\"cells\":{\"fill\":{\"color\":\"#EBF0F8\"},\"line\":{\"color\":\"white\"}},\"header\":{\"fill\":{\"color\":\"#C8D4E3\"},\"line\":{\"color\":\"white\"}},\"type\":\"table\"}],\"barpolar\":[{\"marker\":{\"line\":{\"color\":\"#E5ECF6\",\"width\":0.5},\"pattern\":{\"fillmode\":\"overlay\",\"size\":10,\"solidity\":0.2}},\"type\":\"barpolar\"}],\"pie\":[{\"automargin\":true,\"type\":\"pie\"}]},\"layout\":{\"autotypenumbers\":\"strict\",\"colorway\":[\"#636efa\",\"#EF553B\",\"#00cc96\",\"#ab63fa\",\"#FFA15A\",\"#19d3f3\",\"#FF6692\",\"#B6E880\",\"#FF97FF\",\"#FECB52\"],\"font\":{\"color\":\"#2a3f5f\"},\"hovermode\":\"closest\",\"hoverlabel\":{\"align\":\"left\"},\"paper_bgcolor\":\"white\",\"plot_bgcolor\":\"#E5ECF6\",\"polar\":{\"bgcolor\":\"#E5ECF6\",\"angularaxis\":{\"gridcolor\":\"white\",\"linecolor\":\"white\",\"ticks\":\"\"},\"radialaxis\":{\"gridcolor\":\"white\",\"linecolor\":\"white\",\"ticks\":\"\"}},\"ternary\":{\"bgcolor\":\"#E5ECF6\",\"aaxis\":{\"gridcolor\":\"white\",\"linecolor\":\"white\",\"ticks\":\"\"},\"baxis\":{\"gridcolor\":\"white\",\"linecolor\":\"white\",\"ticks\":\"\"},\"caxis\":{\"gridcolor\":\"white\",\"linecolor\":\"white\",\"ticks\":\"\"}},\"coloraxis\":{\"colorbar\":{\"outlinewidth\":0,\"ticks\":\"\"}},\"colorscale\":{\"sequential\":[[0.0,\"#0d0887\"],[0.1111111111111111,\"#46039f\"],[0.2222222222222222,\"#7201a8\"],[0.3333333333333333,\"#9c179e\"],[0.4444444444444444,\"#bd3786\"],[0.5555555555555556,\"#d8576b\"],[0.6666666666666666,\"#ed7953\"],[0.7777777777777778,\"#fb9f3a\"],[0.8888888888888888,\"#fdca26\"],[1.0,\"#f0f921\"]],\"sequentialminus\":[[0.0,\"#0d0887\"],[0.1111111111111111,\"#46039f\"],[0.2222222222222222,\"#7201a8\"],[0.3333333333333333,\"#9c179e\"],[0.4444444444444444,\"#bd3786\"],[0.5555555555555556,\"#d8576b\"],[0.6666666666666666,\"#ed7953\"],[0.7777777777777778,\"#fb9f3a\"],[0.8888888888888888,\"#fdca26\"],[1.0,\"#f0f921\"]],\"diverging\":[[0,\"#8e0152\"],[0.1,\"#c51b7d\"],[0.2,\"#de77ae\"],[0.3,\"#f1b6da\"],[0.4,\"#fde0ef\"],[0.5,\"#f7f7f7\"],[0.6,\"#e6f5d0\"],[0.7,\"#b8e186\"],[0.8,\"#7fbc41\"],[0.9,\"#4d9221\"],[1,\"#276419\"]]},\"xaxis\":{\"gridcolor\":\"white\",\"linecolor\":\"white\",\"ticks\":\"\",\"title\":{\"standoff\":15},\"zerolinecolor\":\"white\",\"automargin\":true,\"zerolinewidth\":2},\"yaxis\":{\"gridcolor\":\"white\",\"linecolor\":\"white\",\"ticks\":\"\",\"title\":{\"standoff\":15},\"zerolinecolor\":\"white\",\"automargin\":true,\"zerolinewidth\":2},\"scene\":{\"xaxis\":{\"backgroundcolor\":\"#E5ECF6\",\"gridcolor\":\"white\",\"linecolor\":\"white\",\"showbackground\":true,\"ticks\":\"\",\"zerolinecolor\":\"white\",\"gridwidth\":2},\"yaxis\":{\"backgroundcolor\":\"#E5ECF6\",\"gridcolor\":\"white\",\"linecolor\":\"white\",\"showbackground\":true,\"ticks\":\"\",\"zerolinecolor\":\"white\",\"gridwidth\":2},\"zaxis\":{\"backgroundcolor\":\"#E5ECF6\",\"gridcolor\":\"white\",\"linecolor\":\"white\",\"showbackground\":true,\"ticks\":\"\",\"zerolinecolor\":\"white\",\"gridwidth\":2}},\"shapedefaults\":{\"line\":{\"color\":\"#2a3f5f\"}},\"annotationdefaults\":{\"arrowcolor\":\"#2a3f5f\",\"arrowhead\":0,\"arrowwidth\":1},\"geo\":{\"bgcolor\":\"white\",\"landcolor\":\"#E5ECF6\",\"subunitcolor\":\"white\",\"showland\":true,\"showlakes\":true,\"lakecolor\":\"white\"},\"title\":{\"x\":0.05},\"mapbox\":{\"style\":\"light\"}}},\"coloraxis\":{\"colorbar\":{\"title\":{\"text\":\"freq\"}},\"colorscale\":[[0.0,\"rgb(253, 253, 204)\"],[0.09090909090909091,\"rgb(206, 236, 179)\"],[0.18181818181818182,\"rgb(156, 219, 165)\"],[0.2727272727272727,\"rgb(111, 201, 163)\"],[0.36363636363636365,\"rgb(86, 177, 163)\"],[0.45454545454545453,\"rgb(76, 153, 160)\"],[0.5454545454545454,\"rgb(68, 130, 155)\"],[0.6363636363636364,\"rgb(62, 108, 150)\"],[0.7272727272727273,\"rgb(62, 82, 143)\"],[0.8181818181818182,\"rgb(64, 60, 115)\"],[0.9090909090909091,\"rgb(54, 43, 77)\"],[1.0,\"rgb(39, 26, 44)\"]]},\"legend\":{\"tracegroupgap\":0},\"margin\":{\"t\":60},\"width\":1150,\"height\":1000},                        {\"responsive\": true}                    ).then(function(){\n",
       "                            \n",
       "var gd = document.getElementById('f457635b-b443-4af2-abb8-8d174f29f745');\n",
       "var x = new MutationObserver(function (mutations, observer) {{\n",
       "        var display = window.getComputedStyle(gd).display;\n",
       "        if (!display || display === 'none') {{\n",
       "            console.log([gd, 'removed!']);\n",
       "            Plotly.purge(gd);\n",
       "            observer.disconnect();\n",
       "        }}\n",
       "}});\n",
       "\n",
       "// Listen for the removal of the full notebook cells\n",
       "var notebookContainer = gd.closest('#notebook-container');\n",
       "if (notebookContainer) {{\n",
       "    x.observe(notebookContainer, {childList: true});\n",
       "}}\n",
       "\n",
       "// Listen for the clearing of the current output cell\n",
       "var outputEl = gd.closest('.output');\n",
       "if (outputEl) {{\n",
       "    x.observe(outputEl, {childList: true});\n",
       "}}\n",
       "\n",
       "                        })                };                });            </script>        </div>"
      ]
     },
     "metadata": {},
     "output_type": "display_data"
    }
   ],
   "source": [
    "fig = px.treemap(skills_freq, \n",
    "                 path=['group', 'skill'], \n",
    "                 color_continuous_scale='deep',\n",
    "                 values='freq',color='freq')\n",
    "\n",
    "fig.update_layout(width=1150, height=1000)\n",
    "fig.show()\n",
    "\n",
    "fig.write_html(os.path.join(FIG_DIR, 'treemap_skills_freq.html'))"
   ]
  },
  {
   "cell_type": "markdown",
   "id": "e1c31095-de88-4c51-82e5-9f6d651ec186",
   "metadata": {},
   "source": [
    "## exploring relationship between Jops and Skills\n",
    "### Create Jobs & Skills Heatmap"
   ]
  },
  {
   "cell_type": "code",
   "execution_count": 57,
   "id": "71395987-d75b-4032-b65b-e1de9d2682fb",
   "metadata": {},
   "outputs": [],
   "source": [
    "sorted_roles = df['DevType'].sum().sort_values().index.tolist()"
   ]
  },
  {
   "cell_type": "code",
   "execution_count": 58,
   "id": "0fee2352-f828-404d-9a07-53914b6bdf2d",
   "metadata": {},
   "outputs": [],
   "source": [
    "sorted_skills = df.drop('DevType', axis=1).sum().sort_values(ascending=False).droplevel(level=0).index.tolist()"
   ]
  },
  {
   "cell_type": "code",
   "execution_count": 59,
   "id": "9f5a7fdb-0474-4a0d-91e3-749a3627bae1",
   "metadata": {},
   "outputs": [],
   "source": [
    "skills = []\n",
    "\n",
    "# For each jop, calculate the percentage of each skill\n",
    "for role in sorted_roles: \n",
    "    # Filter for the role\n",
    "    role_mask = (df[('DevType', role)] == 1)\n",
    "\n",
    "    #For each skill column, calculate mean of the one-hot-encoded -> percentage\n",
    "    skills_role = pd.concat({tech_col: df.loc[role_mask, tech_col].mean() * 100\n",
    "                             for tech_col in SKILLS_COLS})\n",
    "\n",
    "    # Append to original list\n",
    "    skills.append(skills_role)\n",
    "\n",
    "# Concat and format\n",
    "skills = pd.concat(skills, axis=1)\n",
    "skills.columns = sorted_roles\n",
    "skills = skills.reset_index(level=0, drop=True)\n",
    "skills = skills.loc[sorted_skills]\n",
    "skills = skills.T"
   ]
  },
  {
   "cell_type": "code",
   "execution_count": 60,
   "id": "9b637f93-f551-400d-b7dc-630b80ccc9da",
   "metadata": {},
   "outputs": [
    {
     "data": {
      "text/html": [
       "<div>\n",
       "<style scoped>\n",
       "    .dataframe tbody tr th:only-of-type {\n",
       "        vertical-align: middle;\n",
       "    }\n",
       "\n",
       "    .dataframe tbody tr th {\n",
       "        vertical-align: top;\n",
       "    }\n",
       "\n",
       "    .dataframe thead th {\n",
       "        text-align: right;\n",
       "    }\n",
       "</style>\n",
       "<table border=\"1\" class=\"dataframe\">\n",
       "  <thead>\n",
       "    <tr style=\"text-align: right;\">\n",
       "      <th></th>\n",
       "      <th>Github</th>\n",
       "      <th>JavaScript</th>\n",
       "      <th>HTML/CSS</th>\n",
       "      <th>SQL</th>\n",
       "      <th>Linux</th>\n",
       "      <th>Windows</th>\n",
       "      <th>Slack</th>\n",
       "      <th>MySQL</th>\n",
       "      <th>Python</th>\n",
       "      <th>Jira</th>\n",
       "      <th>...</th>\n",
       "      <th>Facebook Workplace</th>\n",
       "      <th>IBM DB2</th>\n",
       "      <th>Drupal</th>\n",
       "      <th>Unreal Engine</th>\n",
       "      <th>Haskell</th>\n",
       "      <th>Puppet</th>\n",
       "      <th>Couchbase</th>\n",
       "      <th>IBM Cloud or Watson</th>\n",
       "      <th>Chef</th>\n",
       "      <th>Julia</th>\n",
       "    </tr>\n",
       "  </thead>\n",
       "  <tbody>\n",
       "    <tr>\n",
       "      <th>Marketing or sales professional</th>\n",
       "      <td>70.872274</td>\n",
       "      <td>71.028037</td>\n",
       "      <td>76.635514</td>\n",
       "      <td>57.788162</td>\n",
       "      <td>42.367601</td>\n",
       "      <td>47.196262</td>\n",
       "      <td>45.638629</td>\n",
       "      <td>61.370717</td>\n",
       "      <td>38.629283</td>\n",
       "      <td>28.971963</td>\n",
       "      <td>...</td>\n",
       "      <td>11.370717</td>\n",
       "      <td>5.763240</td>\n",
       "      <td>9.968847</td>\n",
       "      <td>6.853583</td>\n",
       "      <td>4.205607</td>\n",
       "      <td>4.517134</td>\n",
       "      <td>6.230530</td>\n",
       "      <td>7.476636</td>\n",
       "      <td>4.672897</td>\n",
       "      <td>4.049844</td>\n",
       "    </tr>\n",
       "    <tr>\n",
       "      <th>Senior executive/VP</th>\n",
       "      <td>75.075758</td>\n",
       "      <td>72.878788</td>\n",
       "      <td>69.166667</td>\n",
       "      <td>65.075758</td>\n",
       "      <td>58.863636</td>\n",
       "      <td>44.318182</td>\n",
       "      <td>59.393939</td>\n",
       "      <td>49.545455</td>\n",
       "      <td>45.984848</td>\n",
       "      <td>43.939394</td>\n",
       "      <td>...</td>\n",
       "      <td>5.681818</td>\n",
       "      <td>5.227273</td>\n",
       "      <td>6.060606</td>\n",
       "      <td>4.318182</td>\n",
       "      <td>3.409091</td>\n",
       "      <td>4.848485</td>\n",
       "      <td>5.227273</td>\n",
       "      <td>5.000000</td>\n",
       "      <td>3.939394</td>\n",
       "      <td>2.727273</td>\n",
       "    </tr>\n",
       "    <tr>\n",
       "      <th>Engineer, site reliability</th>\n",
       "      <td>79.845361</td>\n",
       "      <td>65.876289</td>\n",
       "      <td>58.505155</td>\n",
       "      <td>61.701031</td>\n",
       "      <td>74.639175</td>\n",
       "      <td>39.432990</td>\n",
       "      <td>60.567010</td>\n",
       "      <td>53.762887</td>\n",
       "      <td>59.896907</td>\n",
       "      <td>56.340206</td>\n",
       "      <td>...</td>\n",
       "      <td>5.721649</td>\n",
       "      <td>3.711340</td>\n",
       "      <td>5.206186</td>\n",
       "      <td>3.144330</td>\n",
       "      <td>3.969072</td>\n",
       "      <td>9.278351</td>\n",
       "      <td>3.659794</td>\n",
       "      <td>3.298969</td>\n",
       "      <td>8.041237</td>\n",
       "      <td>2.010309</td>\n",
       "    </tr>\n",
       "    <tr>\n",
       "      <th>Scientist</th>\n",
       "      <td>77.756472</td>\n",
       "      <td>48.465964</td>\n",
       "      <td>47.027804</td>\n",
       "      <td>43.672100</td>\n",
       "      <td>67.162033</td>\n",
       "      <td>50.000000</td>\n",
       "      <td>45.493768</td>\n",
       "      <td>39.213806</td>\n",
       "      <td>67.689358</td>\n",
       "      <td>32.118888</td>\n",
       "      <td>...</td>\n",
       "      <td>3.739214</td>\n",
       "      <td>3.499521</td>\n",
       "      <td>3.691275</td>\n",
       "      <td>4.026846</td>\n",
       "      <td>4.554171</td>\n",
       "      <td>2.301055</td>\n",
       "      <td>3.259827</td>\n",
       "      <td>3.978907</td>\n",
       "      <td>2.157239</td>\n",
       "      <td>5.465005</td>\n",
       "    </tr>\n",
       "    <tr>\n",
       "      <th>Product manager</th>\n",
       "      <td>75.090108</td>\n",
       "      <td>73.007609</td>\n",
       "      <td>69.603524</td>\n",
       "      <td>63.115739</td>\n",
       "      <td>53.664397</td>\n",
       "      <td>50.620745</td>\n",
       "      <td>53.344013</td>\n",
       "      <td>52.422907</td>\n",
       "      <td>42.010412</td>\n",
       "      <td>44.533440</td>\n",
       "      <td>...</td>\n",
       "      <td>4.565479</td>\n",
       "      <td>3.924710</td>\n",
       "      <td>5.246296</td>\n",
       "      <td>3.203845</td>\n",
       "      <td>2.282739</td>\n",
       "      <td>3.003604</td>\n",
       "      <td>3.123748</td>\n",
       "      <td>2.803364</td>\n",
       "      <td>2.643172</td>\n",
       "      <td>1.561874</td>\n",
       "    </tr>\n",
       "    <tr>\n",
       "      <th>Engineering manager</th>\n",
       "      <td>75.991189</td>\n",
       "      <td>69.346549</td>\n",
       "      <td>60.682819</td>\n",
       "      <td>60.425844</td>\n",
       "      <td>61.600587</td>\n",
       "      <td>42.621145</td>\n",
       "      <td>61.453744</td>\n",
       "      <td>47.099853</td>\n",
       "      <td>46.512482</td>\n",
       "      <td>59.030837</td>\n",
       "      <td>...</td>\n",
       "      <td>4.038179</td>\n",
       "      <td>3.817915</td>\n",
       "      <td>4.662261</td>\n",
       "      <td>2.679883</td>\n",
       "      <td>2.679883</td>\n",
       "      <td>4.515419</td>\n",
       "      <td>4.001468</td>\n",
       "      <td>2.790015</td>\n",
       "      <td>4.331865</td>\n",
       "      <td>1.578561</td>\n",
       "    </tr>\n",
       "    <tr>\n",
       "      <th>Developer, game or graphics</th>\n",
       "      <td>79.455002</td>\n",
       "      <td>67.228397</td>\n",
       "      <td>62.459663</td>\n",
       "      <td>49.264970</td>\n",
       "      <td>52.922194</td>\n",
       "      <td>64.252420</td>\n",
       "      <td>49.408390</td>\n",
       "      <td>48.045895</td>\n",
       "      <td>43.850843</td>\n",
       "      <td>42.344926</td>\n",
       "      <td>...</td>\n",
       "      <td>3.908211</td>\n",
       "      <td>2.617426</td>\n",
       "      <td>3.657225</td>\n",
       "      <td>16.098960</td>\n",
       "      <td>3.155253</td>\n",
       "      <td>2.402295</td>\n",
       "      <td>3.011832</td>\n",
       "      <td>2.294729</td>\n",
       "      <td>2.007888</td>\n",
       "      <td>1.398351</td>\n",
       "    </tr>\n",
       "    <tr>\n",
       "      <th>Educator</th>\n",
       "      <td>78.278689</td>\n",
       "      <td>68.408470</td>\n",
       "      <td>66.803279</td>\n",
       "      <td>56.625683</td>\n",
       "      <td>56.933060</td>\n",
       "      <td>51.263661</td>\n",
       "      <td>51.434426</td>\n",
       "      <td>53.859290</td>\n",
       "      <td>45.252732</td>\n",
       "      <td>40.471311</td>\n",
       "      <td>...</td>\n",
       "      <td>4.337432</td>\n",
       "      <td>3.790984</td>\n",
       "      <td>4.678962</td>\n",
       "      <td>3.381148</td>\n",
       "      <td>4.200820</td>\n",
       "      <td>2.834699</td>\n",
       "      <td>2.766393</td>\n",
       "      <td>2.698087</td>\n",
       "      <td>2.288251</td>\n",
       "      <td>2.185792</td>\n",
       "    </tr>\n",
       "    <tr>\n",
       "      <th>Academic researcher</th>\n",
       "      <td>77.730856</td>\n",
       "      <td>54.194820</td>\n",
       "      <td>53.462838</td>\n",
       "      <td>46.706081</td>\n",
       "      <td>62.190315</td>\n",
       "      <td>49.099099</td>\n",
       "      <td>45.213964</td>\n",
       "      <td>47.015766</td>\n",
       "      <td>59.037162</td>\n",
       "      <td>30.152027</td>\n",
       "      <td>...</td>\n",
       "      <td>3.997748</td>\n",
       "      <td>3.040541</td>\n",
       "      <td>3.293919</td>\n",
       "      <td>2.956081</td>\n",
       "      <td>4.504505</td>\n",
       "      <td>2.111486</td>\n",
       "      <td>2.505631</td>\n",
       "      <td>3.350225</td>\n",
       "      <td>1.520270</td>\n",
       "      <td>4.335586</td>\n",
       "    </tr>\n",
       "    <tr>\n",
       "      <th>Engineer, data</th>\n",
       "      <td>75.307651</td>\n",
       "      <td>56.902087</td>\n",
       "      <td>52.594971</td>\n",
       "      <td>67.174960</td>\n",
       "      <td>62.841091</td>\n",
       "      <td>49.518459</td>\n",
       "      <td>52.220439</td>\n",
       "      <td>49.678973</td>\n",
       "      <td>65.088283</td>\n",
       "      <td>49.277689</td>\n",
       "      <td>...</td>\n",
       "      <td>4.119850</td>\n",
       "      <td>4.333868</td>\n",
       "      <td>3.210273</td>\n",
       "      <td>2.701980</td>\n",
       "      <td>2.835741</td>\n",
       "      <td>2.808989</td>\n",
       "      <td>3.504548</td>\n",
       "      <td>3.263777</td>\n",
       "      <td>2.354200</td>\n",
       "      <td>2.247191</td>\n",
       "    </tr>\n",
       "    <tr>\n",
       "      <th>Developer, QA or test</th>\n",
       "      <td>74.790980</td>\n",
       "      <td>71.548011</td>\n",
       "      <td>67.240942</td>\n",
       "      <td>63.389916</td>\n",
       "      <td>56.295921</td>\n",
       "      <td>56.346592</td>\n",
       "      <td>51.330124</td>\n",
       "      <td>52.520902</td>\n",
       "      <td>44.210793</td>\n",
       "      <td>53.255637</td>\n",
       "      <td>...</td>\n",
       "      <td>3.724348</td>\n",
       "      <td>3.724348</td>\n",
       "      <td>4.459083</td>\n",
       "      <td>3.166962</td>\n",
       "      <td>2.280213</td>\n",
       "      <td>3.217634</td>\n",
       "      <td>2.584241</td>\n",
       "      <td>2.432227</td>\n",
       "      <td>2.482898</td>\n",
       "      <td>1.368128</td>\n",
       "    </tr>\n",
       "    <tr>\n",
       "      <th>Data scientist or machine learning specialist</th>\n",
       "      <td>78.059178</td>\n",
       "      <td>48.269809</td>\n",
       "      <td>48.244734</td>\n",
       "      <td>58.450351</td>\n",
       "      <td>63.540622</td>\n",
       "      <td>48.721163</td>\n",
       "      <td>51.078235</td>\n",
       "      <td>46.263791</td>\n",
       "      <td>78.335005</td>\n",
       "      <td>40.847543</td>\n",
       "      <td>...</td>\n",
       "      <td>4.037111</td>\n",
       "      <td>3.786359</td>\n",
       "      <td>2.833501</td>\n",
       "      <td>2.758275</td>\n",
       "      <td>3.660983</td>\n",
       "      <td>2.432297</td>\n",
       "      <td>2.357071</td>\n",
       "      <td>4.112337</td>\n",
       "      <td>2.081244</td>\n",
       "      <td>4.237713</td>\n",
       "    </tr>\n",
       "    <tr>\n",
       "      <th>Data or business analyst</th>\n",
       "      <td>67.992048</td>\n",
       "      <td>57.554672</td>\n",
       "      <td>58.971173</td>\n",
       "      <td>73.459245</td>\n",
       "      <td>46.346918</td>\n",
       "      <td>59.045726</td>\n",
       "      <td>40.879722</td>\n",
       "      <td>49.652087</td>\n",
       "      <td>53.230616</td>\n",
       "      <td>36.978131</td>\n",
       "      <td>...</td>\n",
       "      <td>4.373757</td>\n",
       "      <td>5.516899</td>\n",
       "      <td>3.827038</td>\n",
       "      <td>2.012922</td>\n",
       "      <td>2.360835</td>\n",
       "      <td>2.311133</td>\n",
       "      <td>2.385686</td>\n",
       "      <td>3.280318</td>\n",
       "      <td>1.988072</td>\n",
       "      <td>1.863817</td>\n",
       "    </tr>\n",
       "    <tr>\n",
       "      <th>Developer, embedded applications or devices</th>\n",
       "      <td>72.968421</td>\n",
       "      <td>58.378947</td>\n",
       "      <td>54.105263</td>\n",
       "      <td>49.557895</td>\n",
       "      <td>63.494737</td>\n",
       "      <td>56.484211</td>\n",
       "      <td>42.589474</td>\n",
       "      <td>45.031579</td>\n",
       "      <td>50.273684</td>\n",
       "      <td>46.147368</td>\n",
       "      <td>...</td>\n",
       "      <td>3.347368</td>\n",
       "      <td>3.494737</td>\n",
       "      <td>2.926316</td>\n",
       "      <td>3.789474</td>\n",
       "      <td>2.863158</td>\n",
       "      <td>2.168421</td>\n",
       "      <td>2.800000</td>\n",
       "      <td>2.378947</td>\n",
       "      <td>1.831579</td>\n",
       "      <td>1.263158</td>\n",
       "    </tr>\n",
       "    <tr>\n",
       "      <th>System administrator</th>\n",
       "      <td>73.636017</td>\n",
       "      <td>71.041587</td>\n",
       "      <td>69.496375</td>\n",
       "      <td>68.141931</td>\n",
       "      <td>70.679130</td>\n",
       "      <td>52.899657</td>\n",
       "      <td>46.375429</td>\n",
       "      <td>57.535292</td>\n",
       "      <td>50.915681</td>\n",
       "      <td>39.813048</td>\n",
       "      <td>...</td>\n",
       "      <td>2.918733</td>\n",
       "      <td>3.719954</td>\n",
       "      <td>5.112552</td>\n",
       "      <td>3.414727</td>\n",
       "      <td>2.708890</td>\n",
       "      <td>5.036246</td>\n",
       "      <td>2.689813</td>\n",
       "      <td>2.251049</td>\n",
       "      <td>3.586417</td>\n",
       "      <td>1.259061</td>\n",
       "    </tr>\n",
       "    <tr>\n",
       "      <th>Designer</th>\n",
       "      <td>72.486375</td>\n",
       "      <td>75.981958</td>\n",
       "      <td>74.873144</td>\n",
       "      <td>58.804736</td>\n",
       "      <td>44.747228</td>\n",
       "      <td>55.440707</td>\n",
       "      <td>42.022176</td>\n",
       "      <td>55.196392</td>\n",
       "      <td>35.951889</td>\n",
       "      <td>34.636347</td>\n",
       "      <td>...</td>\n",
       "      <td>3.476790</td>\n",
       "      <td>3.457997</td>\n",
       "      <td>4.773539</td>\n",
       "      <td>4.021800</td>\n",
       "      <td>1.935726</td>\n",
       "      <td>2.161248</td>\n",
       "      <td>2.236422</td>\n",
       "      <td>2.123661</td>\n",
       "      <td>1.541064</td>\n",
       "      <td>0.920880</td>\n",
       "    </tr>\n",
       "    <tr>\n",
       "      <th>Database administrator</th>\n",
       "      <td>71.268787</td>\n",
       "      <td>74.274729</td>\n",
       "      <td>73.068857</td>\n",
       "      <td>80.076896</td>\n",
       "      <td>56.833275</td>\n",
       "      <td>59.070255</td>\n",
       "      <td>43.778399</td>\n",
       "      <td>59.402307</td>\n",
       "      <td>42.240475</td>\n",
       "      <td>37.172317</td>\n",
       "      <td>...</td>\n",
       "      <td>3.005942</td>\n",
       "      <td>4.037050</td>\n",
       "      <td>4.596295</td>\n",
       "      <td>2.673890</td>\n",
       "      <td>2.009787</td>\n",
       "      <td>2.901084</td>\n",
       "      <td>2.638937</td>\n",
       "      <td>2.114645</td>\n",
       "      <td>2.271933</td>\n",
       "      <td>0.926250</td>\n",
       "    </tr>\n",
       "    <tr>\n",
       "      <th>DevOps specialist</th>\n",
       "      <td>77.734964</td>\n",
       "      <td>70.296532</td>\n",
       "      <td>62.707321</td>\n",
       "      <td>63.059139</td>\n",
       "      <td>70.748869</td>\n",
       "      <td>45.652538</td>\n",
       "      <td>59.189144</td>\n",
       "      <td>48.433573</td>\n",
       "      <td>51.767465</td>\n",
       "      <td>59.038365</td>\n",
       "      <td>...</td>\n",
       "      <td>3.451164</td>\n",
       "      <td>3.668956</td>\n",
       "      <td>3.886748</td>\n",
       "      <td>2.060647</td>\n",
       "      <td>2.479477</td>\n",
       "      <td>5.712850</td>\n",
       "      <td>3.534930</td>\n",
       "      <td>2.445971</td>\n",
       "      <td>5.277266</td>\n",
       "      <td>0.988440</td>\n",
       "    </tr>\n",
       "    <tr>\n",
       "      <th>Developer, mobile</th>\n",
       "      <td>77.747311</td>\n",
       "      <td>66.642059</td>\n",
       "      <td>60.693946</td>\n",
       "      <td>50.284750</td>\n",
       "      <td>40.392322</td>\n",
       "      <td>41.700063</td>\n",
       "      <td>52.710399</td>\n",
       "      <td>50.348028</td>\n",
       "      <td>31.195950</td>\n",
       "      <td>45.074879</td>\n",
       "      <td>...</td>\n",
       "      <td>3.680658</td>\n",
       "      <td>2.204176</td>\n",
       "      <td>2.773676</td>\n",
       "      <td>3.290445</td>\n",
       "      <td>1.497574</td>\n",
       "      <td>1.497574</td>\n",
       "      <td>2.309639</td>\n",
       "      <td>1.813963</td>\n",
       "      <td>1.065176</td>\n",
       "      <td>0.548408</td>\n",
       "    </tr>\n",
       "    <tr>\n",
       "      <th>Developer, desktop or enterprise applications</th>\n",
       "      <td>69.730143</td>\n",
       "      <td>65.699253</td>\n",
       "      <td>61.311948</td>\n",
       "      <td>62.024779</td>\n",
       "      <td>49.456891</td>\n",
       "      <td>68.779701</td>\n",
       "      <td>41.352682</td>\n",
       "      <td>43.737271</td>\n",
       "      <td>36.108282</td>\n",
       "      <td>45.239308</td>\n",
       "      <td>...</td>\n",
       "      <td>2.528853</td>\n",
       "      <td>3.920570</td>\n",
       "      <td>2.316701</td>\n",
       "      <td>2.774949</td>\n",
       "      <td>1.849966</td>\n",
       "      <td>1.756619</td>\n",
       "      <td>2.197895</td>\n",
       "      <td>1.451120</td>\n",
       "      <td>1.298371</td>\n",
       "      <td>0.721317</td>\n",
       "    </tr>\n",
       "    <tr>\n",
       "      <th>Developer, front-end</th>\n",
       "      <td>75.726935</td>\n",
       "      <td>84.012899</td>\n",
       "      <td>78.312199</td>\n",
       "      <td>56.394840</td>\n",
       "      <td>45.419764</td>\n",
       "      <td>48.885002</td>\n",
       "      <td>51.470267</td>\n",
       "      <td>50.841714</td>\n",
       "      <td>31.296458</td>\n",
       "      <td>45.917140</td>\n",
       "      <td>...</td>\n",
       "      <td>3.027984</td>\n",
       "      <td>2.361172</td>\n",
       "      <td>3.470704</td>\n",
       "      <td>2.104285</td>\n",
       "      <td>1.617840</td>\n",
       "      <td>1.579580</td>\n",
       "      <td>1.841933</td>\n",
       "      <td>1.426541</td>\n",
       "      <td>1.043944</td>\n",
       "      <td>0.448185</td>\n",
       "    </tr>\n",
       "    <tr>\n",
       "      <th>Developer, full-stack</th>\n",
       "      <td>75.395392</td>\n",
       "      <td>81.990783</td>\n",
       "      <td>73.784332</td>\n",
       "      <td>62.046083</td>\n",
       "      <td>51.181567</td>\n",
       "      <td>48.862673</td>\n",
       "      <td>52.733641</td>\n",
       "      <td>50.226728</td>\n",
       "      <td>36.202765</td>\n",
       "      <td>48.247005</td>\n",
       "      <td>...</td>\n",
       "      <td>2.573272</td>\n",
       "      <td>2.647005</td>\n",
       "      <td>3.041475</td>\n",
       "      <td>1.824885</td>\n",
       "      <td>1.692166</td>\n",
       "      <td>1.725346</td>\n",
       "      <td>1.994470</td>\n",
       "      <td>1.448848</td>\n",
       "      <td>1.441475</td>\n",
       "      <td>0.512442</td>\n",
       "    </tr>\n",
       "    <tr>\n",
       "      <th>Developer, back-end</th>\n",
       "      <td>74.294844</td>\n",
       "      <td>69.391803</td>\n",
       "      <td>61.389011</td>\n",
       "      <td>61.374321</td>\n",
       "      <td>55.769796</td>\n",
       "      <td>48.167328</td>\n",
       "      <td>51.722492</td>\n",
       "      <td>49.397679</td>\n",
       "      <td>39.867049</td>\n",
       "      <td>49.911855</td>\n",
       "      <td>...</td>\n",
       "      <td>2.754517</td>\n",
       "      <td>2.743499</td>\n",
       "      <td>2.703100</td>\n",
       "      <td>1.777582</td>\n",
       "      <td>2.001616</td>\n",
       "      <td>1.986925</td>\n",
       "      <td>2.060379</td>\n",
       "      <td>1.432349</td>\n",
       "      <td>1.604965</td>\n",
       "      <td>0.561922</td>\n",
       "    </tr>\n",
       "  </tbody>\n",
       "</table>\n",
       "<p>23 rows × 103 columns</p>\n",
       "</div>"
      ],
      "text/plain": [
       "                                                  Github  JavaScript  \\\n",
       "Marketing or sales professional                70.872274   71.028037   \n",
       "Senior executive/VP                            75.075758   72.878788   \n",
       "Engineer, site reliability                     79.845361   65.876289   \n",
       "Scientist                                      77.756472   48.465964   \n",
       "Product manager                                75.090108   73.007609   \n",
       "Engineering manager                            75.991189   69.346549   \n",
       "Developer, game or graphics                    79.455002   67.228397   \n",
       "Educator                                       78.278689   68.408470   \n",
       "Academic researcher                            77.730856   54.194820   \n",
       "Engineer, data                                 75.307651   56.902087   \n",
       "Developer, QA or test                          74.790980   71.548011   \n",
       "Data scientist or machine learning specialist  78.059178   48.269809   \n",
       "Data or business analyst                       67.992048   57.554672   \n",
       "Developer, embedded applications or devices    72.968421   58.378947   \n",
       "System administrator                           73.636017   71.041587   \n",
       "Designer                                       72.486375   75.981958   \n",
       "Database administrator                         71.268787   74.274729   \n",
       "DevOps specialist                              77.734964   70.296532   \n",
       "Developer, mobile                              77.747311   66.642059   \n",
       "Developer, desktop or enterprise applications  69.730143   65.699253   \n",
       "Developer, front-end                           75.726935   84.012899   \n",
       "Developer, full-stack                          75.395392   81.990783   \n",
       "Developer, back-end                            74.294844   69.391803   \n",
       "\n",
       "                                                HTML/CSS        SQL  \\\n",
       "Marketing or sales professional                76.635514  57.788162   \n",
       "Senior executive/VP                            69.166667  65.075758   \n",
       "Engineer, site reliability                     58.505155  61.701031   \n",
       "Scientist                                      47.027804  43.672100   \n",
       "Product manager                                69.603524  63.115739   \n",
       "Engineering manager                            60.682819  60.425844   \n",
       "Developer, game or graphics                    62.459663  49.264970   \n",
       "Educator                                       66.803279  56.625683   \n",
       "Academic researcher                            53.462838  46.706081   \n",
       "Engineer, data                                 52.594971  67.174960   \n",
       "Developer, QA or test                          67.240942  63.389916   \n",
       "Data scientist or machine learning specialist  48.244734  58.450351   \n",
       "Data or business analyst                       58.971173  73.459245   \n",
       "Developer, embedded applications or devices    54.105263  49.557895   \n",
       "System administrator                           69.496375  68.141931   \n",
       "Designer                                       74.873144  58.804736   \n",
       "Database administrator                         73.068857  80.076896   \n",
       "DevOps specialist                              62.707321  63.059139   \n",
       "Developer, mobile                              60.693946  50.284750   \n",
       "Developer, desktop or enterprise applications  61.311948  62.024779   \n",
       "Developer, front-end                           78.312199  56.394840   \n",
       "Developer, full-stack                          73.784332  62.046083   \n",
       "Developer, back-end                            61.389011  61.374321   \n",
       "\n",
       "                                                   Linux    Windows  \\\n",
       "Marketing or sales professional                42.367601  47.196262   \n",
       "Senior executive/VP                            58.863636  44.318182   \n",
       "Engineer, site reliability                     74.639175  39.432990   \n",
       "Scientist                                      67.162033  50.000000   \n",
       "Product manager                                53.664397  50.620745   \n",
       "Engineering manager                            61.600587  42.621145   \n",
       "Developer, game or graphics                    52.922194  64.252420   \n",
       "Educator                                       56.933060  51.263661   \n",
       "Academic researcher                            62.190315  49.099099   \n",
       "Engineer, data                                 62.841091  49.518459   \n",
       "Developer, QA or test                          56.295921  56.346592   \n",
       "Data scientist or machine learning specialist  63.540622  48.721163   \n",
       "Data or business analyst                       46.346918  59.045726   \n",
       "Developer, embedded applications or devices    63.494737  56.484211   \n",
       "System administrator                           70.679130  52.899657   \n",
       "Designer                                       44.747228  55.440707   \n",
       "Database administrator                         56.833275  59.070255   \n",
       "DevOps specialist                              70.748869  45.652538   \n",
       "Developer, mobile                              40.392322  41.700063   \n",
       "Developer, desktop or enterprise applications  49.456891  68.779701   \n",
       "Developer, front-end                           45.419764  48.885002   \n",
       "Developer, full-stack                          51.181567  48.862673   \n",
       "Developer, back-end                            55.769796  48.167328   \n",
       "\n",
       "                                                   Slack      MySQL  \\\n",
       "Marketing or sales professional                45.638629  61.370717   \n",
       "Senior executive/VP                            59.393939  49.545455   \n",
       "Engineer, site reliability                     60.567010  53.762887   \n",
       "Scientist                                      45.493768  39.213806   \n",
       "Product manager                                53.344013  52.422907   \n",
       "Engineering manager                            61.453744  47.099853   \n",
       "Developer, game or graphics                    49.408390  48.045895   \n",
       "Educator                                       51.434426  53.859290   \n",
       "Academic researcher                            45.213964  47.015766   \n",
       "Engineer, data                                 52.220439  49.678973   \n",
       "Developer, QA or test                          51.330124  52.520902   \n",
       "Data scientist or machine learning specialist  51.078235  46.263791   \n",
       "Data or business analyst                       40.879722  49.652087   \n",
       "Developer, embedded applications or devices    42.589474  45.031579   \n",
       "System administrator                           46.375429  57.535292   \n",
       "Designer                                       42.022176  55.196392   \n",
       "Database administrator                         43.778399  59.402307   \n",
       "DevOps specialist                              59.189144  48.433573   \n",
       "Developer, mobile                              52.710399  50.348028   \n",
       "Developer, desktop or enterprise applications  41.352682  43.737271   \n",
       "Developer, front-end                           51.470267  50.841714   \n",
       "Developer, full-stack                          52.733641  50.226728   \n",
       "Developer, back-end                            51.722492  49.397679   \n",
       "\n",
       "                                                  Python       Jira  ...  \\\n",
       "Marketing or sales professional                38.629283  28.971963  ...   \n",
       "Senior executive/VP                            45.984848  43.939394  ...   \n",
       "Engineer, site reliability                     59.896907  56.340206  ...   \n",
       "Scientist                                      67.689358  32.118888  ...   \n",
       "Product manager                                42.010412  44.533440  ...   \n",
       "Engineering manager                            46.512482  59.030837  ...   \n",
       "Developer, game or graphics                    43.850843  42.344926  ...   \n",
       "Educator                                       45.252732  40.471311  ...   \n",
       "Academic researcher                            59.037162  30.152027  ...   \n",
       "Engineer, data                                 65.088283  49.277689  ...   \n",
       "Developer, QA or test                          44.210793  53.255637  ...   \n",
       "Data scientist or machine learning specialist  78.335005  40.847543  ...   \n",
       "Data or business analyst                       53.230616  36.978131  ...   \n",
       "Developer, embedded applications or devices    50.273684  46.147368  ...   \n",
       "System administrator                           50.915681  39.813048  ...   \n",
       "Designer                                       35.951889  34.636347  ...   \n",
       "Database administrator                         42.240475  37.172317  ...   \n",
       "DevOps specialist                              51.767465  59.038365  ...   \n",
       "Developer, mobile                              31.195950  45.074879  ...   \n",
       "Developer, desktop or enterprise applications  36.108282  45.239308  ...   \n",
       "Developer, front-end                           31.296458  45.917140  ...   \n",
       "Developer, full-stack                          36.202765  48.247005  ...   \n",
       "Developer, back-end                            39.867049  49.911855  ...   \n",
       "\n",
       "                                               Facebook Workplace   IBM DB2  \\\n",
       "Marketing or sales professional                         11.370717  5.763240   \n",
       "Senior executive/VP                                      5.681818  5.227273   \n",
       "Engineer, site reliability                               5.721649  3.711340   \n",
       "Scientist                                                3.739214  3.499521   \n",
       "Product manager                                          4.565479  3.924710   \n",
       "Engineering manager                                      4.038179  3.817915   \n",
       "Developer, game or graphics                              3.908211  2.617426   \n",
       "Educator                                                 4.337432  3.790984   \n",
       "Academic researcher                                      3.997748  3.040541   \n",
       "Engineer, data                                           4.119850  4.333868   \n",
       "Developer, QA or test                                    3.724348  3.724348   \n",
       "Data scientist or machine learning specialist            4.037111  3.786359   \n",
       "Data or business analyst                                 4.373757  5.516899   \n",
       "Developer, embedded applications or devices              3.347368  3.494737   \n",
       "System administrator                                     2.918733  3.719954   \n",
       "Designer                                                 3.476790  3.457997   \n",
       "Database administrator                                   3.005942  4.037050   \n",
       "DevOps specialist                                        3.451164  3.668956   \n",
       "Developer, mobile                                        3.680658  2.204176   \n",
       "Developer, desktop or enterprise applications            2.528853  3.920570   \n",
       "Developer, front-end                                     3.027984  2.361172   \n",
       "Developer, full-stack                                    2.573272  2.647005   \n",
       "Developer, back-end                                      2.754517  2.743499   \n",
       "\n",
       "                                                 Drupal  Unreal Engine  \\\n",
       "Marketing or sales professional                9.968847       6.853583   \n",
       "Senior executive/VP                            6.060606       4.318182   \n",
       "Engineer, site reliability                     5.206186       3.144330   \n",
       "Scientist                                      3.691275       4.026846   \n",
       "Product manager                                5.246296       3.203845   \n",
       "Engineering manager                            4.662261       2.679883   \n",
       "Developer, game or graphics                    3.657225      16.098960   \n",
       "Educator                                       4.678962       3.381148   \n",
       "Academic researcher                            3.293919       2.956081   \n",
       "Engineer, data                                 3.210273       2.701980   \n",
       "Developer, QA or test                          4.459083       3.166962   \n",
       "Data scientist or machine learning specialist  2.833501       2.758275   \n",
       "Data or business analyst                       3.827038       2.012922   \n",
       "Developer, embedded applications or devices    2.926316       3.789474   \n",
       "System administrator                           5.112552       3.414727   \n",
       "Designer                                       4.773539       4.021800   \n",
       "Database administrator                         4.596295       2.673890   \n",
       "DevOps specialist                              3.886748       2.060647   \n",
       "Developer, mobile                              2.773676       3.290445   \n",
       "Developer, desktop or enterprise applications  2.316701       2.774949   \n",
       "Developer, front-end                           3.470704       2.104285   \n",
       "Developer, full-stack                          3.041475       1.824885   \n",
       "Developer, back-end                            2.703100       1.777582   \n",
       "\n",
       "                                                Haskell    Puppet  Couchbase  \\\n",
       "Marketing or sales professional                4.205607  4.517134   6.230530   \n",
       "Senior executive/VP                            3.409091  4.848485   5.227273   \n",
       "Engineer, site reliability                     3.969072  9.278351   3.659794   \n",
       "Scientist                                      4.554171  2.301055   3.259827   \n",
       "Product manager                                2.282739  3.003604   3.123748   \n",
       "Engineering manager                            2.679883  4.515419   4.001468   \n",
       "Developer, game or graphics                    3.155253  2.402295   3.011832   \n",
       "Educator                                       4.200820  2.834699   2.766393   \n",
       "Academic researcher                            4.504505  2.111486   2.505631   \n",
       "Engineer, data                                 2.835741  2.808989   3.504548   \n",
       "Developer, QA or test                          2.280213  3.217634   2.584241   \n",
       "Data scientist or machine learning specialist  3.660983  2.432297   2.357071   \n",
       "Data or business analyst                       2.360835  2.311133   2.385686   \n",
       "Developer, embedded applications or devices    2.863158  2.168421   2.800000   \n",
       "System administrator                           2.708890  5.036246   2.689813   \n",
       "Designer                                       1.935726  2.161248   2.236422   \n",
       "Database administrator                         2.009787  2.901084   2.638937   \n",
       "DevOps specialist                              2.479477  5.712850   3.534930   \n",
       "Developer, mobile                              1.497574  1.497574   2.309639   \n",
       "Developer, desktop or enterprise applications  1.849966  1.756619   2.197895   \n",
       "Developer, front-end                           1.617840  1.579580   1.841933   \n",
       "Developer, full-stack                          1.692166  1.725346   1.994470   \n",
       "Developer, back-end                            2.001616  1.986925   2.060379   \n",
       "\n",
       "                                               IBM Cloud or Watson      Chef  \\\n",
       "Marketing or sales professional                           7.476636  4.672897   \n",
       "Senior executive/VP                                       5.000000  3.939394   \n",
       "Engineer, site reliability                                3.298969  8.041237   \n",
       "Scientist                                                 3.978907  2.157239   \n",
       "Product manager                                           2.803364  2.643172   \n",
       "Engineering manager                                       2.790015  4.331865   \n",
       "Developer, game or graphics                               2.294729  2.007888   \n",
       "Educator                                                  2.698087  2.288251   \n",
       "Academic researcher                                       3.350225  1.520270   \n",
       "Engineer, data                                            3.263777  2.354200   \n",
       "Developer, QA or test                                     2.432227  2.482898   \n",
       "Data scientist or machine learning specialist             4.112337  2.081244   \n",
       "Data or business analyst                                  3.280318  1.988072   \n",
       "Developer, embedded applications or devices               2.378947  1.831579   \n",
       "System administrator                                      2.251049  3.586417   \n",
       "Designer                                                  2.123661  1.541064   \n",
       "Database administrator                                    2.114645  2.271933   \n",
       "DevOps specialist                                         2.445971  5.277266   \n",
       "Developer, mobile                                         1.813963  1.065176   \n",
       "Developer, desktop or enterprise applications             1.451120  1.298371   \n",
       "Developer, front-end                                      1.426541  1.043944   \n",
       "Developer, full-stack                                     1.448848  1.441475   \n",
       "Developer, back-end                                       1.432349  1.604965   \n",
       "\n",
       "                                                  Julia  \n",
       "Marketing or sales professional                4.049844  \n",
       "Senior executive/VP                            2.727273  \n",
       "Engineer, site reliability                     2.010309  \n",
       "Scientist                                      5.465005  \n",
       "Product manager                                1.561874  \n",
       "Engineering manager                            1.578561  \n",
       "Developer, game or graphics                    1.398351  \n",
       "Educator                                       2.185792  \n",
       "Academic researcher                            4.335586  \n",
       "Engineer, data                                 2.247191  \n",
       "Developer, QA or test                          1.368128  \n",
       "Data scientist or machine learning specialist  4.237713  \n",
       "Data or business analyst                       1.863817  \n",
       "Developer, embedded applications or devices    1.263158  \n",
       "System administrator                           1.259061  \n",
       "Designer                                       0.920880  \n",
       "Database administrator                         0.926250  \n",
       "DevOps specialist                              0.988440  \n",
       "Developer, mobile                              0.548408  \n",
       "Developer, desktop or enterprise applications  0.721317  \n",
       "Developer, front-end                           0.448185  \n",
       "Developer, full-stack                          0.512442  \n",
       "Developer, back-end                            0.561922  \n",
       "\n",
       "[23 rows x 103 columns]"
      ]
     },
     "execution_count": 60,
     "metadata": {},
     "output_type": "execute_result"
    }
   ],
   "source": [
    "skills"
   ]
  },
  {
   "cell_type": "markdown",
   "id": "87a29252-931f-47b3-a2ec-789c6a694650",
   "metadata": {},
   "source": [
    "### Normalizing features\n"
   ]
  },
  {
   "cell_type": "code",
   "execution_count": 61,
   "id": "4cea4f2d-f208-4071-a374-9b29784795a7",
   "metadata": {},
   "outputs": [],
   "source": [
    "std_skills = StandardScaler().fit_transform(skills)\n",
    "std_skills = pd.DataFrame(std_skills, columns=skills.columns, index=skills.index)"
   ]
  },
  {
   "cell_type": "code",
   "execution_count": 62,
   "id": "7ad0b732-50c9-466b-8dce-cc107a380b6d",
   "metadata": {},
   "outputs": [
    {
     "data": {
      "text/html": [
       "<div>\n",
       "<style scoped>\n",
       "    .dataframe tbody tr th:only-of-type {\n",
       "        vertical-align: middle;\n",
       "    }\n",
       "\n",
       "    .dataframe tbody tr th {\n",
       "        vertical-align: top;\n",
       "    }\n",
       "\n",
       "    .dataframe thead th {\n",
       "        text-align: right;\n",
       "    }\n",
       "</style>\n",
       "<table border=\"1\" class=\"dataframe\">\n",
       "  <thead>\n",
       "    <tr style=\"text-align: right;\">\n",
       "      <th></th>\n",
       "      <th>Github</th>\n",
       "      <th>JavaScript</th>\n",
       "      <th>HTML/CSS</th>\n",
       "      <th>SQL</th>\n",
       "      <th>Linux</th>\n",
       "      <th>Windows</th>\n",
       "      <th>Slack</th>\n",
       "      <th>MySQL</th>\n",
       "      <th>Python</th>\n",
       "      <th>Jira</th>\n",
       "      <th>...</th>\n",
       "      <th>Facebook Workplace</th>\n",
       "      <th>IBM DB2</th>\n",
       "      <th>Drupal</th>\n",
       "      <th>Unreal Engine</th>\n",
       "      <th>Haskell</th>\n",
       "      <th>Puppet</th>\n",
       "      <th>Couchbase</th>\n",
       "      <th>IBM Cloud or Watson</th>\n",
       "      <th>Chef</th>\n",
       "      <th>Julia</th>\n",
       "    </tr>\n",
       "  </thead>\n",
       "  <tbody>\n",
       "    <tr>\n",
       "      <th>Marketing or sales professional</th>\n",
       "      <td>-1.379396</td>\n",
       "      <td>0.433816</td>\n",
       "      <td>1.510025</td>\n",
       "      <td>-0.260708</td>\n",
       "      <td>-1.567770</td>\n",
       "      <td>-0.581246</td>\n",
       "      <td>-0.728538</td>\n",
       "      <td>2.216239</td>\n",
       "      <td>-0.766784</td>\n",
       "      <td>-1.807358</td>\n",
       "      <td>...</td>\n",
       "      <td>4.148711</td>\n",
       "      <td>2.315078</td>\n",
       "      <td>3.687879</td>\n",
       "      <td>1.109495</td>\n",
       "      <td>1.468417</td>\n",
       "      <td>0.763845</td>\n",
       "      <td>3.170701</td>\n",
       "      <td>3.459064</td>\n",
       "      <td>1.239791</td>\n",
       "      <td>1.589551</td>\n",
       "    </tr>\n",
       "    <tr>\n",
       "      <th>Senior executive/VP</th>\n",
       "      <td>-0.006989</td>\n",
       "      <td>0.636243</td>\n",
       "      <td>0.649598</td>\n",
       "      <td>0.622312</td>\n",
       "      <td>0.215087</td>\n",
       "      <td>-0.995570</td>\n",
       "      <td>1.537556</td>\n",
       "      <td>-0.185986</td>\n",
       "      <td>-0.140330</td>\n",
       "      <td>0.006039</td>\n",
       "      <td>...</td>\n",
       "      <td>0.901025</td>\n",
       "      <td>1.714835</td>\n",
       "      <td>1.193263</td>\n",
       "      <td>0.218279</td>\n",
       "      <td>0.627067</td>\n",
       "      <td>0.952938</td>\n",
       "      <td>2.187051</td>\n",
       "      <td>1.605396</td>\n",
       "      <td>0.785153</td>\n",
       "      <td>0.621855</td>\n",
       "    </tr>\n",
       "    <tr>\n",
       "      <th>Engineer, site reliability</th>\n",
       "      <td>1.550252</td>\n",
       "      <td>-0.129660</td>\n",
       "      <td>-0.578629</td>\n",
       "      <td>0.213405</td>\n",
       "      <td>1.920074</td>\n",
       "      <td>-1.698835</td>\n",
       "      <td>1.730811</td>\n",
       "      <td>0.670758</td>\n",
       "      <td>1.044524</td>\n",
       "      <td>1.508474</td>\n",
       "      <td>...</td>\n",
       "      <td>0.923764</td>\n",
       "      <td>0.017105</td>\n",
       "      <td>0.647890</td>\n",
       "      <td>-0.194340</td>\n",
       "      <td>1.218568</td>\n",
       "      <td>3.480932</td>\n",
       "      <td>0.650205</td>\n",
       "      <td>0.332239</td>\n",
       "      <td>3.327545</td>\n",
       "      <td>0.097269</td>\n",
       "    </tr>\n",
       "    <tr>\n",
       "      <th>Scientist</th>\n",
       "      <td>0.868245</td>\n",
       "      <td>-2.033926</td>\n",
       "      <td>-1.900843</td>\n",
       "      <td>-1.971116</td>\n",
       "      <td>1.111960</td>\n",
       "      <td>-0.177623</td>\n",
       "      <td>-0.752402</td>\n",
       "      <td>-2.284794</td>\n",
       "      <td>1.708186</td>\n",
       "      <td>-1.426089</td>\n",
       "      <td>...</td>\n",
       "      <td>-0.207972</td>\n",
       "      <td>-0.220117</td>\n",
       "      <td>-0.319072</td>\n",
       "      <td>0.115872</td>\n",
       "      <td>1.836601</td>\n",
       "      <td>-0.500806</td>\n",
       "      <td>0.258055</td>\n",
       "      <td>0.841147</td>\n",
       "      <td>-0.319457</td>\n",
       "      <td>2.624992</td>\n",
       "    </tr>\n",
       "    <tr>\n",
       "      <th>Product manager</th>\n",
       "      <td>-0.002303</td>\n",
       "      <td>0.650333</td>\n",
       "      <td>0.699925</td>\n",
       "      <td>0.384822</td>\n",
       "      <td>-0.346836</td>\n",
       "      <td>-0.088262</td>\n",
       "      <td>0.540872</td>\n",
       "      <td>0.398550</td>\n",
       "      <td>-0.478822</td>\n",
       "      <td>0.078011</td>\n",
       "      <td>...</td>\n",
       "      <td>0.263728</td>\n",
       "      <td>0.256063</td>\n",
       "      <td>0.673492</td>\n",
       "      <td>-0.173420</td>\n",
       "      <td>-0.562685</td>\n",
       "      <td>-0.099882</td>\n",
       "      <td>0.124635</td>\n",
       "      <td>-0.038702</td>\n",
       "      <td>-0.018268</td>\n",
       "      <td>-0.230841</td>\n",
       "    </tr>\n",
       "    <tr>\n",
       "      <th>Engineering manager</th>\n",
       "      <td>0.291893</td>\n",
       "      <td>0.249902</td>\n",
       "      <td>-0.327758</td>\n",
       "      <td>0.058894</td>\n",
       "      <td>0.510891</td>\n",
       "      <td>-1.239873</td>\n",
       "      <td>1.876895</td>\n",
       "      <td>-0.682794</td>\n",
       "      <td>-0.095392</td>\n",
       "      <td>1.834461</td>\n",
       "      <td>...</td>\n",
       "      <td>-0.037298</td>\n",
       "      <td>0.136461</td>\n",
       "      <td>0.300705</td>\n",
       "      <td>-0.357597</td>\n",
       "      <td>-0.143187</td>\n",
       "      <td>0.762866</td>\n",
       "      <td>0.985202</td>\n",
       "      <td>-0.048694</td>\n",
       "      <td>1.028413</td>\n",
       "      <td>-0.218632</td>\n",
       "    </tr>\n",
       "    <tr>\n",
       "      <th>Developer, game or graphics</th>\n",
       "      <td>1.422803</td>\n",
       "      <td>0.018228</td>\n",
       "      <td>-0.123062</td>\n",
       "      <td>-1.293442</td>\n",
       "      <td>-0.427052</td>\n",
       "      <td>1.874134</td>\n",
       "      <td>-0.107495</td>\n",
       "      <td>-0.490612</td>\n",
       "      <td>-0.322077</td>\n",
       "      <td>-0.187141</td>\n",
       "      <td>...</td>\n",
       "      <td>-0.111494</td>\n",
       "      <td>-1.207997</td>\n",
       "      <td>-0.340806</td>\n",
       "      <td>4.359325</td>\n",
       "      <td>0.358940</td>\n",
       "      <td>-0.443031</td>\n",
       "      <td>0.014906</td>\n",
       "      <td>-0.419396</td>\n",
       "      <td>-0.412027</td>\n",
       "      <td>-0.350488</td>\n",
       "    </tr>\n",
       "    <tr>\n",
       "      <th>Educator</th>\n",
       "      <td>1.038745</td>\n",
       "      <td>0.147299</td>\n",
       "      <td>0.377331</td>\n",
       "      <td>-0.401562</td>\n",
       "      <td>0.006434</td>\n",
       "      <td>0.004291</td>\n",
       "      <td>0.226280</td>\n",
       "      <td>0.690342</td>\n",
       "      <td>-0.202682</td>\n",
       "      <td>-0.414141</td>\n",
       "      <td>...</td>\n",
       "      <td>0.133540</td>\n",
       "      <td>0.106300</td>\n",
       "      <td>0.311365</td>\n",
       "      <td>-0.111096</td>\n",
       "      <td>1.463360</td>\n",
       "      <td>-0.196271</td>\n",
       "      <td>-0.225736</td>\n",
       "      <td>-0.117498</td>\n",
       "      <td>-0.238253</td>\n",
       "      <td>0.225666</td>\n",
       "    </tr>\n",
       "    <tr>\n",
       "      <th>Academic researcher</th>\n",
       "      <td>0.859882</td>\n",
       "      <td>-1.407328</td>\n",
       "      <td>-1.159514</td>\n",
       "      <td>-1.603496</td>\n",
       "      <td>0.574627</td>\n",
       "      <td>-0.307316</td>\n",
       "      <td>-0.798498</td>\n",
       "      <td>-0.699876</td>\n",
       "      <td>0.971301</td>\n",
       "      <td>-1.664386</td>\n",
       "      <td>...</td>\n",
       "      <td>-0.060379</td>\n",
       "      <td>-0.734140</td>\n",
       "      <td>-0.572703</td>\n",
       "      <td>-0.260511</td>\n",
       "      <td>1.784139</td>\n",
       "      <td>-0.608987</td>\n",
       "      <td>-0.481403</td>\n",
       "      <td>0.370602</td>\n",
       "      <td>-0.714261</td>\n",
       "      <td>1.798622</td>\n",
       "    </tr>\n",
       "    <tr>\n",
       "      <th>Engineer, data</th>\n",
       "      <td>0.068723</td>\n",
       "      <td>-1.111219</td>\n",
       "      <td>-1.259494</td>\n",
       "      <td>0.876667</td>\n",
       "      <td>0.644962</td>\n",
       "      <td>-0.246945</td>\n",
       "      <td>0.355771</td>\n",
       "      <td>-0.158863</td>\n",
       "      <td>1.486659</td>\n",
       "      <td>0.652807</td>\n",
       "      <td>...</td>\n",
       "      <td>0.009327</td>\n",
       "      <td>0.714290</td>\n",
       "      <td>-0.626094</td>\n",
       "      <td>-0.349830</td>\n",
       "      <td>0.021444</td>\n",
       "      <td>-0.210943</td>\n",
       "      <td>0.497993</td>\n",
       "      <td>0.305899</td>\n",
       "      <td>-0.197377</td>\n",
       "      <td>0.270590</td>\n",
       "    </tr>\n",
       "    <tr>\n",
       "      <th>Developer, QA or test</th>\n",
       "      <td>-0.099966</td>\n",
       "      <td>0.490689</td>\n",
       "      <td>0.427751</td>\n",
       "      <td>0.418043</td>\n",
       "      <td>-0.062426</td>\n",
       "      <td>0.736023</td>\n",
       "      <td>0.209097</td>\n",
       "      <td>0.418457</td>\n",
       "      <td>-0.291421</td>\n",
       "      <td>1.134760</td>\n",
       "      <td>...</td>\n",
       "      <td>-0.216458</td>\n",
       "      <td>0.031672</td>\n",
       "      <td>0.171017</td>\n",
       "      <td>-0.186384</td>\n",
       "      <td>-0.565354</td>\n",
       "      <td>0.022259</td>\n",
       "      <td>-0.404328</td>\n",
       "      <td>-0.316484</td>\n",
       "      <td>-0.117608</td>\n",
       "      <td>-0.372601</td>\n",
       "    </tr>\n",
       "    <tr>\n",
       "      <th>Data scientist or machine learning specialist</th>\n",
       "      <td>0.967076</td>\n",
       "      <td>-2.055381</td>\n",
       "      <td>-1.760650</td>\n",
       "      <td>-0.180472</td>\n",
       "      <td>0.720565</td>\n",
       "      <td>-0.361723</td>\n",
       "      <td>0.167600</td>\n",
       "      <td>-0.852635</td>\n",
       "      <td>2.614848</td>\n",
       "      <td>-0.368558</td>\n",
       "      <td>...</td>\n",
       "      <td>-0.037907</td>\n",
       "      <td>0.101120</td>\n",
       "      <td>-0.866586</td>\n",
       "      <td>-0.330042</td>\n",
       "      <td>0.893137</td>\n",
       "      <td>-0.425910</td>\n",
       "      <td>-0.627059</td>\n",
       "      <td>0.941014</td>\n",
       "      <td>-0.366560</td>\n",
       "      <td>1.727011</td>\n",
       "    </tr>\n",
       "    <tr>\n",
       "      <th>Data or business analyst</th>\n",
       "      <td>-2.319769</td>\n",
       "      <td>-1.039842</td>\n",
       "      <td>-0.524943</td>\n",
       "      <td>1.638119</td>\n",
       "      <td>-1.137694</td>\n",
       "      <td>1.124586</td>\n",
       "      <td>-1.512535</td>\n",
       "      <td>-0.164324</td>\n",
       "      <td>0.476773</td>\n",
       "      <td>-0.837361</td>\n",
       "      <td>...</td>\n",
       "      <td>0.154278</td>\n",
       "      <td>2.039194</td>\n",
       "      <td>-0.232415</td>\n",
       "      <td>-0.592039</td>\n",
       "      <td>-0.480193</td>\n",
       "      <td>-0.495055</td>\n",
       "      <td>-0.599003</td>\n",
       "      <td>0.318280</td>\n",
       "      <td>-0.424310</td>\n",
       "      <td>-0.009916</td>\n",
       "    </tr>\n",
       "    <tr>\n",
       "      <th>Developer, embedded applications or devices</th>\n",
       "      <td>-0.695019</td>\n",
       "      <td>-0.949687</td>\n",
       "      <td>-1.085506</td>\n",
       "      <td>-1.257949</td>\n",
       "      <td>0.715606</td>\n",
       "      <td>0.755834</td>\n",
       "      <td>-1.230865</td>\n",
       "      <td>-1.102951</td>\n",
       "      <td>0.224939</td>\n",
       "      <td>0.273549</td>\n",
       "      <td>...</td>\n",
       "      <td>-0.431669</td>\n",
       "      <td>-0.225474</td>\n",
       "      <td>-0.807342</td>\n",
       "      <td>0.032434</td>\n",
       "      <td>0.050404</td>\n",
       "      <td>-0.576496</td>\n",
       "      <td>-0.192786</td>\n",
       "      <td>-0.356362</td>\n",
       "      <td>-0.521307</td>\n",
       "      <td>-0.449405</td>\n",
       "    </tr>\n",
       "    <tr>\n",
       "      <th>System administrator</th>\n",
       "      <td>-0.477054</td>\n",
       "      <td>0.435298</td>\n",
       "      <td>0.687582</td>\n",
       "      <td>0.993833</td>\n",
       "      <td>1.492080</td>\n",
       "      <td>0.239807</td>\n",
       "      <td>-0.607155</td>\n",
       "      <td>1.437098</td>\n",
       "      <td>0.279616</td>\n",
       "      <td>-0.493893</td>\n",
       "      <td>...</td>\n",
       "      <td>-0.676369</td>\n",
       "      <td>0.026752</td>\n",
       "      <td>0.588124</td>\n",
       "      <td>-0.099293</td>\n",
       "      <td>-0.112547</td>\n",
       "      <td>1.060087</td>\n",
       "      <td>-0.300820</td>\n",
       "      <td>-0.452089</td>\n",
       "      <td>0.566372</td>\n",
       "      <td>-0.452402</td>\n",
       "    </tr>\n",
       "    <tr>\n",
       "      <th>Designer</th>\n",
       "      <td>-0.852404</td>\n",
       "      <td>0.975655</td>\n",
       "      <td>1.306996</td>\n",
       "      <td>-0.137532</td>\n",
       "      <td>-1.310585</td>\n",
       "      <td>0.605613</td>\n",
       "      <td>-1.324323</td>\n",
       "      <td>0.961965</td>\n",
       "      <td>-0.994810</td>\n",
       "      <td>-1.121083</td>\n",
       "      <td>...</td>\n",
       "      <td>-0.357784</td>\n",
       "      <td>-0.266621</td>\n",
       "      <td>0.371733</td>\n",
       "      <td>0.114099</td>\n",
       "      <td>-0.929230</td>\n",
       "      <td>-0.580590</td>\n",
       "      <td>-0.745351</td>\n",
       "      <td>-0.547434</td>\n",
       "      <td>-0.701373</td>\n",
       "      <td>-0.699843</td>\n",
       "    </tr>\n",
       "    <tr>\n",
       "      <th>Database administrator</th>\n",
       "      <td>-1.249937</td>\n",
       "      <td>0.788925</td>\n",
       "      <td>1.099139</td>\n",
       "      <td>2.439963</td>\n",
       "      <td>-0.004350</td>\n",
       "      <td>1.128117</td>\n",
       "      <td>-1.034998</td>\n",
       "      <td>1.816370</td>\n",
       "      <td>-0.459228</td>\n",
       "      <td>-0.813834</td>\n",
       "      <td>...</td>\n",
       "      <td>-0.626583</td>\n",
       "      <td>0.381875</td>\n",
       "      <td>0.258599</td>\n",
       "      <td>-0.359703</td>\n",
       "      <td>-0.851001</td>\n",
       "      <td>-0.158387</td>\n",
       "      <td>-0.350701</td>\n",
       "      <td>-0.554182</td>\n",
       "      <td>-0.248368</td>\n",
       "      <td>-0.695913</td>\n",
       "    </tr>\n",
       "    <tr>\n",
       "      <th>DevOps specialist</th>\n",
       "      <td>0.861223</td>\n",
       "      <td>0.353807</td>\n",
       "      <td>-0.094531</td>\n",
       "      <td>0.377964</td>\n",
       "      <td>1.499618</td>\n",
       "      <td>-0.803478</td>\n",
       "      <td>1.503817</td>\n",
       "      <td>-0.411858</td>\n",
       "      <td>0.352161</td>\n",
       "      <td>1.835373</td>\n",
       "      <td>...</td>\n",
       "      <td>-0.372414</td>\n",
       "      <td>-0.030362</td>\n",
       "      <td>-0.194302</td>\n",
       "      <td>-0.575264</td>\n",
       "      <td>-0.354873</td>\n",
       "      <td>1.446205</td>\n",
       "      <td>0.527782</td>\n",
       "      <td>-0.306198</td>\n",
       "      <td>1.614389</td>\n",
       "      <td>-0.650410</td>\n",
       "    </tr>\n",
       "    <tr>\n",
       "      <th>Developer, mobile</th>\n",
       "      <td>0.865254</td>\n",
       "      <td>-0.045903</td>\n",
       "      <td>-0.326476</td>\n",
       "      <td>-1.169877</td>\n",
       "      <td>-1.781254</td>\n",
       "      <td>-1.372470</td>\n",
       "      <td>0.436488</td>\n",
       "      <td>-0.022949</td>\n",
       "      <td>-1.399861</td>\n",
       "      <td>0.143610</td>\n",
       "      <td>...</td>\n",
       "      <td>-0.241400</td>\n",
       "      <td>-1.670805</td>\n",
       "      <td>-0.904772</td>\n",
       "      <td>-0.142979</td>\n",
       "      <td>-1.392045</td>\n",
       "      <td>-0.959329</td>\n",
       "      <td>-0.673564</td>\n",
       "      <td>-0.779231</td>\n",
       "      <td>-0.996336</td>\n",
       "      <td>-0.972372</td>\n",
       "    </tr>\n",
       "    <tr>\n",
       "      <th>Developer, desktop or enterprise applications</th>\n",
       "      <td>-1.752293</td>\n",
       "      <td>-0.149023</td>\n",
       "      <td>-0.255281</td>\n",
       "      <td>0.252633</td>\n",
       "      <td>-0.801574</td>\n",
       "      <td>2.525875</td>\n",
       "      <td>-1.434618</td>\n",
       "      <td>-1.365881</td>\n",
       "      <td>-0.981491</td>\n",
       "      <td>0.163532</td>\n",
       "      <td>...</td>\n",
       "      <td>-0.898944</td>\n",
       "      <td>0.251427</td>\n",
       "      <td>-1.196458</td>\n",
       "      <td>-0.324180</td>\n",
       "      <td>-1.019818</td>\n",
       "      <td>-0.811499</td>\n",
       "      <td>-0.783124</td>\n",
       "      <td>-1.050806</td>\n",
       "      <td>-0.851798</td>\n",
       "      <td>-0.845858</td>\n",
       "    </tr>\n",
       "    <tr>\n",
       "      <th>Developer, front-end</th>\n",
       "      <td>0.205616</td>\n",
       "      <td>1.854045</td>\n",
       "      <td>1.703182</td>\n",
       "      <td>-0.429533</td>\n",
       "      <td>-1.237898</td>\n",
       "      <td>-0.338137</td>\n",
       "      <td>0.232185</td>\n",
       "      <td>0.077341</td>\n",
       "      <td>-1.391301</td>\n",
       "      <td>0.245655</td>\n",
       "      <td>...</td>\n",
       "      <td>-0.613999</td>\n",
       "      <td>-1.494982</td>\n",
       "      <td>-0.459861</td>\n",
       "      <td>-0.559925</td>\n",
       "      <td>-1.265010</td>\n",
       "      <td>-0.912530</td>\n",
       "      <td>-1.132130</td>\n",
       "      <td>-1.069202</td>\n",
       "      <td>-1.009496</td>\n",
       "      <td>-1.045702</td>\n",
       "    </tr>\n",
       "    <tr>\n",
       "      <th>Developer, full-stack</th>\n",
       "      <td>0.097369</td>\n",
       "      <td>1.632874</td>\n",
       "      <td>1.181563</td>\n",
       "      <td>0.255214</td>\n",
       "      <td>-0.615175</td>\n",
       "      <td>-0.341351</td>\n",
       "      <td>0.440317</td>\n",
       "      <td>-0.047590</td>\n",
       "      <td>-0.973444</td>\n",
       "      <td>0.527933</td>\n",
       "      <td>...</td>\n",
       "      <td>-0.873586</td>\n",
       "      <td>-1.174870</td>\n",
       "      <td>-0.733837</td>\n",
       "      <td>-0.658136</td>\n",
       "      <td>-1.186500</td>\n",
       "      <td>-0.829346</td>\n",
       "      <td>-0.982574</td>\n",
       "      <td>-1.052506</td>\n",
       "      <td>-0.763100</td>\n",
       "      <td>-0.998687</td>\n",
       "    </tr>\n",
       "    <tr>\n",
       "      <th>Developer, back-end</th>\n",
       "      <td>-0.261952</td>\n",
       "      <td>0.254852</td>\n",
       "      <td>-0.246403</td>\n",
       "      <td>0.173818</td>\n",
       "      <td>-0.119289</td>\n",
       "      <td>-0.441452</td>\n",
       "      <td>0.273737</td>\n",
       "      <td>-0.216006</td>\n",
       "      <td>-0.661366</td>\n",
       "      <td>0.729640</td>\n",
       "      <td>...</td>\n",
       "      <td>-0.770116</td>\n",
       "      <td>-1.066804</td>\n",
       "      <td>-0.949820</td>\n",
       "      <td>-0.674764</td>\n",
       "      <td>-0.859632</td>\n",
       "      <td>-0.680071</td>\n",
       "      <td>-0.917953</td>\n",
       "      <td>-1.064855</td>\n",
       "      <td>-0.661765</td>\n",
       "      <td>-0.962484</td>\n",
       "    </tr>\n",
       "  </tbody>\n",
       "</table>\n",
       "<p>23 rows × 103 columns</p>\n",
       "</div>"
      ],
      "text/plain": [
       "                                                 Github  JavaScript  HTML/CSS  \\\n",
       "Marketing or sales professional               -1.379396    0.433816  1.510025   \n",
       "Senior executive/VP                           -0.006989    0.636243  0.649598   \n",
       "Engineer, site reliability                     1.550252   -0.129660 -0.578629   \n",
       "Scientist                                      0.868245   -2.033926 -1.900843   \n",
       "Product manager                               -0.002303    0.650333  0.699925   \n",
       "Engineering manager                            0.291893    0.249902 -0.327758   \n",
       "Developer, game or graphics                    1.422803    0.018228 -0.123062   \n",
       "Educator                                       1.038745    0.147299  0.377331   \n",
       "Academic researcher                            0.859882   -1.407328 -1.159514   \n",
       "Engineer, data                                 0.068723   -1.111219 -1.259494   \n",
       "Developer, QA or test                         -0.099966    0.490689  0.427751   \n",
       "Data scientist or machine learning specialist  0.967076   -2.055381 -1.760650   \n",
       "Data or business analyst                      -2.319769   -1.039842 -0.524943   \n",
       "Developer, embedded applications or devices   -0.695019   -0.949687 -1.085506   \n",
       "System administrator                          -0.477054    0.435298  0.687582   \n",
       "Designer                                      -0.852404    0.975655  1.306996   \n",
       "Database administrator                        -1.249937    0.788925  1.099139   \n",
       "DevOps specialist                              0.861223    0.353807 -0.094531   \n",
       "Developer, mobile                              0.865254   -0.045903 -0.326476   \n",
       "Developer, desktop or enterprise applications -1.752293   -0.149023 -0.255281   \n",
       "Developer, front-end                           0.205616    1.854045  1.703182   \n",
       "Developer, full-stack                          0.097369    1.632874  1.181563   \n",
       "Developer, back-end                           -0.261952    0.254852 -0.246403   \n",
       "\n",
       "                                                    SQL     Linux   Windows  \\\n",
       "Marketing or sales professional               -0.260708 -1.567770 -0.581246   \n",
       "Senior executive/VP                            0.622312  0.215087 -0.995570   \n",
       "Engineer, site reliability                     0.213405  1.920074 -1.698835   \n",
       "Scientist                                     -1.971116  1.111960 -0.177623   \n",
       "Product manager                                0.384822 -0.346836 -0.088262   \n",
       "Engineering manager                            0.058894  0.510891 -1.239873   \n",
       "Developer, game or graphics                   -1.293442 -0.427052  1.874134   \n",
       "Educator                                      -0.401562  0.006434  0.004291   \n",
       "Academic researcher                           -1.603496  0.574627 -0.307316   \n",
       "Engineer, data                                 0.876667  0.644962 -0.246945   \n",
       "Developer, QA or test                          0.418043 -0.062426  0.736023   \n",
       "Data scientist or machine learning specialist -0.180472  0.720565 -0.361723   \n",
       "Data or business analyst                       1.638119 -1.137694  1.124586   \n",
       "Developer, embedded applications or devices   -1.257949  0.715606  0.755834   \n",
       "System administrator                           0.993833  1.492080  0.239807   \n",
       "Designer                                      -0.137532 -1.310585  0.605613   \n",
       "Database administrator                         2.439963 -0.004350  1.128117   \n",
       "DevOps specialist                              0.377964  1.499618 -0.803478   \n",
       "Developer, mobile                             -1.169877 -1.781254 -1.372470   \n",
       "Developer, desktop or enterprise applications  0.252633 -0.801574  2.525875   \n",
       "Developer, front-end                          -0.429533 -1.237898 -0.338137   \n",
       "Developer, full-stack                          0.255214 -0.615175 -0.341351   \n",
       "Developer, back-end                            0.173818 -0.119289 -0.441452   \n",
       "\n",
       "                                                  Slack     MySQL    Python  \\\n",
       "Marketing or sales professional               -0.728538  2.216239 -0.766784   \n",
       "Senior executive/VP                            1.537556 -0.185986 -0.140330   \n",
       "Engineer, site reliability                     1.730811  0.670758  1.044524   \n",
       "Scientist                                     -0.752402 -2.284794  1.708186   \n",
       "Product manager                                0.540872  0.398550 -0.478822   \n",
       "Engineering manager                            1.876895 -0.682794 -0.095392   \n",
       "Developer, game or graphics                   -0.107495 -0.490612 -0.322077   \n",
       "Educator                                       0.226280  0.690342 -0.202682   \n",
       "Academic researcher                           -0.798498 -0.699876  0.971301   \n",
       "Engineer, data                                 0.355771 -0.158863  1.486659   \n",
       "Developer, QA or test                          0.209097  0.418457 -0.291421   \n",
       "Data scientist or machine learning specialist  0.167600 -0.852635  2.614848   \n",
       "Data or business analyst                      -1.512535 -0.164324  0.476773   \n",
       "Developer, embedded applications or devices   -1.230865 -1.102951  0.224939   \n",
       "System administrator                          -0.607155  1.437098  0.279616   \n",
       "Designer                                      -1.324323  0.961965 -0.994810   \n",
       "Database administrator                        -1.034998  1.816370 -0.459228   \n",
       "DevOps specialist                              1.503817 -0.411858  0.352161   \n",
       "Developer, mobile                              0.436488 -0.022949 -1.399861   \n",
       "Developer, desktop or enterprise applications -1.434618 -1.365881 -0.981491   \n",
       "Developer, front-end                           0.232185  0.077341 -1.391301   \n",
       "Developer, full-stack                          0.440317 -0.047590 -0.973444   \n",
       "Developer, back-end                            0.273737 -0.216006 -0.661366   \n",
       "\n",
       "                                                   Jira  ...  \\\n",
       "Marketing or sales professional               -1.807358  ...   \n",
       "Senior executive/VP                            0.006039  ...   \n",
       "Engineer, site reliability                     1.508474  ...   \n",
       "Scientist                                     -1.426089  ...   \n",
       "Product manager                                0.078011  ...   \n",
       "Engineering manager                            1.834461  ...   \n",
       "Developer, game or graphics                   -0.187141  ...   \n",
       "Educator                                      -0.414141  ...   \n",
       "Academic researcher                           -1.664386  ...   \n",
       "Engineer, data                                 0.652807  ...   \n",
       "Developer, QA or test                          1.134760  ...   \n",
       "Data scientist or machine learning specialist -0.368558  ...   \n",
       "Data or business analyst                      -0.837361  ...   \n",
       "Developer, embedded applications or devices    0.273549  ...   \n",
       "System administrator                          -0.493893  ...   \n",
       "Designer                                      -1.121083  ...   \n",
       "Database administrator                        -0.813834  ...   \n",
       "DevOps specialist                              1.835373  ...   \n",
       "Developer, mobile                              0.143610  ...   \n",
       "Developer, desktop or enterprise applications  0.163532  ...   \n",
       "Developer, front-end                           0.245655  ...   \n",
       "Developer, full-stack                          0.527933  ...   \n",
       "Developer, back-end                            0.729640  ...   \n",
       "\n",
       "                                               Facebook Workplace   IBM DB2  \\\n",
       "Marketing or sales professional                          4.148711  2.315078   \n",
       "Senior executive/VP                                      0.901025  1.714835   \n",
       "Engineer, site reliability                               0.923764  0.017105   \n",
       "Scientist                                               -0.207972 -0.220117   \n",
       "Product manager                                          0.263728  0.256063   \n",
       "Engineering manager                                     -0.037298  0.136461   \n",
       "Developer, game or graphics                             -0.111494 -1.207997   \n",
       "Educator                                                 0.133540  0.106300   \n",
       "Academic researcher                                     -0.060379 -0.734140   \n",
       "Engineer, data                                           0.009327  0.714290   \n",
       "Developer, QA or test                                   -0.216458  0.031672   \n",
       "Data scientist or machine learning specialist           -0.037907  0.101120   \n",
       "Data or business analyst                                 0.154278  2.039194   \n",
       "Developer, embedded applications or devices             -0.431669 -0.225474   \n",
       "System administrator                                    -0.676369  0.026752   \n",
       "Designer                                                -0.357784 -0.266621   \n",
       "Database administrator                                  -0.626583  0.381875   \n",
       "DevOps specialist                                       -0.372414 -0.030362   \n",
       "Developer, mobile                                       -0.241400 -1.670805   \n",
       "Developer, desktop or enterprise applications           -0.898944  0.251427   \n",
       "Developer, front-end                                    -0.613999 -1.494982   \n",
       "Developer, full-stack                                   -0.873586 -1.174870   \n",
       "Developer, back-end                                     -0.770116 -1.066804   \n",
       "\n",
       "                                                 Drupal  Unreal Engine  \\\n",
       "Marketing or sales professional                3.687879       1.109495   \n",
       "Senior executive/VP                            1.193263       0.218279   \n",
       "Engineer, site reliability                     0.647890      -0.194340   \n",
       "Scientist                                     -0.319072       0.115872   \n",
       "Product manager                                0.673492      -0.173420   \n",
       "Engineering manager                            0.300705      -0.357597   \n",
       "Developer, game or graphics                   -0.340806       4.359325   \n",
       "Educator                                       0.311365      -0.111096   \n",
       "Academic researcher                           -0.572703      -0.260511   \n",
       "Engineer, data                                -0.626094      -0.349830   \n",
       "Developer, QA or test                          0.171017      -0.186384   \n",
       "Data scientist or machine learning specialist -0.866586      -0.330042   \n",
       "Data or business analyst                      -0.232415      -0.592039   \n",
       "Developer, embedded applications or devices   -0.807342       0.032434   \n",
       "System administrator                           0.588124      -0.099293   \n",
       "Designer                                       0.371733       0.114099   \n",
       "Database administrator                         0.258599      -0.359703   \n",
       "DevOps specialist                             -0.194302      -0.575264   \n",
       "Developer, mobile                             -0.904772      -0.142979   \n",
       "Developer, desktop or enterprise applications -1.196458      -0.324180   \n",
       "Developer, front-end                          -0.459861      -0.559925   \n",
       "Developer, full-stack                         -0.733837      -0.658136   \n",
       "Developer, back-end                           -0.949820      -0.674764   \n",
       "\n",
       "                                                Haskell    Puppet  Couchbase  \\\n",
       "Marketing or sales professional                1.468417  0.763845   3.170701   \n",
       "Senior executive/VP                            0.627067  0.952938   2.187051   \n",
       "Engineer, site reliability                     1.218568  3.480932   0.650205   \n",
       "Scientist                                      1.836601 -0.500806   0.258055   \n",
       "Product manager                               -0.562685 -0.099882   0.124635   \n",
       "Engineering manager                           -0.143187  0.762866   0.985202   \n",
       "Developer, game or graphics                    0.358940 -0.443031   0.014906   \n",
       "Educator                                       1.463360 -0.196271  -0.225736   \n",
       "Academic researcher                            1.784139 -0.608987  -0.481403   \n",
       "Engineer, data                                 0.021444 -0.210943   0.497993   \n",
       "Developer, QA or test                         -0.565354  0.022259  -0.404328   \n",
       "Data scientist or machine learning specialist  0.893137 -0.425910  -0.627059   \n",
       "Data or business analyst                      -0.480193 -0.495055  -0.599003   \n",
       "Developer, embedded applications or devices    0.050404 -0.576496  -0.192786   \n",
       "System administrator                          -0.112547  1.060087  -0.300820   \n",
       "Designer                                      -0.929230 -0.580590  -0.745351   \n",
       "Database administrator                        -0.851001 -0.158387  -0.350701   \n",
       "DevOps specialist                             -0.354873  1.446205   0.527782   \n",
       "Developer, mobile                             -1.392045 -0.959329  -0.673564   \n",
       "Developer, desktop or enterprise applications -1.019818 -0.811499  -0.783124   \n",
       "Developer, front-end                          -1.265010 -0.912530  -1.132130   \n",
       "Developer, full-stack                         -1.186500 -0.829346  -0.982574   \n",
       "Developer, back-end                           -0.859632 -0.680071  -0.917953   \n",
       "\n",
       "                                               IBM Cloud or Watson      Chef  \\\n",
       "Marketing or sales professional                           3.459064  1.239791   \n",
       "Senior executive/VP                                       1.605396  0.785153   \n",
       "Engineer, site reliability                                0.332239  3.327545   \n",
       "Scientist                                                 0.841147 -0.319457   \n",
       "Product manager                                          -0.038702 -0.018268   \n",
       "Engineering manager                                      -0.048694  1.028413   \n",
       "Developer, game or graphics                              -0.419396 -0.412027   \n",
       "Educator                                                 -0.117498 -0.238253   \n",
       "Academic researcher                                       0.370602 -0.714261   \n",
       "Engineer, data                                            0.305899 -0.197377   \n",
       "Developer, QA or test                                    -0.316484 -0.117608   \n",
       "Data scientist or machine learning specialist             0.941014 -0.366560   \n",
       "Data or business analyst                                  0.318280 -0.424310   \n",
       "Developer, embedded applications or devices              -0.356362 -0.521307   \n",
       "System administrator                                     -0.452089  0.566372   \n",
       "Designer                                                 -0.547434 -0.701373   \n",
       "Database administrator                                   -0.554182 -0.248368   \n",
       "DevOps specialist                                        -0.306198  1.614389   \n",
       "Developer, mobile                                        -0.779231 -0.996336   \n",
       "Developer, desktop or enterprise applications            -1.050806 -0.851798   \n",
       "Developer, front-end                                     -1.069202 -1.009496   \n",
       "Developer, full-stack                                    -1.052506 -0.763100   \n",
       "Developer, back-end                                      -1.064855 -0.661765   \n",
       "\n",
       "                                                  Julia  \n",
       "Marketing or sales professional                1.589551  \n",
       "Senior executive/VP                            0.621855  \n",
       "Engineer, site reliability                     0.097269  \n",
       "Scientist                                      2.624992  \n",
       "Product manager                               -0.230841  \n",
       "Engineering manager                           -0.218632  \n",
       "Developer, game or graphics                   -0.350488  \n",
       "Educator                                       0.225666  \n",
       "Academic researcher                            1.798622  \n",
       "Engineer, data                                 0.270590  \n",
       "Developer, QA or test                         -0.372601  \n",
       "Data scientist or machine learning specialist  1.727011  \n",
       "Data or business analyst                      -0.009916  \n",
       "Developer, embedded applications or devices   -0.449405  \n",
       "System administrator                          -0.452402  \n",
       "Designer                                      -0.699843  \n",
       "Database administrator                        -0.695913  \n",
       "DevOps specialist                             -0.650410  \n",
       "Developer, mobile                             -0.972372  \n",
       "Developer, desktop or enterprise applications -0.845858  \n",
       "Developer, front-end                          -1.045702  \n",
       "Developer, full-stack                         -0.998687  \n",
       "Developer, back-end                           -0.962484  \n",
       "\n",
       "[23 rows x 103 columns]"
      ]
     },
     "execution_count": 62,
     "metadata": {},
     "output_type": "execute_result"
    }
   ],
   "source": [
    "std_skills"
   ]
  },
  {
   "cell_type": "code",
   "execution_count": 63,
   "id": "13c9bea3-1bd9-44ca-be98-2bcf728f7545",
   "metadata": {},
   "outputs": [
    {
     "data": {
      "application/vnd.plotly.v1+json": {
       "config": {
        "plotlyServerURL": "https://plot.ly"
       },
       "data": [
        {
         "colorscale": [
          [
           0,
           "#000004"
          ],
          [
           0.1111111111111111,
           "#180f3d"
          ],
          [
           0.2222222222222222,
           "#440f76"
          ],
          [
           0.3333333333333333,
           "#721f81"
          ],
          [
           0.4444444444444444,
           "#9e2f7f"
          ],
          [
           0.5555555555555556,
           "#cd4071"
          ],
          [
           0.6666666666666666,
           "#f1605d"
          ],
          [
           0.7777777777777778,
           "#fd9668"
          ],
          [
           0.8888888888888888,
           "#feca8d"
          ],
          [
           1,
           "#fcfdbf"
          ]
         ],
         "type": "heatmap",
         "x": [
          "Github",
          "JavaScript",
          "HTML/CSS",
          "SQL",
          "Linux",
          "Windows",
          "Slack",
          "MySQL",
          "Python",
          "Jira",
          "Java",
          "Google Suite (Docs, Meet, etc)",
          "Node.js",
          "Gitlab",
          "Bash/Shell/PowerShell",
          "Docker",
          "jQuery",
          "C#",
          "PostgreSQL",
          "Confluence",
          "Microsoft SQL Server",
          "Trello",
          "SQLite",
          "React.js",
          "PHP",
          "TypeScript",
          "AWS",
          ".NET",
          "Android",
          "C++",
          "Microsoft Teams",
          "MongoDB",
          "MacOS",
          "C",
          ".NET Core",
          "Angular",
          "ASP.NET",
          "Redis",
          "Express",
          "MariaDB",
          "Oracle",
          "ASP.NET Core",
          "Raspberry Pi",
          "Microsoft Azure",
          "Microsoft Azure",
          "Microsoft Azure",
          "Microsoft Azure",
          "WordPress",
          "Google Cloud Platform",
          "Vue.js",
          "Firebase",
          "Spring",
          "Angular.js",
          "Elasticsearch",
          "iOS",
          "Pandas",
          "Kubernetes",
          "Django",
          "Flask",
          "Heroku",
          "Arduino",
          "Go",
          "Laravel",
          "TensorFlow",
          "React Native",
          "Kotlin",
          "Unity 3D",
          "Ruby",
          "Slack Apps and Integrations",
          "Assembly",
          "VBA",
          "DynamoDB",
          "Swift",
          "R",
          "Stack Overflow for Teams",
          "Ansible",
          "Ruby on Rails",
          "Rust",
          "Flutter",
          "Teraform",
          "Keras",
          "Cordova",
          "Xamarin",
          "Objective-C",
          "Dart",
          "Apache Spark",
          "Scala",
          "Torch/PyTorch",
          "Symfony",
          "Hadoop",
          "Perl",
          "Gatsby",
          "Cassandra",
          "Facebook Workplace",
          "IBM DB2",
          "Drupal",
          "Unreal Engine",
          "Haskell",
          "Puppet",
          "Couchbase",
          "IBM Cloud or Watson",
          "Chef",
          "Julia"
         ],
         "y": [
          "Marketing or sales professional",
          "Senior executive/VP",
          "Engineer, site reliability",
          "Scientist",
          "Product manager",
          "Engineering manager",
          "Developer, game or graphics",
          "Educator",
          "Academic researcher",
          "Engineer, data",
          "Developer, QA or test",
          "Data scientist or machine learning specialist",
          "Data or business analyst",
          "Developer, embedded applications or devices",
          "System administrator",
          "Designer",
          "Database administrator",
          "DevOps specialist",
          "Developer, mobile",
          "Developer, desktop or enterprise applications",
          "Developer, front-end",
          "Developer, full-stack",
          "Developer, back-end"
         ],
         "ygap": 1,
         "z": [
          [
           -1.3793957040837357,
           0.4338163524993637,
           1.5100246629109877,
           -0.2607076348377079,
           -1.5677697663654662,
           -0.5812455179207402,
           -0.7285375131061432,
           2.216239261492258,
           -0.766783536482833,
           -1.8073580111623533,
           -1.369925824210894,
           1.8247052663489502,
           0.5288259953880806,
           -1.8906158415768035,
           -1.0406113889216824,
           -1.4120885992074215,
           1.5050559422746528,
           -1.0204779892222724,
           -0.8441624618555672,
           -1.5076060015572241,
           -0.281531555022435,
           1.4434813334930106,
           -0.003603769998175798,
           0.09427735916279231,
           2.704155227861616,
           -0.43885850955150835,
           -0.402247270458983,
           -0.27611323412854916,
           0.24950478235840726,
           -0.5344944959944712,
           -0.6630534374438605,
           0.04936790011888692,
           0.450157462959661,
           -0.25201612171010984,
           -0.5339247200075792,
           -0.02905222760552471,
           0.014187097486912064,
           -0.820911321044297,
           0.8370470594229039,
           1.0454246307319,
           0.0468631744297066,
           -0.24244875284572454,
           0.1417761665314281,
           0.15751228007744145,
           0.4806812488653785,
           0.15751228007744145,
           0.4806812488653785,
           3.7606615562857777,
           1.8933568139683816,
           1.193101515382013,
           1.3396951646362145,
           -0.8036855123577558,
           0.8496365372616713,
           -0.8345762760596926,
           0.8744047141872077,
           -0.2590411025324499,
           -0.5017250091705936,
           0.9305669945807491,
           -0.21591490034679836,
           1.7767171419425751,
           0.5363967033779256,
           -0.09549340174786018,
           2.7845083008742386,
           0.08291266909780944,
           1.5061172389203747,
           0.23952191407703682,
           0.19828687934782416,
           0.893225946478879,
           0.9336801577416799,
           0.6828994650024179,
           1.4908988646765222,
           -0.10276866334912911,
           0.7846123036572243,
           0.29539533409288876,
           3.663366211258462,
           -0.2089625897866079,
           1.5213540364260216,
           -0.03243080888395138,
           1.8719418237385896,
           -0.22968672323927344,
           -0.02074126259875836,
           1.9766650652683115,
           1.1187916420635642,
           1.156486625023335,
           2.100966929728105,
           0.3060348084903469,
           0.29756698250245944,
           0.23942613999440443,
           2.975431822509126,
           -0.04550947583260416,
           1.2383030629840182,
           3.4524270657129876,
           0.903457365237252,
           4.148711478394605,
           2.3150776214497837,
           3.6878790371710695,
           1.109494740344591,
           1.4684174343266807,
           0.7638453825987382,
           3.17070146491487,
           3.459063691871831,
           1.2397908126697035,
           1.5895510345363648
          ],
          [
           -0.006988757912401595,
           0.6362434631208689,
           0.6495983863750474,
           0.6223122554097734,
           0.21508675457432033,
           -0.9955697057528287,
           1.537555916667159,
           -0.18598616746928967,
           -0.1403295385780517,
           0.0060390354734216655,
           -1.1014004242199276,
           2.094333814197422,
           0.84311697784535,
           -0.8156916983649944,
           0.47238880190340804,
           0.5183509153254299,
           0.07649364687685707,
           0.16380398213338432,
           1.539840994691499,
           -0.13432624775472474,
           0.257640258033824,
           1.34816096194045,
           0.33016063015860886,
           0.9069881698040273,
           0.21230101927399417,
           0.6206983775414742,
           1.7387814446387881,
           0.1773321713083857,
           0.3731402500657335,
           -0.25403384225748743,
           -0.49805147394702876,
           0.38825808156944075,
           1.890548793346148,
           -0.010306767706210999,
           0.9724583005139231,
           0.21610474341989114,
           0.3818823515007265,
           1.3177234240222326,
           0.5360483555824651,
           0.807396530012036,
           -0.7754594925585436,
           1.029975547372305,
           1.2841235720433768,
           1.9692673996039467,
           1.3123601879334528,
           1.9692673996039467,
           1.3123601879334528,
           0.8972012723152283,
           1.7211177689967523,
           1.4667620885466455,
           0.4533569112637105,
           -0.6721998394120345,
           0.2277060910813466,
           0.9921455000603165,
           1.2271258727501553,
           -0.14838332570946267,
           0.7358143452490093,
           0.3428668711780654,
           -0.058145229099036785,
           1.8036990282630412,
           0.399323620000513,
           0.48814268151343926,
           0.7168769376790908,
           0.01879254602260417,
           1.5694281496492861,
           0.3568528460433733,
           -0.1122642703264157,
           1.389405299126169,
           1.7273413385307466,
           0.9722131849007412,
           0.34075416271276926,
           1.3642784756695965,
           0.9407117571164615,
           -0.2392395899668647,
           0.4569995175928429,
           0.43173734848544887,
           2.0778020631958545,
           0.7840223836933355,
           0.6569951655570462,
           0.4913596128860081,
           0.04298537446674966,
           1.151266943617935,
           1.3112626387506945,
           1.1464198089438498,
           1.228555775242473,
           -0.003959905970358648,
           0.6138499731871262,
           0.05283605873665295,
           1.235903097024402,
           -0.0631943094669577,
           1.5290421534673575,
           0.9440524844590716,
           1.288963282710352,
           0.9010251847871459,
           1.7148349046609506,
           1.1932632852403189,
           0.21827930534968687,
           0.6270666288867056,
           0.952937617616768,
           2.1870510038198474,
           1.6053961026495192,
           0.7851530195651726,
           0.6218549753633835
          ],
          [
           1.5502522148596283,
           -0.12965971366735277,
           -0.5786292990616523,
           0.21340499364719842,
           1.9200735703933778,
           -1.6988348534258222,
           1.7308113411223418,
           0.670757856552762,
           1.0445236734538377,
           1.5084742775969497,
           0.5277459458283661,
           1.2302036958988907,
           0.6648456340583337,
           1.3667535696522877,
           2.4264031931525714,
           2.5017452904286634,
           -0.7860034001016524,
           -0.9644087714440196,
           2.098111050775231,
           1.8614908081621597,
           -0.7759850408474297,
           0.14125381016245087,
           -0.4419918807186283,
           0.3756973628451362,
           -0.2736198578869332,
           0.19499467461735565,
           2.380646175326067,
           -1.2263757544173046,
           -0.858843945600925,
           -0.5155331782004765,
           -0.030916008045961226,
           1.420277075411412,
           1.9198064403257562,
           -0.38689309444186504,
           -0.5302284149929103,
           -0.4255824156787828,
           -1.073734216285482,
           2.721858613411109,
           0.7971976405737167,
           1.2074558989155189,
           -1.1115277705285738,
           -0.3789185188930396,
           0.697340259198378,
           0.923216788012404,
           0.21588236097966254,
           0.923216788012404,
           0.21588236097966254,
           -0.40264237965404626,
           1.9242431970642493,
           0.006042676450849233,
           -0.7365299077095582,
           1.2569670061802325,
           0.3161670473494777,
           2.90530143315448,
           -0.6905280161142644,
           -0.20963290807883123,
           3.1654254894899796,
           1.3978536821526917,
           1.5948473619862573,
           0.3651286974657297,
           -0.41932980316756496,
           3.7102461084545793,
           -0.3222382785808486,
           -0.3884881360236053,
           -0.15805993373813568,
           0.28551518223723177,
           -0.3975941669009067,
           2.892080050901662,
           2.583091164114515,
           -0.11400218077495505,
           -0.7730314060364137,
           3.049841647776285,
           -0.5932645812910365,
           -0.4622142909601231,
           0.2568168622837705,
           3.2711075043185036,
           2.012592234941947,
           2.3385690346345083,
           -0.21665223258424868,
           3.5867198525895945,
           -0.34371303851102053,
           -0.7923070260376768,
           -0.9378059612425166,
           -0.5782149873285092,
           -0.36027228611216555,
           0.4565918078803389,
           1.2674492683027727,
           -0.2597007302776667,
           0.9753169560169536,
           0.48130147854312466,
           2.335404237706277,
           0.7263793828711069,
           2.5942844012302086,
           0.9237641350039372,
           0.017105000648608554,
           0.6478898901082598,
           -0.19433986591018568,
           1.2185680487497017,
           3.4809320180349124,
           0.6502049527776805,
           0.3322390792019438,
           3.3275451777886578,
           0.0972688194420319
          ],
          [
           0.8682450252497482,
           -2.0339260164177344,
           -1.900843190500415,
           -1.9711159068413413,
           1.1119598355817486,
           -0.1776234308813623,
           -0.7524024243477895,
           -2.2847936310003516,
           1.7081860451377664,
           -1.4260885232360865,
           -1.1879788095888808,
           -0.37201125540520696,
           -1.8955461518015233,
           0.9908844407577091,
           0.2474897431486787,
           -0.44899983471776483,
           -1.7191841281638556,
           -1.4556762768269267,
           -0.6774127227415373,
           -0.9951734100495979,
           -1.9030267668322678,
           -1.459202589257443,
           0.205343607068808,
           -1.4597663282873141,
           -1.4104124396931155,
           -1.8028729534943928,
           -0.838341321082342,
           -1.4281814546206495,
           -0.5801052108288096,
           1.7242158676800443,
           -1.782777807707353,
           -1.927415121901193,
           -0.21865321084690317,
           1.5629070456028857,
           -1.7123589225353533,
           -2.048806191686597,
           -1.894918173545292,
           -1.006128968858698,
           -1.6394732073295126,
           -1.1017534308869366,
           -1.478704398618984,
           -1.7375613875734066,
           0.499299549343018,
           -1.4467711775399283,
           -2.008932145948043,
           -1.4467711775399283,
           -2.008932145948043,
           -0.9410522204255609,
           -0.3806519710272902,
           -1.7622553756506463,
           -0.8364235941942094,
           -1.1988401614371602,
           -2.3236029084431107,
           -0.9095492611923776,
           -0.7351061916077722,
           1.4713590767878737,
           -0.5819101675097547,
           0.6180789807001654,
           0.5967066319772566,
           -1.2781190014229815,
           0.9031918846772592,
           -0.3738003518934821,
           -1.3758620292960047,
           1.7680494386387597,
           -0.9422746282877319,
           -0.7684482358621345,
           -0.12088448291130781,
           -0.43845318075160444,
           -0.9139525353105994,
           1.3352670319755877,
           0.1561161850310397,
           -0.7785690373817062,
           -0.30588036906660676,
           2.040205112488038,
           0.05530001117303202,
           -0.3678566596809844,
           -0.4400144884561133,
           1.194217214352331,
           -0.44537735141225754,
           -0.5280723456635235,
           1.7410559437846094,
           -1.058649030515795,
           -1.0294243391372622,
           -0.3107783609817974,
           -0.5152375775542959,
           0.3064694061151367,
           0.16351866476708007,
           1.7723696790443833,
           -0.6830493387200649,
           0.595245677049173,
           0.6129412389941036,
           -0.573371612943204,
           -0.12715803612949986,
           -0.20797153816819774,
           -0.22011694133175652,
           -0.3190717335172324,
           0.1158721011549666,
           1.836600505874412,
           -0.5008060760370959,
           0.25805500587011104,
           0.8411467850792711,
           -0.31945708512482307,
           2.6249924336461112
          ],
          [
           -0.0023034057979214335,
           0.6503333763345197,
           0.6999252585258842,
           0.3848216498657335,
           -0.3468359889194517,
           -0.08826189952976593,
           0.5408718172027499,
           0.3985497736193528,
           -0.4788217300954861,
           0.0780114120987829,
           -0.37483481593725454,
           1.0432382477864697,
           0.6559582094660333,
           -0.4183315622855093,
           -0.3170548828162475,
           -0.15203958527791767,
           0.8806110510558178,
           0.12146147196700795,
           0.16771353328856564,
           -0.254713687593864,
           0.3811073635851661,
           1.838847350235454,
           0.6876521500434744,
           0.4188878380244141,
           0.6903188932091617,
           0.4082402057320506,
           0.31452089882990075,
           0.1863972210804347,
           0.2644372038160643,
           -0.33814598756200803,
           0.15979006012720184,
           0.4916492304793089,
           0.5348138764673338,
           -0.34907878249107194,
           0.17219036545054725,
           0.3410148764251,
           0.366053039988864,
           0.1408654975098941,
           0.5965297466351862,
           0.2890082347161541,
           0.0007208407267917738,
           0.14318215398747552,
           0.1637670096905362,
           0.5084421386465883,
           0.40364520995243885,
           0.5084421386465883,
           0.40364520995243885,
           0.7492389271298024,
           0.8155133580510457,
           0.7488060592990008,
           0.8026301218454714,
           -0.5030739013969567,
           0.5890009675647815,
           0.10381486317657505,
           0.6960113936110572,
           -0.3838761588457009,
           -0.18442483665830814,
           0.12081888669876292,
           -0.3923669394143161,
           1.0800584301915384,
           -0.09929373197619058,
           0.028799234384311045,
           0.8014768350381414,
           -0.3046496081102556,
           0.631518244955421,
           0.27106358124340096,
           -0.08178299282892035,
           0.47513969979489934,
           0.5189346344694005,
           -0.10659106595674932,
           0.40199815179816345,
           0.11764712048072677,
           0.7530689405828245,
           -0.22888307493318044,
           -0.5586510740185542,
           -0.23099519723575065,
           0.7584396028611646,
           -0.5175066186015989,
           0.6617774963094557,
           -0.27637777777058004,
           -0.4035099210364507,
           0.822239786458685,
           0.5823642934635155,
           0.6839500735728771,
           0.6380572250850366,
           -0.26750719112993937,
           -0.604093425645504,
           -0.31357715364659294,
           0.7536854403772769,
           -0.3059941664129983,
           -0.11727064935823618,
           0.6663283475656507,
           -0.010992455945976096,
           0.2637276567495601,
           0.25606266071127015,
           0.6734919447291777,
           -0.17341992481014418,
           -0.5626849506121135,
           -0.09988158344713007,
           0.12463544068570279,
           -0.03870246057220254,
           -0.018267503119184486,
           -0.23084108424860547
          ],
          [
           0.29189312232067083,
           0.2499024230864781,
           -0.327757929092047,
           0.058893796863016476,
           0.5108906199952356,
           -1.2398726019479198,
           1.8768947440002524,
           -0.6827942602897009,
           -0.0953924191902726,
           1.8344608731132106,
           0.04680337076977009,
           1.8608469676154316,
           0.793529657424499,
           0.050431185143417746,
           0.6431514731513361,
           1.2159985892113128,
           -0.8084941498813029,
           -0.03235417720880735,
           1.4035812556545881,
           2.029272320569246,
           -0.004992519754083886,
           0.9437842315214402,
           -0.45448465442251895,
           1.2770862235709872,
           -0.5094642717431013,
           0.6659055266628694,
           1.7087656257389774,
           -0.13688648163361267,
           -0.31761754349826626,
           -0.3295880658013734,
           0.849431738248118,
           1.3890297906453948,
           1.9558934493668636,
           -0.2407892044208742,
           0.4223842156905283,
           0.3877726802238408,
           -0.018028731720305283,
           1.703175764872722,
           0.6145132588417855,
           -0.26083248793115993,
           -0.42452761773340425,
           0.5223915689696118,
           0.10523838855005631,
           1.0368156882261181,
           0.9412227858449093,
           1.0368156882261181,
           0.9412227858449093,
           -0.41535125923367283,
           0.850991664966739,
           0.2603141815898922,
           -0.15340968814109965,
           0.9649602500072132,
           0.7155434029743365,
           1.5914473911968237,
           0.19025870613149176,
           -0.28696298767298956,
           1.187057951560749,
           -0.275650132936271,
           0.07852962838384436,
           0.32674171926536844,
           -0.4617974346950833,
           0.9901239389476352,
           -0.5396515956392918,
           -0.28164326241879684,
           0.04852197465139428,
           0.40606191671543934,
           -0.35009124385477625,
           1.50988991299153,
           1.367659504655711,
           -0.031099120637150438,
           -0.864932960443704,
           1.7056746578634951,
           0.39592117817201633,
           -0.44932889493588685,
           -0.3811139671988548,
           0.6064538823478051,
           1.9844992812209667,
           0.6330861120246456,
           -0.4217193147832346,
           0.9468981870014106,
           -0.389511374867833,
           -0.29609938814341613,
           -0.3490249787917541,
           0.5196948400157041,
           -0.27558340970081857,
           0.19248656286718488,
           0.9769842256770007,
           -0.2713860840187613,
           0.33496591027338096,
           0.2733066656746861,
           0.35437572118098787,
           0.6685272718482588,
           1.2144776762385143,
           -0.03729778250287182,
           0.13646052951375645,
           0.30070512264126936,
           -0.35759716091404775,
           -0.14318735665549243,
           0.7628664232134083,
           0.9852023026629841,
           -0.04869394378837781,
           1.0284131984211984,
           -0.21863180504453905
          ],
          [
           1.4228028135225064,
           0.01822809772247545,
           -0.12306196570305356,
           -1.2934417369586808,
           -0.42705171017012283,
           1.8741342381759263,
           -0.10749515502502753,
           -0.49061206731694956,
           -0.32207717066999336,
           -0.18714057489300018,
           0.8795228538366778,
           0.15703172086105738,
           0.4502073110409796,
           0.7981117290737029,
           -0.5606434434921687,
           -0.629371671848994,
           -0.25934550137630685,
           2.5826190620678697,
           -1.2604535782854382,
           -0.14613936336849964,
           -0.9758131632626651,
           1.2513308471809212,
           0.4160441147896908,
           0.18002199989900564,
           0.049609781383763644,
           0.3590044064889955,
           -0.8887301402545704,
           1.4908297154317531,
           1.6511686039312206,
           2.0611037392268394,
           -0.5769775447853537,
           -0.05834981146493396,
           0.2300030821774718,
           1.079764396091661,
           1.343907073541746,
           -0.2746095818315985,
           -0.08074580228245802,
           -0.5800563018563994,
           0.4198229296685591,
           -0.3013748435569801,
           -0.8985237387223516,
           -0.01892933765590177,
           0.19678179802587756,
           -1.1248192557104078,
           -0.7236089918662021,
           -1.1248192557104078,
           -0.7236089918662021,
           -0.23223962033255902,
           -0.601550457579975,
           0.4700724440694868,
           0.6974828822200569,
           -1.0439500477886199,
           -0.5124141710753862,
           -0.8572942688541886,
           1.3924208934874986,
           -0.6397679382309419,
           -0.5994635337326333,
           -0.9119261452795061,
           -0.7133937530736522,
           0.12374017154306285,
           1.158876164875327,
           -0.20928353093811608,
           -0.3537476445812541,
           -0.23774181921894214,
           0.6238829570158768,
           0.5674262972814617,
           4.578863713652795,
           -0.3359415883558294,
           -0.5984352651423845,
           1.4588083195591637,
           -0.532133586441635,
           -0.42452265160952857,
           0.6904395737587022,
           -0.62686650026797,
           -0.3040626991517659,
           -0.6558279926045161,
           -0.38408085384192653,
           1.9242008603690703,
           0.7575162771080656,
           -0.4960019415365297,
           -0.34299594761158925,
           0.6763667065989031,
           0.9532576686180816,
           1.4485872728502838,
           0.5800575749241338,
           -0.662886762913694,
           -0.6128790955185075,
           -0.3453208221348193,
           -0.12190707139329861,
           -0.6086139193675572,
           -0.8499908047769706,
           -0.04318070858934757,
           -0.970250182981443,
           -0.1114942801790128,
           -1.2079967189525274,
           -0.3408059480051374,
           4.359325484112452,
           0.35894048550707547,
           -0.4430313323605931,
           0.014906293633239705,
           -0.41939624165866096,
           -0.4120271285041992,
           -0.3504876427936669
          ],
          [
           1.0387450371455917,
           0.1472993591097731,
           0.3773313253149117,
           -0.40156232536865377,
           0.00643416383293464,
           0.004291396371472371,
           0.22628046440320693,
           0.6903415060028965,
           -0.20268194094379596,
           -0.41414064413492846,
           0.5387583787108493,
           0.5845573293174857,
           0.19640284086596763,
           0.9594034573223262,
           -0.23728982728838652,
           -0.24925888864410328,
           0.22245340986567727,
           -0.5187299411515335,
           -0.21762568132689283,
           -0.3347744706567967,
           -0.6351283437017143,
           0.8320177953796528,
           0.6444913329903635,
           0.30293109326462636,
           0.4219616747333671,
           0.09045845685165556,
           -0.5917166662888648,
           -0.44491554795464056,
           0.0844286720575764,
           0.24611088017903643,
           -1.066039386509527,
           0.5991088382923162,
           0.2736688994273619,
           0.2600820634999152,
           -0.6955623204441256,
           0.14479567065639212,
           -0.6223568592639015,
           -0.34010972757121544,
           0.6908500872959836,
           0.42879119774982194,
           0.10754522237921442,
           -0.6475527437710878,
           0.022600953700308648,
           -0.7576190753283794,
           -0.7087929084129273,
           -0.7576190753283794,
           -0.7087929084129273,
           0.3331342527857797,
           -0.2763102340642573,
           0.1577522799703479,
           0.5562343699970888,
           0.5953362960237971,
           0.038137118590335604,
           -0.46894550215740183,
           -0.24724901708479002,
           -0.1391949410979118,
           -0.39218827762435593,
           0.17364542972246422,
           -0.1951813551902591,
           1.7148056783226349,
           0.6542565631192923,
           -0.45407439879001926,
           0.3567872508969132,
           -0.06304415375499293,
           0.38452627606144507,
           0.5122231870712759,
           -0.024984048085992878,
           -0.04798660100431768,
           -0.041139207462127805,
           0.5915996435590947,
           -0.26251981076059266,
           -0.3973340471841215,
           -0.12862331302216878,
           0.11587730667408891,
           0.6993885066833321,
           -0.2539178009963889,
           -0.01749213699980467,
           -0.2981690496699542,
           0.44760772246277336,
           -0.3766749178888411,
           -0.11546401662625794,
           0.3437533691170641,
           -0.23752122666246905,
           -0.07176860922281798,
           0.3242613480720634,
           -0.30541061277431714,
           -0.25113915685313665,
           -0.14508222228531778,
           0.4306977466349567,
           -0.33040631067779397,
           0.10836975933740818,
           0.44776068106525013,
           -0.4742556367428962,
           0.13353993241215117,
           0.10629959248405549,
           0.31136490507146464,
           -0.11109640200511889,
           1.463360134403271,
           -0.196270639415094,
           -0.22573591135070586,
           -0.11749799982927692,
           -0.23825322789945558,
           0.22566586671261402
          ],
          [
           0.859881632069347,
           -1.4073284165528295,
           -1.159514362847717,
           -1.6034959058309513,
           0.5746271665470774,
           -0.3073158132033245,
           -0.7984982252021484,
           -0.6998760695858411,
           0.9713014632257141,
           -1.6643858958951254,
           0.5071600317105205,
           -0.44761463375379024,
           -1.5400568975173112,
           1.0675241791666916,
           -0.3989779048628884,
           -0.644289926103696,
           -0.9567225778737534,
           -1.2096344815040827,
           -0.8177055389679136,
           -1.476190200449823,
           -1.6082580946875435,
           -0.8480999256150238,
           0.08899603449364828,
           -1.2207265766236057,
           -0.6008208876773803,
           -1.5335123504498964,
           -1.0350707980477158,
           -1.28726004178549,
           -0.10096540035970414,
           1.3494635174703211,
           -2.0520790033708396,
           -0.6022461326482726,
           -0.7504454277494494,
           1.3309629608829898,
           -1.663479628015083,
           -1.1568793793777803,
           -1.4227552573031033,
           -0.9263177275908591,
           -1.3394381907451036,
           -0.7906971884822971,
           -0.8333900020559722,
           -1.7519540379061813,
           -0.3333021495604977,
           -1.6072681987918718,
           -2.01761913695765,
           -1.6072681987918718,
           -2.01761913695765,
           -0.3428618535992819,
           -0.44780481751759177,
           -1.2260770875702658,
           -0.31758099503899045,
           -0.3505647571386167,
           -1.4213016646118326,
           -0.8438398913595577,
           -0.697527597428068,
           0.9830141341874881,
           -0.8185057302110135,
           0.5066452756042361,
           0.232077374174819,
           -0.2875701223827574,
           0.6295361428903468,
           -0.6965757131714451,
           -0.49294719206289106,
           1.1732231140495144,
           -0.8507704403010632,
           -0.5585450323246552,
           -0.23600227390440895,
           -0.7629402711411283,
           -1.2153179212201224,
           1.0571868724806754,
           -0.4138683289440666,
           -1.0613777278213377,
           -0.47435801279944634,
           1.4116298926105413,
           0.3084703164328726,
           -0.6032868842720676,
           -0.6012359951106474,
           0.23011061467401228,
           -0.37495627906869355,
           -0.6776153481593508,
           1.2153774097009749,
           -0.7800899633632848,
           -1.038966266279948,
           -0.4750892773117458,
           -0.44720902682383934,
           0.13890672807020965,
           0.10265593795746125,
           1.237065263743245,
           -1.050348130582867,
           0.2614642657079451,
           -0.032417595035830166,
           -0.8306487882059292,
           -0.31193257429138704,
           -0.060379317423313573,
           -0.7341399499843646,
           -0.5727027362207943,
           -0.2605109637880939,
           1.7841387455812736,
           -0.6089870666150133,
           -0.48140269869078,
           0.3706023624296329,
           -0.7142609719607407,
           1.7986216029083848
          ],
          [
           0.06872281741648986,
           -1.111219238706015,
           -1.2594944219448896,
           0.8766673935370626,
           0.6449616768335302,
           -0.24694536236324627,
           0.3557706587578084,
           -0.1588628159971729,
           1.4866593632843212,
           0.6528065114276754,
           0.651126504132036,
           -0.0403702130928247,
           -0.9789011830358688,
           -0.01832462576988602,
           0.41600443559436534,
           0.6749798179082577,
           -1.0184700359377246,
           -0.8982208516727304,
           1.2780786074868136,
           0.6758113375330174,
           0.24782346095412586,
           -0.5758151132080571,
           -0.08343722419378917,
           -0.8273558553739503,
           -1.0033219035385106,
           -1.1269208326365683,
           0.8148077328723055,
           -0.9991312117645479,
           -0.7972683316355091,
           -0.23288937162168918,
           0.5396034187926894,
           0.9389598568590709,
           0.05765254397943109,
           -0.06927497553109108,
           -0.9708357347261461,
           -1.1108304781471172,
           -1.0636343930990548,
           0.3269403915096321,
           -0.8685833617986662,
           -0.653820265078493,
           1.2659178194818985,
           -1.0262372052695796,
           0.16306445383624366,
           0.22400461239163288,
           -0.196718304182752,
           0.22400461239163288,
           -0.196718304182752,
           -0.8168004465229652,
           0.9417646924895491,
           -0.9658916498279777,
           -0.6324449698186138,
           0.7895458142819239,
           -0.8455997428467167,
           0.7858214298749256,
           -0.8852742834337356,
           1.6690529716708766,
           0.6263415700686197,
           1.4811456330669768,
           2.0148182275408195,
           -0.6584489039821102,
           0.09596702992414644,
           0.08083226755934611,
           -0.9826140333766025,
           0.8368483238512785,
           -0.9027678245496404,
           -0.5171210514042347,
           -0.38107760802392665,
           -0.4208444554346195,
           0.4196936865665848,
           -0.24251800152055208,
           0.6162371937160923,
           0.587579773886257,
           -0.7552007594744646,
           0.8010055736278389,
           0.30872007890520464,
           0.06360246621607538,
           -0.50113944121986,
           -0.20849779443754773,
           -0.8226209311229561,
           0.40748928549017305,
           0.8251826967250814,
           -1.1344364901092276,
           -0.8615631631227035,
           -0.6609761925240395,
           -0.8991695416499988,
           3.1144459444353783,
           3.304331009700809,
           0.7646054983762581,
           -0.4460239698136905,
           3.0714797320542107,
           0.16654850700828508,
           -0.666946859833337,
           1.8051818186060946,
           0.009326695287754934,
           0.7142895257226128,
           -0.6260936933527668,
           -0.34982982289553666,
           0.021444102618120457,
           -0.2109429757771199,
           0.49799295858643433,
           0.30589946537638313,
           -0.19737707672355462,
           0.27058989717502474
          ],
          [
           -0.09996641675379951,
           0.49068884125587603,
           0.4277510775977667,
           0.4180430585073047,
           -0.0624264861424848,
           0.7360227653824639,
           0.20909740806360666,
           0.41845671427487535,
           -0.2914211470442006,
           1.1347596313714328,
           1.371552412513277,
           -0.13898794214128427,
           0.3664889969234814,
           0.3556359608894403,
           0.24302518720368194,
           0.12903677364837488,
           0.3996183145438262,
           0.6181931513418076,
           -0.3691229727262635,
           1.0713727944627138,
           0.39248309759774996,
           -0.030041137269429904,
           -0.22073729437925257,
           -0.02703933503964947,
           0.1155238476973944,
           0.3156517663133605,
           -0.20229004341541718,
           0.6074957221016084,
           -0.012192729625622381,
           -0.2785586425034176,
           1.1243070344203645,
           -0.13603140876152958,
           0.1841298530280733,
           -0.2644468731257963,
           0.5679608480271604,
           0.6134054418282808,
           0.5628623095100562,
           -0.2794708249580323,
           -0.09344548126086032,
           0.013336692658198385,
           1.0788348390381568,
           0.4795657603872318,
           -0.5382927657662794,
           0.17679267805289428,
           0.4755984060822201,
           0.17679267805289428,
           0.4755984060822201,
           -0.2119446844254578,
           -0.7014700711579162,
           0.12955304960894748,
           -0.024159015983275033,
           1.0557227850034228,
           1.212501942409234,
           -0.004171571044384622,
           -0.011249579191916634,
           -0.5498120816444604,
           -0.1029140822017132,
           -0.5729398797283982,
           -0.5123338685973243,
           -0.5740809964423927,
           -0.55770641120502,
           -0.24713884339814773,
           0.24925340272053195,
           -0.6028505790545716,
           -0.3646057143983469,
           0.16032273331754537,
           -0.122163174432151,
           0.27052468736273794,
           0.40443054084370494,
           -0.3923396504702544,
           -0.08211624409577153,
           -0.16597244074297374,
           -0.18506306523484153,
           -0.6440088120689497,
           0.49087988009035755,
           -0.14745635458696127,
           -0.04647488379089574,
           -0.559388056890263,
           -0.4432398788963805,
           -0.2064539520454366,
           -0.586507130546268,
           0.020658741384983317,
           -0.0745715163516658,
           -0.19095330328174098,
           -0.42407933585543073,
           -0.5151135250541866,
           -0.39983499819906965,
           -0.5713142584345373,
           0.15070469586184618,
           -0.5308488755773263,
           0.23306494956360876,
           -0.5136165395106329,
           -0.5010893049050701,
           -0.2164583756850211,
           0.03167230555951224,
           0.1710170276488853,
           -0.18638439680104968,
           -0.5653536274089623,
           0.02225867197360148,
           -0.4043284007654946,
           -0.3164844264307863,
           -0.1176076836026772,
           -0.3726011165171511
          ],
          [
           0.967076285498978,
           -2.0553805104496368,
           -1.7606504243877041,
           -0.1804718281210389,
           0.720565437245754,
           -0.36172287328974495,
           0.16760034240237398,
           -0.8526348000741512,
           2.6148476507869254,
           -0.36855790879145617,
           -0.6773542237183563,
           0.04125031098237779,
           -1.9464254034912876,
           -0.08179413152863334,
           -0.07896065758627525,
           0.22884339796838765,
           -1.8612573503556866,
           -1.5851909601659178,
           0.5312367597338895,
           -0.2052853102660454,
           -0.9006494976610825,
           -0.8588437979865869,
           0.27999588425071037,
           -1.2387176093647903,
           -1.7060621514670447,
           -1.8112016086816658,
           0.2523435507670409,
           -1.743317676770024,
           -0.9171481815706282,
           0.49730533649320385,
           -0.37356972918383374,
           0.3860820770952778,
           -0.19664185451642083,
           0.21532424141910095,
           -1.7086628542426907,
           -1.7774271856246004,
           -1.8745373300010353,
           -0.558675202829391,
           -1.6269682972038035,
           -1.3329222037288517,
           0.19594531496716336,
           -1.8171703206452872,
           -0.0061398086810772285,
           -0.2670745046121718,
           -0.8343733441344373,
           -0.2670745046121718,
           -0.8343733441344373,
           -0.9059281444510309,
           1.0704596390222787,
           -1.7117749646652345,
           -0.9318845214829982,
           -0.967042317280396,
           -1.8715859833217252,
           0.046066146678692826,
           -1.0222419210459557,
           3.291583827472921,
           -0.03271864495362059,
           2.4576193148447327,
           2.894423165550614,
           -0.6112072074566481,
           -0.10187194742363039,
           -0.361613759255187,
           -1.5563686702093122,
           3.6109343256038575,
           -0.9550275123895259,
           -0.7771379765992944,
           -0.4052640605240288,
           -0.9584772125571626,
           -0.5329887937380327,
           -0.15278460366290778,
           0.025732670377953126,
           -0.30827336784848913,
           -0.7381332005886125,
           2.8366067922330895,
           0.4913846271129449,
           -0.3756568610929471,
           -1.0006170612443355,
           -0.03805387824805691,
           -0.7264639883747208,
           -0.2841291905950077,
           3.6812767324840125,
           -1.5811474346898458,
           -1.4555907923734033,
           -0.8611950460393678,
           -0.8354871862308635,
           2.6456186225613307,
           1.5135269767983148,
           3.6225337223070273,
           -1.42384810677716,
           2.526671360474744,
           -0.5615381270492553,
           -0.7322999787593654,
           0.6293890534649687,
           -0.03790737784028608,
           0.10112046899473152,
           -0.8665860844886855,
           -0.33004158531899946,
           0.8931371403710135,
           -0.42590997887795695,
           -0.6270588548760868,
           0.9410140797453086,
           -0.3665600805516514,
           1.72701051815543
          ],
          [
           -2.3197688070173217,
           -1.039842272891999,
           -0.5249430484795043,
           1.638118586787189,
           -1.1376935907904404,
           1.1245860659716604,
           -1.5125350521858199,
           -0.1643243779862855,
           0.47677332431323494,
           -0.8373610775682041,
           -1.6542569297253285,
           -0.9436750238975627,
           -1.599484776993867,
           -2.3383533547695063,
           -0.6362088638723429,
           -1.071364381766367,
           -0.3644344659937136,
           -0.2522034064914315,
           -0.23155899353026235,
           -0.8416306965567549,
           2.0462010684407006,
           -1.2926846175797502,
           -0.4708998951204451,
           -1.489929524443529,
           -0.5857217720962122,
           -1.370932991883436,
           -0.5935365619678129,
           0.09795224308639305,
           -0.8178779484245073,
           -0.8249109037685193,
           1.0331133889822275,
           -1.8163391284629864,
           -1.8036927232102644,
           -0.8166037193855255,
           -0.4797939453597701,
           -1.3145405484739843,
           0.3989980910999552,
           -0.9945335072798364,
           -1.6684218285106058,
           -0.6624878144137162,
           2.7575484247048405,
           -0.2782203343877258,
           -0.9817730319795454,
           0.38030576979172565,
           0.10509226576861326,
           0.38030576979172565,
           0.10509226576861326,
           -0.1537067016776485,
           -0.3548869371732604,
           -1.5014262687022435,
           -1.0302673540242104,
           -1.294001532581329,
           -1.1573001226512827,
           -0.6007887118739684,
           -0.8674821883557685,
           1.156458624961878,
           -0.7929275752132958,
           0.33646450051056703,
           0.3045505049983551,
           -0.8481092858108394,
           -0.7285812910969139,
           -1.0007158272827656,
           -0.6755080799338185,
           0.32691103720543463,
           -1.182076887005522,
           -1.102466347125415,
           -0.6036693207349204,
           -1.0574144436862833,
           -0.8047658274159595,
           -0.7666759717335971,
           3.1380773941877056,
           -0.7331059884846038,
           -0.88912285009506,
           1.5514992182459755,
           -0.11997659820731221,
           -0.6614217875292514,
           -0.8624548523141153,
           -1.39427490741848,
           -0.9014483539492442,
           -0.6285355803273869,
           0.2726504720306157,
           -0.9727138967157232,
           -0.560290071395095,
           -0.9098663155190627,
           -0.9410680174069564,
           0.7413378198639561,
           -0.10945075302845263,
           0.20812600394311023,
           -0.8415684589930015,
           0.9421121793336104,
           -0.2645232496535238,
           -1.010097864029715,
           -0.4679056752417882,
           0.15427763419327423,
           2.039194011970035,
           -0.23241497178320442,
           -0.5920394295125304,
           -0.4801934052679366,
           -0.49505454274718147,
           -0.5990033934301551,
           0.3182795287309842,
           -0.42430977025664146,
           -0.009916240249301161
          ],
          [
           -0.6950188949954622,
           -0.9496865830673903,
           -1.085505670470425,
           -1.2579487149933684,
           0.7156062811356647,
           0.7558340779235321,
           -1.2308650807436166,
           -1.1029507790418418,
           0.224939246112101,
           0.27354882508233963,
           0.4989625040149623,
           -1.120215412295337,
           -0.6623869230147599,
           0.45301732095034597,
           0.4249702387181163,
           -0.3522756394099578,
           -0.8642236338379458,
           0.6154220096210046,
           -0.8600217064873934,
           0.17672576220013703,
           -0.3710290542682916,
           -1.4945673545261262,
           1.7283918765415498,
           -1.071045355992324,
           -0.690326571046481,
           -0.4960132162913369,
           -0.8721846845869079,
           0.7780381275954887,
           0.9235063779152178,
           2.6567251141353108,
           0.5706906709284522,
           -1.4210526629807172,
           -0.7705912668174338,
           3.356250543999909,
           0.5390893163623508,
           -0.23048220472379674,
           0.041315242953483176,
           -0.650599618907558,
           -0.9711526917703572,
           -0.45068291733533766,
           -0.22117090173859708,
           0.05669604032386313,
           3.1144495415135043,
           -0.6453764496233598,
           -0.13272008250766693,
           -0.6453764496233598,
           -0.13272008250766693,
           -0.7106279433017381,
           -0.9452959450731603,
           -0.9534227511155716,
           -0.11698960316908487,
           -0.5926304809705374,
           -0.029153193917820484,
           -0.8230618111956887,
           0.4695028826847251,
           -0.48081376136427945,
           -0.5821497215834673,
           -0.8007961829117196,
           -0.46815529382286836,
           -1.5505914927876925,
           3.516807318770595,
           -0.12003581370436402,
           -0.880686213214107,
           -0.1057699350795273,
           -0.3379610788654308,
           0.3210574300150527,
           0.062101701736249154,
           -0.6651475748001795,
           -0.7242922701140979,
           2.7174188020612386,
           0.07960779567257506,
           -0.5088364732734394,
           0.5432798135021216,
           -0.599691788362982,
           -0.180873468553671,
           -0.43860151210953496,
           -0.8706502464414412,
           1.294080008086517,
           0.3436027388112135,
           -0.6099401052038163,
           -0.25089335011265407,
           0.4899573639125327,
           1.3480250998429624,
           0.9268034535566918,
           0.3563806629445746,
           -0.5825605796237388,
           -0.6652774266420355,
           -0.252709276111445,
           -0.7910830329211891,
           -0.5937379046534434,
           0.09381409831684859,
           -0.8633118972679769,
           -0.3908333732593599,
           -0.4316687838133759,
           -0.22547440403695276,
           -0.8073424344366122,
           0.032433792705546,
           0.050404196416529254,
           -0.5764961797066562,
           -0.19278611880742244,
           -0.3563622123316158,
           -0.521306559550117,
           -0.4494051746233768
          ],
          [
           -0.4770537148132398,
           0.43529837091351725,
           0.6875815007083236,
           0.993832834772325,
           1.492080281278601,
           0.23980691527204273,
           -0.607154752978541,
           1.4370975712563177,
           0.2796164162958217,
           -0.493893287843713,
           -0.492209127341742,
           -0.06684194549173832,
           0.06741834695425453,
           0.8907651232770308,
           1.6775202210174434,
           0.49304214746594827,
           0.838440564738629,
           -0.21840880678709254,
           0.7412224810014459,
           -0.36999517727783376,
           0.36716348732741055,
           -0.39128125514745304,
           0.7303240325514507,
           -0.6681327177136918,
           1.3823423662259868,
           -0.34264116188279325,
           0.17785897875086404,
           -0.14731443705141653,
           -0.39086250895011326,
           -0.2564056371323158,
           -0.2566151992105478,
           -0.4005672015607681,
           -0.40769396289758586,
           0.07072811717397358,
           -0.3451591742082446,
           -0.48629969100910725,
           -0.2115291944037437,
           0.5680604908920315,
           -0.27011527579953376,
           2.788663909609683,
           -0.14477241334252602,
           -0.4380599504958067,
           1.4623192729900512,
           -0.09814383331208704,
           -0.3277405433361117,
           -0.09814383331208704,
           -0.3277405433361117,
           0.47525391623685703,
           -0.24818989069824973,
           0.4912818114304359,
           -0.853709760859935,
           -0.8754933602774163,
           -0.4795961041712596,
           0.33010838173419216,
           -0.5337399195938617,
           -0.46436813895257867,
           0.20459522350509682,
           0.6987586768295782,
           0.13813773876516736,
           -0.5862139174841483,
           0.32028063449495003,
           0.5079571950342029,
           0.693964049567787,
           -0.5631455769050375,
           -0.8872453373090274,
           -0.6041883929063019,
           -0.2261447358932763,
           0.6215156478560285,
           -0.05061282769894003,
           0.16505952321596726,
           0.4696618810810645,
           -0.3252011762680336,
           -0.5607086893631615,
           -0.4771899355701895,
           -0.9303497357702458,
           1.2579210763194753,
           0.12475940036468372,
           0.47706256158687943,
           -0.5133990904756711,
           0.46056004178567334,
           -0.5523225850042688,
           -0.27085316030575496,
           -0.42003704399804076,
           -0.6372165545172014,
           -0.45180057972645016,
           -0.4169954512398972,
           -0.5338248142769475,
           -0.4899932302022711,
           1.0851064137124016,
           -0.40812120623151016,
           1.4900434669420672,
           -0.6147191320550417,
           -0.01894386816858651,
           -0.6763686011461695,
           0.026752040845910322,
           0.5881242298006872,
           -0.09929285829676428,
           -0.11254739087193483,
           1.0600872326414141,
           -0.30081971337224295,
           -0.4520891188878509,
           0.566372156192193,
           -0.4524024686968485
          ],
          [
           -0.8524035299726946,
           0.9756548636709039,
           1.3069960995854752,
           -0.1375318884851582,
           -1.3105847529750112,
           0.6056127765467717,
           -1.3243234545696543,
           0.9619651306386323,
           -0.9948101590206099,
           -1.1210827995644868,
           -0.4703978156981817,
           -0.731336715198245,
           0.5512940546814848,
           -1.2099336189097083,
           -1.1514874227263088,
           -1.3166533663491469,
           1.5461927386900876,
           0.19473363740271257,
           -1.4910577361158472,
           -1.2877844000902579,
           -0.02358740768408014,
           -0.30370182983726607,
           -0.6773730057786675,
           0.49718966551902766,
           1.1304295674071032,
           0.32758573829307047,
           -1.1122516899902228,
           0.22694951678905548,
           0.18682382103356648,
           -0.19365825221708013,
           -0.4754790981666729,
           -0.6642994162697045,
           -1.045751296819164,
           -0.13071215619386306,
           -0.3400736802973634,
           0.7735211093670246,
           0.4252418839520499,
           -1.0585059379887969,
           0.49048894472029914,
           -0.21205084603495022,
           -0.1452044291463944,
           -0.4017638790932899,
           -0.8436103069525425,
           -1.1876253752790953,
           -0.5673479837856918,
           -1.1876253752790953,
           -0.5673479837856918,
           1.1770220743212045,
           -0.8073057673121985,
           0.8763010584066283,
           0.6307477832201087,
           -1.0657593151050753,
           1.1304993419445237,
           -1.0101631585162374,
           0.1090781500487977,
           -0.7398039930515657,
           -0.9325116406516392,
           -0.9593302037284163,
           -1.1100243947017039,
           0.3802365698680948,
           -0.2786535110802398,
           -0.9520585625557657,
           0.8057282755099437,
           -0.6916237844712382,
           0.2657540532867125,
           -0.390187730467353,
           0.1174489707486249,
           -0.7957047874334888,
           -0.9409255607105889,
           -0.33295019788794616,
           0.09044638321760107,
           -0.9312059755361314,
           0.04367847776263261,
           -0.5830393533621572,
           1.0289301873622518,
           -0.803895879098755,
           -0.6581468848868605,
           -1.2742358345890572,
           0.21743461780721451,
           -0.8198315896281763,
           -0.7014295535302834,
           0.3066305492665937,
           -0.05498844485569233,
           -0.16785714593646783,
           -0.0067487258703311966,
           -0.7563524244722094,
           -1.1883186477459695,
           -0.6147541636964515,
           -0.50965140656095,
           -0.7819291394673045,
           -0.7101569946434766,
           0.5955627406959202,
           -1.026116317039055,
           -0.3577843664842712,
           -0.2666206804528324,
           0.37173308751147577,
           0.11409866094441398,
           -0.929230496015008,
           -0.5805896956525362,
           -0.7453505194662586,
           -0.5474343856443412,
           -0.7013728444936687,
           -0.6998426129959124
          ],
          [
           -1.2499370786263906,
           0.7889254977087327,
           1.0991385868352528,
           2.4399630325195076,
           -0.004350390838021021,
           1.1281172984415881,
           -1.0349977255106702,
           1.8163695867161784,
           -0.45922788508839046,
           -0.8138342212011194,
           -0.6810409187964063,
           -0.5998677758356685,
           0.05673363591737181,
           -0.6359632170175924,
           0.36011950825411737,
           -0.35782804031179194,
           1.8486789455654433,
           0.8809708282428956,
           0.23845393651759833,
           -0.9581541881261971,
           2.0803967175709106,
           -0.5243600284966585,
           0.030063465878745678,
           -0.5446020279174297,
           1.6309060365442398,
           -0.2319595913590223,
           -0.05004028717372624,
           1.2327971378976414,
           -0.19765779660661792,
           -0.6434365033303976,
           0.2301864617634223,
           -0.444889342385406,
           -1.1413905863020823,
           -0.5905184989983914,
           0.752782086906366,
           -0.024720709841984826,
           1.8977421324018997,
           0.07082164831106558,
           -0.20429118071683583,
           1.8445165535035988,
           1.0415548519955087,
           0.9582898420755573,
           -0.12305107375073657,
           0.5198600097722943,
           0.45984184381369136,
           0.5198600097722943,
           0.45984184381369136,
           0.5605590545138311,
           -0.41253675977179916,
           0.6258890200781249,
           -0.3670650371484969,
           -0.9234507415924488,
           0.7150568714156148,
           -0.06384667474947407,
           -0.2575232535299498,
           -0.4133237800896815,
           -0.38216521363486705,
           -0.20726876473836203,
           -0.32975087526845426,
           -0.9112449781931672,
           -0.2854122165661897,
           -0.27085685895254685,
           1.7993581546176163,
           -0.5912098044762153,
           -0.35034789774106767,
           -0.6552133472103976,
           -0.2934904116802609,
           -0.562439500161487,
           -0.24001599044766003,
           -0.397893570320298,
           1.3709888844856808,
           -0.39158640940934053,
           -0.39203115856535004,
           -0.31965035069801384,
           -0.15648657669082236,
           -0.012031750317168828,
           -0.5381360288570771,
           -0.8394713683284336,
           -0.3981435399395961,
           -0.2561047325662189,
           -0.5784660604939142,
           0.19403267513746725,
           0.4666505072215403,
           -0.36479812704592035,
           -0.3856614019367326,
           -0.3789847315781977,
           -0.7051856213232468,
           -0.5197771724528158,
           0.9531839842361743,
           -0.3510558030977967,
           0.4121783971306734,
           -0.6692449218285871,
           -0.3868816463293476,
           -0.6265827924956435,
           0.3818753447280892,
           0.2585990307135848,
           -0.3597034986425284,
           -0.8510013705049211,
           -0.15838719002457186,
           -0.35070107752740487,
           -0.5541823222925852,
           -0.24836769655235888,
           -0.6959134824907671
          ],
          [
           0.8612229050822908,
           0.3538074562236667,
           -0.09453124190500113,
           0.3779635678865136,
           1.4996175304924084,
           -0.8034777157855277,
           1.5038172589112455,
           -0.411857612712373,
           0.35216062157484446,
           1.8353729225209967,
           0.15425450005633778,
           0.1579028273690748,
           0.7923566350238415,
           1.8562167376121868,
           2.105516386961418,
           2.496107872044431,
           -0.35770129638606424,
           0.20044602396058103,
           1.4322773195573564,
           2.02265809212735,
           0.4759052312154307,
           0.246489867783235,
           -0.6807821627994873,
           0.454588152309022,
           -0.49212186320264384,
           0.9895443653206808,
           1.7216741206118322,
           0.15432582016879215,
           -0.8276058824698937,
           -0.9104139678655216,
           2.050610615535464,
           1.7092175779593848,
           0.8586780025218538,
           -0.8125612884451836,
           1.0889278270590301,
           0.9077955995033573,
           0.47685861095609444,
           1.773459942639333,
           0.5463178003399156,
           0.8646967219429361,
           0.08745500428903158,
           1.4845365001563153,
           0.47644943329418177,
           2.4075060546711198,
           2.4761953501004657,
           2.4075060546711198,
           2.4761953501004657,
           -0.5790417337935659,
           0.7220824178690848,
           0.678265062197839,
           -0.6927449156438608,
           1.7008654556929708,
           0.39162953622570246,
           1.8433049296727877,
           -0.5877611694035079,
           -0.3478395035019957,
           2.286833600598805,
           0.3719094035109421,
           0.627626267019653,
           -0.3921030401185275,
           -0.8460870252728949,
           1.6821358012669632,
           -0.489692050408716,
           -0.45968970115469887,
           -0.44973578777287065,
           -0.040598657169198,
           -0.4754401589524237,
           1.226878770586513,
           1.497293858257336,
           -0.9536353425074229,
           -1.0881310130050172,
           1.6942426587416946,
           -0.6812987304514313,
           -0.6130093232725021,
           -1.2975229257068284,
           2.311000253400391,
           0.41268413435900436,
           0.48406567144074647,
           -0.6880331552727819,
           2.0506738193946052,
           -0.42071319384929956,
           -0.4042877157327104,
           -0.52078092087258,
           -0.7604441807521578,
           -0.6236206023369949,
           -0.1198500139196782,
           0.2807540265557163,
           -0.5479081279754203,
           0.3820359060347672,
           -0.07317434003333206,
           0.4710519064597143,
           0.060800079779662064,
           0.8620741740891257,
           -0.3724136181428807,
           -0.03036180145479817,
           -0.1943020311226286,
           -0.5752639544090341,
           -0.3548729705483387,
           1.4462052984916234,
           0.5277817865622959,
           -0.3061976832020821,
           1.6143887972739113,
           -0.6504099266060402
          ],
          [
           0.8652540177243672,
           -0.045903094750389534,
           -0.3264760714674146,
           -1.1698774582885136,
           -1.7812537298625843,
           -1.3724702398351334,
           0.4364882093103133,
           -0.022948596906680795,
           -1.3998608522228515,
           0.14361005209398225,
           2.865545125398042,
           -0.426467606096295,
           0.38734444294020864,
           0.0612490858029262,
           -1.5924012518325685,
           -0.9966362622738437,
           -0.3452991341442507,
           0.06640758747160018,
           -1.22623048456655,
           -0.2963965040310005,
           -0.7640354955786313,
           1.2030889912339577,
           2.95135247420769,
           0.7052246970926307,
           -0.09656344908323405,
           0.6498714745010795,
           -0.7463402800124909,
           -0.28693506356757265,
           3.742355049216415,
           -0.39079833881189036,
           -0.9216086269494863,
           0.10774994606363594,
           0.6808136527426109,
           -0.5448572605047667,
           -0.17507716159409042,
           0.7019504059805798,
           -0.10229935003908272,
           -0.7139675788807182,
           0.9082820232072717,
           -0.8294220182418307,
           -1.2656907119404335,
           -0.09726740130734327,
           -0.9507152385165668,
           -0.8909936814937442,
           -0.41411119020807313,
           -0.8909936814937442,
           -0.41411119020807313,
           -0.2872398082430403,
           -0.226897609671541,
           -0.3944728034244467,
           3.5396545337768637,
           -0.01630458656468319,
           0.07655266139972637,
           -0.8946591408639151,
           3.4758118675965233,
           -0.8283531002561955,
           -0.8795630425903006,
           -1.3095589758721984,
           -1.191896468578547,
           0.291035955373276,
           -0.15551374592780018,
           -0.7855400738010242,
           0.21824777720839256,
           -0.5663887870577935,
           3.022179571211015,
           4.12154731506091,
           0.2074687759684268,
           -0.700606677161587,
           -0.5723260802912367,
           -0.9426921874673823,
           -1.2468372953432578,
           -0.5991918521800599,
           3.872021724634795,
           -0.8088547822586957,
           0.03136678192980733,
           -0.9298207529357481,
           -0.7122463895893276,
           -1.3448737632907186,
           3.4997398901843475,
           -0.7230384593835897,
           -0.5903060664013282,
           2.6867210925000395,
           2.670438675601566,
           3.189793024658084,
           3.2600490446623644,
           -0.93514351579658,
           -1.048822543272634,
           -0.6893547804844474,
           -0.8589094710781563,
           -0.9553416815940131,
           -1.627141936367287,
           -0.2765050803369107,
           -1.1855671928494864,
           -0.24139990857358326,
           -1.6708046788932285,
           -0.9047715587516776,
           -0.14297911601729005,
           -1.3920451648335126,
           -0.959328714988072,
           -0.6735638018095758,
           -0.7792313233506676,
           -0.9963360639938611,
           -0.9723720816244806
          ],
          [
           -1.752293405491536,
           -0.14902308635661551,
           -0.2552809971381844,
           0.2526327888030118,
           -0.8015743842435175,
           2.525875030652393,
           -1.4346181323722285,
           -1.3658810863452633,
           -0.9814905238253046,
           0.16353162224495843,
           0.7210096660300903,
           -1.8969435882853067,
           -0.7061918056421078,
           -0.9882543880683426,
           -0.4627259732795109,
           -0.6412643159950271,
           -0.08305185254284178,
           2.2978729183169833,
           -0.9827817545220467,
           0.21008850999680803,
           1.9408834688890697,
           -1.5383083642414364,
           -0.23216099327126466,
           -0.7825209073374059,
           -1.113972253328595,
           0.3939104521110068,
           -1.0712584611001097,
           2.9014122150982797,
           -0.18451914569758396,
           0.29484765484397063,
           2.0275754573944167,
           -1.6385644134648798,
           -1.6003159350165794,
           -0.08326111889993047,
           2.4851295583136332,
           0.6360179143067635,
           2.3284215940865383,
           -0.7941579981560797,
           -1.050776549708285,
           -1.0599492693591113,
           1.8195563924197347,
           2.304922572274841,
           -0.7344820819629713,
           0.8363652758898686,
           1.617665444987267,
           0.8363652758898686,
           1.617665444987267,
           -0.9256512956904915,
           -1.6967979262937647,
           -1.093083243785931,
           -0.8874809714701044,
           1.2105668365995186,
           0.1265253396101983,
           -0.6608184659928327,
           -0.40148068807447396,
           -0.6998138888997937,
           -0.5682135449485827,
           -1.8504808641864188,
           -1.1328350380338807,
           -1.7200572638548053,
           -0.5554045131481996,
           -0.6858700098146843,
           -1.3288359859816536,
           -0.7234567906536309,
           -0.9007058856133687,
           -0.45420989845400994,
           -0.13380333346824383,
           -1.3760680686990139,
           -1.222770860618737,
           -0.4390487449982497,
           0.2828790673644994,
           -0.8759779597615711,
           -0.43754134124911664,
           -0.7100637781750534,
           -1.0737256334170506,
           -0.7169727771778719,
           -1.6204995936987994,
           -0.43915675411835053,
           -0.7393050975427455,
           -0.6484511882975063,
           -0.6211864824086996,
           -0.4947107833084407,
           1.147155600671791,
           -0.40374369695592216,
           -0.659610129995983,
           -0.755022960997386,
           -0.6993229559748334,
           -0.6899992603439864,
           -1.400125223745304,
           -0.735094432185181,
           -0.9419440473207829,
           -1.275615133163807,
           -0.9345252169674954,
           -0.8989442024167301,
           0.25142686018305743,
           -1.196457515478476,
           -0.32418043808442354,
           -1.0198180746568855,
           -0.8114994497466842,
           -0.7831238835831078,
           -1.0508056253720552,
           -0.8517981166964493,
           -0.8458580363506252
          ],
          [
           0.20561591332024093,
           1.854044537766451,
           1.7031821986197975,
           -0.4295329579446723,
           -1.237898496023395,
           -0.33813689312986034,
           0.2321849413381001,
           0.0773405579318511,
           -1.3913008501744677,
           0.24565526875992613,
           -1.0040350162870402,
           -0.6591788314413439,
           1.7002615320621282,
           -0.2739166787625252,
           -1.2483849301335914,
           -0.47516200586250174,
           1.2023981793026997,
           -0.00522911472871553,
           -0.7156472224483181,
           -0.10935286075169605,
           -0.2447804314044424,
           0.3773088158042073,
           -1.7527749166971023,
           2.3733779784987097,
           0.3698272220927008,
           2.0456700637730476,
           -0.6240954884042554,
           -0.11221381645507066,
           -0.20865630616188396,
           -1.1807385756365896,
           -0.16855240368082322,
           0.7958903630300513,
           -0.25791148151299853,
           -1.211119556550845,
           -0.0016058942431197664,
           2.1604948204096455,
           0.3815872596498818,
           -0.40221281203752407,
           1.8519006152447608,
           -0.6318358094795616,
           -0.817223225341592,
           0.30973135711344013,
           -1.4284499348563924,
           -0.7346315955284549,
           -0.3696875777893922,
           -0.7346315955284549,
           -0.3696875777893922,
           0.12067544718875832,
           -1.0223113552761829,
           1.5537390025201554,
           0.4703111855328679,
           -0.14757083014447203,
           1.664429714050228,
           -0.6145664253262085,
           -0.1646320572212724,
           -0.8218247224004871,
           -0.6434916587380527,
           -1.248357319556847,
           -1.1168832199565304,
           0.9145630917989257,
           -1.1822802083145383,
           -0.7581089711791006,
           0.3682151062066598,
           -0.8397487815974338,
           0.8064291495766318,
           -0.5180902990881173,
           -0.3071851600092835,
           -0.6365732795568853,
           -0.5959870059622319,
           -1.447628323637686,
           -0.9378107596613233,
           -0.6318872147432958,
           -0.4057304914249124,
           -0.8106347051587443,
           -0.5993895687341622,
           -0.7653578988173734,
           -0.4362798685490129,
           -1.1426995090906502,
           -0.306126935421024,
           -0.6543262940659105,
           -0.7079828908945826,
           0.3944627628733133,
           -0.529212127512567,
           -0.6725716792197098,
           -0.30021378067536675,
           -0.9648695230879835,
           -1.0151892868134789,
           -0.8182229537567124,
           -0.4247211117984229,
           -1.014040743506042,
           -1.521820474447956,
           1.0111013106475797,
           -1.2821003992881268,
           -0.6139992643324932,
           -1.4949815714209407,
           -0.4598614956909305,
           -0.5599246715157878,
           -1.265010053441752,
           -0.9125303619578699,
           -1.1321301773646604,
           -1.0692019551214267,
           -1.0094960755172004,
           -1.0457023653465787
          ],
          [
           0.09736947409908028,
           1.632874252512643,
           1.181562721341352,
           0.25521409168283005,
           -0.6151750436160338,
           -0.3413513974819931,
           0.4403171541383898,
           -0.04758985227126315,
           -0.9734436943084726,
           0.5279327590318444,
           -0.252182747916169,
           -0.7226147102857324,
           1.3894939010985343,
           -0.248041998947955,
           -0.7723413853107183,
           0.1441498793954312,
           0.9685666149576895,
           0.36156756493636627,
           0.06109230582274913,
           0.2851911339486932,
           0.30248564119207483,
           0.11051484062229887,
           -1.623364315126203,
           1.7172116524436876,
           0.04140492580016088,
           1.7706789190588552,
           -0.03450138347614288,
           0.25647122852205556,
           -0.53776165955892,
           -1.1558932604531549,
           0.2811648767616494,
           0.8924221307076023,
           -0.3270501186092072,
           -1.2459349119431697,
           0.5820316854862317,
           1.741309581279078,
           0.8684345745677393,
           0.1936387922220686,
           1.533030038410471,
           -0.531764993464189,
           -0.3258333113790492,
           1.0730212749338304,
           -1.2186306601902621,
           0.022461864589380653,
           0.1456974608658554,
           0.022461864589380653,
           0.1456974608658554,
           -0.41210564311712594,
           -0.891185641424774,
           1.1161246186534837,
           -0.17523735465998191,
           1.1660514114639826,
           1.1357841472321861,
           -0.14099789679548302,
           -0.5301514508237176,
           -0.6459473516603101,
           -0.22908453744831986,
           -0.7559833971406748,
           -0.638015847537135,
           0.9093000299900252,
           -1.289950887412739,
           -0.429524551234168,
           0.25490448370366225,
           -0.7373500142603641,
           0.14618087099041407,
           -0.5200015393193352,
           -0.42867212696233425,
           -0.16734318089156633,
           -0.48682337108402585,
           -1.4944689247376182,
           -1.1215454337145274,
           -0.1964362707932032,
           -0.696727864088616,
           -0.7608331768163772,
           -1.1124041536471068,
           -0.5029852744577059,
           0.11325845827002812,
           -0.8530599425626102,
           -0.5549624875021679,
           -0.3634692435617573,
           -0.6146629592930096,
           -0.2552682634035316,
           -0.6565701933922731,
           -0.9954005478426404,
           -0.5501107042476487,
           -0.7687941332464803,
           -0.6436078609838728,
           -0.7218684948774888,
           -0.3863902795265334,
           -0.8297172463280453,
           -1.3776397996931304,
           0.24958643406640976,
           -0.8871276438990022,
           -0.8735861024831539,
           -1.174870464821267,
           -0.7338369630637893,
           -0.6581363087016712,
           -1.1865004697799975,
           -0.829346331720507,
           -0.9825737953961999,
           -1.0525063081887456,
           -0.7630998347472597,
           -0.998686951958837
          ],
          [
           -0.26195154284451994,
           0.2548520409346588,
           -0.24640319481678688,
           0.1738183073886134,
           -0.11928897796407957,
           -0.4414522601905721,
           0.27373725972410645,
           -0.21600584148796262,
           -0.6613663565398268,
           0.7296397534749715,
           0.5031753604393148,
           -0.8279445271568265,
           -0.11528503019380087,
           0.06922832635335609,
           -0.519501256982442,
           0.34497783437229285,
           -0.06432188127629353,
           0.05703653974131501,
           0.2021726090443398,
           0.5849117595302001,
           -0.0032724241018059126,
           -0.4193728321918958,
           -1.4512054904692615,
           0.026354045659640297,
           -0.2663731414662558,
           0.32269878896512255,
           -0.04679345127621815,
           -0.021356398930998458,
           -0.7262821694052018,
           -0.7902730868723309,
           -0.0007540039527680438,
           -0.05825822833144958,
           -0.5160281920444794,
           -0.8676450383217272,
           0.22990117331495116,
           0.2550477706009254,
           0.22095511978924676,
           0.3091029625693183,
           -0.0893624350997267,
           -0.4696962818464279,
           0.040086128674429615,
           0.4737712522498945,
           -1.1687633465001046,
           -0.4022274125058882,
           -0.33223035606502005,
           -0.4022274125058882,
           -0.33223035606502005,
           -0.736552766309037,
           -0.9263341683861018,
           -0.16560072346152094,
           -0.7341852631479558,
           1.7145515287944322,
           -0.5486168280702589,
           0.12926898043263485,
           -0.8026671475883952,
           -0.5127089510914017,
           0.01788903639825862,
           -0.5440817833211202,
           -0.40681971677627515,
           -0.26828030408817105,
           -1.2527533348433504,
           -0.04754655944179378,
           -0.051168800738484274,
           -0.660870720232154,
           -0.7229595583468482,
           -0.3353838951322941,
           -0.4636564719603415,
           -0.35271919346327485,
           -0.5117713679629433,
           -1.1661249564421363,
           -1.14047179587535,
           -0.08701707803109625,
           -0.7800493424719541,
           -0.7187108731647673,
           -1.077066579728485,
           -0.26677455838806285,
           -0.31592048663946476,
           -0.41759617473238214,
           -0.9041670956329863,
           -0.16499140921455935,
           -0.5381227954058189,
           -1.0221919038104204,
           -0.8715990802457464,
           -1.0108610741417343,
           -0.8124562545348721,
           -0.4684403684792389,
           -0.04369047917103765,
           -0.6459936354463468,
           -0.33940637077067376,
           -0.5248018044055889,
           -1.040693820744893,
           -0.7529672821880399,
           -0.3221482475379991,
           -0.7701164051414275,
           -1.066803656123729,
           -0.9498203947242574,
           -0.6747636869884561,
           -0.8596320921379137,
           -0.6800705254963816,
           -0.9179528630730572,
           -1.0648550884141934,
           -0.6617654426169988,
           -0.9624841583926041
          ]
         ]
        }
       ],
       "layout": {
        "height": 700,
        "template": {
         "data": {
          "bar": [
           {
            "error_x": {
             "color": "#2a3f5f"
            },
            "error_y": {
             "color": "#2a3f5f"
            },
            "marker": {
             "line": {
              "color": "#E5ECF6",
              "width": 0.5
             },
             "pattern": {
              "fillmode": "overlay",
              "size": 10,
              "solidity": 0.2
             }
            },
            "type": "bar"
           }
          ],
          "barpolar": [
           {
            "marker": {
             "line": {
              "color": "#E5ECF6",
              "width": 0.5
             },
             "pattern": {
              "fillmode": "overlay",
              "size": 10,
              "solidity": 0.2
             }
            },
            "type": "barpolar"
           }
          ],
          "carpet": [
           {
            "aaxis": {
             "endlinecolor": "#2a3f5f",
             "gridcolor": "white",
             "linecolor": "white",
             "minorgridcolor": "white",
             "startlinecolor": "#2a3f5f"
            },
            "baxis": {
             "endlinecolor": "#2a3f5f",
             "gridcolor": "white",
             "linecolor": "white",
             "minorgridcolor": "white",
             "startlinecolor": "#2a3f5f"
            },
            "type": "carpet"
           }
          ],
          "choropleth": [
           {
            "colorbar": {
             "outlinewidth": 0,
             "ticks": ""
            },
            "type": "choropleth"
           }
          ],
          "contour": [
           {
            "colorbar": {
             "outlinewidth": 0,
             "ticks": ""
            },
            "colorscale": [
             [
              0,
              "#0d0887"
             ],
             [
              0.1111111111111111,
              "#46039f"
             ],
             [
              0.2222222222222222,
              "#7201a8"
             ],
             [
              0.3333333333333333,
              "#9c179e"
             ],
             [
              0.4444444444444444,
              "#bd3786"
             ],
             [
              0.5555555555555556,
              "#d8576b"
             ],
             [
              0.6666666666666666,
              "#ed7953"
             ],
             [
              0.7777777777777778,
              "#fb9f3a"
             ],
             [
              0.8888888888888888,
              "#fdca26"
             ],
             [
              1,
              "#f0f921"
             ]
            ],
            "type": "contour"
           }
          ],
          "contourcarpet": [
           {
            "colorbar": {
             "outlinewidth": 0,
             "ticks": ""
            },
            "type": "contourcarpet"
           }
          ],
          "heatmap": [
           {
            "colorbar": {
             "outlinewidth": 0,
             "ticks": ""
            },
            "colorscale": [
             [
              0,
              "#0d0887"
             ],
             [
              0.1111111111111111,
              "#46039f"
             ],
             [
              0.2222222222222222,
              "#7201a8"
             ],
             [
              0.3333333333333333,
              "#9c179e"
             ],
             [
              0.4444444444444444,
              "#bd3786"
             ],
             [
              0.5555555555555556,
              "#d8576b"
             ],
             [
              0.6666666666666666,
              "#ed7953"
             ],
             [
              0.7777777777777778,
              "#fb9f3a"
             ],
             [
              0.8888888888888888,
              "#fdca26"
             ],
             [
              1,
              "#f0f921"
             ]
            ],
            "type": "heatmap"
           }
          ],
          "heatmapgl": [
           {
            "colorbar": {
             "outlinewidth": 0,
             "ticks": ""
            },
            "colorscale": [
             [
              0,
              "#0d0887"
             ],
             [
              0.1111111111111111,
              "#46039f"
             ],
             [
              0.2222222222222222,
              "#7201a8"
             ],
             [
              0.3333333333333333,
              "#9c179e"
             ],
             [
              0.4444444444444444,
              "#bd3786"
             ],
             [
              0.5555555555555556,
              "#d8576b"
             ],
             [
              0.6666666666666666,
              "#ed7953"
             ],
             [
              0.7777777777777778,
              "#fb9f3a"
             ],
             [
              0.8888888888888888,
              "#fdca26"
             ],
             [
              1,
              "#f0f921"
             ]
            ],
            "type": "heatmapgl"
           }
          ],
          "histogram": [
           {
            "marker": {
             "pattern": {
              "fillmode": "overlay",
              "size": 10,
              "solidity": 0.2
             }
            },
            "type": "histogram"
           }
          ],
          "histogram2d": [
           {
            "colorbar": {
             "outlinewidth": 0,
             "ticks": ""
            },
            "colorscale": [
             [
              0,
              "#0d0887"
             ],
             [
              0.1111111111111111,
              "#46039f"
             ],
             [
              0.2222222222222222,
              "#7201a8"
             ],
             [
              0.3333333333333333,
              "#9c179e"
             ],
             [
              0.4444444444444444,
              "#bd3786"
             ],
             [
              0.5555555555555556,
              "#d8576b"
             ],
             [
              0.6666666666666666,
              "#ed7953"
             ],
             [
              0.7777777777777778,
              "#fb9f3a"
             ],
             [
              0.8888888888888888,
              "#fdca26"
             ],
             [
              1,
              "#f0f921"
             ]
            ],
            "type": "histogram2d"
           }
          ],
          "histogram2dcontour": [
           {
            "colorbar": {
             "outlinewidth": 0,
             "ticks": ""
            },
            "colorscale": [
             [
              0,
              "#0d0887"
             ],
             [
              0.1111111111111111,
              "#46039f"
             ],
             [
              0.2222222222222222,
              "#7201a8"
             ],
             [
              0.3333333333333333,
              "#9c179e"
             ],
             [
              0.4444444444444444,
              "#bd3786"
             ],
             [
              0.5555555555555556,
              "#d8576b"
             ],
             [
              0.6666666666666666,
              "#ed7953"
             ],
             [
              0.7777777777777778,
              "#fb9f3a"
             ],
             [
              0.8888888888888888,
              "#fdca26"
             ],
             [
              1,
              "#f0f921"
             ]
            ],
            "type": "histogram2dcontour"
           }
          ],
          "mesh3d": [
           {
            "colorbar": {
             "outlinewidth": 0,
             "ticks": ""
            },
            "type": "mesh3d"
           }
          ],
          "parcoords": [
           {
            "line": {
             "colorbar": {
              "outlinewidth": 0,
              "ticks": ""
             }
            },
            "type": "parcoords"
           }
          ],
          "pie": [
           {
            "automargin": true,
            "type": "pie"
           }
          ],
          "scatter": [
           {
            "fillpattern": {
             "fillmode": "overlay",
             "size": 10,
             "solidity": 0.2
            },
            "type": "scatter"
           }
          ],
          "scatter3d": [
           {
            "line": {
             "colorbar": {
              "outlinewidth": 0,
              "ticks": ""
             }
            },
            "marker": {
             "colorbar": {
              "outlinewidth": 0,
              "ticks": ""
             }
            },
            "type": "scatter3d"
           }
          ],
          "scattercarpet": [
           {
            "marker": {
             "colorbar": {
              "outlinewidth": 0,
              "ticks": ""
             }
            },
            "type": "scattercarpet"
           }
          ],
          "scattergeo": [
           {
            "marker": {
             "colorbar": {
              "outlinewidth": 0,
              "ticks": ""
             }
            },
            "type": "scattergeo"
           }
          ],
          "scattergl": [
           {
            "marker": {
             "colorbar": {
              "outlinewidth": 0,
              "ticks": ""
             }
            },
            "type": "scattergl"
           }
          ],
          "scattermapbox": [
           {
            "marker": {
             "colorbar": {
              "outlinewidth": 0,
              "ticks": ""
             }
            },
            "type": "scattermapbox"
           }
          ],
          "scatterpolar": [
           {
            "marker": {
             "colorbar": {
              "outlinewidth": 0,
              "ticks": ""
             }
            },
            "type": "scatterpolar"
           }
          ],
          "scatterpolargl": [
           {
            "marker": {
             "colorbar": {
              "outlinewidth": 0,
              "ticks": ""
             }
            },
            "type": "scatterpolargl"
           }
          ],
          "scatterternary": [
           {
            "marker": {
             "colorbar": {
              "outlinewidth": 0,
              "ticks": ""
             }
            },
            "type": "scatterternary"
           }
          ],
          "surface": [
           {
            "colorbar": {
             "outlinewidth": 0,
             "ticks": ""
            },
            "colorscale": [
             [
              0,
              "#0d0887"
             ],
             [
              0.1111111111111111,
              "#46039f"
             ],
             [
              0.2222222222222222,
              "#7201a8"
             ],
             [
              0.3333333333333333,
              "#9c179e"
             ],
             [
              0.4444444444444444,
              "#bd3786"
             ],
             [
              0.5555555555555556,
              "#d8576b"
             ],
             [
              0.6666666666666666,
              "#ed7953"
             ],
             [
              0.7777777777777778,
              "#fb9f3a"
             ],
             [
              0.8888888888888888,
              "#fdca26"
             ],
             [
              1,
              "#f0f921"
             ]
            ],
            "type": "surface"
           }
          ],
          "table": [
           {
            "cells": {
             "fill": {
              "color": "#EBF0F8"
             },
             "line": {
              "color": "white"
             }
            },
            "header": {
             "fill": {
              "color": "#C8D4E3"
             },
             "line": {
              "color": "white"
             }
            },
            "type": "table"
           }
          ]
         },
         "layout": {
          "annotationdefaults": {
           "arrowcolor": "#2a3f5f",
           "arrowhead": 0,
           "arrowwidth": 1
          },
          "autotypenumbers": "strict",
          "coloraxis": {
           "colorbar": {
            "outlinewidth": 0,
            "ticks": ""
           }
          },
          "colorscale": {
           "diverging": [
            [
             0,
             "#8e0152"
            ],
            [
             0.1,
             "#c51b7d"
            ],
            [
             0.2,
             "#de77ae"
            ],
            [
             0.3,
             "#f1b6da"
            ],
            [
             0.4,
             "#fde0ef"
            ],
            [
             0.5,
             "#f7f7f7"
            ],
            [
             0.6,
             "#e6f5d0"
            ],
            [
             0.7,
             "#b8e186"
            ],
            [
             0.8,
             "#7fbc41"
            ],
            [
             0.9,
             "#4d9221"
            ],
            [
             1,
             "#276419"
            ]
           ],
           "sequential": [
            [
             0,
             "#0d0887"
            ],
            [
             0.1111111111111111,
             "#46039f"
            ],
            [
             0.2222222222222222,
             "#7201a8"
            ],
            [
             0.3333333333333333,
             "#9c179e"
            ],
            [
             0.4444444444444444,
             "#bd3786"
            ],
            [
             0.5555555555555556,
             "#d8576b"
            ],
            [
             0.6666666666666666,
             "#ed7953"
            ],
            [
             0.7777777777777778,
             "#fb9f3a"
            ],
            [
             0.8888888888888888,
             "#fdca26"
            ],
            [
             1,
             "#f0f921"
            ]
           ],
           "sequentialminus": [
            [
             0,
             "#0d0887"
            ],
            [
             0.1111111111111111,
             "#46039f"
            ],
            [
             0.2222222222222222,
             "#7201a8"
            ],
            [
             0.3333333333333333,
             "#9c179e"
            ],
            [
             0.4444444444444444,
             "#bd3786"
            ],
            [
             0.5555555555555556,
             "#d8576b"
            ],
            [
             0.6666666666666666,
             "#ed7953"
            ],
            [
             0.7777777777777778,
             "#fb9f3a"
            ],
            [
             0.8888888888888888,
             "#fdca26"
            ],
            [
             1,
             "#f0f921"
            ]
           ]
          },
          "colorway": [
           "#636efa",
           "#EF553B",
           "#00cc96",
           "#ab63fa",
           "#FFA15A",
           "#19d3f3",
           "#FF6692",
           "#B6E880",
           "#FF97FF",
           "#FECB52"
          ],
          "font": {
           "color": "#2a3f5f"
          },
          "geo": {
           "bgcolor": "white",
           "lakecolor": "white",
           "landcolor": "#E5ECF6",
           "showlakes": true,
           "showland": true,
           "subunitcolor": "white"
          },
          "hoverlabel": {
           "align": "left"
          },
          "hovermode": "closest",
          "mapbox": {
           "style": "light"
          },
          "paper_bgcolor": "white",
          "plot_bgcolor": "#E5ECF6",
          "polar": {
           "angularaxis": {
            "gridcolor": "white",
            "linecolor": "white",
            "ticks": ""
           },
           "bgcolor": "#E5ECF6",
           "radialaxis": {
            "gridcolor": "white",
            "linecolor": "white",
            "ticks": ""
           }
          },
          "scene": {
           "xaxis": {
            "backgroundcolor": "#E5ECF6",
            "gridcolor": "white",
            "gridwidth": 2,
            "linecolor": "white",
            "showbackground": true,
            "ticks": "",
            "zerolinecolor": "white"
           },
           "yaxis": {
            "backgroundcolor": "#E5ECF6",
            "gridcolor": "white",
            "gridwidth": 2,
            "linecolor": "white",
            "showbackground": true,
            "ticks": "",
            "zerolinecolor": "white"
           },
           "zaxis": {
            "backgroundcolor": "#E5ECF6",
            "gridcolor": "white",
            "gridwidth": 2,
            "linecolor": "white",
            "showbackground": true,
            "ticks": "",
            "zerolinecolor": "white"
           }
          },
          "shapedefaults": {
           "line": {
            "color": "#2a3f5f"
           }
          },
          "ternary": {
           "aaxis": {
            "gridcolor": "white",
            "linecolor": "white",
            "ticks": ""
           },
           "baxis": {
            "gridcolor": "white",
            "linecolor": "white",
            "ticks": ""
           },
           "bgcolor": "#E5ECF6",
           "caxis": {
            "gridcolor": "white",
            "linecolor": "white",
            "ticks": ""
           }
          },
          "title": {
           "x": 0.05
          },
          "xaxis": {
           "automargin": true,
           "gridcolor": "white",
           "linecolor": "white",
           "ticks": "",
           "title": {
            "standoff": 15
           },
           "zerolinecolor": "white",
           "zerolinewidth": 2
          },
          "yaxis": {
           "automargin": true,
           "gridcolor": "white",
           "linecolor": "white",
           "ticks": "",
           "title": {
            "standoff": 15
           },
           "zerolinecolor": "white",
           "zerolinewidth": 2
          }
         }
        },
        "width": 1200,
        "xaxis": {
         "autorange": true,
         "range": [
          -0.5,
          99.5
         ],
         "type": "category"
        },
        "yaxis": {
         "autorange": true,
         "range": [
          -0.5,
          22.5
         ],
         "type": "category"
        }
       }
      },
      "image/png": "[encoded data removed]",
      "text/html": [
       "<div>                            <div id=\"ee01ba06-2c54-4c60-b6a2-a93cac474ea6\" class=\"plotly-graph-div\" style=\"height:700px; width:1200px;\"></div>            <script type=\"text/javascript\">                require([\"plotly\"], function(Plotly) {                    window.PLOTLYENV=window.PLOTLYENV || {};                                    if (document.getElementById(\"ee01ba06-2c54-4c60-b6a2-a93cac474ea6\")) {                    Plotly.newPlot(                        \"ee01ba06-2c54-4c60-b6a2-a93cac474ea6\",                        [{\"colorscale\":[[0.0,\"#000004\"],[0.1111111111111111,\"#180f3d\"],[0.2222222222222222,\"#440f76\"],[0.3333333333333333,\"#721f81\"],[0.4444444444444444,\"#9e2f7f\"],[0.5555555555555556,\"#cd4071\"],[0.6666666666666666,\"#f1605d\"],[0.7777777777777778,\"#fd9668\"],[0.8888888888888888,\"#feca8d\"],[1.0,\"#fcfdbf\"]],\"x\":[\"Github\",\"JavaScript\",\"HTML/CSS\",\"SQL\",\"Linux\",\"Windows\",\"Slack\",\"MySQL\",\"Python\",\"Jira\",\"Java\",\"Google Suite (Docs, Meet, etc)\",\"Node.js\",\"Gitlab\",\"Bash/Shell/PowerShell\",\"Docker\",\"jQuery\",\"C#\",\"PostgreSQL\",\"Confluence\",\"Microsoft SQL Server\",\"Trello\",\"SQLite\",\"React.js\",\"PHP\",\"TypeScript\",\"AWS\",\".NET\",\"Android\",\"C++\",\"Microsoft Teams\",\"MongoDB\",\"MacOS\",\"C\",\".NET Core\",\"Angular\",\"ASP.NET\",\"Redis\",\"Express\",\"MariaDB\",\"Oracle\",\"ASP.NET Core\",\"Raspberry Pi\",\"Microsoft Azure\",\"Microsoft Azure\",\"Microsoft Azure\",\"Microsoft Azure\",\"WordPress\",\"Google Cloud Platform\",\"Vue.js\",\"Firebase\",\"Spring\",\"Angular.js\",\"Elasticsearch\",\"iOS\",\"Pandas\",\"Kubernetes\",\"Django\",\"Flask\",\"Heroku\",\"Arduino\",\"Go\",\"Laravel\",\"TensorFlow\",\"React Native\",\"Kotlin\",\"Unity 3D\",\"Ruby\",\"Slack Apps and Integrations\",\"Assembly\",\"VBA\",\"DynamoDB\",\"Swift\",\"R\",\"Stack Overflow for Teams\",\"Ansible\",\"Ruby on Rails\",\"Rust\",\"Flutter\",\"Teraform\",\"Keras\",\"Cordova\",\"Xamarin\",\"Objective-C\",\"Dart\",\"Apache Spark\",\"Scala\",\"Torch/PyTorch\",\"Symfony\",\"Hadoop\",\"Perl\",\"Gatsby\",\"Cassandra\",\"Facebook Workplace\",\"IBM DB2\",\"Drupal\",\"Unreal Engine\",\"Haskell\",\"Puppet\",\"Couchbase\",\"IBM Cloud or Watson\",\"Chef\",\"Julia\"],\"y\":[\"Marketing or sales professional\",\"Senior executive/VP\",\"Engineer, site reliability\",\"Scientist\",\"Product manager\",\"Engineering manager\",\"Developer, game or graphics\",\"Educator\",\"Academic researcher\",\"Engineer, data\",\"Developer, QA or test\",\"Data scientist or machine learning specialist\",\"Data or business analyst\",\"Developer, embedded applications or devices\",\"System administrator\",\"Designer\",\"Database administrator\",\"DevOps specialist\",\"Developer, mobile\",\"Developer, desktop or enterprise applications\",\"Developer, front-end\",\"Developer, full-stack\",\"Developer, back-end\"],\"ygap\":1,\"z\":[[-1.3793957040837357,0.4338163524993637,1.5100246629109877,-0.2607076348377079,-1.5677697663654662,-0.5812455179207402,-0.7285375131061432,2.216239261492258,-0.766783536482833,-1.8073580111623533,-1.369925824210894,1.8247052663489502,0.5288259953880806,-1.8906158415768035,-1.0406113889216824,-1.4120885992074215,1.5050559422746528,-1.0204779892222724,-0.8441624618555672,-1.5076060015572241,-0.281531555022435,1.4434813334930106,-0.003603769998175798,0.09427735916279231,2.704155227861616,-0.43885850955150835,-0.402247270458983,-0.27611323412854916,0.24950478235840726,-0.5344944959944712,-0.6630534374438605,0.04936790011888692,0.450157462959661,-0.25201612171010984,-0.5339247200075792,-0.02905222760552471,0.014187097486912064,-0.820911321044297,0.8370470594229039,1.0454246307319,0.0468631744297066,-0.24244875284572454,0.1417761665314281,0.15751228007744145,0.4806812488653785,0.15751228007744145,0.4806812488653785,3.7606615562857777,1.8933568139683816,1.193101515382013,1.3396951646362145,-0.8036855123577558,0.8496365372616713,-0.8345762760596926,0.8744047141872077,-0.2590411025324499,-0.5017250091705936,0.9305669945807491,-0.21591490034679836,1.7767171419425751,0.5363967033779256,-0.09549340174786018,2.7845083008742386,0.08291266909780944,1.5061172389203747,0.23952191407703682,0.19828687934782416,0.893225946478879,0.9336801577416799,0.6828994650024179,1.4908988646765222,-0.10276866334912911,0.7846123036572243,0.29539533409288876,3.663366211258462,-0.2089625897866079,1.5213540364260216,-0.03243080888395138,1.8719418237385896,-0.22968672323927344,-0.02074126259875836,1.9766650652683115,1.1187916420635642,1.156486625023335,2.100966929728105,0.3060348084903469,0.29756698250245944,0.23942613999440443,2.975431822509126,-0.04550947583260416,1.2383030629840182,3.4524270657129876,0.903457365237252,4.148711478394605,2.3150776214497837,3.6878790371710695,1.109494740344591,1.4684174343266807,0.7638453825987382,3.17070146491487,3.459063691871831,1.2397908126697035,1.5895510345363648],[-0.006988757912401595,0.6362434631208689,0.6495983863750474,0.6223122554097734,0.21508675457432033,-0.9955697057528287,1.537555916667159,-0.18598616746928967,-0.1403295385780517,0.0060390354734216655,-1.1014004242199276,2.094333814197422,0.84311697784535,-0.8156916983649944,0.47238880190340804,0.5183509153254299,0.07649364687685707,0.16380398213338432,1.539840994691499,-0.13432624775472474,0.257640258033824,1.34816096194045,0.33016063015860886,0.9069881698040273,0.21230101927399417,0.6206983775414742,1.7387814446387881,0.1773321713083857,0.3731402500657335,-0.25403384225748743,-0.49805147394702876,0.38825808156944075,1.890548793346148,-0.010306767706210999,0.9724583005139231,0.21610474341989114,0.3818823515007265,1.3177234240222326,0.5360483555824651,0.807396530012036,-0.7754594925585436,1.029975547372305,1.2841235720433768,1.9692673996039467,1.3123601879334528,1.9692673996039467,1.3123601879334528,0.8972012723152283,1.7211177689967523,1.4667620885466455,0.4533569112637105,-0.6721998394120345,0.2277060910813466,0.9921455000603165,1.2271258727501553,-0.14838332570946267,0.7358143452490093,0.3428668711780654,-0.058145229099036785,1.8036990282630412,0.399323620000513,0.48814268151343926,0.7168769376790908,0.01879254602260417,1.5694281496492861,0.3568528460433733,-0.1122642703264157,1.389405299126169,1.7273413385307466,0.9722131849007412,0.34075416271276926,1.3642784756695965,0.9407117571164615,-0.2392395899668647,0.4569995175928429,0.43173734848544887,2.0778020631958545,0.7840223836933355,0.6569951655570462,0.4913596128860081,0.04298537446674966,1.151266943617935,1.3112626387506945,1.1464198089438498,1.228555775242473,-0.003959905970358648,0.6138499731871262,0.05283605873665295,1.235903097024402,-0.0631943094669577,1.5290421534673575,0.9440524844590716,1.288963282710352,0.9010251847871459,1.7148349046609506,1.1932632852403189,0.21827930534968687,0.6270666288867056,0.952937617616768,2.1870510038198474,1.6053961026495192,0.7851530195651726,0.6218549753633835],[1.5502522148596283,-0.12965971366735277,-0.5786292990616523,0.21340499364719842,1.9200735703933778,-1.6988348534258222,1.7308113411223418,0.670757856552762,1.0445236734538377,1.5084742775969497,0.5277459458283661,1.2302036958988907,0.6648456340583337,1.3667535696522877,2.4264031931525714,2.5017452904286634,-0.7860034001016524,-0.9644087714440196,2.098111050775231,1.8614908081621597,-0.7759850408474297,0.14125381016245087,-0.4419918807186283,0.3756973628451362,-0.2736198578869332,0.19499467461735565,2.380646175326067,-1.2263757544173046,-0.858843945600925,-0.5155331782004765,-0.030916008045961226,1.420277075411412,1.9198064403257562,-0.38689309444186504,-0.5302284149929103,-0.4255824156787828,-1.073734216285482,2.721858613411109,0.7971976405737167,1.2074558989155189,-1.1115277705285738,-0.3789185188930396,0.697340259198378,0.923216788012404,0.21588236097966254,0.923216788012404,0.21588236097966254,-0.40264237965404626,1.9242431970642493,0.006042676450849233,-0.7365299077095582,1.2569670061802325,0.3161670473494777,2.90530143315448,-0.6905280161142644,-0.20963290807883123,3.1654254894899796,1.3978536821526917,1.5948473619862573,0.3651286974657297,-0.41932980316756496,3.7102461084545793,-0.3222382785808486,-0.3884881360236053,-0.15805993373813568,0.28551518223723177,-0.3975941669009067,2.892080050901662,2.583091164114515,-0.11400218077495505,-0.7730314060364137,3.049841647776285,-0.5932645812910365,-0.4622142909601231,0.2568168622837705,3.2711075043185036,2.012592234941947,2.3385690346345083,-0.21665223258424868,3.5867198525895945,-0.34371303851102053,-0.7923070260376768,-0.9378059612425166,-0.5782149873285092,-0.36027228611216555,0.4565918078803389,1.2674492683027727,-0.2597007302776667,0.9753169560169536,0.48130147854312466,2.335404237706277,0.7263793828711069,2.5942844012302086,0.9237641350039372,0.017105000648608554,0.6478898901082598,-0.19433986591018568,1.2185680487497017,3.4809320180349124,0.6502049527776805,0.3322390792019438,3.3275451777886578,0.0972688194420319],[0.8682450252497482,-2.0339260164177344,-1.900843190500415,-1.9711159068413413,1.1119598355817486,-0.1776234308813623,-0.7524024243477895,-2.2847936310003516,1.7081860451377664,-1.4260885232360865,-1.1879788095888808,-0.37201125540520696,-1.8955461518015233,0.9908844407577091,0.2474897431486787,-0.44899983471776483,-1.7191841281638556,-1.4556762768269267,-0.6774127227415373,-0.9951734100495979,-1.9030267668322678,-1.459202589257443,0.205343607068808,-1.4597663282873141,-1.4104124396931155,-1.8028729534943928,-0.838341321082342,-1.4281814546206495,-0.5801052108288096,1.7242158676800443,-1.782777807707353,-1.927415121901193,-0.21865321084690317,1.5629070456028857,-1.7123589225353533,-2.048806191686597,-1.894918173545292,-1.006128968858698,-1.6394732073295126,-1.1017534308869366,-1.478704398618984,-1.7375613875734066,0.499299549343018,-1.4467711775399283,-2.008932145948043,-1.4467711775399283,-2.008932145948043,-0.9410522204255609,-0.3806519710272902,-1.7622553756506463,-0.8364235941942094,-1.1988401614371602,-2.3236029084431107,-0.9095492611923776,-0.7351061916077722,1.4713590767878737,-0.5819101675097547,0.6180789807001654,0.5967066319772566,-1.2781190014229815,0.9031918846772592,-0.3738003518934821,-1.3758620292960047,1.7680494386387597,-0.9422746282877319,-0.7684482358621345,-0.12088448291130781,-0.43845318075160444,-0.9139525353105994,1.3352670319755877,0.1561161850310397,-0.7785690373817062,-0.30588036906660676,2.040205112488038,0.05530001117303202,-0.3678566596809844,-0.4400144884561133,1.194217214352331,-0.44537735141225754,-0.5280723456635235,1.7410559437846094,-1.058649030515795,-1.0294243391372622,-0.3107783609817974,-0.5152375775542959,0.3064694061151367,0.16351866476708007,1.7723696790443833,-0.6830493387200649,0.595245677049173,0.6129412389941036,-0.573371612943204,-0.12715803612949986,-0.20797153816819774,-0.22011694133175652,-0.3190717335172324,0.1158721011549666,1.836600505874412,-0.5008060760370959,0.25805500587011104,0.8411467850792711,-0.31945708512482307,2.6249924336461112],[-0.0023034057979214335,0.6503333763345197,0.6999252585258842,0.3848216498657335,-0.3468359889194517,-0.08826189952976593,0.5408718172027499,0.3985497736193528,-0.4788217300954861,0.0780114120987829,-0.37483481593725454,1.0432382477864697,0.6559582094660333,-0.4183315622855093,-0.3170548828162475,-0.15203958527791767,0.8806110510558178,0.12146147196700795,0.16771353328856564,-0.254713687593864,0.3811073635851661,1.838847350235454,0.6876521500434744,0.4188878380244141,0.6903188932091617,0.4082402057320506,0.31452089882990075,0.1863972210804347,0.2644372038160643,-0.33814598756200803,0.15979006012720184,0.4916492304793089,0.5348138764673338,-0.34907878249107194,0.17219036545054725,0.3410148764251,0.366053039988864,0.1408654975098941,0.5965297466351862,0.2890082347161541,0.0007208407267917738,0.14318215398747552,0.1637670096905362,0.5084421386465883,0.40364520995243885,0.5084421386465883,0.40364520995243885,0.7492389271298024,0.8155133580510457,0.7488060592990008,0.8026301218454714,-0.5030739013969567,0.5890009675647815,0.10381486317657505,0.6960113936110572,-0.3838761588457009,-0.18442483665830814,0.12081888669876292,-0.3923669394143161,1.0800584301915384,-0.09929373197619058,0.028799234384311045,0.8014768350381414,-0.3046496081102556,0.631518244955421,0.27106358124340096,-0.08178299282892035,0.47513969979489934,0.5189346344694005,-0.10659106595674932,0.40199815179816345,0.11764712048072677,0.7530689405828245,-0.22888307493318044,-0.5586510740185542,-0.23099519723575065,0.7584396028611646,-0.5175066186015989,0.6617774963094557,-0.27637777777058004,-0.4035099210364507,0.822239786458685,0.5823642934635155,0.6839500735728771,0.6380572250850366,-0.26750719112993937,-0.604093425645504,-0.31357715364659294,0.7536854403772769,-0.3059941664129983,-0.11727064935823618,0.6663283475656507,-0.010992455945976096,0.2637276567495601,0.25606266071127015,0.6734919447291777,-0.17341992481014418,-0.5626849506121135,-0.09988158344713007,0.12463544068570279,-0.03870246057220254,-0.018267503119184486,-0.23084108424860547],[0.29189312232067083,0.2499024230864781,-0.327757929092047,0.058893796863016476,0.5108906199952356,-1.2398726019479198,1.8768947440002524,-0.6827942602897009,-0.0953924191902726,1.8344608731132106,0.04680337076977009,1.8608469676154316,0.793529657424499,0.050431185143417746,0.6431514731513361,1.2159985892113128,-0.8084941498813029,-0.03235417720880735,1.4035812556545881,2.029272320569246,-0.004992519754083886,0.9437842315214402,-0.45448465442251895,1.2770862235709872,-0.5094642717431013,0.6659055266628694,1.7087656257389774,-0.13688648163361267,-0.31761754349826626,-0.3295880658013734,0.849431738248118,1.3890297906453948,1.9558934493668636,-0.2407892044208742,0.4223842156905283,0.3877726802238408,-0.018028731720305283,1.703175764872722,0.6145132588417855,-0.26083248793115993,-0.42452761773340425,0.5223915689696118,0.10523838855005631,1.0368156882261181,0.9412227858449093,1.0368156882261181,0.9412227858449093,-0.41535125923367283,0.850991664966739,0.2603141815898922,-0.15340968814109965,0.9649602500072132,0.7155434029743365,1.5914473911968237,0.19025870613149176,-0.28696298767298956,1.187057951560749,-0.275650132936271,0.07852962838384436,0.32674171926536844,-0.4617974346950833,0.9901239389476352,-0.5396515956392918,-0.28164326241879684,0.04852197465139428,0.40606191671543934,-0.35009124385477625,1.50988991299153,1.367659504655711,-0.031099120637150438,-0.864932960443704,1.7056746578634951,0.39592117817201633,-0.44932889493588685,-0.3811139671988548,0.6064538823478051,1.9844992812209667,0.6330861120246456,-0.4217193147832346,0.9468981870014106,-0.389511374867833,-0.29609938814341613,-0.3490249787917541,0.5196948400157041,-0.27558340970081857,0.19248656286718488,0.9769842256770007,-0.2713860840187613,0.33496591027338096,0.2733066656746861,0.35437572118098787,0.6685272718482588,1.2144776762385143,-0.03729778250287182,0.13646052951375645,0.30070512264126936,-0.35759716091404775,-0.14318735665549243,0.7628664232134083,0.9852023026629841,-0.04869394378837781,1.0284131984211984,-0.21863180504453905],[1.4228028135225064,0.01822809772247545,-0.12306196570305356,-1.2934417369586808,-0.42705171017012283,1.8741342381759263,-0.10749515502502753,-0.49061206731694956,-0.32207717066999336,-0.18714057489300018,0.8795228538366778,0.15703172086105738,0.4502073110409796,0.7981117290737029,-0.5606434434921687,-0.629371671848994,-0.25934550137630685,2.5826190620678697,-1.2604535782854382,-0.14613936336849964,-0.9758131632626651,1.2513308471809212,0.4160441147896908,0.18002199989900564,0.049609781383763644,0.3590044064889955,-0.8887301402545704,1.4908297154317531,1.6511686039312206,2.0611037392268394,-0.5769775447853537,-0.05834981146493396,0.2300030821774718,1.079764396091661,1.343907073541746,-0.2746095818315985,-0.08074580228245802,-0.5800563018563994,0.4198229296685591,-0.3013748435569801,-0.8985237387223516,-0.01892933765590177,0.19678179802587756,-1.1248192557104078,-0.7236089918662021,-1.1248192557104078,-0.7236089918662021,-0.23223962033255902,-0.601550457579975,0.4700724440694868,0.6974828822200569,-1.0439500477886199,-0.5124141710753862,-0.8572942688541886,1.3924208934874986,-0.6397679382309419,-0.5994635337326333,-0.9119261452795061,-0.7133937530736522,0.12374017154306285,1.158876164875327,-0.20928353093811608,-0.3537476445812541,-0.23774181921894214,0.6238829570158768,0.5674262972814617,4.578863713652795,-0.3359415883558294,-0.5984352651423845,1.4588083195591637,-0.532133586441635,-0.42452265160952857,0.6904395737587022,-0.62686650026797,-0.3040626991517659,-0.6558279926045161,-0.38408085384192653,1.9242008603690703,0.7575162771080656,-0.4960019415365297,-0.34299594761158925,0.6763667065989031,0.9532576686180816,1.4485872728502838,0.5800575749241338,-0.662886762913694,-0.6128790955185075,-0.3453208221348193,-0.12190707139329861,-0.6086139193675572,-0.8499908047769706,-0.04318070858934757,-0.970250182981443,-0.1114942801790128,-1.2079967189525274,-0.3408059480051374,4.359325484112452,0.35894048550707547,-0.4430313323605931,0.014906293633239705,-0.41939624165866096,-0.4120271285041992,-0.3504876427936669],[1.0387450371455917,0.1472993591097731,0.3773313253149117,-0.40156232536865377,0.00643416383293464,0.004291396371472371,0.22628046440320693,0.6903415060028965,-0.20268194094379596,-0.41414064413492846,0.5387583787108493,0.5845573293174857,0.19640284086596763,0.9594034573223262,-0.23728982728838652,-0.24925888864410328,0.22245340986567727,-0.5187299411515335,-0.21762568132689283,-0.3347744706567967,-0.6351283437017143,0.8320177953796528,0.6444913329903635,0.30293109326462636,0.4219616747333671,0.09045845685165556,-0.5917166662888648,-0.44491554795464056,0.0844286720575764,0.24611088017903643,-1.066039386509527,0.5991088382923162,0.2736688994273619,0.2600820634999152,-0.6955623204441256,0.14479567065639212,-0.6223568592639015,-0.34010972757121544,0.6908500872959836,0.42879119774982194,0.10754522237921442,-0.6475527437710878,0.022600953700308648,-0.7576190753283794,-0.7087929084129273,-0.7576190753283794,-0.7087929084129273,0.3331342527857797,-0.2763102340642573,0.1577522799703479,0.5562343699970888,0.5953362960237971,0.038137118590335604,-0.46894550215740183,-0.24724901708479002,-0.1391949410979118,-0.39218827762435593,0.17364542972246422,-0.1951813551902591,1.7148056783226349,0.6542565631192923,-0.45407439879001926,0.3567872508969132,-0.06304415375499293,0.38452627606144507,0.5122231870712759,-0.024984048085992878,-0.04798660100431768,-0.041139207462127805,0.5915996435590947,-0.26251981076059266,-0.3973340471841215,-0.12862331302216878,0.11587730667408891,0.6993885066833321,-0.2539178009963889,-0.01749213699980467,-0.2981690496699542,0.44760772246277336,-0.3766749178888411,-0.11546401662625794,0.3437533691170641,-0.23752122666246905,-0.07176860922281798,0.3242613480720634,-0.30541061277431714,-0.25113915685313665,-0.14508222228531778,0.4306977466349567,-0.33040631067779397,0.10836975933740818,0.44776068106525013,-0.4742556367428962,0.13353993241215117,0.10629959248405549,0.31136490507146464,-0.11109640200511889,1.463360134403271,-0.196270639415094,-0.22573591135070586,-0.11749799982927692,-0.23825322789945558,0.22566586671261402],[0.859881632069347,-1.4073284165528295,-1.159514362847717,-1.6034959058309513,0.5746271665470774,-0.3073158132033245,-0.7984982252021484,-0.6998760695858411,0.9713014632257141,-1.6643858958951254,0.5071600317105205,-0.44761463375379024,-1.5400568975173112,1.0675241791666916,-0.3989779048628884,-0.644289926103696,-0.9567225778737534,-1.2096344815040827,-0.8177055389679136,-1.476190200449823,-1.6082580946875435,-0.8480999256150238,0.08899603449364828,-1.2207265766236057,-0.6008208876773803,-1.5335123504498964,-1.0350707980477158,-1.28726004178549,-0.10096540035970414,1.3494635174703211,-2.0520790033708396,-0.6022461326482726,-0.7504454277494494,1.3309629608829898,-1.663479628015083,-1.1568793793777803,-1.4227552573031033,-0.9263177275908591,-1.3394381907451036,-0.7906971884822971,-0.8333900020559722,-1.7519540379061813,-0.3333021495604977,-1.6072681987918718,-2.01761913695765,-1.6072681987918718,-2.01761913695765,-0.3428618535992819,-0.44780481751759177,-1.2260770875702658,-0.31758099503899045,-0.3505647571386167,-1.4213016646118326,-0.8438398913595577,-0.697527597428068,0.9830141341874881,-0.8185057302110135,0.5066452756042361,0.232077374174819,-0.2875701223827574,0.6295361428903468,-0.6965757131714451,-0.49294719206289106,1.1732231140495144,-0.8507704403010632,-0.5585450323246552,-0.23600227390440895,-0.7629402711411283,-1.2153179212201224,1.0571868724806754,-0.4138683289440666,-1.0613777278213377,-0.47435801279944634,1.4116298926105413,0.3084703164328726,-0.6032868842720676,-0.6012359951106474,0.23011061467401228,-0.37495627906869355,-0.6776153481593508,1.2153774097009749,-0.7800899633632848,-1.038966266279948,-0.4750892773117458,-0.44720902682383934,0.13890672807020965,0.10265593795746125,1.237065263743245,-1.050348130582867,0.2614642657079451,-0.032417595035830166,-0.8306487882059292,-0.31193257429138704,-0.060379317423313573,-0.7341399499843646,-0.5727027362207943,-0.2605109637880939,1.7841387455812736,-0.6089870666150133,-0.48140269869078,0.3706023624296329,-0.7142609719607407,1.7986216029083848],[0.06872281741648986,-1.111219238706015,-1.2594944219448896,0.8766673935370626,0.6449616768335302,-0.24694536236324627,0.3557706587578084,-0.1588628159971729,1.4866593632843212,0.6528065114276754,0.651126504132036,-0.0403702130928247,-0.9789011830358688,-0.01832462576988602,0.41600443559436534,0.6749798179082577,-1.0184700359377246,-0.8982208516727304,1.2780786074868136,0.6758113375330174,0.24782346095412586,-0.5758151132080571,-0.08343722419378917,-0.8273558553739503,-1.0033219035385106,-1.1269208326365683,0.8148077328723055,-0.9991312117645479,-0.7972683316355091,-0.23288937162168918,0.5396034187926894,0.9389598568590709,0.05765254397943109,-0.06927497553109108,-0.9708357347261461,-1.1108304781471172,-1.0636343930990548,0.3269403915096321,-0.8685833617986662,-0.653820265078493,1.2659178194818985,-1.0262372052695796,0.16306445383624366,0.22400461239163288,-0.196718304182752,0.22400461239163288,-0.196718304182752,-0.8168004465229652,0.9417646924895491,-0.9658916498279777,-0.6324449698186138,0.7895458142819239,-0.8455997428467167,0.7858214298749256,-0.8852742834337356,1.6690529716708766,0.6263415700686197,1.4811456330669768,2.0148182275408195,-0.6584489039821102,0.09596702992414644,0.08083226755934611,-0.9826140333766025,0.8368483238512785,-0.9027678245496404,-0.5171210514042347,-0.38107760802392665,-0.4208444554346195,0.4196936865665848,-0.24251800152055208,0.6162371937160923,0.587579773886257,-0.7552007594744646,0.8010055736278389,0.30872007890520464,0.06360246621607538,-0.50113944121986,-0.20849779443754773,-0.8226209311229561,0.40748928549017305,0.8251826967250814,-1.1344364901092276,-0.8615631631227035,-0.6609761925240395,-0.8991695416499988,3.1144459444353783,3.304331009700809,0.7646054983762581,-0.4460239698136905,3.0714797320542107,0.16654850700828508,-0.666946859833337,1.8051818186060946,0.009326695287754934,0.7142895257226128,-0.6260936933527668,-0.34982982289553666,0.021444102618120457,-0.2109429757771199,0.49799295858643433,0.30589946537638313,-0.19737707672355462,0.27058989717502474],[-0.09996641675379951,0.49068884125587603,0.4277510775977667,0.4180430585073047,-0.0624264861424848,0.7360227653824639,0.20909740806360666,0.41845671427487535,-0.2914211470442006,1.1347596313714328,1.371552412513277,-0.13898794214128427,0.3664889969234814,0.3556359608894403,0.24302518720368194,0.12903677364837488,0.3996183145438262,0.6181931513418076,-0.3691229727262635,1.0713727944627138,0.39248309759774996,-0.030041137269429904,-0.22073729437925257,-0.02703933503964947,0.1155238476973944,0.3156517663133605,-0.20229004341541718,0.6074957221016084,-0.012192729625622381,-0.2785586425034176,1.1243070344203645,-0.13603140876152958,0.1841298530280733,-0.2644468731257963,0.5679608480271604,0.6134054418282808,0.5628623095100562,-0.2794708249580323,-0.09344548126086032,0.013336692658198385,1.0788348390381568,0.4795657603872318,-0.5382927657662794,0.17679267805289428,0.4755984060822201,0.17679267805289428,0.4755984060822201,-0.2119446844254578,-0.7014700711579162,0.12955304960894748,-0.024159015983275033,1.0557227850034228,1.212501942409234,-0.004171571044384622,-0.011249579191916634,-0.5498120816444604,-0.1029140822017132,-0.5729398797283982,-0.5123338685973243,-0.5740809964423927,-0.55770641120502,-0.24713884339814773,0.24925340272053195,-0.6028505790545716,-0.3646057143983469,0.16032273331754537,-0.122163174432151,0.27052468736273794,0.40443054084370494,-0.3923396504702544,-0.08211624409577153,-0.16597244074297374,-0.18506306523484153,-0.6440088120689497,0.49087988009035755,-0.14745635458696127,-0.04647488379089574,-0.559388056890263,-0.4432398788963805,-0.2064539520454366,-0.586507130546268,0.020658741384983317,-0.0745715163516658,-0.19095330328174098,-0.42407933585543073,-0.5151135250541866,-0.39983499819906965,-0.5713142584345373,0.15070469586184618,-0.5308488755773263,0.23306494956360876,-0.5136165395106329,-0.5010893049050701,-0.2164583756850211,0.03167230555951224,0.1710170276488853,-0.18638439680104968,-0.5653536274089623,0.02225867197360148,-0.4043284007654946,-0.3164844264307863,-0.1176076836026772,-0.3726011165171511],[0.967076285498978,-2.0553805104496368,-1.7606504243877041,-0.1804718281210389,0.720565437245754,-0.36172287328974495,0.16760034240237398,-0.8526348000741512,2.6148476507869254,-0.36855790879145617,-0.6773542237183563,0.04125031098237779,-1.9464254034912876,-0.08179413152863334,-0.07896065758627525,0.22884339796838765,-1.8612573503556866,-1.5851909601659178,0.5312367597338895,-0.2052853102660454,-0.9006494976610825,-0.8588437979865869,0.27999588425071037,-1.2387176093647903,-1.7060621514670447,-1.8112016086816658,0.2523435507670409,-1.743317676770024,-0.9171481815706282,0.49730533649320385,-0.37356972918383374,0.3860820770952778,-0.19664185451642083,0.21532424141910095,-1.7086628542426907,-1.7774271856246004,-1.8745373300010353,-0.558675202829391,-1.6269682972038035,-1.3329222037288517,0.19594531496716336,-1.8171703206452872,-0.0061398086810772285,-0.2670745046121718,-0.8343733441344373,-0.2670745046121718,-0.8343733441344373,-0.9059281444510309,1.0704596390222787,-1.7117749646652345,-0.9318845214829982,-0.967042317280396,-1.8715859833217252,0.046066146678692826,-1.0222419210459557,3.291583827472921,-0.03271864495362059,2.4576193148447327,2.894423165550614,-0.6112072074566481,-0.10187194742363039,-0.361613759255187,-1.5563686702093122,3.6109343256038575,-0.9550275123895259,-0.7771379765992944,-0.4052640605240288,-0.9584772125571626,-0.5329887937380327,-0.15278460366290778,0.025732670377953126,-0.30827336784848913,-0.7381332005886125,2.8366067922330895,0.4913846271129449,-0.3756568610929471,-1.0006170612443355,-0.03805387824805691,-0.7264639883747208,-0.2841291905950077,3.6812767324840125,-1.5811474346898458,-1.4555907923734033,-0.8611950460393678,-0.8354871862308635,2.6456186225613307,1.5135269767983148,3.6225337223070273,-1.42384810677716,2.526671360474744,-0.5615381270492553,-0.7322999787593654,0.6293890534649687,-0.03790737784028608,0.10112046899473152,-0.8665860844886855,-0.33004158531899946,0.8931371403710135,-0.42590997887795695,-0.6270588548760868,0.9410140797453086,-0.3665600805516514,1.72701051815543],[-2.3197688070173217,-1.039842272891999,-0.5249430484795043,1.638118586787189,-1.1376935907904404,1.1245860659716604,-1.5125350521858199,-0.1643243779862855,0.47677332431323494,-0.8373610775682041,-1.6542569297253285,-0.9436750238975627,-1.599484776993867,-2.3383533547695063,-0.6362088638723429,-1.071364381766367,-0.3644344659937136,-0.2522034064914315,-0.23155899353026235,-0.8416306965567549,2.0462010684407006,-1.2926846175797502,-0.4708998951204451,-1.489929524443529,-0.5857217720962122,-1.370932991883436,-0.5935365619678129,0.09795224308639305,-0.8178779484245073,-0.8249109037685193,1.0331133889822275,-1.8163391284629864,-1.8036927232102644,-0.8166037193855255,-0.4797939453597701,-1.3145405484739843,0.3989980910999552,-0.9945335072798364,-1.6684218285106058,-0.6624878144137162,2.7575484247048405,-0.2782203343877258,-0.9817730319795454,0.38030576979172565,0.10509226576861326,0.38030576979172565,0.10509226576861326,-0.1537067016776485,-0.3548869371732604,-1.5014262687022435,-1.0302673540242104,-1.294001532581329,-1.1573001226512827,-0.6007887118739684,-0.8674821883557685,1.156458624961878,-0.7929275752132958,0.33646450051056703,0.3045505049983551,-0.8481092858108394,-0.7285812910969139,-1.0007158272827656,-0.6755080799338185,0.32691103720543463,-1.182076887005522,-1.102466347125415,-0.6036693207349204,-1.0574144436862833,-0.8047658274159595,-0.7666759717335971,3.1380773941877056,-0.7331059884846038,-0.88912285009506,1.5514992182459755,-0.11997659820731221,-0.6614217875292514,-0.8624548523141153,-1.39427490741848,-0.9014483539492442,-0.6285355803273869,0.2726504720306157,-0.9727138967157232,-0.560290071395095,-0.9098663155190627,-0.9410680174069564,0.7413378198639561,-0.10945075302845263,0.20812600394311023,-0.8415684589930015,0.9421121793336104,-0.2645232496535238,-1.010097864029715,-0.4679056752417882,0.15427763419327423,2.039194011970035,-0.23241497178320442,-0.5920394295125304,-0.4801934052679366,-0.49505454274718147,-0.5990033934301551,0.3182795287309842,-0.42430977025664146,-0.009916240249301161],[-0.6950188949954622,-0.9496865830673903,-1.085505670470425,-1.2579487149933684,0.7156062811356647,0.7558340779235321,-1.2308650807436166,-1.1029507790418418,0.224939246112101,0.27354882508233963,0.4989625040149623,-1.120215412295337,-0.6623869230147599,0.45301732095034597,0.4249702387181163,-0.3522756394099578,-0.8642236338379458,0.6154220096210046,-0.8600217064873934,0.17672576220013703,-0.3710290542682916,-1.4945673545261262,1.7283918765415498,-1.071045355992324,-0.690326571046481,-0.4960132162913369,-0.8721846845869079,0.7780381275954887,0.9235063779152178,2.6567251141353108,0.5706906709284522,-1.4210526629807172,-0.7705912668174338,3.356250543999909,0.5390893163623508,-0.23048220472379674,0.041315242953483176,-0.650599618907558,-0.9711526917703572,-0.45068291733533766,-0.22117090173859708,0.05669604032386313,3.1144495415135043,-0.6453764496233598,-0.13272008250766693,-0.6453764496233598,-0.13272008250766693,-0.7106279433017381,-0.9452959450731603,-0.9534227511155716,-0.11698960316908487,-0.5926304809705374,-0.029153193917820484,-0.8230618111956887,0.4695028826847251,-0.48081376136427945,-0.5821497215834673,-0.8007961829117196,-0.46815529382286836,-1.5505914927876925,3.516807318770595,-0.12003581370436402,-0.880686213214107,-0.1057699350795273,-0.3379610788654308,0.3210574300150527,0.062101701736249154,-0.6651475748001795,-0.7242922701140979,2.7174188020612386,0.07960779567257506,-0.5088364732734394,0.5432798135021216,-0.599691788362982,-0.180873468553671,-0.43860151210953496,-0.8706502464414412,1.294080008086517,0.3436027388112135,-0.6099401052038163,-0.25089335011265407,0.4899573639125327,1.3480250998429624,0.9268034535566918,0.3563806629445746,-0.5825605796237388,-0.6652774266420355,-0.252709276111445,-0.7910830329211891,-0.5937379046534434,0.09381409831684859,-0.8633118972679769,-0.3908333732593599,-0.4316687838133759,-0.22547440403695276,-0.8073424344366122,0.032433792705546,0.050404196416529254,-0.5764961797066562,-0.19278611880742244,-0.3563622123316158,-0.521306559550117,-0.4494051746233768],[-0.4770537148132398,0.43529837091351725,0.6875815007083236,0.993832834772325,1.492080281278601,0.23980691527204273,-0.607154752978541,1.4370975712563177,0.2796164162958217,-0.493893287843713,-0.492209127341742,-0.06684194549173832,0.06741834695425453,0.8907651232770308,1.6775202210174434,0.49304214746594827,0.838440564738629,-0.21840880678709254,0.7412224810014459,-0.36999517727783376,0.36716348732741055,-0.39128125514745304,0.7303240325514507,-0.6681327177136918,1.3823423662259868,-0.34264116188279325,0.17785897875086404,-0.14731443705141653,-0.39086250895011326,-0.2564056371323158,-0.2566151992105478,-0.4005672015607681,-0.40769396289758586,0.07072811717397358,-0.3451591742082446,-0.48629969100910725,-0.2115291944037437,0.5680604908920315,-0.27011527579953376,2.788663909609683,-0.14477241334252602,-0.4380599504958067,1.4623192729900512,-0.09814383331208704,-0.3277405433361117,-0.09814383331208704,-0.3277405433361117,0.47525391623685703,-0.24818989069824973,0.4912818114304359,-0.853709760859935,-0.8754933602774163,-0.4795961041712596,0.33010838173419216,-0.5337399195938617,-0.46436813895257867,0.20459522350509682,0.6987586768295782,0.13813773876516736,-0.5862139174841483,0.32028063449495003,0.5079571950342029,0.693964049567787,-0.5631455769050375,-0.8872453373090274,-0.6041883929063019,-0.2261447358932763,0.6215156478560285,-0.05061282769894003,0.16505952321596726,0.4696618810810645,-0.3252011762680336,-0.5607086893631615,-0.4771899355701895,-0.9303497357702458,1.2579210763194753,0.12475940036468372,0.47706256158687943,-0.5133990904756711,0.46056004178567334,-0.5523225850042688,-0.27085316030575496,-0.42003704399804076,-0.6372165545172014,-0.45180057972645016,-0.4169954512398972,-0.5338248142769475,-0.4899932302022711,1.0851064137124016,-0.40812120623151016,1.4900434669420672,-0.6147191320550417,-0.01894386816858651,-0.6763686011461695,0.026752040845910322,0.5881242298006872,-0.09929285829676428,-0.11254739087193483,1.0600872326414141,-0.30081971337224295,-0.4520891188878509,0.566372156192193,-0.4524024686968485],[-0.8524035299726946,0.9756548636709039,1.3069960995854752,-0.1375318884851582,-1.3105847529750112,0.6056127765467717,-1.3243234545696543,0.9619651306386323,-0.9948101590206099,-1.1210827995644868,-0.4703978156981817,-0.731336715198245,0.5512940546814848,-1.2099336189097083,-1.1514874227263088,-1.3166533663491469,1.5461927386900876,0.19473363740271257,-1.4910577361158472,-1.2877844000902579,-0.02358740768408014,-0.30370182983726607,-0.6773730057786675,0.49718966551902766,1.1304295674071032,0.32758573829307047,-1.1122516899902228,0.22694951678905548,0.18682382103356648,-0.19365825221708013,-0.4754790981666729,-0.6642994162697045,-1.045751296819164,-0.13071215619386306,-0.3400736802973634,0.7735211093670246,0.4252418839520499,-1.0585059379887969,0.49048894472029914,-0.21205084603495022,-0.1452044291463944,-0.4017638790932899,-0.8436103069525425,-1.1876253752790953,-0.5673479837856918,-1.1876253752790953,-0.5673479837856918,1.1770220743212045,-0.8073057673121985,0.8763010584066283,0.6307477832201087,-1.0657593151050753,1.1304993419445237,-1.0101631585162374,0.1090781500487977,-0.7398039930515657,-0.9325116406516392,-0.9593302037284163,-1.1100243947017039,0.3802365698680948,-0.2786535110802398,-0.9520585625557657,0.8057282755099437,-0.6916237844712382,0.2657540532867125,-0.390187730467353,0.1174489707486249,-0.7957047874334888,-0.9409255607105889,-0.33295019788794616,0.09044638321760107,-0.9312059755361314,0.04367847776263261,-0.5830393533621572,1.0289301873622518,-0.803895879098755,-0.6581468848868605,-1.2742358345890572,0.21743461780721451,-0.8198315896281763,-0.7014295535302834,0.3066305492665937,-0.05498844485569233,-0.16785714593646783,-0.0067487258703311966,-0.7563524244722094,-1.1883186477459695,-0.6147541636964515,-0.50965140656095,-0.7819291394673045,-0.7101569946434766,0.5955627406959202,-1.026116317039055,-0.3577843664842712,-0.2666206804528324,0.37173308751147577,0.11409866094441398,-0.929230496015008,-0.5805896956525362,-0.7453505194662586,-0.5474343856443412,-0.7013728444936687,-0.6998426129959124],[-1.2499370786263906,0.7889254977087327,1.0991385868352528,2.4399630325195076,-0.004350390838021021,1.1281172984415881,-1.0349977255106702,1.8163695867161784,-0.45922788508839046,-0.8138342212011194,-0.6810409187964063,-0.5998677758356685,0.05673363591737181,-0.6359632170175924,0.36011950825411737,-0.35782804031179194,1.8486789455654433,0.8809708282428956,0.23845393651759833,-0.9581541881261971,2.0803967175709106,-0.5243600284966585,0.030063465878745678,-0.5446020279174297,1.6309060365442398,-0.2319595913590223,-0.05004028717372624,1.2327971378976414,-0.19765779660661792,-0.6434365033303976,0.2301864617634223,-0.444889342385406,-1.1413905863020823,-0.5905184989983914,0.752782086906366,-0.024720709841984826,1.8977421324018997,0.07082164831106558,-0.20429118071683583,1.8445165535035988,1.0415548519955087,0.9582898420755573,-0.12305107375073657,0.5198600097722943,0.45984184381369136,0.5198600097722943,0.45984184381369136,0.5605590545138311,-0.41253675977179916,0.6258890200781249,-0.3670650371484969,-0.9234507415924488,0.7150568714156148,-0.06384667474947407,-0.2575232535299498,-0.4133237800896815,-0.38216521363486705,-0.20726876473836203,-0.32975087526845426,-0.9112449781931672,-0.2854122165661897,-0.27085685895254685,1.7993581546176163,-0.5912098044762153,-0.35034789774106767,-0.6552133472103976,-0.2934904116802609,-0.562439500161487,-0.24001599044766003,-0.397893570320298,1.3709888844856808,-0.39158640940934053,-0.39203115856535004,-0.31965035069801384,-0.15648657669082236,-0.012031750317168828,-0.5381360288570771,-0.8394713683284336,-0.3981435399395961,-0.2561047325662189,-0.5784660604939142,0.19403267513746725,0.4666505072215403,-0.36479812704592035,-0.3856614019367326,-0.3789847315781977,-0.7051856213232468,-0.5197771724528158,0.9531839842361743,-0.3510558030977967,0.4121783971306734,-0.6692449218285871,-0.3868816463293476,-0.6265827924956435,0.3818753447280892,0.2585990307135848,-0.3597034986425284,-0.8510013705049211,-0.15838719002457186,-0.35070107752740487,-0.5541823222925852,-0.24836769655235888,-0.6959134824907671],[0.8612229050822908,0.3538074562236667,-0.09453124190500113,0.3779635678865136,1.4996175304924084,-0.8034777157855277,1.5038172589112455,-0.411857612712373,0.35216062157484446,1.8353729225209967,0.15425450005633778,0.1579028273690748,0.7923566350238415,1.8562167376121868,2.105516386961418,2.496107872044431,-0.35770129638606424,0.20044602396058103,1.4322773195573564,2.02265809212735,0.4759052312154307,0.246489867783235,-0.6807821627994873,0.454588152309022,-0.49212186320264384,0.9895443653206808,1.7216741206118322,0.15432582016879215,-0.8276058824698937,-0.9104139678655216,2.050610615535464,1.7092175779593848,0.8586780025218538,-0.8125612884451836,1.0889278270590301,0.9077955995033573,0.47685861095609444,1.773459942639333,0.5463178003399156,0.8646967219429361,0.08745500428903158,1.4845365001563153,0.47644943329418177,2.4075060546711198,2.4761953501004657,2.4075060546711198,2.4761953501004657,-0.5790417337935659,0.7220824178690848,0.678265062197839,-0.6927449156438608,1.7008654556929708,0.39162953622570246,1.8433049296727877,-0.5877611694035079,-0.3478395035019957,2.286833600598805,0.3719094035109421,0.627626267019653,-0.3921030401185275,-0.8460870252728949,1.6821358012669632,-0.489692050408716,-0.45968970115469887,-0.44973578777287065,-0.040598657169198,-0.4754401589524237,1.226878770586513,1.497293858257336,-0.9536353425074229,-1.0881310130050172,1.6942426587416946,-0.6812987304514313,-0.6130093232725021,-1.2975229257068284,2.311000253400391,0.41268413435900436,0.48406567144074647,-0.6880331552727819,2.0506738193946052,-0.42071319384929956,-0.4042877157327104,-0.52078092087258,-0.7604441807521578,-0.6236206023369949,-0.1198500139196782,0.2807540265557163,-0.5479081279754203,0.3820359060347672,-0.07317434003333206,0.4710519064597143,0.060800079779662064,0.8620741740891257,-0.3724136181428807,-0.03036180145479817,-0.1943020311226286,-0.5752639544090341,-0.3548729705483387,1.4462052984916234,0.5277817865622959,-0.3061976832020821,1.6143887972739113,-0.6504099266060402],[0.8652540177243672,-0.045903094750389534,-0.3264760714674146,-1.1698774582885136,-1.7812537298625843,-1.3724702398351334,0.4364882093103133,-0.022948596906680795,-1.3998608522228515,0.14361005209398225,2.865545125398042,-0.426467606096295,0.38734444294020864,0.0612490858029262,-1.5924012518325685,-0.9966362622738437,-0.3452991341442507,0.06640758747160018,-1.22623048456655,-0.2963965040310005,-0.7640354955786313,1.2030889912339577,2.95135247420769,0.7052246970926307,-0.09656344908323405,0.6498714745010795,-0.7463402800124909,-0.28693506356757265,3.742355049216415,-0.39079833881189036,-0.9216086269494863,0.10774994606363594,0.6808136527426109,-0.5448572605047667,-0.17507716159409042,0.7019504059805798,-0.10229935003908272,-0.7139675788807182,0.9082820232072717,-0.8294220182418307,-1.2656907119404335,-0.09726740130734327,-0.9507152385165668,-0.8909936814937442,-0.41411119020807313,-0.8909936814937442,-0.41411119020807313,-0.2872398082430403,-0.226897609671541,-0.3944728034244467,3.5396545337768637,-0.01630458656468319,0.07655266139972637,-0.8946591408639151,3.4758118675965233,-0.8283531002561955,-0.8795630425903006,-1.3095589758721984,-1.191896468578547,0.291035955373276,-0.15551374592780018,-0.7855400738010242,0.21824777720839256,-0.5663887870577935,3.022179571211015,4.12154731506091,0.2074687759684268,-0.700606677161587,-0.5723260802912367,-0.9426921874673823,-1.2468372953432578,-0.5991918521800599,3.872021724634795,-0.8088547822586957,0.03136678192980733,-0.9298207529357481,-0.7122463895893276,-1.3448737632907186,3.4997398901843475,-0.7230384593835897,-0.5903060664013282,2.6867210925000395,2.670438675601566,3.189793024658084,3.2600490446623644,-0.93514351579658,-1.048822543272634,-0.6893547804844474,-0.8589094710781563,-0.9553416815940131,-1.627141936367287,-0.2765050803369107,-1.1855671928494864,-0.24139990857358326,-1.6708046788932285,-0.9047715587516776,-0.14297911601729005,-1.3920451648335126,-0.959328714988072,-0.6735638018095758,-0.7792313233506676,-0.9963360639938611,-0.9723720816244806],[-1.752293405491536,-0.14902308635661551,-0.2552809971381844,0.2526327888030118,-0.8015743842435175,2.525875030652393,-1.4346181323722285,-1.3658810863452633,-0.9814905238253046,0.16353162224495843,0.7210096660300903,-1.8969435882853067,-0.7061918056421078,-0.9882543880683426,-0.4627259732795109,-0.6412643159950271,-0.08305185254284178,2.2978729183169833,-0.9827817545220467,0.21008850999680803,1.9408834688890697,-1.5383083642414364,-0.23216099327126466,-0.7825209073374059,-1.113972253328595,0.3939104521110068,-1.0712584611001097,2.9014122150982797,-0.18451914569758396,0.29484765484397063,2.0275754573944167,-1.6385644134648798,-1.6003159350165794,-0.08326111889993047,2.4851295583136332,0.6360179143067635,2.3284215940865383,-0.7941579981560797,-1.050776549708285,-1.0599492693591113,1.8195563924197347,2.304922572274841,-0.7344820819629713,0.8363652758898686,1.617665444987267,0.8363652758898686,1.617665444987267,-0.9256512956904915,-1.6967979262937647,-1.093083243785931,-0.8874809714701044,1.2105668365995186,0.1265253396101983,-0.6608184659928327,-0.40148068807447396,-0.6998138888997937,-0.5682135449485827,-1.8504808641864188,-1.1328350380338807,-1.7200572638548053,-0.5554045131481996,-0.6858700098146843,-1.3288359859816536,-0.7234567906536309,-0.9007058856133687,-0.45420989845400994,-0.13380333346824383,-1.3760680686990139,-1.222770860618737,-0.4390487449982497,0.2828790673644994,-0.8759779597615711,-0.43754134124911664,-0.7100637781750534,-1.0737256334170506,-0.7169727771778719,-1.6204995936987994,-0.43915675411835053,-0.7393050975427455,-0.6484511882975063,-0.6211864824086996,-0.4947107833084407,1.147155600671791,-0.40374369695592216,-0.659610129995983,-0.755022960997386,-0.6993229559748334,-0.6899992603439864,-1.400125223745304,-0.735094432185181,-0.9419440473207829,-1.275615133163807,-0.9345252169674954,-0.8989442024167301,0.25142686018305743,-1.196457515478476,-0.32418043808442354,-1.0198180746568855,-0.8114994497466842,-0.7831238835831078,-1.0508056253720552,-0.8517981166964493,-0.8458580363506252],[0.20561591332024093,1.854044537766451,1.7031821986197975,-0.4295329579446723,-1.237898496023395,-0.33813689312986034,0.2321849413381001,0.0773405579318511,-1.3913008501744677,0.24565526875992613,-1.0040350162870402,-0.6591788314413439,1.7002615320621282,-0.2739166787625252,-1.2483849301335914,-0.47516200586250174,1.2023981793026997,-0.00522911472871553,-0.7156472224483181,-0.10935286075169605,-0.2447804314044424,0.3773088158042073,-1.7527749166971023,2.3733779784987097,0.3698272220927008,2.0456700637730476,-0.6240954884042554,-0.11221381645507066,-0.20865630616188396,-1.1807385756365896,-0.16855240368082322,0.7958903630300513,-0.25791148151299853,-1.211119556550845,-0.0016058942431197664,2.1604948204096455,0.3815872596498818,-0.40221281203752407,1.8519006152447608,-0.6318358094795616,-0.817223225341592,0.30973135711344013,-1.4284499348563924,-0.7346315955284549,-0.3696875777893922,-0.7346315955284549,-0.3696875777893922,0.12067544718875832,-1.0223113552761829,1.5537390025201554,0.4703111855328679,-0.14757083014447203,1.664429714050228,-0.6145664253262085,-0.1646320572212724,-0.8218247224004871,-0.6434916587380527,-1.248357319556847,-1.1168832199565304,0.9145630917989257,-1.1822802083145383,-0.7581089711791006,0.3682151062066598,-0.8397487815974338,0.8064291495766318,-0.5180902990881173,-0.3071851600092835,-0.6365732795568853,-0.5959870059622319,-1.447628323637686,-0.9378107596613233,-0.6318872147432958,-0.4057304914249124,-0.8106347051587443,-0.5993895687341622,-0.7653578988173734,-0.4362798685490129,-1.1426995090906502,-0.306126935421024,-0.6543262940659105,-0.7079828908945826,0.3944627628733133,-0.529212127512567,-0.6725716792197098,-0.30021378067536675,-0.9648695230879835,-1.0151892868134789,-0.8182229537567124,-0.4247211117984229,-1.014040743506042,-1.521820474447956,1.0111013106475797,-1.2821003992881268,-0.6139992643324932,-1.4949815714209407,-0.4598614956909305,-0.5599246715157878,-1.265010053441752,-0.9125303619578699,-1.1321301773646604,-1.0692019551214267,-1.0094960755172004,-1.0457023653465787],[0.09736947409908028,1.632874252512643,1.181562721341352,0.25521409168283005,-0.6151750436160338,-0.3413513974819931,0.4403171541383898,-0.04758985227126315,-0.9734436943084726,0.5279327590318444,-0.252182747916169,-0.7226147102857324,1.3894939010985343,-0.248041998947955,-0.7723413853107183,0.1441498793954312,0.9685666149576895,0.36156756493636627,0.06109230582274913,0.2851911339486932,0.30248564119207483,0.11051484062229887,-1.623364315126203,1.7172116524436876,0.04140492580016088,1.7706789190588552,-0.03450138347614288,0.25647122852205556,-0.53776165955892,-1.1558932604531549,0.2811648767616494,0.8924221307076023,-0.3270501186092072,-1.2459349119431697,0.5820316854862317,1.741309581279078,0.8684345745677393,0.1936387922220686,1.533030038410471,-0.531764993464189,-0.3258333113790492,1.0730212749338304,-1.2186306601902621,0.022461864589380653,0.1456974608658554,0.022461864589380653,0.1456974608658554,-0.41210564311712594,-0.891185641424774,1.1161246186534837,-0.17523735465998191,1.1660514114639826,1.1357841472321861,-0.14099789679548302,-0.5301514508237176,-0.6459473516603101,-0.22908453744831986,-0.7559833971406748,-0.638015847537135,0.9093000299900252,-1.289950887412739,-0.429524551234168,0.25490448370366225,-0.7373500142603641,0.14618087099041407,-0.5200015393193352,-0.42867212696233425,-0.16734318089156633,-0.48682337108402585,-1.4944689247376182,-1.1215454337145274,-0.1964362707932032,-0.696727864088616,-0.7608331768163772,-1.1124041536471068,-0.5029852744577059,0.11325845827002812,-0.8530599425626102,-0.5549624875021679,-0.3634692435617573,-0.6146629592930096,-0.2552682634035316,-0.6565701933922731,-0.9954005478426404,-0.5501107042476487,-0.7687941332464803,-0.6436078609838728,-0.7218684948774888,-0.3863902795265334,-0.8297172463280453,-1.3776397996931304,0.24958643406640976,-0.8871276438990022,-0.8735861024831539,-1.174870464821267,-0.7338369630637893,-0.6581363087016712,-1.1865004697799975,-0.829346331720507,-0.9825737953961999,-1.0525063081887456,-0.7630998347472597,-0.998686951958837],[-0.26195154284451994,0.2548520409346588,-0.24640319481678688,0.1738183073886134,-0.11928897796407957,-0.4414522601905721,0.27373725972410645,-0.21600584148796262,-0.6613663565398268,0.7296397534749715,0.5031753604393148,-0.8279445271568265,-0.11528503019380087,0.06922832635335609,-0.519501256982442,0.34497783437229285,-0.06432188127629353,0.05703653974131501,0.2021726090443398,0.5849117595302001,-0.0032724241018059126,-0.4193728321918958,-1.4512054904692615,0.026354045659640297,-0.2663731414662558,0.32269878896512255,-0.04679345127621815,-0.021356398930998458,-0.7262821694052018,-0.7902730868723309,-0.0007540039527680438,-0.05825822833144958,-0.5160281920444794,-0.8676450383217272,0.22990117331495116,0.2550477706009254,0.22095511978924676,0.3091029625693183,-0.0893624350997267,-0.4696962818464279,0.040086128674429615,0.4737712522498945,-1.1687633465001046,-0.4022274125058882,-0.33223035606502005,-0.4022274125058882,-0.33223035606502005,-0.736552766309037,-0.9263341683861018,-0.16560072346152094,-0.7341852631479558,1.7145515287944322,-0.5486168280702589,0.12926898043263485,-0.8026671475883952,-0.5127089510914017,0.01788903639825862,-0.5440817833211202,-0.40681971677627515,-0.26828030408817105,-1.2527533348433504,-0.04754655944179378,-0.051168800738484274,-0.660870720232154,-0.7229595583468482,-0.3353838951322941,-0.4636564719603415,-0.35271919346327485,-0.5117713679629433,-1.1661249564421363,-1.14047179587535,-0.08701707803109625,-0.7800493424719541,-0.7187108731647673,-1.077066579728485,-0.26677455838806285,-0.31592048663946476,-0.41759617473238214,-0.9041670956329863,-0.16499140921455935,-0.5381227954058189,-1.0221919038104204,-0.8715990802457464,-1.0108610741417343,-0.8124562545348721,-0.4684403684792389,-0.04369047917103765,-0.6459936354463468,-0.33940637077067376,-0.5248018044055889,-1.040693820744893,-0.7529672821880399,-0.3221482475379991,-0.7701164051414275,-1.066803656123729,-0.9498203947242574,-0.6747636869884561,-0.8596320921379137,-0.6800705254963816,-0.9179528630730572,-1.0648550884141934,-0.6617654426169988,-0.9624841583926041]],\"type\":\"heatmap\"}],                        {\"template\":{\"data\":{\"histogram2dcontour\":[{\"type\":\"histogram2dcontour\",\"colorbar\":{\"outlinewidth\":0,\"ticks\":\"\"},\"colorscale\":[[0.0,\"#0d0887\"],[0.1111111111111111,\"#46039f\"],[0.2222222222222222,\"#7201a8\"],[0.3333333333333333,\"#9c179e\"],[0.4444444444444444,\"#bd3786\"],[0.5555555555555556,\"#d8576b\"],[0.6666666666666666,\"#ed7953\"],[0.7777777777777778,\"#fb9f3a\"],[0.8888888888888888,\"#fdca26\"],[1.0,\"#f0f921\"]]}],\"choropleth\":[{\"type\":\"choropleth\",\"colorbar\":{\"outlinewidth\":0,\"ticks\":\"\"}}],\"histogram2d\":[{\"type\":\"histogram2d\",\"colorbar\":{\"outlinewidth\":0,\"ticks\":\"\"},\"colorscale\":[[0.0,\"#0d0887\"],[0.1111111111111111,\"#46039f\"],[0.2222222222222222,\"#7201a8\"],[0.3333333333333333,\"#9c179e\"],[0.4444444444444444,\"#bd3786\"],[0.5555555555555556,\"#d8576b\"],[0.6666666666666666,\"#ed7953\"],[0.7777777777777778,\"#fb9f3a\"],[0.8888888888888888,\"#fdca26\"],[1.0,\"#f0f921\"]]}],\"heatmap\":[{\"type\":\"heatmap\",\"colorbar\":{\"outlinewidth\":0,\"ticks\":\"\"},\"colorscale\":[[0.0,\"#0d0887\"],[0.1111111111111111,\"#46039f\"],[0.2222222222222222,\"#7201a8\"],[0.3333333333333333,\"#9c179e\"],[0.4444444444444444,\"#bd3786\"],[0.5555555555555556,\"#d8576b\"],[0.6666666666666666,\"#ed7953\"],[0.7777777777777778,\"#fb9f3a\"],[0.8888888888888888,\"#fdca26\"],[1.0,\"#f0f921\"]]}],\"heatmapgl\":[{\"type\":\"heatmapgl\",\"colorbar\":{\"outlinewidth\":0,\"ticks\":\"\"},\"colorscale\":[[0.0,\"#0d0887\"],[0.1111111111111111,\"#46039f\"],[0.2222222222222222,\"#7201a8\"],[0.3333333333333333,\"#9c179e\"],[0.4444444444444444,\"#bd3786\"],[0.5555555555555556,\"#d8576b\"],[0.6666666666666666,\"#ed7953\"],[0.7777777777777778,\"#fb9f3a\"],[0.8888888888888888,\"#fdca26\"],[1.0,\"#f0f921\"]]}],\"contourcarpet\":[{\"type\":\"contourcarpet\",\"colorbar\":{\"outlinewidth\":0,\"ticks\":\"\"}}],\"contour\":[{\"type\":\"contour\",\"colorbar\":{\"outlinewidth\":0,\"ticks\":\"\"},\"colorscale\":[[0.0,\"#0d0887\"],[0.1111111111111111,\"#46039f\"],[0.2222222222222222,\"#7201a8\"],[0.3333333333333333,\"#9c179e\"],[0.4444444444444444,\"#bd3786\"],[0.5555555555555556,\"#d8576b\"],[0.6666666666666666,\"#ed7953\"],[0.7777777777777778,\"#fb9f3a\"],[0.8888888888888888,\"#fdca26\"],[1.0,\"#f0f921\"]]}],\"surface\":[{\"type\":\"surface\",\"colorbar\":{\"outlinewidth\":0,\"ticks\":\"\"},\"colorscale\":[[0.0,\"#0d0887\"],[0.1111111111111111,\"#46039f\"],[0.2222222222222222,\"#7201a8\"],[0.3333333333333333,\"#9c179e\"],[0.4444444444444444,\"#bd3786\"],[0.5555555555555556,\"#d8576b\"],[0.6666666666666666,\"#ed7953\"],[0.7777777777777778,\"#fb9f3a\"],[0.8888888888888888,\"#fdca26\"],[1.0,\"#f0f921\"]]}],\"mesh3d\":[{\"type\":\"mesh3d\",\"colorbar\":{\"outlinewidth\":0,\"ticks\":\"\"}}],\"scatter\":[{\"fillpattern\":{\"fillmode\":\"overlay\",\"size\":10,\"solidity\":0.2},\"type\":\"scatter\"}],\"parcoords\":[{\"type\":\"parcoords\",\"line\":{\"colorbar\":{\"outlinewidth\":0,\"ticks\":\"\"}}}],\"scatterpolargl\":[{\"type\":\"scatterpolargl\",\"marker\":{\"colorbar\":{\"outlinewidth\":0,\"ticks\":\"\"}}}],\"bar\":[{\"error_x\":{\"color\":\"#2a3f5f\"},\"error_y\":{\"color\":\"#2a3f5f\"},\"marker\":{\"line\":{\"color\":\"#E5ECF6\",\"width\":0.5},\"pattern\":{\"fillmode\":\"overlay\",\"size\":10,\"solidity\":0.2}},\"type\":\"bar\"}],\"scattergeo\":[{\"type\":\"scattergeo\",\"marker\":{\"colorbar\":{\"outlinewidth\":0,\"ticks\":\"\"}}}],\"scatterpolar\":[{\"type\":\"scatterpolar\",\"marker\":{\"colorbar\":{\"outlinewidth\":0,\"ticks\":\"\"}}}],\"histogram\":[{\"marker\":{\"pattern\":{\"fillmode\":\"overlay\",\"size\":10,\"solidity\":0.2}},\"type\":\"histogram\"}],\"scattergl\":[{\"type\":\"scattergl\",\"marker\":{\"colorbar\":{\"outlinewidth\":0,\"ticks\":\"\"}}}],\"scatter3d\":[{\"type\":\"scatter3d\",\"line\":{\"colorbar\":{\"outlinewidth\":0,\"ticks\":\"\"}},\"marker\":{\"colorbar\":{\"outlinewidth\":0,\"ticks\":\"\"}}}],\"scattermapbox\":[{\"type\":\"scattermapbox\",\"marker\":{\"colorbar\":{\"outlinewidth\":0,\"ticks\":\"\"}}}],\"scatterternary\":[{\"type\":\"scatterternary\",\"marker\":{\"colorbar\":{\"outlinewidth\":0,\"ticks\":\"\"}}}],\"scattercarpet\":[{\"type\":\"scattercarpet\",\"marker\":{\"colorbar\":{\"outlinewidth\":0,\"ticks\":\"\"}}}],\"carpet\":[{\"aaxis\":{\"endlinecolor\":\"#2a3f5f\",\"gridcolor\":\"white\",\"linecolor\":\"white\",\"minorgridcolor\":\"white\",\"startlinecolor\":\"#2a3f5f\"},\"baxis\":{\"endlinecolor\":\"#2a3f5f\",\"gridcolor\":\"white\",\"linecolor\":\"white\",\"minorgridcolor\":\"white\",\"startlinecolor\":\"#2a3f5f\"},\"type\":\"carpet\"}],\"table\":[{\"cells\":{\"fill\":{\"color\":\"#EBF0F8\"},\"line\":{\"color\":\"white\"}},\"header\":{\"fill\":{\"color\":\"#C8D4E3\"},\"line\":{\"color\":\"white\"}},\"type\":\"table\"}],\"barpolar\":[{\"marker\":{\"line\":{\"color\":\"#E5ECF6\",\"width\":0.5},\"pattern\":{\"fillmode\":\"overlay\",\"size\":10,\"solidity\":0.2}},\"type\":\"barpolar\"}],\"pie\":[{\"automargin\":true,\"type\":\"pie\"}]},\"layout\":{\"autotypenumbers\":\"strict\",\"colorway\":[\"#636efa\",\"#EF553B\",\"#00cc96\",\"#ab63fa\",\"#FFA15A\",\"#19d3f3\",\"#FF6692\",\"#B6E880\",\"#FF97FF\",\"#FECB52\"],\"font\":{\"color\":\"#2a3f5f\"},\"hovermode\":\"closest\",\"hoverlabel\":{\"align\":\"left\"},\"paper_bgcolor\":\"white\",\"plot_bgcolor\":\"#E5ECF6\",\"polar\":{\"bgcolor\":\"#E5ECF6\",\"angularaxis\":{\"gridcolor\":\"white\",\"linecolor\":\"white\",\"ticks\":\"\"},\"radialaxis\":{\"gridcolor\":\"white\",\"linecolor\":\"white\",\"ticks\":\"\"}},\"ternary\":{\"bgcolor\":\"#E5ECF6\",\"aaxis\":{\"gridcolor\":\"white\",\"linecolor\":\"white\",\"ticks\":\"\"},\"baxis\":{\"gridcolor\":\"white\",\"linecolor\":\"white\",\"ticks\":\"\"},\"caxis\":{\"gridcolor\":\"white\",\"linecolor\":\"white\",\"ticks\":\"\"}},\"coloraxis\":{\"colorbar\":{\"outlinewidth\":0,\"ticks\":\"\"}},\"colorscale\":{\"sequential\":[[0.0,\"#0d0887\"],[0.1111111111111111,\"#46039f\"],[0.2222222222222222,\"#7201a8\"],[0.3333333333333333,\"#9c179e\"],[0.4444444444444444,\"#bd3786\"],[0.5555555555555556,\"#d8576b\"],[0.6666666666666666,\"#ed7953\"],[0.7777777777777778,\"#fb9f3a\"],[0.8888888888888888,\"#fdca26\"],[1.0,\"#f0f921\"]],\"sequentialminus\":[[0.0,\"#0d0887\"],[0.1111111111111111,\"#46039f\"],[0.2222222222222222,\"#7201a8\"],[0.3333333333333333,\"#9c179e\"],[0.4444444444444444,\"#bd3786\"],[0.5555555555555556,\"#d8576b\"],[0.6666666666666666,\"#ed7953\"],[0.7777777777777778,\"#fb9f3a\"],[0.8888888888888888,\"#fdca26\"],[1.0,\"#f0f921\"]],\"diverging\":[[0,\"#8e0152\"],[0.1,\"#c51b7d\"],[0.2,\"#de77ae\"],[0.3,\"#f1b6da\"],[0.4,\"#fde0ef\"],[0.5,\"#f7f7f7\"],[0.6,\"#e6f5d0\"],[0.7,\"#b8e186\"],[0.8,\"#7fbc41\"],[0.9,\"#4d9221\"],[1,\"#276419\"]]},\"xaxis\":{\"gridcolor\":\"white\",\"linecolor\":\"white\",\"ticks\":\"\",\"title\":{\"standoff\":15},\"zerolinecolor\":\"white\",\"automargin\":true,\"zerolinewidth\":2},\"yaxis\":{\"gridcolor\":\"white\",\"linecolor\":\"white\",\"ticks\":\"\",\"title\":{\"standoff\":15},\"zerolinecolor\":\"white\",\"automargin\":true,\"zerolinewidth\":2},\"scene\":{\"xaxis\":{\"backgroundcolor\":\"#E5ECF6\",\"gridcolor\":\"white\",\"linecolor\":\"white\",\"showbackground\":true,\"ticks\":\"\",\"zerolinecolor\":\"white\",\"gridwidth\":2},\"yaxis\":{\"backgroundcolor\":\"#E5ECF6\",\"gridcolor\":\"white\",\"linecolor\":\"white\",\"showbackground\":true,\"ticks\":\"\",\"zerolinecolor\":\"white\",\"gridwidth\":2},\"zaxis\":{\"backgroundcolor\":\"#E5ECF6\",\"gridcolor\":\"white\",\"linecolor\":\"white\",\"showbackground\":true,\"ticks\":\"\",\"zerolinecolor\":\"white\",\"gridwidth\":2}},\"shapedefaults\":{\"line\":{\"color\":\"#2a3f5f\"}},\"annotationdefaults\":{\"arrowcolor\":\"#2a3f5f\",\"arrowhead\":0,\"arrowwidth\":1},\"geo\":{\"bgcolor\":\"white\",\"landcolor\":\"#E5ECF6\",\"subunitcolor\":\"white\",\"showland\":true,\"showlakes\":true,\"lakecolor\":\"white\"},\"title\":{\"x\":0.05},\"mapbox\":{\"style\":\"light\"}}},\"width\":1200,\"height\":700},                        {\"responsive\": true}                    ).then(function(){\n",
       "                            \n",
       "var gd = document.getElementById('ee01ba06-2c54-4c60-b6a2-a93cac474ea6');\n",
       "var x = new MutationObserver(function (mutations, observer) {{\n",
       "        var display = window.getComputedStyle(gd).display;\n",
       "        if (!display || display === 'none') {{\n",
       "            console.log([gd, 'removed!']);\n",
       "            Plotly.purge(gd);\n",
       "            observer.disconnect();\n",
       "        }}\n",
       "}});\n",
       "\n",
       "// Listen for the removal of the full notebook cells\n",
       "var notebookContainer = gd.closest('#notebook-container');\n",
       "if (notebookContainer) {{\n",
       "    x.observe(notebookContainer, {childList: true});\n",
       "}}\n",
       "\n",
       "// Listen for the clearing of the current output cell\n",
       "var outputEl = gd.closest('.output');\n",
       "if (outputEl) {{\n",
       "    x.observe(outputEl, {childList: true});\n",
       "}}\n",
       "\n",
       "                        })                };                });            </script>        </div>"
      ]
     },
     "metadata": {},
     "output_type": "display_data"
    }
   ],
   "source": [
    "fig = go.Figure(data=go.Heatmap(z=std_skills, x=skills.columns,y=skills.index, colorscale='magma', ygap=1))\n",
    "fig.update_layout(width=1200, height=700)\n",
    "fig.show()\n",
    "fig.write_html(os.path.join(FIG_DIR, 'heatmap.html'))"
   ]
  },
  {
   "cell_type": "markdown",
   "id": "2b838e22-1edd-442d-b0d1-7d20744dc658",
   "metadata": {},
   "source": [
    "### Create Jobs dendrogram\n"
   ]
  },
  {
   "cell_type": "code",
   "execution_count": 64,
   "id": "f6237c60-c478-4253-a16d-27b2666ac07a",
   "metadata": {},
   "outputs": [],
   "source": [
    "roles_short_dict = roles_names.set_index('Original name')[\"Short name \"].to_dict()\n",
    "short_labels = [roles_short_dict[role] \n",
    "                for role in sorted_roles]"
   ]
  },
  {
   "cell_type": "code",
   "execution_count": 65,
   "id": "10d6648e-49d3-462e-a54e-5d978a02a316",
   "metadata": {},
   "outputs": [
    {
     "data": {
      "application/vnd.plotly.v1+json": {
       "config": {
        "plotlyServerURL": "https://plot.ly"
       },
       "data": [
        {
         "hoverinfo": "text",
         "marker": {
          "color": "rgb(0,116,217)"
         },
         "mode": "lines",
         "type": "scatter",
         "x": [
          0,
          56.79402817219373,
          56.79402817219373,
          0
         ],
         "xaxis": "x",
         "y": [
          -15,
          -15,
          -25,
          -25
         ],
         "yaxis": "y"
        },
        {
         "hoverinfo": "text",
         "marker": {
          "color": "rgb(0,116,217)"
         },
         "mode": "lines",
         "type": "scatter",
         "x": [
          0,
          80.2363199042436,
          80.2363199042436,
          56.79402817219373
         ],
         "xaxis": "x",
         "y": [
          -5,
          -5,
          -20,
          -20
         ],
         "yaxis": "y"
        },
        {
         "hoverinfo": "text",
         "marker": {
          "color": "rgb(0,116,217)"
         },
         "mode": "lines",
         "type": "scatter",
         "x": [
          0,
          60.39128070665539,
          60.39128070665539,
          0
         ],
         "xaxis": "x",
         "y": [
          -35,
          -35,
          -45,
          -45
         ],
         "yaxis": "y"
        },
        {
         "hoverinfo": "text",
         "marker": {
          "color": "rgb(0,116,217)"
         },
         "mode": "lines",
         "type": "scatter",
         "x": [
          0,
          25.809101339617655,
          25.809101339617655,
          0
         ],
         "xaxis": "x",
         "y": [
          -65,
          -65,
          -75,
          -75
         ],
         "yaxis": "y"
        },
        {
         "hoverinfo": "text",
         "marker": {
          "color": "rgb(0,116,217)"
         },
         "mode": "lines",
         "type": "scatter",
         "x": [
          0,
          27.107629417423524,
          27.107629417423524,
          0
         ],
         "xaxis": "x",
         "y": [
          -85,
          -85,
          -95,
          -95
         ],
         "yaxis": "y"
        },
        {
         "hoverinfo": "text",
         "marker": {
          "color": "rgb(0,116,217)"
         },
         "mode": "lines",
         "type": "scatter",
         "x": [
          25.809101339617655,
          37.42608771493032,
          37.42608771493032,
          27.107629417423524
         ],
         "xaxis": "x",
         "y": [
          -70,
          -70,
          -90,
          -90
         ],
         "yaxis": "y"
        },
        {
         "hoverinfo": "text",
         "marker": {
          "color": "rgb(0,116,217)"
         },
         "mode": "lines",
         "type": "scatter",
         "x": [
          0,
          39.61972282226158,
          39.61972282226158,
          0
         ],
         "xaxis": "x",
         "y": [
          -105,
          -105,
          -115,
          -115
         ],
         "yaxis": "y"
        },
        {
         "hoverinfo": "text",
         "marker": {
          "color": "rgb(0,116,217)"
         },
         "mode": "lines",
         "type": "scatter",
         "x": [
          37.42608771493032,
          49.964702730448714,
          49.964702730448714,
          39.61972282226158
         ],
         "xaxis": "x",
         "y": [
          -80,
          -80,
          -110,
          -110
         ],
         "yaxis": "y"
        },
        {
         "hoverinfo": "text",
         "marker": {
          "color": "rgb(0,116,217)"
         },
         "mode": "lines",
         "type": "scatter",
         "x": [
          0,
          58.41739740027235,
          58.41739740027235,
          49.964702730448714
         ],
         "xaxis": "x",
         "y": [
          -55,
          -55,
          -95,
          -95
         ],
         "yaxis": "y"
        },
        {
         "hoverinfo": "text",
         "marker": {
          "color": "rgb(0,116,217)"
         },
         "mode": "lines",
         "type": "scatter",
         "x": [
          0,
          21.82906238012623,
          21.82906238012623,
          0
         ],
         "xaxis": "x",
         "y": [
          -145,
          -145,
          -155,
          -155
         ],
         "yaxis": "y"
        },
        {
         "hoverinfo": "text",
         "marker": {
          "color": "rgb(0,116,217)"
         },
         "mode": "lines",
         "type": "scatter",
         "x": [
          0,
          45.5922059965799,
          45.5922059965799,
          21.82906238012623
         ],
         "xaxis": "x",
         "y": [
          -135,
          -135,
          -150,
          -150
         ],
         "yaxis": "y"
        },
        {
         "hoverinfo": "text",
         "marker": {
          "color": "rgb(0,116,217)"
         },
         "mode": "lines",
         "type": "scatter",
         "x": [
          0,
          69.82319933967395,
          69.82319933967395,
          45.5922059965799
         ],
         "xaxis": "x",
         "y": [
          -125,
          -125,
          -142.5,
          -142.5
         ],
         "yaxis": "y"
        },
        {
         "hoverinfo": "text",
         "marker": {
          "color": "rgb(0,116,217)"
         },
         "mode": "lines",
         "type": "scatter",
         "x": [
          58.41739740027235,
          73.52036458708581,
          73.52036458708581,
          69.82319933967395
         ],
         "xaxis": "x",
         "y": [
          -75,
          -75,
          -133.75,
          -133.75
         ],
         "yaxis": "y"
        },
        {
         "hoverinfo": "text",
         "marker": {
          "color": "rgb(0,116,217)"
         },
         "mode": "lines",
         "type": "scatter",
         "x": [
          60.39128070665539,
          88.83193862352184,
          88.83193862352184,
          73.52036458708581
         ],
         "xaxis": "x",
         "y": [
          -40,
          -40,
          -104.375,
          -104.375
         ],
         "yaxis": "y"
        },
        {
         "hoverinfo": "text",
         "marker": {
          "color": "rgb(0,116,217)"
         },
         "mode": "lines",
         "type": "scatter",
         "x": [
          80.2363199042436,
          96.13020542526682,
          96.13020542526682,
          88.83193862352184
         ],
         "xaxis": "x",
         "y": [
          -12.5,
          -12.5,
          -72.1875,
          -72.1875
         ],
         "yaxis": "y"
        },
        {
         "hoverinfo": "text",
         "marker": {
          "color": "rgb(0,116,217)"
         },
         "mode": "lines",
         "type": "scatter",
         "x": [
          0,
          35.4067009024602,
          35.4067009024602,
          0
         ],
         "xaxis": "x",
         "y": [
          -175,
          -175,
          -185,
          -185
         ],
         "yaxis": "y"
        },
        {
         "hoverinfo": "text",
         "marker": {
          "color": "rgb(0,116,217)"
         },
         "mode": "lines",
         "type": "scatter",
         "x": [
          0,
          49.92682050217933,
          49.92682050217933,
          35.4067009024602
         ],
         "xaxis": "x",
         "y": [
          -165,
          -165,
          -180,
          -180
         ],
         "yaxis": "y"
        },
        {
         "hoverinfo": "text",
         "marker": {
          "color": "rgb(0,116,217)"
         },
         "mode": "lines",
         "type": "scatter",
         "x": [
          0,
          25.739018597206822,
          25.739018597206822,
          0
         ],
         "xaxis": "x",
         "y": [
          -195,
          -195,
          -205,
          -205
         ],
         "yaxis": "y"
        },
        {
         "hoverinfo": "text",
         "marker": {
          "color": "rgb(0,116,217)"
         },
         "mode": "lines",
         "type": "scatter",
         "x": [
          0,
          50.07539442771305,
          50.07539442771305,
          0
         ],
         "xaxis": "x",
         "y": [
          -215,
          -215,
          -225,
          -225
         ],
         "yaxis": "y"
        },
        {
         "hoverinfo": "text",
         "marker": {
          "color": "rgb(0,116,217)"
         },
         "mode": "lines",
         "type": "scatter",
         "x": [
          25.739018597206822,
          62.32296926554115,
          62.32296926554115,
          50.07539442771305
         ],
         "xaxis": "x",
         "y": [
          -200,
          -200,
          -220,
          -220
         ],
         "yaxis": "y"
        },
        {
         "hoverinfo": "text",
         "marker": {
          "color": "rgb(0,116,217)"
         },
         "mode": "lines",
         "type": "scatter",
         "x": [
          49.92682050217933,
          110.6005175115606,
          110.6005175115606,
          62.32296926554115
         ],
         "xaxis": "x",
         "y": [
          -172.5,
          -172.5,
          -210,
          -210
         ],
         "yaxis": "y"
        },
        {
         "hoverinfo": "text",
         "marker": {
          "color": "rgb(0,116,217)"
         },
         "mode": "lines",
         "type": "scatter",
         "x": [
          96.13020542526682,
          124.91407918211023,
          124.91407918211023,
          110.6005175115606
         ],
         "xaxis": "x",
         "y": [
          -42.34375,
          -42.34375,
          -191.25,
          -191.25
         ],
         "yaxis": "y"
        }
       ],
       "layout": {
        "autosize": false,
        "height": 700,
        "hovermode": "closest",
        "showlegend": false,
        "template": {
         "data": {
          "bar": [
           {
            "error_x": {
             "color": "#2a3f5f"
            },
            "error_y": {
             "color": "#2a3f5f"
            },
            "marker": {
             "line": {
              "color": "#E5ECF6",
              "width": 0.5
             },
             "pattern": {
              "fillmode": "overlay",
              "size": 10,
              "solidity": 0.2
             }
            },
            "type": "bar"
           }
          ],
          "barpolar": [
           {
            "marker": {
             "line": {
              "color": "#E5ECF6",
              "width": 0.5
             },
             "pattern": {
              "fillmode": "overlay",
              "size": 10,
              "solidity": 0.2
             }
            },
            "type": "barpolar"
           }
          ],
          "carpet": [
           {
            "aaxis": {
             "endlinecolor": "#2a3f5f",
             "gridcolor": "white",
             "linecolor": "white",
             "minorgridcolor": "white",
             "startlinecolor": "#2a3f5f"
            },
            "baxis": {
             "endlinecolor": "#2a3f5f",
             "gridcolor": "white",
             "linecolor": "white",
             "minorgridcolor": "white",
             "startlinecolor": "#2a3f5f"
            },
            "type": "carpet"
           }
          ],
          "choropleth": [
           {
            "colorbar": {
             "outlinewidth": 0,
             "ticks": ""
            },
            "type": "choropleth"
           }
          ],
          "contour": [
           {
            "colorbar": {
             "outlinewidth": 0,
             "ticks": ""
            },
            "colorscale": [
             [
              0,
              "#0d0887"
             ],
             [
              0.1111111111111111,
              "#46039f"
             ],
             [
              0.2222222222222222,
              "#7201a8"
             ],
             [
              0.3333333333333333,
              "#9c179e"
             ],
             [
              0.4444444444444444,
              "#bd3786"
             ],
             [
              0.5555555555555556,
              "#d8576b"
             ],
             [
              0.6666666666666666,
              "#ed7953"
             ],
             [
              0.7777777777777778,
              "#fb9f3a"
             ],
             [
              0.8888888888888888,
              "#fdca26"
             ],
             [
              1,
              "#f0f921"
             ]
            ],
            "type": "contour"
           }
          ],
          "contourcarpet": [
           {
            "colorbar": {
             "outlinewidth": 0,
             "ticks": ""
            },
            "type": "contourcarpet"
           }
          ],
          "heatmap": [
           {
            "colorbar": {
             "outlinewidth": 0,
             "ticks": ""
            },
            "colorscale": [
             [
              0,
              "#0d0887"
             ],
             [
              0.1111111111111111,
              "#46039f"
             ],
             [
              0.2222222222222222,
              "#7201a8"
             ],
             [
              0.3333333333333333,
              "#9c179e"
             ],
             [
              0.4444444444444444,
              "#bd3786"
             ],
             [
              0.5555555555555556,
              "#d8576b"
             ],
             [
              0.6666666666666666,
              "#ed7953"
             ],
             [
              0.7777777777777778,
              "#fb9f3a"
             ],
             [
              0.8888888888888888,
              "#fdca26"
             ],
             [
              1,
              "#f0f921"
             ]
            ],
            "type": "heatmap"
           }
          ],
          "heatmapgl": [
           {
            "colorbar": {
             "outlinewidth": 0,
             "ticks": ""
            },
            "colorscale": [
             [
              0,
              "#0d0887"
             ],
             [
              0.1111111111111111,
              "#46039f"
             ],
             [
              0.2222222222222222,
              "#7201a8"
             ],
             [
              0.3333333333333333,
              "#9c179e"
             ],
             [
              0.4444444444444444,
              "#bd3786"
             ],
             [
              0.5555555555555556,
              "#d8576b"
             ],
             [
              0.6666666666666666,
              "#ed7953"
             ],
             [
              0.7777777777777778,
              "#fb9f3a"
             ],
             [
              0.8888888888888888,
              "#fdca26"
             ],
             [
              1,
              "#f0f921"
             ]
            ],
            "type": "heatmapgl"
           }
          ],
          "histogram": [
           {
            "marker": {
             "pattern": {
              "fillmode": "overlay",
              "size": 10,
              "solidity": 0.2
             }
            },
            "type": "histogram"
           }
          ],
          "histogram2d": [
           {
            "colorbar": {
             "outlinewidth": 0,
             "ticks": ""
            },
            "colorscale": [
             [
              0,
              "#0d0887"
             ],
             [
              0.1111111111111111,
              "#46039f"
             ],
             [
              0.2222222222222222,
              "#7201a8"
             ],
             [
              0.3333333333333333,
              "#9c179e"
             ],
             [
              0.4444444444444444,
              "#bd3786"
             ],
             [
              0.5555555555555556,
              "#d8576b"
             ],
             [
              0.6666666666666666,
              "#ed7953"
             ],
             [
              0.7777777777777778,
              "#fb9f3a"
             ],
             [
              0.8888888888888888,
              "#fdca26"
             ],
             [
              1,
              "#f0f921"
             ]
            ],
            "type": "histogram2d"
           }
          ],
          "histogram2dcontour": [
           {
            "colorbar": {
             "outlinewidth": 0,
             "ticks": ""
            },
            "colorscale": [
             [
              0,
              "#0d0887"
             ],
             [
              0.1111111111111111,
              "#46039f"
             ],
             [
              0.2222222222222222,
              "#7201a8"
             ],
             [
              0.3333333333333333,
              "#9c179e"
             ],
             [
              0.4444444444444444,
              "#bd3786"
             ],
             [
              0.5555555555555556,
              "#d8576b"
             ],
             [
              0.6666666666666666,
              "#ed7953"
             ],
             [
              0.7777777777777778,
              "#fb9f3a"
             ],
             [
              0.8888888888888888,
              "#fdca26"
             ],
             [
              1,
              "#f0f921"
             ]
            ],
            "type": "histogram2dcontour"
           }
          ],
          "mesh3d": [
           {
            "colorbar": {
             "outlinewidth": 0,
             "ticks": ""
            },
            "type": "mesh3d"
           }
          ],
          "parcoords": [
           {
            "line": {
             "colorbar": {
              "outlinewidth": 0,
              "ticks": ""
             }
            },
            "type": "parcoords"
           }
          ],
          "pie": [
           {
            "automargin": true,
            "type": "pie"
           }
          ],
          "scatter": [
           {
            "fillpattern": {
             "fillmode": "overlay",
             "size": 10,
             "solidity": 0.2
            },
            "type": "scatter"
           }
          ],
          "scatter3d": [
           {
            "line": {
             "colorbar": {
              "outlinewidth": 0,
              "ticks": ""
             }
            },
            "marker": {
             "colorbar": {
              "outlinewidth": 0,
              "ticks": ""
             }
            },
            "type": "scatter3d"
           }
          ],
          "scattercarpet": [
           {
            "marker": {
             "colorbar": {
              "outlinewidth": 0,
              "ticks": ""
             }
            },
            "type": "scattercarpet"
           }
          ],
          "scattergeo": [
           {
            "marker": {
             "colorbar": {
              "outlinewidth": 0,
              "ticks": ""
             }
            },
            "type": "scattergeo"
           }
          ],
          "scattergl": [
           {
            "marker": {
             "colorbar": {
              "outlinewidth": 0,
              "ticks": ""
             }
            },
            "type": "scattergl"
           }
          ],
          "scattermapbox": [
           {
            "marker": {
             "colorbar": {
              "outlinewidth": 0,
              "ticks": ""
             }
            },
            "type": "scattermapbox"
           }
          ],
          "scatterpolar": [
           {
            "marker": {
             "colorbar": {
              "outlinewidth": 0,
              "ticks": ""
             }
            },
            "type": "scatterpolar"
           }
          ],
          "scatterpolargl": [
           {
            "marker": {
             "colorbar": {
              "outlinewidth": 0,
              "ticks": ""
             }
            },
            "type": "scatterpolargl"
           }
          ],
          "scatterternary": [
           {
            "marker": {
             "colorbar": {
              "outlinewidth": 0,
              "ticks": ""
             }
            },
            "type": "scatterternary"
           }
          ],
          "surface": [
           {
            "colorbar": {
             "outlinewidth": 0,
             "ticks": ""
            },
            "colorscale": [
             [
              0,
              "#0d0887"
             ],
             [
              0.1111111111111111,
              "#46039f"
             ],
             [
              0.2222222222222222,
              "#7201a8"
             ],
             [
              0.3333333333333333,
              "#9c179e"
             ],
             [
              0.4444444444444444,
              "#bd3786"
             ],
             [
              0.5555555555555556,
              "#d8576b"
             ],
             [
              0.6666666666666666,
              "#ed7953"
             ],
             [
              0.7777777777777778,
              "#fb9f3a"
             ],
             [
              0.8888888888888888,
              "#fdca26"
             ],
             [
              1,
              "#f0f921"
             ]
            ],
            "type": "surface"
           }
          ],
          "table": [
           {
            "cells": {
             "fill": {
              "color": "#EBF0F8"
             },
             "line": {
              "color": "white"
             }
            },
            "header": {
             "fill": {
              "color": "#C8D4E3"
             },
             "line": {
              "color": "white"
             }
            },
            "type": "table"
           }
          ]
         },
         "layout": {
          "annotationdefaults": {
           "arrowcolor": "#2a3f5f",
           "arrowhead": 0,
           "arrowwidth": 1
          },
          "autotypenumbers": "strict",
          "coloraxis": {
           "colorbar": {
            "outlinewidth": 0,
            "ticks": ""
           }
          },
          "colorscale": {
           "diverging": [
            [
             0,
             "#8e0152"
            ],
            [
             0.1,
             "#c51b7d"
            ],
            [
             0.2,
             "#de77ae"
            ],
            [
             0.3,
             "#f1b6da"
            ],
            [
             0.4,
             "#fde0ef"
            ],
            [
             0.5,
             "#f7f7f7"
            ],
            [
             0.6,
             "#e6f5d0"
            ],
            [
             0.7,
             "#b8e186"
            ],
            [
             0.8,
             "#7fbc41"
            ],
            [
             0.9,
             "#4d9221"
            ],
            [
             1,
             "#276419"
            ]
           ],
           "sequential": [
            [
             0,
             "#0d0887"
            ],
            [
             0.1111111111111111,
             "#46039f"
            ],
            [
             0.2222222222222222,
             "#7201a8"
            ],
            [
             0.3333333333333333,
             "#9c179e"
            ],
            [
             0.4444444444444444,
             "#bd3786"
            ],
            [
             0.5555555555555556,
             "#d8576b"
            ],
            [
             0.6666666666666666,
             "#ed7953"
            ],
            [
             0.7777777777777778,
             "#fb9f3a"
            ],
            [
             0.8888888888888888,
             "#fdca26"
            ],
            [
             1,
             "#f0f921"
            ]
           ],
           "sequentialminus": [
            [
             0,
             "#0d0887"
            ],
            [
             0.1111111111111111,
             "#46039f"
            ],
            [
             0.2222222222222222,
             "#7201a8"
            ],
            [
             0.3333333333333333,
             "#9c179e"
            ],
            [
             0.4444444444444444,
             "#bd3786"
            ],
            [
             0.5555555555555556,
             "#d8576b"
            ],
            [
             0.6666666666666666,
             "#ed7953"
            ],
            [
             0.7777777777777778,
             "#fb9f3a"
            ],
            [
             0.8888888888888888,
             "#fdca26"
            ],
            [
             1,
             "#f0f921"
            ]
           ]
          },
          "colorway": [
           "#636efa",
           "#EF553B",
           "#00cc96",
           "#ab63fa",
           "#FFA15A",
           "#19d3f3",
           "#FF6692",
           "#B6E880",
           "#FF97FF",
           "#FECB52"
          ],
          "font": {
           "color": "#2a3f5f"
          },
          "geo": {
           "bgcolor": "white",
           "lakecolor": "white",
           "landcolor": "#E5ECF6",
           "showlakes": true,
           "showland": true,
           "subunitcolor": "white"
          },
          "hoverlabel": {
           "align": "left"
          },
          "hovermode": "closest",
          "mapbox": {
           "style": "light"
          },
          "paper_bgcolor": "white",
          "plot_bgcolor": "#E5ECF6",
          "polar": {
           "angularaxis": {
            "gridcolor": "white",
            "linecolor": "white",
            "ticks": ""
           },
           "bgcolor": "#E5ECF6",
           "radialaxis": {
            "gridcolor": "white",
            "linecolor": "white",
            "ticks": ""
           }
          },
          "scene": {
           "xaxis": {
            "backgroundcolor": "#E5ECF6",
            "gridcolor": "white",
            "gridwidth": 2,
            "linecolor": "white",
            "showbackground": true,
            "ticks": "",
            "zerolinecolor": "white"
           },
           "yaxis": {
            "backgroundcolor": "#E5ECF6",
            "gridcolor": "white",
            "gridwidth": 2,
            "linecolor": "white",
            "showbackground": true,
            "ticks": "",
            "zerolinecolor": "white"
           },
           "zaxis": {
            "backgroundcolor": "#E5ECF6",
            "gridcolor": "white",
            "gridwidth": 2,
            "linecolor": "white",
            "showbackground": true,
            "ticks": "",
            "zerolinecolor": "white"
           }
          },
          "shapedefaults": {
           "line": {
            "color": "#2a3f5f"
           }
          },
          "ternary": {
           "aaxis": {
            "gridcolor": "white",
            "linecolor": "white",
            "ticks": ""
           },
           "baxis": {
            "gridcolor": "white",
            "linecolor": "white",
            "ticks": ""
           },
           "bgcolor": "#E5ECF6",
           "caxis": {
            "gridcolor": "white",
            "linecolor": "white",
            "ticks": ""
           }
          },
          "title": {
           "x": 0.05
          },
          "xaxis": {
           "automargin": true,
           "gridcolor": "white",
           "linecolor": "white",
           "ticks": "",
           "title": {
            "standoff": 15
           },
           "zerolinecolor": "white",
           "zerolinewidth": 2
          },
          "yaxis": {
           "automargin": true,
           "gridcolor": "white",
           "linecolor": "white",
           "ticks": "",
           "title": {
            "standoff": 15
           },
           "zerolinecolor": "white",
           "zerolinewidth": 2
          }
         }
        },
        "width": 1000,
        "xaxis": {
         "autorange": true,
         "mirror": "allticks",
         "range": [
          0,
          124.91407918211023
         ],
         "rangemode": "tozero",
         "showgrid": false,
         "showline": true,
         "showticklabels": true,
         "ticks": "outside",
         "type": "linear",
         "zeroline": false
        },
        "yaxis": {
         "autorange": true,
         "mirror": "allticks",
         "range": [
          -236.8421052631579,
          0
         ],
         "rangemode": "tozero",
         "showgrid": false,
         "showline": true,
         "showticklabels": true,
         "tickmode": "array",
         "ticks": "outside",
         "ticktext": [
          "Mobile dev",
          "Game dev",
          "Embedded dev",
          "Analyst",
          "Desktop dev",
          "Senior Executive",
          "Quality Assurance",
          "Back-end dev",
          "Product manager",
          "Educator",
          "System admin",
          "Database admin",
          "Marketing/Sales",
          "Designer",
          "Front-end dev",
          "Full-stack dev",
          "Site Engineer",
          "Engineering manager",
          "DevOps",
          "Scientist",
          "Researcher",
          "Data Engineer",
          "Data Scientist "
         ],
         "tickvals": [
          -5,
          -15,
          -25,
          -35,
          -45,
          -55,
          -65,
          -75,
          -85,
          -95,
          -105,
          -115,
          -125,
          -135,
          -145,
          -155,
          -165,
          -175,
          -185,
          -195,
          -205,
          -215,
          -225
         ],
         "type": "linear",
         "zeroline": false
        }
       }
      },
      "image/png": "[encoded data removed]",
      "text/html": [
       "<div>                            <div id=\"ac649012-8b7f-46b2-8665-336e576e0af8\" class=\"plotly-graph-div\" style=\"height:700px; width:1000px;\"></div>            <script type=\"text/javascript\">                require([\"plotly\"], function(Plotly) {                    window.PLOTLYENV=window.PLOTLYENV || {};                                    if (document.getElementById(\"ac649012-8b7f-46b2-8665-336e576e0af8\")) {                    Plotly.newPlot(                        \"ac649012-8b7f-46b2-8665-336e576e0af8\",                        [{\"hoverinfo\":\"text\",\"marker\":{\"color\":\"rgb(0,116,217)\"},\"mode\":\"lines\",\"x\":[0.0,56.79402817219373,56.79402817219373,0.0],\"xaxis\":\"x\",\"y\":[-15.0,-15.0,-25.0,-25.0],\"yaxis\":\"y\",\"type\":\"scatter\"},{\"hoverinfo\":\"text\",\"marker\":{\"color\":\"rgb(0,116,217)\"},\"mode\":\"lines\",\"x\":[0.0,80.2363199042436,80.2363199042436,56.79402817219373],\"xaxis\":\"x\",\"y\":[-5.0,-5.0,-20.0,-20.0],\"yaxis\":\"y\",\"type\":\"scatter\"},{\"hoverinfo\":\"text\",\"marker\":{\"color\":\"rgb(0,116,217)\"},\"mode\":\"lines\",\"x\":[0.0,60.39128070665539,60.39128070665539,0.0],\"xaxis\":\"x\",\"y\":[-35.0,-35.0,-45.0,-45.0],\"yaxis\":\"y\",\"type\":\"scatter\"},{\"hoverinfo\":\"text\",\"marker\":{\"color\":\"rgb(0,116,217)\"},\"mode\":\"lines\",\"x\":[0.0,25.809101339617655,25.809101339617655,0.0],\"xaxis\":\"x\",\"y\":[-65.0,-65.0,-75.0,-75.0],\"yaxis\":\"y\",\"type\":\"scatter\"},{\"hoverinfo\":\"text\",\"marker\":{\"color\":\"rgb(0,116,217)\"},\"mode\":\"lines\",\"x\":[0.0,27.107629417423524,27.107629417423524,0.0],\"xaxis\":\"x\",\"y\":[-85.0,-85.0,-95.0,-95.0],\"yaxis\":\"y\",\"type\":\"scatter\"},{\"hoverinfo\":\"text\",\"marker\":{\"color\":\"rgb(0,116,217)\"},\"mode\":\"lines\",\"x\":[25.809101339617655,37.42608771493032,37.42608771493032,27.107629417423524],\"xaxis\":\"x\",\"y\":[-70.0,-70.0,-90.0,-90.0],\"yaxis\":\"y\",\"type\":\"scatter\"},{\"hoverinfo\":\"text\",\"marker\":{\"color\":\"rgb(0,116,217)\"},\"mode\":\"lines\",\"x\":[0.0,39.61972282226158,39.61972282226158,0.0],\"xaxis\":\"x\",\"y\":[-105.0,-105.0,-115.0,-115.0],\"yaxis\":\"y\",\"type\":\"scatter\"},{\"hoverinfo\":\"text\",\"marker\":{\"color\":\"rgb(0,116,217)\"},\"mode\":\"lines\",\"x\":[37.42608771493032,49.964702730448714,49.964702730448714,39.61972282226158],\"xaxis\":\"x\",\"y\":[-80.0,-80.0,-110.0,-110.0],\"yaxis\":\"y\",\"type\":\"scatter\"},{\"hoverinfo\":\"text\",\"marker\":{\"color\":\"rgb(0,116,217)\"},\"mode\":\"lines\",\"x\":[0.0,58.41739740027235,58.41739740027235,49.964702730448714],\"xaxis\":\"x\",\"y\":[-55.0,-55.0,-95.0,-95.0],\"yaxis\":\"y\",\"type\":\"scatter\"},{\"hoverinfo\":\"text\",\"marker\":{\"color\":\"rgb(0,116,217)\"},\"mode\":\"lines\",\"x\":[0.0,21.82906238012623,21.82906238012623,0.0],\"xaxis\":\"x\",\"y\":[-145.0,-145.0,-155.0,-155.0],\"yaxis\":\"y\",\"type\":\"scatter\"},{\"hoverinfo\":\"text\",\"marker\":{\"color\":\"rgb(0,116,217)\"},\"mode\":\"lines\",\"x\":[0.0,45.5922059965799,45.5922059965799,21.82906238012623],\"xaxis\":\"x\",\"y\":[-135.0,-135.0,-150.0,-150.0],\"yaxis\":\"y\",\"type\":\"scatter\"},{\"hoverinfo\":\"text\",\"marker\":{\"color\":\"rgb(0,116,217)\"},\"mode\":\"lines\",\"x\":[0.0,69.82319933967395,69.82319933967395,45.5922059965799],\"xaxis\":\"x\",\"y\":[-125.0,-125.0,-142.5,-142.5],\"yaxis\":\"y\",\"type\":\"scatter\"},{\"hoverinfo\":\"text\",\"marker\":{\"color\":\"rgb(0,116,217)\"},\"mode\":\"lines\",\"x\":[58.41739740027235,73.52036458708581,73.52036458708581,69.82319933967395],\"xaxis\":\"x\",\"y\":[-75.0,-75.0,-133.75,-133.75],\"yaxis\":\"y\",\"type\":\"scatter\"},{\"hoverinfo\":\"text\",\"marker\":{\"color\":\"rgb(0,116,217)\"},\"mode\":\"lines\",\"x\":[60.39128070665539,88.83193862352184,88.83193862352184,73.52036458708581],\"xaxis\":\"x\",\"y\":[-40.0,-40.0,-104.375,-104.375],\"yaxis\":\"y\",\"type\":\"scatter\"},{\"hoverinfo\":\"text\",\"marker\":{\"color\":\"rgb(0,116,217)\"},\"mode\":\"lines\",\"x\":[80.2363199042436,96.13020542526682,96.13020542526682,88.83193862352184],\"xaxis\":\"x\",\"y\":[-12.5,-12.5,-72.1875,-72.1875],\"yaxis\":\"y\",\"type\":\"scatter\"},{\"hoverinfo\":\"text\",\"marker\":{\"color\":\"rgb(0,116,217)\"},\"mode\":\"lines\",\"x\":[0.0,35.4067009024602,35.4067009024602,0.0],\"xaxis\":\"x\",\"y\":[-175.0,-175.0,-185.0,-185.0],\"yaxis\":\"y\",\"type\":\"scatter\"},{\"hoverinfo\":\"text\",\"marker\":{\"color\":\"rgb(0,116,217)\"},\"mode\":\"lines\",\"x\":[0.0,49.92682050217933,49.92682050217933,35.4067009024602],\"xaxis\":\"x\",\"y\":[-165.0,-165.0,-180.0,-180.0],\"yaxis\":\"y\",\"type\":\"scatter\"},{\"hoverinfo\":\"text\",\"marker\":{\"color\":\"rgb(0,116,217)\"},\"mode\":\"lines\",\"x\":[0.0,25.739018597206822,25.739018597206822,0.0],\"xaxis\":\"x\",\"y\":[-195.0,-195.0,-205.0,-205.0],\"yaxis\":\"y\",\"type\":\"scatter\"},{\"hoverinfo\":\"text\",\"marker\":{\"color\":\"rgb(0,116,217)\"},\"mode\":\"lines\",\"x\":[0.0,50.07539442771305,50.07539442771305,0.0],\"xaxis\":\"x\",\"y\":[-215.0,-215.0,-225.0,-225.0],\"yaxis\":\"y\",\"type\":\"scatter\"},{\"hoverinfo\":\"text\",\"marker\":{\"color\":\"rgb(0,116,217)\"},\"mode\":\"lines\",\"x\":[25.739018597206822,62.32296926554115,62.32296926554115,50.07539442771305],\"xaxis\":\"x\",\"y\":[-200.0,-200.0,-220.0,-220.0],\"yaxis\":\"y\",\"type\":\"scatter\"},{\"hoverinfo\":\"text\",\"marker\":{\"color\":\"rgb(0,116,217)\"},\"mode\":\"lines\",\"x\":[49.92682050217933,110.6005175115606,110.6005175115606,62.32296926554115],\"xaxis\":\"x\",\"y\":[-172.5,-172.5,-210.0,-210.0],\"yaxis\":\"y\",\"type\":\"scatter\"},{\"hoverinfo\":\"text\",\"marker\":{\"color\":\"rgb(0,116,217)\"},\"mode\":\"lines\",\"x\":[96.13020542526682,124.91407918211023,124.91407918211023,110.6005175115606],\"xaxis\":\"x\",\"y\":[-42.34375,-42.34375,-191.25,-191.25],\"yaxis\":\"y\",\"type\":\"scatter\"}],                        {\"autosize\":false,\"height\":700,\"hovermode\":\"closest\",\"showlegend\":false,\"width\":1000,\"xaxis\":{\"mirror\":\"allticks\",\"rangemode\":\"tozero\",\"showgrid\":false,\"showline\":true,\"showticklabels\":true,\"ticks\":\"outside\",\"type\":\"linear\",\"zeroline\":false},\"yaxis\":{\"mirror\":\"allticks\",\"rangemode\":\"tozero\",\"showgrid\":false,\"showline\":true,\"showticklabels\":true,\"tickmode\":\"array\",\"ticks\":\"outside\",\"ticktext\":[\"Mobile dev\",\"Game dev\",\"Embedded dev\",\"Analyst\",\"Desktop dev\",\"Senior Executive\",\"Quality Assurance\",\"Back-end dev\",\"Product manager\",\"Educator\",\"System admin\",\"Database admin\",\"Marketing/Sales\",\"Designer\",\"Front-end dev\",\"Full-stack dev\",\"Site Engineer\",\"Engineering manager\",\"DevOps\",\"Scientist\",\"Researcher\",\"Data Engineer\",\"Data Scientist \"],\"tickvals\":[-5.0,-15.0,-25.0,-35.0,-45.0,-55.0,-65.0,-75.0,-85.0,-95.0,-105.0,-115.0,-125.0,-135.0,-145.0,-155.0,-165.0,-175.0,-185.0,-195.0,-205.0,-215.0,-225.0],\"type\":\"linear\",\"zeroline\":false},\"template\":{\"data\":{\"histogram2dcontour\":[{\"type\":\"histogram2dcontour\",\"colorbar\":{\"outlinewidth\":0,\"ticks\":\"\"},\"colorscale\":[[0.0,\"#0d0887\"],[0.1111111111111111,\"#46039f\"],[0.2222222222222222,\"#7201a8\"],[0.3333333333333333,\"#9c179e\"],[0.4444444444444444,\"#bd3786\"],[0.5555555555555556,\"#d8576b\"],[0.6666666666666666,\"#ed7953\"],[0.7777777777777778,\"#fb9f3a\"],[0.8888888888888888,\"#fdca26\"],[1.0,\"#f0f921\"]]}],\"choropleth\":[{\"type\":\"choropleth\",\"colorbar\":{\"outlinewidth\":0,\"ticks\":\"\"}}],\"histogram2d\":[{\"type\":\"histogram2d\",\"colorbar\":{\"outlinewidth\":0,\"ticks\":\"\"},\"colorscale\":[[0.0,\"#0d0887\"],[0.1111111111111111,\"#46039f\"],[0.2222222222222222,\"#7201a8\"],[0.3333333333333333,\"#9c179e\"],[0.4444444444444444,\"#bd3786\"],[0.5555555555555556,\"#d8576b\"],[0.6666666666666666,\"#ed7953\"],[0.7777777777777778,\"#fb9f3a\"],[0.8888888888888888,\"#fdca26\"],[1.0,\"#f0f921\"]]}],\"heatmap\":[{\"type\":\"heatmap\",\"colorbar\":{\"outlinewidth\":0,\"ticks\":\"\"},\"colorscale\":[[0.0,\"#0d0887\"],[0.1111111111111111,\"#46039f\"],[0.2222222222222222,\"#7201a8\"],[0.3333333333333333,\"#9c179e\"],[0.4444444444444444,\"#bd3786\"],[0.5555555555555556,\"#d8576b\"],[0.6666666666666666,\"#ed7953\"],[0.7777777777777778,\"#fb9f3a\"],[0.8888888888888888,\"#fdca26\"],[1.0,\"#f0f921\"]]}],\"heatmapgl\":[{\"type\":\"heatmapgl\",\"colorbar\":{\"outlinewidth\":0,\"ticks\":\"\"},\"colorscale\":[[0.0,\"#0d0887\"],[0.1111111111111111,\"#46039f\"],[0.2222222222222222,\"#7201a8\"],[0.3333333333333333,\"#9c179e\"],[0.4444444444444444,\"#bd3786\"],[0.5555555555555556,\"#d8576b\"],[0.6666666666666666,\"#ed7953\"],[0.7777777777777778,\"#fb9f3a\"],[0.8888888888888888,\"#fdca26\"],[1.0,\"#f0f921\"]]}],\"contourcarpet\":[{\"type\":\"contourcarpet\",\"colorbar\":{\"outlinewidth\":0,\"ticks\":\"\"}}],\"contour\":[{\"type\":\"contour\",\"colorbar\":{\"outlinewidth\":0,\"ticks\":\"\"},\"colorscale\":[[0.0,\"#0d0887\"],[0.1111111111111111,\"#46039f\"],[0.2222222222222222,\"#7201a8\"],[0.3333333333333333,\"#9c179e\"],[0.4444444444444444,\"#bd3786\"],[0.5555555555555556,\"#d8576b\"],[0.6666666666666666,\"#ed7953\"],[0.7777777777777778,\"#fb9f3a\"],[0.8888888888888888,\"#fdca26\"],[1.0,\"#f0f921\"]]}],\"surface\":[{\"type\":\"surface\",\"colorbar\":{\"outlinewidth\":0,\"ticks\":\"\"},\"colorscale\":[[0.0,\"#0d0887\"],[0.1111111111111111,\"#46039f\"],[0.2222222222222222,\"#7201a8\"],[0.3333333333333333,\"#9c179e\"],[0.4444444444444444,\"#bd3786\"],[0.5555555555555556,\"#d8576b\"],[0.6666666666666666,\"#ed7953\"],[0.7777777777777778,\"#fb9f3a\"],[0.8888888888888888,\"#fdca26\"],[1.0,\"#f0f921\"]]}],\"mesh3d\":[{\"type\":\"mesh3d\",\"colorbar\":{\"outlinewidth\":0,\"ticks\":\"\"}}],\"scatter\":[{\"fillpattern\":{\"fillmode\":\"overlay\",\"size\":10,\"solidity\":0.2},\"type\":\"scatter\"}],\"parcoords\":[{\"type\":\"parcoords\",\"line\":{\"colorbar\":{\"outlinewidth\":0,\"ticks\":\"\"}}}],\"scatterpolargl\":[{\"type\":\"scatterpolargl\",\"marker\":{\"colorbar\":{\"outlinewidth\":0,\"ticks\":\"\"}}}],\"bar\":[{\"error_x\":{\"color\":\"#2a3f5f\"},\"error_y\":{\"color\":\"#2a3f5f\"},\"marker\":{\"line\":{\"color\":\"#E5ECF6\",\"width\":0.5},\"pattern\":{\"fillmode\":\"overlay\",\"size\":10,\"solidity\":0.2}},\"type\":\"bar\"}],\"scattergeo\":[{\"type\":\"scattergeo\",\"marker\":{\"colorbar\":{\"outlinewidth\":0,\"ticks\":\"\"}}}],\"scatterpolar\":[{\"type\":\"scatterpolar\",\"marker\":{\"colorbar\":{\"outlinewidth\":0,\"ticks\":\"\"}}}],\"histogram\":[{\"marker\":{\"pattern\":{\"fillmode\":\"overlay\",\"size\":10,\"solidity\":0.2}},\"type\":\"histogram\"}],\"scattergl\":[{\"type\":\"scattergl\",\"marker\":{\"colorbar\":{\"outlinewidth\":0,\"ticks\":\"\"}}}],\"scatter3d\":[{\"type\":\"scatter3d\",\"line\":{\"colorbar\":{\"outlinewidth\":0,\"ticks\":\"\"}},\"marker\":{\"colorbar\":{\"outlinewidth\":0,\"ticks\":\"\"}}}],\"scattermapbox\":[{\"type\":\"scattermapbox\",\"marker\":{\"colorbar\":{\"outlinewidth\":0,\"ticks\":\"\"}}}],\"scatterternary\":[{\"type\":\"scatterternary\",\"marker\":{\"colorbar\":{\"outlinewidth\":0,\"ticks\":\"\"}}}],\"scattercarpet\":[{\"type\":\"scattercarpet\",\"marker\":{\"colorbar\":{\"outlinewidth\":0,\"ticks\":\"\"}}}],\"carpet\":[{\"aaxis\":{\"endlinecolor\":\"#2a3f5f\",\"gridcolor\":\"white\",\"linecolor\":\"white\",\"minorgridcolor\":\"white\",\"startlinecolor\":\"#2a3f5f\"},\"baxis\":{\"endlinecolor\":\"#2a3f5f\",\"gridcolor\":\"white\",\"linecolor\":\"white\",\"minorgridcolor\":\"white\",\"startlinecolor\":\"#2a3f5f\"},\"type\":\"carpet\"}],\"table\":[{\"cells\":{\"fill\":{\"color\":\"#EBF0F8\"},\"line\":{\"color\":\"white\"}},\"header\":{\"fill\":{\"color\":\"#C8D4E3\"},\"line\":{\"color\":\"white\"}},\"type\":\"table\"}],\"barpolar\":[{\"marker\":{\"line\":{\"color\":\"#E5ECF6\",\"width\":0.5},\"pattern\":{\"fillmode\":\"overlay\",\"size\":10,\"solidity\":0.2}},\"type\":\"barpolar\"}],\"pie\":[{\"automargin\":true,\"type\":\"pie\"}]},\"layout\":{\"autotypenumbers\":\"strict\",\"colorway\":[\"#636efa\",\"#EF553B\",\"#00cc96\",\"#ab63fa\",\"#FFA15A\",\"#19d3f3\",\"#FF6692\",\"#B6E880\",\"#FF97FF\",\"#FECB52\"],\"font\":{\"color\":\"#2a3f5f\"},\"hovermode\":\"closest\",\"hoverlabel\":{\"align\":\"left\"},\"paper_bgcolor\":\"white\",\"plot_bgcolor\":\"#E5ECF6\",\"polar\":{\"bgcolor\":\"#E5ECF6\",\"angularaxis\":{\"gridcolor\":\"white\",\"linecolor\":\"white\",\"ticks\":\"\"},\"radialaxis\":{\"gridcolor\":\"white\",\"linecolor\":\"white\",\"ticks\":\"\"}},\"ternary\":{\"bgcolor\":\"#E5ECF6\",\"aaxis\":{\"gridcolor\":\"white\",\"linecolor\":\"white\",\"ticks\":\"\"},\"baxis\":{\"gridcolor\":\"white\",\"linecolor\":\"white\",\"ticks\":\"\"},\"caxis\":{\"gridcolor\":\"white\",\"linecolor\":\"white\",\"ticks\":\"\"}},\"coloraxis\":{\"colorbar\":{\"outlinewidth\":0,\"ticks\":\"\"}},\"colorscale\":{\"sequential\":[[0.0,\"#0d0887\"],[0.1111111111111111,\"#46039f\"],[0.2222222222222222,\"#7201a8\"],[0.3333333333333333,\"#9c179e\"],[0.4444444444444444,\"#bd3786\"],[0.5555555555555556,\"#d8576b\"],[0.6666666666666666,\"#ed7953\"],[0.7777777777777778,\"#fb9f3a\"],[0.8888888888888888,\"#fdca26\"],[1.0,\"#f0f921\"]],\"sequentialminus\":[[0.0,\"#0d0887\"],[0.1111111111111111,\"#46039f\"],[0.2222222222222222,\"#7201a8\"],[0.3333333333333333,\"#9c179e\"],[0.4444444444444444,\"#bd3786\"],[0.5555555555555556,\"#d8576b\"],[0.6666666666666666,\"#ed7953\"],[0.7777777777777778,\"#fb9f3a\"],[0.8888888888888888,\"#fdca26\"],[1.0,\"#f0f921\"]],\"diverging\":[[0,\"#8e0152\"],[0.1,\"#c51b7d\"],[0.2,\"#de77ae\"],[0.3,\"#f1b6da\"],[0.4,\"#fde0ef\"],[0.5,\"#f7f7f7\"],[0.6,\"#e6f5d0\"],[0.7,\"#b8e186\"],[0.8,\"#7fbc41\"],[0.9,\"#4d9221\"],[1,\"#276419\"]]},\"xaxis\":{\"gridcolor\":\"white\",\"linecolor\":\"white\",\"ticks\":\"\",\"title\":{\"standoff\":15},\"zerolinecolor\":\"white\",\"automargin\":true,\"zerolinewidth\":2},\"yaxis\":{\"gridcolor\":\"white\",\"linecolor\":\"white\",\"ticks\":\"\",\"title\":{\"standoff\":15},\"zerolinecolor\":\"white\",\"automargin\":true,\"zerolinewidth\":2},\"scene\":{\"xaxis\":{\"backgroundcolor\":\"#E5ECF6\",\"gridcolor\":\"white\",\"linecolor\":\"white\",\"showbackground\":true,\"ticks\":\"\",\"zerolinecolor\":\"white\",\"gridwidth\":2},\"yaxis\":{\"backgroundcolor\":\"#E5ECF6\",\"gridcolor\":\"white\",\"linecolor\":\"white\",\"showbackground\":true,\"ticks\":\"\",\"zerolinecolor\":\"white\",\"gridwidth\":2},\"zaxis\":{\"backgroundcolor\":\"#E5ECF6\",\"gridcolor\":\"white\",\"linecolor\":\"white\",\"showbackground\":true,\"ticks\":\"\",\"zerolinecolor\":\"white\",\"gridwidth\":2}},\"shapedefaults\":{\"line\":{\"color\":\"#2a3f5f\"}},\"annotationdefaults\":{\"arrowcolor\":\"#2a3f5f\",\"arrowhead\":0,\"arrowwidth\":1},\"geo\":{\"bgcolor\":\"white\",\"landcolor\":\"#E5ECF6\",\"subunitcolor\":\"white\",\"showland\":true,\"showlakes\":true,\"lakecolor\":\"white\"},\"title\":{\"x\":0.05},\"mapbox\":{\"style\":\"light\"}}}},                        {\"responsive\": true}                    ).then(function(){\n",
       "                            \n",
       "var gd = document.getElementById('ac649012-8b7f-46b2-8665-336e576e0af8');\n",
       "var x = new MutationObserver(function (mutations, observer) {{\n",
       "        var display = window.getComputedStyle(gd).display;\n",
       "        if (!display || display === 'none') {{\n",
       "            console.log([gd, 'removed!']);\n",
       "            Plotly.purge(gd);\n",
       "            observer.disconnect();\n",
       "        }}\n",
       "}});\n",
       "\n",
       "// Listen for the removal of the full notebook cells\n",
       "var notebookContainer = gd.closest('#notebook-container');\n",
       "if (notebookContainer) {{\n",
       "    x.observe(notebookContainer, {childList: true});\n",
       "}}\n",
       "\n",
       "// Listen for the clearing of the current output cell\n",
       "var outputEl = gd.closest('.output');\n",
       "if (outputEl) {{\n",
       "    x.observe(outputEl, {childList: true});\n",
       "}}\n",
       "\n",
       "                        })                };                });            </script>        </div>"
      ]
     },
     "metadata": {},
     "output_type": "display_data"
    }
   ],
   "source": [
    "fig = ff.create_dendrogram(skills, labels=short_labels, orientation='left', color_threshold=0)\n",
    "fig.update_layout(height=700, width=1000, showlegend=False)\n",
    "fig.show()"
   ]
  },
  {
   "cell_type": "markdown",
   "id": "dec2e6a5-3fb0-45f9-bdde-665c27da981d",
   "metadata": {},
   "source": [
    "### Job profiles\n"
   ]
  },
  {
   "cell_type": "code",
   "execution_count": 66,
   "id": "b1e0591d-7ea1-41d0-b900-b05549ca3cca",
   "metadata": {},
   "outputs": [
    {
     "data": {
      "text/plain": [
       "['Marketing or sales professional',\n",
       " 'Senior executive/VP',\n",
       " 'Engineer, site reliability',\n",
       " 'Scientist',\n",
       " 'Product manager',\n",
       " 'Engineering manager',\n",
       " 'Developer, game or graphics',\n",
       " 'Educator',\n",
       " 'Academic researcher',\n",
       " 'Engineer, data',\n",
       " 'Developer, QA or test',\n",
       " 'Data scientist or machine learning specialist',\n",
       " 'Data or business analyst',\n",
       " 'Developer, embedded applications or devices',\n",
       " 'System administrator',\n",
       " 'Designer',\n",
       " 'Database administrator',\n",
       " 'DevOps specialist',\n",
       " 'Developer, mobile',\n",
       " 'Developer, desktop or enterprise applications',\n",
       " 'Developer, front-end',\n",
       " 'Developer, full-stack',\n",
       " 'Developer, back-end']"
      ]
     },
     "execution_count": 66,
     "metadata": {},
     "output_type": "execute_result"
    }
   ],
   "source": [
    "sorted_roles"
   ]
  },
  {
   "cell_type": "code",
   "execution_count": 67,
   "id": "d762bd45-cdce-4e36-a8ba-a86a2afdc179",
   "metadata": {},
   "outputs": [],
   "source": [
    "role = 'Data scientist or machine learning specialist'"
   ]
  },
  {
   "cell_type": "code",
   "execution_count": 68,
   "id": "a60ed13a-232e-49c3-97c1-414de0a6ebc4",
   "metadata": {},
   "outputs": [],
   "source": [
    "single_role_skills = pd.concat([skills.loc[role], std_skills.loc[role]], axis=1)\n",
    "single_role_skills.columns = ['percentage', 'specificity']\n",
    "single_role_skills = single_role_skills.sort_values('percentage')"
   ]
  },
  {
   "cell_type": "code",
   "execution_count": 69,
   "id": "6820217a-11b9-495f-bb61-5dc684331bc5",
   "metadata": {},
   "outputs": [
    {
     "data": {
      "text/html": [
       "<div>\n",
       "<style scoped>\n",
       "    .dataframe tbody tr th:only-of-type {\n",
       "        vertical-align: middle;\n",
       "    }\n",
       "\n",
       "    .dataframe tbody tr th {\n",
       "        vertical-align: top;\n",
       "    }\n",
       "\n",
       "    .dataframe thead th {\n",
       "        text-align: right;\n",
       "    }\n",
       "</style>\n",
       "<table border=\"1\" class=\"dataframe\">\n",
       "  <thead>\n",
       "    <tr style=\"text-align: right;\">\n",
       "      <th></th>\n",
       "      <th>percentage</th>\n",
       "      <th>specificity</th>\n",
       "    </tr>\n",
       "  </thead>\n",
       "  <tbody>\n",
       "    <tr>\n",
       "      <th>Chef</th>\n",
       "      <td>2.081244</td>\n",
       "      <td>-0.366560</td>\n",
       "    </tr>\n",
       "    <tr>\n",
       "      <th>Couchbase</th>\n",
       "      <td>2.357071</td>\n",
       "      <td>-0.627059</td>\n",
       "    </tr>\n",
       "    <tr>\n",
       "      <th>Puppet</th>\n",
       "      <td>2.432297</td>\n",
       "      <td>-0.425910</td>\n",
       "    </tr>\n",
       "    <tr>\n",
       "      <th>Gatsby</th>\n",
       "      <td>2.683049</td>\n",
       "      <td>-0.732300</td>\n",
       "    </tr>\n",
       "    <tr>\n",
       "      <th>Unreal Engine</th>\n",
       "      <td>2.758275</td>\n",
       "      <td>-0.330042</td>\n",
       "    </tr>\n",
       "    <tr>\n",
       "      <th>...</th>\n",
       "      <td>...</td>\n",
       "      <td>...</td>\n",
       "    </tr>\n",
       "    <tr>\n",
       "      <th>Slack</th>\n",
       "      <td>51.078235</td>\n",
       "      <td>0.167600</td>\n",
       "    </tr>\n",
       "    <tr>\n",
       "      <th>SQL</th>\n",
       "      <td>58.450351</td>\n",
       "      <td>-0.180472</td>\n",
       "    </tr>\n",
       "    <tr>\n",
       "      <th>Linux</th>\n",
       "      <td>63.540622</td>\n",
       "      <td>0.720565</td>\n",
       "    </tr>\n",
       "    <tr>\n",
       "      <th>Github</th>\n",
       "      <td>78.059178</td>\n",
       "      <td>0.967076</td>\n",
       "    </tr>\n",
       "    <tr>\n",
       "      <th>Python</th>\n",
       "      <td>78.335005</td>\n",
       "      <td>2.614848</td>\n",
       "    </tr>\n",
       "  </tbody>\n",
       "</table>\n",
       "<p>103 rows × 2 columns</p>\n",
       "</div>"
      ],
      "text/plain": [
       "               percentage  specificity\n",
       "Chef             2.081244    -0.366560\n",
       "Couchbase        2.357071    -0.627059\n",
       "Puppet           2.432297    -0.425910\n",
       "Gatsby           2.683049    -0.732300\n",
       "Unreal Engine    2.758275    -0.330042\n",
       "...                   ...          ...\n",
       "Slack           51.078235     0.167600\n",
       "SQL             58.450351    -0.180472\n",
       "Linux           63.540622     0.720565\n",
       "Github          78.059178     0.967076\n",
       "Python          78.335005     2.614848\n",
       "\n",
       "[103 rows x 2 columns]"
      ]
     },
     "execution_count": 69,
     "metadata": {},
     "output_type": "execute_result"
    }
   ],
   "source": [
    "single_role_skills"
   ]
  },
  {
   "cell_type": "code",
   "execution_count": 70,
   "id": "b90201ac-bb26-420b-9293-c061c20bde3d",
   "metadata": {},
   "outputs": [
    {
     "data": {
      "application/vnd.plotly.v1+json": {
       "config": {
        "plotlyServerURL": "https://plot.ly"
       },
       "data": [
        {
         "alignmentgroup": "True",
         "hovertemplate": "x=%{x}<br>y=%{y}<br>color=%{marker.color}<extra></extra>",
         "legendgroup": "",
         "marker": {
          "color": [
           0.21532424141910095,
           -1.9464254034912876,
           0.3860820770952778,
           2.894423165550614,
           -0.8588437979865869,
           -0.9006494976610825,
           3.6812767324840125,
           2.8366067922330895,
           -0.2052853102660454,
           0.49730533649320385,
           0.2523435507670409,
           0.27999588425071037,
           -0.6773542237183563,
           -0.08179413152863334,
           3.6109343256038575,
           0.5312367597338895,
           -0.07896065758627525,
           0.22884339796838765,
           -0.36855790879145617,
           0.04125031098237779,
           -0.8526348000741512,
           -1.7606504243877041,
           -2.0553805104496368,
           -0.36172287328974495,
           3.291583827472921,
           0.16760034240237398,
           -0.1804718281210389,
           0.720565437245754,
           0.967076285498978,
           2.6148476507869254
          ],
          "coloraxis": "coloraxis",
          "pattern": {
           "shape": ""
          }
         },
         "name": "",
         "offsetgroup": "",
         "orientation": "h",
         "showlegend": false,
         "textposition": "auto",
         "type": "bar",
         "x": [
          25.050150451354064,
          25.651955867602812,
          25.827482447342025,
          26.4543630892678,
          26.705115346038117,
          27.256770310932797,
          27.256770310932797,
          27.632898696088265,
          28.58575727181545,
          29.789368104312942,
          32.59779338014042,
          33.45035105315948,
          35.05516549648947,
          36.18355065195587,
          37.938816449348046,
          39.1173520561685,
          39.56870611835506,
          39.96990972918756,
          40.84754262788365,
          43.75626880641926,
          46.26379137412236,
          48.24473420260782,
          48.26980942828485,
          48.72116349047141,
          50.075225677031085,
          51.07823470411233,
          58.45035105315948,
          63.54062186559679,
          78.05917753259779,
          78.33500501504514
         ],
         "xaxis": "x",
         "y": [
          "C",
          "Node.js",
          "MongoDB",
          "Flask",
          "Trello",
          "Microsoft SQL Server",
          "Keras",
          "R",
          "Confluence",
          "C++",
          "AWS",
          "SQLite",
          "Java",
          "Gitlab",
          "TensorFlow",
          "PostgreSQL",
          "Bash/Shell/PowerShell",
          "Docker",
          "Jira",
          "Google Suite (Docs, Meet, etc)",
          "MySQL",
          "HTML/CSS",
          "JavaScript",
          "Windows",
          "Pandas",
          "Slack",
          "SQL",
          "Linux",
          "Github",
          "Python"
         ],
         "yaxis": "y"
        }
       ],
       "layout": {
        "barmode": "relative",
        "coloraxis": {
         "cmax": 4.578863713652795,
         "cmin": -2.3383533547695063,
         "colorbar": {
          "title": {
           "text": "color"
          }
         },
         "colorscale": [
          [
           0,
           "rgb(255,247,236)"
          ],
          [
           0.125,
           "rgb(254,232,200)"
          ],
          [
           0.25,
           "rgb(253,212,158)"
          ],
          [
           0.375,
           "rgb(253,187,132)"
          ],
          [
           0.5,
           "rgb(252,141,89)"
          ],
          [
           0.625,
           "rgb(239,101,72)"
          ],
          [
           0.75,
           "rgb(215,48,31)"
          ],
          [
           0.875,
           "rgb(179,0,0)"
          ],
          [
           1,
           "rgb(127,0,0)"
          ]
         ]
        },
        "height": 800,
        "legend": {
         "tracegroupgap": 0
        },
        "margin": {
         "t": 60
        },
        "template": {
         "data": {
          "bar": [
           {
            "error_x": {
             "color": "#2a3f5f"
            },
            "error_y": {
             "color": "#2a3f5f"
            },
            "marker": {
             "line": {
              "color": "#E5ECF6",
              "width": 0.5
             },
             "pattern": {
              "fillmode": "overlay",
              "size": 10,
              "solidity": 0.2
             }
            },
            "type": "bar"
           }
          ],
          "barpolar": [
           {
            "marker": {
             "line": {
              "color": "#E5ECF6",
              "width": 0.5
             },
             "pattern": {
              "fillmode": "overlay",
              "size": 10,
              "solidity": 0.2
             }
            },
            "type": "barpolar"
           }
          ],
          "carpet": [
           {
            "aaxis": {
             "endlinecolor": "#2a3f5f",
             "gridcolor": "white",
             "linecolor": "white",
             "minorgridcolor": "white",
             "startlinecolor": "#2a3f5f"
            },
            "baxis": {
             "endlinecolor": "#2a3f5f",
             "gridcolor": "white",
             "linecolor": "white",
             "minorgridcolor": "white",
             "startlinecolor": "#2a3f5f"
            },
            "type": "carpet"
           }
          ],
          "choropleth": [
           {
            "colorbar": {
             "outlinewidth": 0,
             "ticks": ""
            },
            "type": "choropleth"
           }
          ],
          "contour": [
           {
            "colorbar": {
             "outlinewidth": 0,
             "ticks": ""
            },
            "colorscale": [
             [
              0,
              "#0d0887"
             ],
             [
              0.1111111111111111,
              "#46039f"
             ],
             [
              0.2222222222222222,
              "#7201a8"
             ],
             [
              0.3333333333333333,
              "#9c179e"
             ],
             [
              0.4444444444444444,
              "#bd3786"
             ],
             [
              0.5555555555555556,
              "#d8576b"
             ],
             [
              0.6666666666666666,
              "#ed7953"
             ],
             [
              0.7777777777777778,
              "#fb9f3a"
             ],
             [
              0.8888888888888888,
              "#fdca26"
             ],
             [
              1,
              "#f0f921"
             ]
            ],
            "type": "contour"
           }
          ],
          "contourcarpet": [
           {
            "colorbar": {
             "outlinewidth": 0,
             "ticks": ""
            },
            "type": "contourcarpet"
           }
          ],
          "heatmap": [
           {
            "colorbar": {
             "outlinewidth": 0,
             "ticks": ""
            },
            "colorscale": [
             [
              0,
              "#0d0887"
             ],
             [
              0.1111111111111111,
              "#46039f"
             ],
             [
              0.2222222222222222,
              "#7201a8"
             ],
             [
              0.3333333333333333,
              "#9c179e"
             ],
             [
              0.4444444444444444,
              "#bd3786"
             ],
             [
              0.5555555555555556,
              "#d8576b"
             ],
             [
              0.6666666666666666,
              "#ed7953"
             ],
             [
              0.7777777777777778,
              "#fb9f3a"
             ],
             [
              0.8888888888888888,
              "#fdca26"
             ],
             [
              1,
              "#f0f921"
             ]
            ],
            "type": "heatmap"
           }
          ],
          "heatmapgl": [
           {
            "colorbar": {
             "outlinewidth": 0,
             "ticks": ""
            },
            "colorscale": [
             [
              0,
              "#0d0887"
             ],
             [
              0.1111111111111111,
              "#46039f"
             ],
             [
              0.2222222222222222,
              "#7201a8"
             ],
             [
              0.3333333333333333,
              "#9c179e"
             ],
             [
              0.4444444444444444,
              "#bd3786"
             ],
             [
              0.5555555555555556,
              "#d8576b"
             ],
             [
              0.6666666666666666,
              "#ed7953"
             ],
             [
              0.7777777777777778,
              "#fb9f3a"
             ],
             [
              0.8888888888888888,
              "#fdca26"
             ],
             [
              1,
              "#f0f921"
             ]
            ],
            "type": "heatmapgl"
           }
          ],
          "histogram": [
           {
            "marker": {
             "pattern": {
              "fillmode": "overlay",
              "size": 10,
              "solidity": 0.2
             }
            },
            "type": "histogram"
           }
          ],
          "histogram2d": [
           {
            "colorbar": {
             "outlinewidth": 0,
             "ticks": ""
            },
            "colorscale": [
             [
              0,
              "#0d0887"
             ],
             [
              0.1111111111111111,
              "#46039f"
             ],
             [
              0.2222222222222222,
              "#7201a8"
             ],
             [
              0.3333333333333333,
              "#9c179e"
             ],
             [
              0.4444444444444444,
              "#bd3786"
             ],
             [
              0.5555555555555556,
              "#d8576b"
             ],
             [
              0.6666666666666666,
              "#ed7953"
             ],
             [
              0.7777777777777778,
              "#fb9f3a"
             ],
             [
              0.8888888888888888,
              "#fdca26"
             ],
             [
              1,
              "#f0f921"
             ]
            ],
            "type": "histogram2d"
           }
          ],
          "histogram2dcontour": [
           {
            "colorbar": {
             "outlinewidth": 0,
             "ticks": ""
            },
            "colorscale": [
             [
              0,
              "#0d0887"
             ],
             [
              0.1111111111111111,
              "#46039f"
             ],
             [
              0.2222222222222222,
              "#7201a8"
             ],
             [
              0.3333333333333333,
              "#9c179e"
             ],
             [
              0.4444444444444444,
              "#bd3786"
             ],
             [
              0.5555555555555556,
              "#d8576b"
             ],
             [
              0.6666666666666666,
              "#ed7953"
             ],
             [
              0.7777777777777778,
              "#fb9f3a"
             ],
             [
              0.8888888888888888,
              "#fdca26"
             ],
             [
              1,
              "#f0f921"
             ]
            ],
            "type": "histogram2dcontour"
           }
          ],
          "mesh3d": [
           {
            "colorbar": {
             "outlinewidth": 0,
             "ticks": ""
            },
            "type": "mesh3d"
           }
          ],
          "parcoords": [
           {
            "line": {
             "colorbar": {
              "outlinewidth": 0,
              "ticks": ""
             }
            },
            "type": "parcoords"
           }
          ],
          "pie": [
           {
            "automargin": true,
            "type": "pie"
           }
          ],
          "scatter": [
           {
            "fillpattern": {
             "fillmode": "overlay",
             "size": 10,
             "solidity": 0.2
            },
            "type": "scatter"
           }
          ],
          "scatter3d": [
           {
            "line": {
             "colorbar": {
              "outlinewidth": 0,
              "ticks": ""
             }
            },
            "marker": {
             "colorbar": {
              "outlinewidth": 0,
              "ticks": ""
             }
            },
            "type": "scatter3d"
           }
          ],
          "scattercarpet": [
           {
            "marker": {
             "colorbar": {
              "outlinewidth": 0,
              "ticks": ""
             }
            },
            "type": "scattercarpet"
           }
          ],
          "scattergeo": [
           {
            "marker": {
             "colorbar": {
              "outlinewidth": 0,
              "ticks": ""
             }
            },
            "type": "scattergeo"
           }
          ],
          "scattergl": [
           {
            "marker": {
             "colorbar": {
              "outlinewidth": 0,
              "ticks": ""
             }
            },
            "type": "scattergl"
           }
          ],
          "scattermapbox": [
           {
            "marker": {
             "colorbar": {
              "outlinewidth": 0,
              "ticks": ""
             }
            },
            "type": "scattermapbox"
           }
          ],
          "scatterpolar": [
           {
            "marker": {
             "colorbar": {
              "outlinewidth": 0,
              "ticks": ""
             }
            },
            "type": "scatterpolar"
           }
          ],
          "scatterpolargl": [
           {
            "marker": {
             "colorbar": {
              "outlinewidth": 0,
              "ticks": ""
             }
            },
            "type": "scatterpolargl"
           }
          ],
          "scatterternary": [
           {
            "marker": {
             "colorbar": {
              "outlinewidth": 0,
              "ticks": ""
             }
            },
            "type": "scatterternary"
           }
          ],
          "surface": [
           {
            "colorbar": {
             "outlinewidth": 0,
             "ticks": ""
            },
            "colorscale": [
             [
              0,
              "#0d0887"
             ],
             [
              0.1111111111111111,
              "#46039f"
             ],
             [
              0.2222222222222222,
              "#7201a8"
             ],
             [
              0.3333333333333333,
              "#9c179e"
             ],
             [
              0.4444444444444444,
              "#bd3786"
             ],
             [
              0.5555555555555556,
              "#d8576b"
             ],
             [
              0.6666666666666666,
              "#ed7953"
             ],
             [
              0.7777777777777778,
              "#fb9f3a"
             ],
             [
              0.8888888888888888,
              "#fdca26"
             ],
             [
              1,
              "#f0f921"
             ]
            ],
            "type": "surface"
           }
          ],
          "table": [
           {
            "cells": {
             "fill": {
              "color": "#EBF0F8"
             },
             "line": {
              "color": "white"
             }
            },
            "header": {
             "fill": {
              "color": "#C8D4E3"
             },
             "line": {
              "color": "white"
             }
            },
            "type": "table"
           }
          ]
         },
         "layout": {
          "annotationdefaults": {
           "arrowcolor": "#2a3f5f",
           "arrowhead": 0,
           "arrowwidth": 1
          },
          "autotypenumbers": "strict",
          "coloraxis": {
           "colorbar": {
            "outlinewidth": 0,
            "ticks": ""
           }
          },
          "colorscale": {
           "diverging": [
            [
             0,
             "#8e0152"
            ],
            [
             0.1,
             "#c51b7d"
            ],
            [
             0.2,
             "#de77ae"
            ],
            [
             0.3,
             "#f1b6da"
            ],
            [
             0.4,
             "#fde0ef"
            ],
            [
             0.5,
             "#f7f7f7"
            ],
            [
             0.6,
             "#e6f5d0"
            ],
            [
             0.7,
             "#b8e186"
            ],
            [
             0.8,
             "#7fbc41"
            ],
            [
             0.9,
             "#4d9221"
            ],
            [
             1,
             "#276419"
            ]
           ],
           "sequential": [
            [
             0,
             "#0d0887"
            ],
            [
             0.1111111111111111,
             "#46039f"
            ],
            [
             0.2222222222222222,
             "#7201a8"
            ],
            [
             0.3333333333333333,
             "#9c179e"
            ],
            [
             0.4444444444444444,
             "#bd3786"
            ],
            [
             0.5555555555555556,
             "#d8576b"
            ],
            [
             0.6666666666666666,
             "#ed7953"
            ],
            [
             0.7777777777777778,
             "#fb9f3a"
            ],
            [
             0.8888888888888888,
             "#fdca26"
            ],
            [
             1,
             "#f0f921"
            ]
           ],
           "sequentialminus": [
            [
             0,
             "#0d0887"
            ],
            [
             0.1111111111111111,
             "#46039f"
            ],
            [
             0.2222222222222222,
             "#7201a8"
            ],
            [
             0.3333333333333333,
             "#9c179e"
            ],
            [
             0.4444444444444444,
             "#bd3786"
            ],
            [
             0.5555555555555556,
             "#d8576b"
            ],
            [
             0.6666666666666666,
             "#ed7953"
            ],
            [
             0.7777777777777778,
             "#fb9f3a"
            ],
            [
             0.8888888888888888,
             "#fdca26"
            ],
            [
             1,
             "#f0f921"
            ]
           ]
          },
          "colorway": [
           "#636efa",
           "#EF553B",
           "#00cc96",
           "#ab63fa",
           "#FFA15A",
           "#19d3f3",
           "#FF6692",
           "#B6E880",
           "#FF97FF",
           "#FECB52"
          ],
          "font": {
           "color": "#2a3f5f"
          },
          "geo": {
           "bgcolor": "white",
           "lakecolor": "white",
           "landcolor": "#E5ECF6",
           "showlakes": true,
           "showland": true,
           "subunitcolor": "white"
          },
          "hoverlabel": {
           "align": "left"
          },
          "hovermode": "closest",
          "mapbox": {
           "style": "light"
          },
          "paper_bgcolor": "white",
          "plot_bgcolor": "#E5ECF6",
          "polar": {
           "angularaxis": {
            "gridcolor": "white",
            "linecolor": "white",
            "ticks": ""
           },
           "bgcolor": "#E5ECF6",
           "radialaxis": {
            "gridcolor": "white",
            "linecolor": "white",
            "ticks": ""
           }
          },
          "scene": {
           "xaxis": {
            "backgroundcolor": "#E5ECF6",
            "gridcolor": "white",
            "gridwidth": 2,
            "linecolor": "white",
            "showbackground": true,
            "ticks": "",
            "zerolinecolor": "white"
           },
           "yaxis": {
            "backgroundcolor": "#E5ECF6",
            "gridcolor": "white",
            "gridwidth": 2,
            "linecolor": "white",
            "showbackground": true,
            "ticks": "",
            "zerolinecolor": "white"
           },
           "zaxis": {
            "backgroundcolor": "#E5ECF6",
            "gridcolor": "white",
            "gridwidth": 2,
            "linecolor": "white",
            "showbackground": true,
            "ticks": "",
            "zerolinecolor": "white"
           }
          },
          "shapedefaults": {
           "line": {
            "color": "#2a3f5f"
           }
          },
          "ternary": {
           "aaxis": {
            "gridcolor": "white",
            "linecolor": "white",
            "ticks": ""
           },
           "baxis": {
            "gridcolor": "white",
            "linecolor": "white",
            "ticks": ""
           },
           "bgcolor": "#E5ECF6",
           "caxis": {
            "gridcolor": "white",
            "linecolor": "white",
            "ticks": ""
           }
          },
          "title": {
           "x": 0.05
          },
          "xaxis": {
           "automargin": true,
           "gridcolor": "white",
           "linecolor": "white",
           "ticks": "",
           "title": {
            "standoff": 15
           },
           "zerolinecolor": "white",
           "zerolinewidth": 2
          },
          "yaxis": {
           "automargin": true,
           "gridcolor": "white",
           "linecolor": "white",
           "ticks": "",
           "title": {
            "standoff": 15
           },
           "zerolinecolor": "white",
           "zerolinewidth": 2
          }
         }
        },
        "title": {
         "text": "Data scientist or machine learning specialist"
        },
        "width": 800,
        "xaxis": {
         "anchor": "y",
         "autorange": true,
         "domain": [
          0,
          1
         ],
         "range": [
          0,
          82.457900015837
         ],
         "title": {
          "text": "x"
         },
         "type": "linear"
        },
        "yaxis": {
         "anchor": "x",
         "autorange": true,
         "domain": [
          0,
          1
         ],
         "range": [
          -0.5,
          29.5
         ],
         "title": {
          "text": "y"
         },
         "type": "category"
        }
       }
      },
      "image/png": "[encoded data removed]",
      "text/html": [
       "<div>                            <div id=\"db257e2f-0378-4981-82b8-16b699b3e047\" class=\"plotly-graph-div\" style=\"height:800px; width:800px;\"></div>            <script type=\"text/javascript\">                require([\"plotly\"], function(Plotly) {                    window.PLOTLYENV=window.PLOTLYENV || {};                                    if (document.getElementById(\"db257e2f-0378-4981-82b8-16b699b3e047\")) {                    Plotly.newPlot(                        \"db257e2f-0378-4981-82b8-16b699b3e047\",                        [{\"alignmentgroup\":\"True\",\"hovertemplate\":\"x=%{x}<br>y=%{y}<br>color=%{marker.color}<extra></extra>\",\"legendgroup\":\"\",\"marker\":{\"color\":[0.21532424141910095,-1.9464254034912876,0.3860820770952778,2.894423165550614,-0.8588437979865869,-0.9006494976610825,3.6812767324840125,2.8366067922330895,-0.2052853102660454,0.49730533649320385,0.2523435507670409,0.27999588425071037,-0.6773542237183563,-0.08179413152863334,3.6109343256038575,0.5312367597338895,-0.07896065758627525,0.22884339796838765,-0.36855790879145617,0.04125031098237779,-0.8526348000741512,-1.7606504243877041,-2.0553805104496368,-0.36172287328974495,3.291583827472921,0.16760034240237398,-0.1804718281210389,0.720565437245754,0.967076285498978,2.6148476507869254],\"coloraxis\":\"coloraxis\",\"pattern\":{\"shape\":\"\"}},\"name\":\"\",\"offsetgroup\":\"\",\"orientation\":\"h\",\"showlegend\":false,\"textposition\":\"auto\",\"x\":[25.050150451354064,25.651955867602812,25.827482447342025,26.4543630892678,26.705115346038117,27.256770310932797,27.256770310932797,27.632898696088265,28.58575727181545,29.789368104312942,32.59779338014042,33.45035105315948,35.05516549648947,36.18355065195587,37.938816449348046,39.1173520561685,39.56870611835506,39.96990972918756,40.84754262788365,43.75626880641926,46.26379137412236,48.24473420260782,48.26980942828485,48.72116349047141,50.075225677031085,51.07823470411233,58.45035105315948,63.54062186559679,78.05917753259779,78.33500501504514],\"xaxis\":\"x\",\"y\":[\"C\",\"Node.js\",\"MongoDB\",\"Flask\",\"Trello\",\"Microsoft SQL Server\",\"Keras\",\"R\",\"Confluence\",\"C++\",\"AWS\",\"SQLite\",\"Java\",\"Gitlab\",\"TensorFlow\",\"PostgreSQL\",\"Bash/Shell/PowerShell\",\"Docker\",\"Jira\",\"Google Suite (Docs, Meet, etc)\",\"MySQL\",\"HTML/CSS\",\"JavaScript\",\"Windows\",\"Pandas\",\"Slack\",\"SQL\",\"Linux\",\"Github\",\"Python\"],\"yaxis\":\"y\",\"type\":\"bar\"}],                        {\"template\":{\"data\":{\"histogram2dcontour\":[{\"type\":\"histogram2dcontour\",\"colorbar\":{\"outlinewidth\":0,\"ticks\":\"\"},\"colorscale\":[[0.0,\"#0d0887\"],[0.1111111111111111,\"#46039f\"],[0.2222222222222222,\"#7201a8\"],[0.3333333333333333,\"#9c179e\"],[0.4444444444444444,\"#bd3786\"],[0.5555555555555556,\"#d8576b\"],[0.6666666666666666,\"#ed7953\"],[0.7777777777777778,\"#fb9f3a\"],[0.8888888888888888,\"#fdca26\"],[1.0,\"#f0f921\"]]}],\"choropleth\":[{\"type\":\"choropleth\",\"colorbar\":{\"outlinewidth\":0,\"ticks\":\"\"}}],\"histogram2d\":[{\"type\":\"histogram2d\",\"colorbar\":{\"outlinewidth\":0,\"ticks\":\"\"},\"colorscale\":[[0.0,\"#0d0887\"],[0.1111111111111111,\"#46039f\"],[0.2222222222222222,\"#7201a8\"],[0.3333333333333333,\"#9c179e\"],[0.4444444444444444,\"#bd3786\"],[0.5555555555555556,\"#d8576b\"],[0.6666666666666666,\"#ed7953\"],[0.7777777777777778,\"#fb9f3a\"],[0.8888888888888888,\"#fdca26\"],[1.0,\"#f0f921\"]]}],\"heatmap\":[{\"type\":\"heatmap\",\"colorbar\":{\"outlinewidth\":0,\"ticks\":\"\"},\"colorscale\":[[0.0,\"#0d0887\"],[0.1111111111111111,\"#46039f\"],[0.2222222222222222,\"#7201a8\"],[0.3333333333333333,\"#9c179e\"],[0.4444444444444444,\"#bd3786\"],[0.5555555555555556,\"#d8576b\"],[0.6666666666666666,\"#ed7953\"],[0.7777777777777778,\"#fb9f3a\"],[0.8888888888888888,\"#fdca26\"],[1.0,\"#f0f921\"]]}],\"heatmapgl\":[{\"type\":\"heatmapgl\",\"colorbar\":{\"outlinewidth\":0,\"ticks\":\"\"},\"colorscale\":[[0.0,\"#0d0887\"],[0.1111111111111111,\"#46039f\"],[0.2222222222222222,\"#7201a8\"],[0.3333333333333333,\"#9c179e\"],[0.4444444444444444,\"#bd3786\"],[0.5555555555555556,\"#d8576b\"],[0.6666666666666666,\"#ed7953\"],[0.7777777777777778,\"#fb9f3a\"],[0.8888888888888888,\"#fdca26\"],[1.0,\"#f0f921\"]]}],\"contourcarpet\":[{\"type\":\"contourcarpet\",\"colorbar\":{\"outlinewidth\":0,\"ticks\":\"\"}}],\"contour\":[{\"type\":\"contour\",\"colorbar\":{\"outlinewidth\":0,\"ticks\":\"\"},\"colorscale\":[[0.0,\"#0d0887\"],[0.1111111111111111,\"#46039f\"],[0.2222222222222222,\"#7201a8\"],[0.3333333333333333,\"#9c179e\"],[0.4444444444444444,\"#bd3786\"],[0.5555555555555556,\"#d8576b\"],[0.6666666666666666,\"#ed7953\"],[0.7777777777777778,\"#fb9f3a\"],[0.8888888888888888,\"#fdca26\"],[1.0,\"#f0f921\"]]}],\"surface\":[{\"type\":\"surface\",\"colorbar\":{\"outlinewidth\":0,\"ticks\":\"\"},\"colorscale\":[[0.0,\"#0d0887\"],[0.1111111111111111,\"#46039f\"],[0.2222222222222222,\"#7201a8\"],[0.3333333333333333,\"#9c179e\"],[0.4444444444444444,\"#bd3786\"],[0.5555555555555556,\"#d8576b\"],[0.6666666666666666,\"#ed7953\"],[0.7777777777777778,\"#fb9f3a\"],[0.8888888888888888,\"#fdca26\"],[1.0,\"#f0f921\"]]}],\"mesh3d\":[{\"type\":\"mesh3d\",\"colorbar\":{\"outlinewidth\":0,\"ticks\":\"\"}}],\"scatter\":[{\"fillpattern\":{\"fillmode\":\"overlay\",\"size\":10,\"solidity\":0.2},\"type\":\"scatter\"}],\"parcoords\":[{\"type\":\"parcoords\",\"line\":{\"colorbar\":{\"outlinewidth\":0,\"ticks\":\"\"}}}],\"scatterpolargl\":[{\"type\":\"scatterpolargl\",\"marker\":{\"colorbar\":{\"outlinewidth\":0,\"ticks\":\"\"}}}],\"bar\":[{\"error_x\":{\"color\":\"#2a3f5f\"},\"error_y\":{\"color\":\"#2a3f5f\"},\"marker\":{\"line\":{\"color\":\"#E5ECF6\",\"width\":0.5},\"pattern\":{\"fillmode\":\"overlay\",\"size\":10,\"solidity\":0.2}},\"type\":\"bar\"}],\"scattergeo\":[{\"type\":\"scattergeo\",\"marker\":{\"colorbar\":{\"outlinewidth\":0,\"ticks\":\"\"}}}],\"scatterpolar\":[{\"type\":\"scatterpolar\",\"marker\":{\"colorbar\":{\"outlinewidth\":0,\"ticks\":\"\"}}}],\"histogram\":[{\"marker\":{\"pattern\":{\"fillmode\":\"overlay\",\"size\":10,\"solidity\":0.2}},\"type\":\"histogram\"}],\"scattergl\":[{\"type\":\"scattergl\",\"marker\":{\"colorbar\":{\"outlinewidth\":0,\"ticks\":\"\"}}}],\"scatter3d\":[{\"type\":\"scatter3d\",\"line\":{\"colorbar\":{\"outlinewidth\":0,\"ticks\":\"\"}},\"marker\":{\"colorbar\":{\"outlinewidth\":0,\"ticks\":\"\"}}}],\"scattermapbox\":[{\"type\":\"scattermapbox\",\"marker\":{\"colorbar\":{\"outlinewidth\":0,\"ticks\":\"\"}}}],\"scatterternary\":[{\"type\":\"scatterternary\",\"marker\":{\"colorbar\":{\"outlinewidth\":0,\"ticks\":\"\"}}}],\"scattercarpet\":[{\"type\":\"scattercarpet\",\"marker\":{\"colorbar\":{\"outlinewidth\":0,\"ticks\":\"\"}}}],\"carpet\":[{\"aaxis\":{\"endlinecolor\":\"#2a3f5f\",\"gridcolor\":\"white\",\"linecolor\":\"white\",\"minorgridcolor\":\"white\",\"startlinecolor\":\"#2a3f5f\"},\"baxis\":{\"endlinecolor\":\"#2a3f5f\",\"gridcolor\":\"white\",\"linecolor\":\"white\",\"minorgridcolor\":\"white\",\"startlinecolor\":\"#2a3f5f\"},\"type\":\"carpet\"}],\"table\":[{\"cells\":{\"fill\":{\"color\":\"#EBF0F8\"},\"line\":{\"color\":\"white\"}},\"header\":{\"fill\":{\"color\":\"#C8D4E3\"},\"line\":{\"color\":\"white\"}},\"type\":\"table\"}],\"barpolar\":[{\"marker\":{\"line\":{\"color\":\"#E5ECF6\",\"width\":0.5},\"pattern\":{\"fillmode\":\"overlay\",\"size\":10,\"solidity\":0.2}},\"type\":\"barpolar\"}],\"pie\":[{\"automargin\":true,\"type\":\"pie\"}]},\"layout\":{\"autotypenumbers\":\"strict\",\"colorway\":[\"#636efa\",\"#EF553B\",\"#00cc96\",\"#ab63fa\",\"#FFA15A\",\"#19d3f3\",\"#FF6692\",\"#B6E880\",\"#FF97FF\",\"#FECB52\"],\"font\":{\"color\":\"#2a3f5f\"},\"hovermode\":\"closest\",\"hoverlabel\":{\"align\":\"left\"},\"paper_bgcolor\":\"white\",\"plot_bgcolor\":\"#E5ECF6\",\"polar\":{\"bgcolor\":\"#E5ECF6\",\"angularaxis\":{\"gridcolor\":\"white\",\"linecolor\":\"white\",\"ticks\":\"\"},\"radialaxis\":{\"gridcolor\":\"white\",\"linecolor\":\"white\",\"ticks\":\"\"}},\"ternary\":{\"bgcolor\":\"#E5ECF6\",\"aaxis\":{\"gridcolor\":\"white\",\"linecolor\":\"white\",\"ticks\":\"\"},\"baxis\":{\"gridcolor\":\"white\",\"linecolor\":\"white\",\"ticks\":\"\"},\"caxis\":{\"gridcolor\":\"white\",\"linecolor\":\"white\",\"ticks\":\"\"}},\"coloraxis\":{\"colorbar\":{\"outlinewidth\":0,\"ticks\":\"\"}},\"colorscale\":{\"sequential\":[[0.0,\"#0d0887\"],[0.1111111111111111,\"#46039f\"],[0.2222222222222222,\"#7201a8\"],[0.3333333333333333,\"#9c179e\"],[0.4444444444444444,\"#bd3786\"],[0.5555555555555556,\"#d8576b\"],[0.6666666666666666,\"#ed7953\"],[0.7777777777777778,\"#fb9f3a\"],[0.8888888888888888,\"#fdca26\"],[1.0,\"#f0f921\"]],\"sequentialminus\":[[0.0,\"#0d0887\"],[0.1111111111111111,\"#46039f\"],[0.2222222222222222,\"#7201a8\"],[0.3333333333333333,\"#9c179e\"],[0.4444444444444444,\"#bd3786\"],[0.5555555555555556,\"#d8576b\"],[0.6666666666666666,\"#ed7953\"],[0.7777777777777778,\"#fb9f3a\"],[0.8888888888888888,\"#fdca26\"],[1.0,\"#f0f921\"]],\"diverging\":[[0,\"#8e0152\"],[0.1,\"#c51b7d\"],[0.2,\"#de77ae\"],[0.3,\"#f1b6da\"],[0.4,\"#fde0ef\"],[0.5,\"#f7f7f7\"],[0.6,\"#e6f5d0\"],[0.7,\"#b8e186\"],[0.8,\"#7fbc41\"],[0.9,\"#4d9221\"],[1,\"#276419\"]]},\"xaxis\":{\"gridcolor\":\"white\",\"linecolor\":\"white\",\"ticks\":\"\",\"title\":{\"standoff\":15},\"zerolinecolor\":\"white\",\"automargin\":true,\"zerolinewidth\":2},\"yaxis\":{\"gridcolor\":\"white\",\"linecolor\":\"white\",\"ticks\":\"\",\"title\":{\"standoff\":15},\"zerolinecolor\":\"white\",\"automargin\":true,\"zerolinewidth\":2},\"scene\":{\"xaxis\":{\"backgroundcolor\":\"#E5ECF6\",\"gridcolor\":\"white\",\"linecolor\":\"white\",\"showbackground\":true,\"ticks\":\"\",\"zerolinecolor\":\"white\",\"gridwidth\":2},\"yaxis\":{\"backgroundcolor\":\"#E5ECF6\",\"gridcolor\":\"white\",\"linecolor\":\"white\",\"showbackground\":true,\"ticks\":\"\",\"zerolinecolor\":\"white\",\"gridwidth\":2},\"zaxis\":{\"backgroundcolor\":\"#E5ECF6\",\"gridcolor\":\"white\",\"linecolor\":\"white\",\"showbackground\":true,\"ticks\":\"\",\"zerolinecolor\":\"white\",\"gridwidth\":2}},\"shapedefaults\":{\"line\":{\"color\":\"#2a3f5f\"}},\"annotationdefaults\":{\"arrowcolor\":\"#2a3f5f\",\"arrowhead\":0,\"arrowwidth\":1},\"geo\":{\"bgcolor\":\"white\",\"landcolor\":\"#E5ECF6\",\"subunitcolor\":\"white\",\"showland\":true,\"showlakes\":true,\"lakecolor\":\"white\"},\"title\":{\"x\":0.05},\"mapbox\":{\"style\":\"light\"}}},\"xaxis\":{\"anchor\":\"y\",\"domain\":[0.0,1.0],\"title\":{\"text\":\"x\"}},\"yaxis\":{\"anchor\":\"x\",\"domain\":[0.0,1.0],\"title\":{\"text\":\"y\"}},\"coloraxis\":{\"colorbar\":{\"title\":{\"text\":\"color\"}},\"colorscale\":[[0.0,\"rgb(255,247,236)\"],[0.125,\"rgb(254,232,200)\"],[0.25,\"rgb(253,212,158)\"],[0.375,\"rgb(253,187,132)\"],[0.5,\"rgb(252,141,89)\"],[0.625,\"rgb(239,101,72)\"],[0.75,\"rgb(215,48,31)\"],[0.875,\"rgb(179,0,0)\"],[1.0,\"rgb(127,0,0)\"]],\"cmin\":-2.3383533547695063,\"cmax\":4.578863713652795},\"legend\":{\"tracegroupgap\":0},\"margin\":{\"t\":60},\"barmode\":\"relative\",\"width\":800,\"height\":800,\"title\":{\"text\":\"Data scientist or machine learning specialist\"}},                        {\"responsive\": true}                    ).then(function(){\n",
       "                            \n",
       "var gd = document.getElementById('db257e2f-0378-4981-82b8-16b699b3e047');\n",
       "var x = new MutationObserver(function (mutations, observer) {{\n",
       "        var display = window.getComputedStyle(gd).display;\n",
       "        if (!display || display === 'none') {{\n",
       "            console.log([gd, 'removed!']);\n",
       "            Plotly.purge(gd);\n",
       "            observer.disconnect();\n",
       "        }}\n",
       "}});\n",
       "\n",
       "// Listen for the removal of the full notebook cells\n",
       "var notebookContainer = gd.closest('#notebook-container');\n",
       "if (notebookContainer) {{\n",
       "    x.observe(notebookContainer, {childList: true});\n",
       "}}\n",
       "\n",
       "// Listen for the clearing of the current output cell\n",
       "var outputEl = gd.closest('.output');\n",
       "if (outputEl) {{\n",
       "    x.observe(outputEl, {childList: true});\n",
       "}}\n",
       "\n",
       "                        })                };                });            </script>        </div>"
      ]
     },
     "metadata": {},
     "output_type": "display_data"
    }
   ],
   "source": [
    "threshold = 25\n",
    "\n",
    "single_role_skills = single_role_skills[single_role_skills['percentage'] > threshold]\n",
    "\n",
    "fig = px.bar(df, \n",
    "             y=single_role_skills.index, \n",
    "             x=single_role_skills['percentage'], \n",
    "             color=single_role_skills['specificity'], \n",
    "             color_continuous_scale='orrd', \n",
    "             range_color=[std_skills.values.min(),std_skills.values.max()],\n",
    "             orientation='h')\n",
    "\n",
    "fig.update_layout(width=800, height=800, title=role)\n",
    "fig.show()"
   ]
  },
  {
   "cell_type": "code",
   "execution_count": 71,
   "id": "362f6930-d524-4493-9136-3390d5fc1331",
   "metadata": {},
   "outputs": [],
   "source": [
    "df.to_pickle(EXPORT_PATH)"
   ]
  }
 ],
 "metadata": {
  "kernelspec": {
   "display_name": "Python 3 (ipykernel)",
   "language": "python",
   "name": "python3"
  },
  "language_info": {
   "codemirror_mode": {
    "name": "ipython",
    "version": 3
   },
   "file_extension": ".py",
   "mimetype": "text/x-python",
   "name": "python",
   "nbconvert_exporter": "python",
   "pygments_lexer": "ipython3",
   "version": "3.9.13"
  }
 },
 "nbformat": 4,
 "nbformat_minor": 5
}
