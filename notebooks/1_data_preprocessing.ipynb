{
 "cells": [
  {
   "cell_type": "code",
   "execution_count": 1,
   "id": "37149c76-aa01-4c48-a686-f4040d0a6b43",
   "metadata": {},
   "outputs": [],
   "source": [
    "DATA_PATH = 'C:/Users/pc/Jop_recommendation_Project/Jop_recommendation/data/raw/survey_results_public.csv'\n",
    "EXPORT_PATH = '../data/processed/1_preprocessed_df.pkl'\n",
    "\n",
    "REPLACE_DICT = {\n",
    "    'YearsCodePro': {'Less than 1 year': 0, 'More than 50 years': 51}, \n",
    "    'YearsCode':    {'Less than 1 year': 0, 'More than 50 years': 51}}"
   ]
  },
  {
   "cell_type": "code",
   "execution_count": 2,
   "id": "cd8ebbf7-360c-4402-98ef-d14a5c5a71dc",
   "metadata": {},
   "outputs": [],
   "source": [
    "# Load packages\n",
    "import pandas as pd \n",
    "import numpy as np\n",
    "import logging\n",
    "import pickle"
   ]
  },
  {
   "cell_type": "markdown",
   "id": "5695e8bf-8c51-4774-a1b2-52f0e40e0c67",
   "metadata": {
    "tags": []
   },
   "source": [
    "## Functions"
   ]
  },
  {
   "cell_type": "code",
   "execution_count": 3,
   "id": "041c8106-1711-4bab-8f2c-276cf60c7c82",
   "metadata": {},
   "outputs": [],
   "source": [
    "def split_answers(data_series, delimiter=\";\"):\n",
    "    \"\"\" \n",
    "    Split multiple answers in a single string \n",
    "    to a list of single strings each represnting a single answers \n",
    "\n",
    "    Parameters:\n",
    "    * data_series (pd.Series): String series with answers \n",
    "    * delimiter (string): Another decimal integer \n",
    "                          Defaults to \";\"\n",
    "\n",
    "    Returns: (pd.Series): If column contains \n",
    "    \"\"\"\n",
    "    \n",
    "    # Sub functions \n",
    "    def is_splittable(pd_series, delimiter):\n",
    "        \"\"\" Check if results multiple should be splitted - Returns boolean \"\"\"    \n",
    "        return pd_series.str.contains(delimiter)\n",
    "    \n",
    "    def split_answer(pd_series, delimiter): \n",
    "        \"\"\"Function to split single answer\"\"\"\n",
    "        return pd_series.str.split(delimiter)\n",
    "    \n",
    "    # --------------------\n",
    "    \n",
    "    # Check if multiple answers exist - if none: return original \n",
    "    splittable_values = is_splittable(data_series, delimiter)\n",
    "    if not splittable_values.any():\n",
    "        return data_series\n",
    "    \n",
    "    # Else, split each value to a list \n",
    "    modified_series = split_answer(data_series, delimiter)    \n",
    "    \n",
    "    # Replace NAs with empty lists \n",
    "    mask_null = modified_series.isnull()\n",
    "    modified_series.loc[mask_null] = modified_series.loc[mask_null].apply(lambda x: [])\n",
    "    \n",
    "    return modified_series"
   ]
  },
  {
   "cell_type": "markdown",
   "id": "da81995a-5a91-41ea-903d-052ffde5b6e9",
   "metadata": {},
   "source": [
    "## Processing"
   ]
  },
  {
   "cell_type": "markdown",
   "id": "c67cc7e2-de2a-4a15-975c-f4175074a9ca",
   "metadata": {},
   "source": [
    "### Preprocess Data"
   ]
  },
  {
   "cell_type": "code",
   "execution_count": 4,
   "id": "b9b787ef-6d23-4c04-9c6b-a5e4d3b1edc1",
   "metadata": {},
   "outputs": [],
   "source": [
    "raw_df = pd.read_csv(DATA_PATH)\n",
    "df = raw_df.copy()"
   ]
  },
  {
   "cell_type": "markdown",
   "id": "9eb0c8c5-6a2c-4d51-8386-e09a92a96638",
   "metadata": {},
   "source": [
    "## 1. Replace Values and parse"
   ]
  },
  {
   "cell_type": "code",
   "execution_count": 5,
   "id": "2e1d550f-f6c7-4394-a74f-01cdc83f27b4",
   "metadata": {},
   "outputs": [],
   "source": [
    "for col, replacement in REPLACE_DICT.items():\n",
    "    df[col] = df[col].replace(replacement).astype(np.float32)"
   ]
  },
  {
   "cell_type": "markdown",
   "id": "0deea9de-f9bb-44f5-9564-c42e06628db0",
   "metadata": {},
   "source": [
    "## 2. Split multiple answers"
   ]
  },
  {
   "cell_type": "code",
   "execution_count": 6,
   "id": "c52c42b4-b556-41ab-bca0-923efd60d76b",
   "metadata": {},
   "outputs": [],
   "source": [
    "object_cols = df.select_dtypes(include='object').columns.tolist()\n",
    "for col in object_cols:\n",
    "    df[col] = split_answers(df[col])\n"
   ]
  },
  {
   "cell_type": "markdown",
   "id": "785ff368-58b4-4107-b645-6710470cb7c2",
   "metadata": {},
   "source": [
    "### verifying  results"
   ]
  },
  {
   "cell_type": "code",
   "execution_count": 7,
   "id": "151533ef-f3fa-44e9-85ea-1313e8f7978b",
   "metadata": {},
   "outputs": [
    {
     "name": "stdout",
     "output_type": "stream",
     "text": [
      "C;C#;C++;HTML/CSS;Java;JavaScript;Python;SQL\n",
      "['C', 'C#', 'C++', 'HTML/CSS', 'Java', 'JavaScript', 'Python', 'SQL']\n"
     ]
    }
   ],
   "source": [
    "i = df.sample(1).index[0]\n",
    "print(raw_df['LanguageWorkedWith'].iloc[i])\n",
    "print(df['LanguageWorkedWith'].iloc[i])"
   ]
  },
  {
   "cell_type": "code",
   "execution_count": 8,
   "id": "7650e53d-a4fd-43a2-aa8e-b5b30f3c32c3",
   "metadata": {},
   "outputs": [
    {
     "name": "stdout",
     "output_type": "stream",
     "text": [
      "8\n",
      "8.0\n"
     ]
    }
   ],
   "source": [
    "i = df.sample(1).index[0]\n",
    "print(raw_df['YearsCodePro'].iloc[i])\n",
    "print(df['YearsCodePro'].iloc[i])"
   ]
  },
  {
   "cell_type": "markdown",
   "id": "2744ba1d-7ea7-48ec-98e3-a5b83708a13d",
   "metadata": {},
   "source": [
    "### Export Data\n"
   ]
  },
  {
   "cell_type": "code",
   "execution_count": 9,
   "id": "8ae62fca-a4db-49ce-a8ba-f5de183832f7",
   "metadata": {},
   "outputs": [],
   "source": [
    "df.to_pickle(EXPORT_PATH)"
   ]
  }
 ],
 "metadata": {
  "kernelspec": {
   "display_name": "Python 3 (ipykernel)",
   "language": "python",
   "name": "python3"
  },
  "language_info": {
   "codemirror_mode": {
    "name": "ipython",
    "version": 3
   },
   "file_extension": ".py",
   "mimetype": "text/x-python",
   "name": "python",
   "nbconvert_exporter": "python",
   "pygments_lexer": "ipython3",
   "version": "3.9.13"
  }
 },
 "nbformat": 4,
 "nbformat_minor": 5
}
