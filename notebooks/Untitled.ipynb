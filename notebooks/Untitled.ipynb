{
 "cells": [
  {
   "cell_type": "code",
   "execution_count": 1,
   "id": "7c55c05c-5e97-40f1-81d7-1366feeba8b3",
   "metadata": {},
   "outputs": [],
   "source": [
    "DF_PATH       = \"../data/processed/2_cleaned_data.pkl\"\n",
    "\n",
    "ROLE_COLS      = ['DevType']\n",
    "TECH_COLS      = ['LanguageWorkedWith',    'DatabaseWorkedWith',    'WebframeWorkedWith',    'MiscTechWorkedWith']\n",
    "\n",
    "\n",
    "\n",
    "EXPERIMENT_NAME = \"stackoverflow_single_random_forest_model\"\n",
    "LOG_PATH = \"../models\"\n",
    "LOG_DATA_PKL    =  \"data.pkl\"\n",
    "LOG_MODEL_PKL   =  \"model.pkl\"\n",
    "LOG_METRICS_PKL =  \"metrics.pkl\""
   ]
  },
  {
   "cell_type": "code",
   "execution_count": 2,
   "id": "7796995f-a943-432f-a50c-6c59bc7a64b7",
   "metadata": {},
   "outputs": [],
   "source": [
    "# Load packages\n",
    "import pandas as pd \n",
    "import numpy as np\n",
    "import logging\n",
    "import pickle\n",
    "import random\n",
    "import plotly \n",
    "import os\n",
    "\n",
    "import mlflow\n",
    "from mlflow.tracking import MlflowClient\n",
    "\n",
    "from sklearn.preprocessing import MultiLabelBinarizer\n",
    "from sklearn.preprocessing import StandardScaler, RobustScaler, MinMaxScaler\n",
    "from sklearn.pipeline import make_pipeline, FeatureUnion\n",
    "from sklearn.feature_selection import VarianceThreshold\n",
    "from sklearn.multioutput import MultiOutputClassifier\n",
    "from sklearn.model_selection import train_test_split\n",
    "from sklearn.model_selection import GridSearchCV\n",
    "\n",
    "from sklearn import metrics\n",
    "from sklearn.metrics import auc, accuracy_score, confusion_matrix, f1_score, precision_score, recall_score\n",
    "\n",
    "from sklearn.decomposition import PCA, KernelPCA\n",
    "\n",
    "from sklearn import tree\n",
    "from sklearn.linear_model import LogisticRegression\n",
    "from sklearn.ensemble import AdaBoostClassifier\n",
    "from sklearn.ensemble import RandomForestClassifier\n",
    "from sklearn.neighbors import KNeighborsClassifier\n",
    "\n",
    "from matplotlib import pyplot as plt"
   ]
  },
  {
   "cell_type": "code",
   "execution_count": 3,
   "id": "b9097fc9-40f1-4be3-b165-de740596795d",
   "metadata": {},
   "outputs": [],
   "source": [
    "# Read Data \n",
    "df = pd.read_pickle(DF_PATH)"
   ]
  },
  {
   "cell_type": "markdown",
   "id": "71a87367-29bf-4373-9ef5-2dbbcaa7b29b",
   "metadata": {},
   "source": [
    "### Functions"
   ]
  },
  {
   "cell_type": "code",
   "execution_count": 4,
   "id": "d3e95f0b-3fac-47eb-a272-49bdac2dda28",
   "metadata": {},
   "outputs": [],
   "source": [
    "def calculate_quality(ground_truth, prediction, metric_function, sort_values=False):\n",
    "    quality_scores = {}\n",
    "    for col in predictions.columns:\n",
    "        role_pred  = predictions[col].copy()\n",
    "        role_truth = ground_truth[col].copy()\n",
    "        quality_scores[col] = round(metric_function(role_truth, role_pred) * 100, 2)\n",
    "        \n",
    "    quality_scores = pd.Series(quality_scores.values(), index=quality_scores.keys())\n",
    "    if sort_values:\n",
    "        quality_scores = quality_scores.sort_values()\n",
    "    \n",
    "    return quality_scores"
   ]
  },
  {
   "cell_type": "markdown",
   "id": "36059663-19e3-4483-b876-10f5d22212c2",
   "metadata": {},
   "source": [
    "### Balance classes\n"
   ]
  },
  {
   "cell_type": "code",
   "execution_count": 5,
   "id": "7d1474db-e3b4-4f77-9dc3-d61ba972e1e5",
   "metadata": {},
   "outputs": [
    {
     "data": {
      "text/plain": [
       "Academic researcher                               581\n",
       "Data or business analyst                          669\n",
       "Data scientist or machine learning specialist     799\n",
       "Database administrator                            296\n",
       "DevOps specialist                                 677\n",
       "Developer, QA or test                             493\n",
       "Developer, back-end                              5503\n",
       "Developer, desktop or enterprise applications    1671\n",
       "Developer, embedded applications or devices       795\n",
       "Developer, front-end                             2890\n",
       "Developer, full-stack                            5578\n",
       "Developer, game or graphics                       342\n",
       "Developer, mobile                                1859\n",
       "Engineer, data                                    483\n",
       "Scientist                                         292\n",
       "System administrator                              440\n",
       "dtype: int64"
      ]
     },
     "execution_count": 5,
     "metadata": {},
     "output_type": "execute_result"
    }
   ],
   "source": [
    "# Check the total samples of roles\n",
    "jops_df = df[\"DevType\"].copy()\n",
    "jops_sum = df[\"DevType\"].sum(axis=0)\n",
    "jops_sum"
   ]
  },
  {
   "cell_type": "code",
   "execution_count": 6,
   "id": "dc018789-9e5c-4423-840e-460678f0c18e",
   "metadata": {},
   "outputs": [],
   "source": [
    "# Resample roles\n",
    "samples_per_class = 500\n",
    "resampled_roles = []\n",
    "\n",
    "for role_col in jops_df.columns:\n",
    "    sub_df = jops_df.loc[jops_df[role_col] == 1].copy()\n",
    "    \n",
    "    if len(sub_df) < samples_per_class:\n",
    "        # Upsample\n",
    "        sub_df = sub_df.sample(samples_per_class, replace=True, random_state=0)\n",
    "    else:\n",
    "        # Downsample\n",
    "        sub_df = sub_df.sample(samples_per_class, random_state=0) \n",
    "    \n",
    "    resampled_roles.append(sub_df)"
   ]
  },
  {
   "cell_type": "code",
   "execution_count": 7,
   "id": "4f676e31-aad2-439a-9f56-1ee459074ef0",
   "metadata": {},
   "outputs": [],
   "source": [
    "# Construct dfs\n",
    "jops_df  = pd.concat(resampled_roles)\n",
    "df = df.loc[jops_df.index]"
   ]
  },
  {
   "cell_type": "code",
   "execution_count": 8,
   "id": "567791d0-3553-4333-b396-bf160b0a3dd1",
   "metadata": {},
   "outputs": [
    {
     "data": {
      "text/plain": [
       "Academic researcher                               797\n",
       "Data or business analyst                          767\n",
       "Data scientist or machine learning specialist     871\n",
       "Database administrator                            588\n",
       "DevOps specialist                                 705\n",
       "Developer, QA or test                             590\n",
       "Developer, back-end                              1770\n",
       "Developer, desktop or enterprise applications     892\n",
       "Developer, embedded applications or devices       666\n",
       "Developer, front-end                              893\n",
       "Developer, full-stack                            1431\n",
       "Developer, game or graphics                       560\n",
       "Developer, mobile                                 800\n",
       "Engineer, data                                    631\n",
       "Scientist                                         642\n",
       "System administrator                              647\n",
       "dtype: int64"
      ]
     },
     "execution_count": 8,
     "metadata": {},
     "output_type": "execute_result"
    }
   ],
   "source": [
    "jops_df.sum(axis=0)"
   ]
  },
  {
   "cell_type": "markdown",
   "id": "0c699322-d801-4f4c-9ace-1aedcea73fd2",
   "metadata": {},
   "source": [
    "### splitting "
   ]
  },
  {
   "cell_type": "code",
   "execution_count": 9,
   "id": "5cf370d6-778d-4468-a269-3c2846e920ff",
   "metadata": {},
   "outputs": [
    {
     "name": "stderr",
     "output_type": "stream",
     "text": [
      "C:\\Users\\pc\\AppData\\Local\\Temp\\ipykernel_31604\\1098765831.py:1: PerformanceWarning: dropping on a non-lexsorted multi-index without a level parameter may impact performance.\n",
      "  X_train, X_test, Y_train, Y_test = train_test_split(df.drop(\"DevType\", axis=1),\n"
     ]
    }
   ],
   "source": [
    "X_train, X_test, Y_train, Y_test = train_test_split(df.drop(\"DevType\", axis=1), \n",
    "                                                    df[\"DevType\"], \n",
    "                                                    random_state=0)"
   ]
  },
  {
   "cell_type": "markdown",
   "id": "89c4638b-0a70-469f-afdf-5db7fda2198e",
   "metadata": {},
   "source": [
    "### Train models"
   ]
  },
  {
   "cell_type": "code",
   "execution_count": 10,
   "id": "97940c5a-e6df-440c-b4be-976418596d86",
   "metadata": {},
   "outputs": [],
   "source": [
    "# Initialize client and experiment\n",
    "client = MlflowClient()\n",
    "mlflow.set_experiment(EXPERIMENT_NAME)\n",
    "exp = client.get_experiment_by_name(EXPERIMENT_NAME)"
   ]
  },
  {
   "cell_type": "markdown",
   "id": "49241f97-e85c-4066-b479-bd7eb6b6dcad",
   "metadata": {},
   "source": [
    "### Vanilla Forest"
   ]
  },
  {
   "cell_type": "code",
   "execution_count": 11,
   "id": "5c53aa5f-8a88-4b30-8d7a-843d3d079e8f",
   "metadata": {},
   "outputs": [
    {
     "name": "stderr",
     "output_type": "stream",
     "text": [
      "C:\\Users\\pc\\anaconda3\\lib\\site-packages\\sklearn\\utils\\validation.py:1688: FutureWarning: Feature names only support names that are all strings. Got feature names with dtypes: ['tuple']. An error will be raised in 1.2.\n",
      "  warnings.warn(\n",
      "C:\\Users\\pc\\anaconda3\\lib\\site-packages\\sklearn\\utils\\validation.py:1688: FutureWarning: Feature names only support names that are all strings. Got feature names with dtypes: ['tuple']. An error will be raised in 1.2.\n",
      "  warnings.warn(\n"
     ]
    },
    {
     "data": {
      "text/plain": [
       "Pipeline(steps=[('standardscaler', StandardScaler()),\n",
       "                ('randomforestclassifier',\n",
       "                 RandomForestClassifier(random_state=0))])"
      ]
     },
     "execution_count": 11,
     "metadata": {},
     "output_type": "execute_result"
    }
   ],
   "source": [
    "rf_clf = make_pipeline(StandardScaler(),\n",
    "                       RandomForestClassifier(random_state=0))\n",
    "\n",
    "rf_clf.fit(X_train, Y_train)"
   ]
  },
  {
   "cell_type": "code",
   "execution_count": 12,
   "id": "b4bba4aa-7487-41f2-910e-4180f32da4bb",
   "metadata": {},
   "outputs": [
    {
     "name": "stderr",
     "output_type": "stream",
     "text": [
      "C:\\Users\\pc\\anaconda3\\lib\\site-packages\\sklearn\\utils\\validation.py:1688: FutureWarning: Feature names only support names that are all strings. Got feature names with dtypes: ['tuple']. An error will be raised in 1.2.\n",
      "  warnings.warn(\n"
     ]
    }
   ],
   "source": [
    "# Evaluate on train set\n",
    "predictions =  pd.DataFrame(rf_clf.predict(X_train), columns=Y_train.columns)\n",
    "train_scores = {score.__name__: calculate_quality(Y_train, predictions, score) \n",
    "                for score in [accuracy_score, precision_score, recall_score, f1_score]}\n",
    "train_scores = pd.concat(train_scores,axis=1)"
   ]
  },
  {
   "cell_type": "code",
   "execution_count": 13,
   "id": "15eabbe3-609c-495c-a4e0-eec0702c481c",
   "metadata": {},
   "outputs": [
    {
     "name": "stderr",
     "output_type": "stream",
     "text": [
      "C:\\Users\\pc\\anaconda3\\lib\\site-packages\\sklearn\\utils\\validation.py:1688: FutureWarning: Feature names only support names that are all strings. Got feature names with dtypes: ['tuple']. An error will be raised in 1.2.\n",
      "  warnings.warn(\n"
     ]
    }
   ],
   "source": [
    "# Evaluate on test set\n",
    "predictions =  pd.DataFrame(rf_clf.predict(X_test), columns=Y_test.columns)\n",
    "test_scores = {score.__name__: calculate_quality(Y_test, predictions, score) \n",
    "                for score in [accuracy_score, precision_score, recall_score, f1_score]}\n",
    "test_scores = pd.concat(test_scores,axis=1)\n",
    "mean_test_scores = test_scores.mean()"
   ]
  },
  {
   "cell_type": "code",
   "execution_count": 14,
   "id": "1247f534-3abf-4e33-8b1c-08b5822e43c3",
   "metadata": {},
   "outputs": [
    {
     "name": "stdout",
     "output_type": "stream",
     "text": [
      "accuracy_score     94.943750\n",
      "precision_score    93.345000\n",
      "recall_score       58.477500\n",
      "f1_score           71.125625\n",
      "dtype: float64\n"
     ]
    },
    {
     "data": {
      "text/html": [
       "<div>\n",
       "<style scoped>\n",
       "    .dataframe tbody tr th:only-of-type {\n",
       "        vertical-align: middle;\n",
       "    }\n",
       "\n",
       "    .dataframe tbody tr th {\n",
       "        vertical-align: top;\n",
       "    }\n",
       "\n",
       "    .dataframe thead th {\n",
       "        text-align: right;\n",
       "    }\n",
       "</style>\n",
       "<table border=\"1\" class=\"dataframe\">\n",
       "  <thead>\n",
       "    <tr style=\"text-align: right;\">\n",
       "      <th></th>\n",
       "      <th>accuracy_score</th>\n",
       "      <th>precision_score</th>\n",
       "      <th>recall_score</th>\n",
       "      <th>f1_score</th>\n",
       "    </tr>\n",
       "  </thead>\n",
       "  <tbody>\n",
       "    <tr>\n",
       "      <th>Developer, full-stack</th>\n",
       "      <td>87.60</td>\n",
       "      <td>80.11</td>\n",
       "      <td>40.62</td>\n",
       "      <td>53.90</td>\n",
       "    </tr>\n",
       "    <tr>\n",
       "      <th>Developer, front-end</th>\n",
       "      <td>93.60</td>\n",
       "      <td>80.95</td>\n",
       "      <td>49.51</td>\n",
       "      <td>61.45</td>\n",
       "    </tr>\n",
       "    <tr>\n",
       "      <th>Developer, embedded applications or devices</th>\n",
       "      <td>95.20</td>\n",
       "      <td>88.64</td>\n",
       "      <td>47.56</td>\n",
       "      <td>61.90</td>\n",
       "    </tr>\n",
       "    <tr>\n",
       "      <th>Developer, mobile</th>\n",
       "      <td>95.85</td>\n",
       "      <td>89.57</td>\n",
       "      <td>68.87</td>\n",
       "      <td>77.87</td>\n",
       "    </tr>\n",
       "    <tr>\n",
       "      <th>Data scientist or machine learning specialist</th>\n",
       "      <td>95.80</td>\n",
       "      <td>90.13</td>\n",
       "      <td>66.50</td>\n",
       "      <td>76.54</td>\n",
       "    </tr>\n",
       "    <tr>\n",
       "      <th>Developer, back-end</th>\n",
       "      <td>86.20</td>\n",
       "      <td>90.87</td>\n",
       "      <td>42.38</td>\n",
       "      <td>57.80</td>\n",
       "    </tr>\n",
       "    <tr>\n",
       "      <th>Developer, desktop or enterprise applications</th>\n",
       "      <td>92.30</td>\n",
       "      <td>91.03</td>\n",
       "      <td>32.57</td>\n",
       "      <td>47.97</td>\n",
       "    </tr>\n",
       "    <tr>\n",
       "      <th>Data or business analyst</th>\n",
       "      <td>95.75</td>\n",
       "      <td>94.95</td>\n",
       "      <td>54.02</td>\n",
       "      <td>68.86</td>\n",
       "    </tr>\n",
       "    <tr>\n",
       "      <th>Academic researcher</th>\n",
       "      <td>95.15</td>\n",
       "      <td>96.61</td>\n",
       "      <td>55.07</td>\n",
       "      <td>70.15</td>\n",
       "    </tr>\n",
       "    <tr>\n",
       "      <th>DevOps specialist</th>\n",
       "      <td>95.50</td>\n",
       "      <td>96.77</td>\n",
       "      <td>50.85</td>\n",
       "      <td>66.67</td>\n",
       "    </tr>\n",
       "    <tr>\n",
       "      <th>Database administrator</th>\n",
       "      <td>98.25</td>\n",
       "      <td>97.37</td>\n",
       "      <td>77.62</td>\n",
       "      <td>86.38</td>\n",
       "    </tr>\n",
       "    <tr>\n",
       "      <th>Developer, game or graphics</th>\n",
       "      <td>98.60</td>\n",
       "      <td>98.21</td>\n",
       "      <td>80.88</td>\n",
       "      <td>88.71</td>\n",
       "    </tr>\n",
       "    <tr>\n",
       "      <th>System administrator</th>\n",
       "      <td>97.10</td>\n",
       "      <td>99.12</td>\n",
       "      <td>66.27</td>\n",
       "      <td>79.43</td>\n",
       "    </tr>\n",
       "    <tr>\n",
       "      <th>Scientist</th>\n",
       "      <td>98.65</td>\n",
       "      <td>99.19</td>\n",
       "      <td>82.55</td>\n",
       "      <td>90.11</td>\n",
       "    </tr>\n",
       "    <tr>\n",
       "      <th>Developer, QA or test</th>\n",
       "      <td>96.65</td>\n",
       "      <td>100.00</td>\n",
       "      <td>58.64</td>\n",
       "      <td>73.93</td>\n",
       "    </tr>\n",
       "    <tr>\n",
       "      <th>Engineer, data</th>\n",
       "      <td>96.90</td>\n",
       "      <td>100.00</td>\n",
       "      <td>61.73</td>\n",
       "      <td>76.34</td>\n",
       "    </tr>\n",
       "  </tbody>\n",
       "</table>\n",
       "</div>"
      ],
      "text/plain": [
       "                                               accuracy_score  \\\n",
       "Developer, full-stack                                   87.60   \n",
       "Developer, front-end                                    93.60   \n",
       "Developer, embedded applications or devices             95.20   \n",
       "Developer, mobile                                       95.85   \n",
       "Data scientist or machine learning specialist           95.80   \n",
       "Developer, back-end                                     86.20   \n",
       "Developer, desktop or enterprise applications           92.30   \n",
       "Data or business analyst                                95.75   \n",
       "Academic researcher                                     95.15   \n",
       "DevOps specialist                                       95.50   \n",
       "Database administrator                                  98.25   \n",
       "Developer, game or graphics                             98.60   \n",
       "System administrator                                    97.10   \n",
       "Scientist                                               98.65   \n",
       "Developer, QA or test                                   96.65   \n",
       "Engineer, data                                          96.90   \n",
       "\n",
       "                                               precision_score  recall_score  \\\n",
       "Developer, full-stack                                    80.11         40.62   \n",
       "Developer, front-end                                     80.95         49.51   \n",
       "Developer, embedded applications or devices              88.64         47.56   \n",
       "Developer, mobile                                        89.57         68.87   \n",
       "Data scientist or machine learning specialist            90.13         66.50   \n",
       "Developer, back-end                                      90.87         42.38   \n",
       "Developer, desktop or enterprise applications            91.03         32.57   \n",
       "Data or business analyst                                 94.95         54.02   \n",
       "Academic researcher                                      96.61         55.07   \n",
       "DevOps specialist                                        96.77         50.85   \n",
       "Database administrator                                   97.37         77.62   \n",
       "Developer, game or graphics                              98.21         80.88   \n",
       "System administrator                                     99.12         66.27   \n",
       "Scientist                                                99.19         82.55   \n",
       "Developer, QA or test                                   100.00         58.64   \n",
       "Engineer, data                                          100.00         61.73   \n",
       "\n",
       "                                               f1_score  \n",
       "Developer, full-stack                             53.90  \n",
       "Developer, front-end                              61.45  \n",
       "Developer, embedded applications or devices       61.90  \n",
       "Developer, mobile                                 77.87  \n",
       "Data scientist or machine learning specialist     76.54  \n",
       "Developer, back-end                               57.80  \n",
       "Developer, desktop or enterprise applications     47.97  \n",
       "Data or business analyst                          68.86  \n",
       "Academic researcher                               70.15  \n",
       "DevOps specialist                                 66.67  \n",
       "Database administrator                            86.38  \n",
       "Developer, game or graphics                       88.71  \n",
       "System administrator                              79.43  \n",
       "Scientist                                         90.11  \n",
       "Developer, QA or test                             73.93  \n",
       "Engineer, data                                    76.34  "
      ]
     },
     "execution_count": 14,
     "metadata": {},
     "output_type": "execute_result"
    }
   ],
   "source": [
    "print(test_scores.mean())\n",
    "test_scores.sort_values(\"precision_score\")"
   ]
  },
  {
   "cell_type": "markdown",
   "id": "f3fd728e-0b57-46a4-beda-f1aa32daef47",
   "metadata": {},
   "source": [
    "### Log"
   ]
  },
  {
   "cell_type": "code",
   "execution_count": 15,
   "id": "a6dee216-2ed0-4e22-a2e2-f679bfa2cdfc",
   "metadata": {},
   "outputs": [],
   "source": [
    "# Data details\n",
    "data_details = {\"data_path\": DF_PATH,\n",
    "                \"training_indices\": X_train.index.tolist(),\n",
    "                \"test_indices\":     X_test.index.tolist(), \n",
    "                \"features_names\":   X_train.columns.droplevel(0).tolist(),\n",
    "                \"targets_names\":    Y_train.columns.tolist()}\n",
    "\n",
    "with open(os.path.join(LOG_PATH, LOG_DATA_PKL), \"wb\") as output_file:\n",
    "    pickle.dump(data_details, output_file)"
   ]
  },
  {
   "cell_type": "code",
   "execution_count": 16,
   "id": "16f9799a-9541-4ced-aba1-5fe7688890ae",
   "metadata": {},
   "outputs": [],
   "source": [
    "# Model\n",
    "model = {\"model_description\": \"Random Forest: with non linearity\",\n",
    "         \"model_details\": str(rf_clf),\n",
    "         \"model_object\": rf_clf} \n",
    "\n",
    "with open(os.path.join(LOG_PATH, LOG_MODEL_PKL), \"wb\") as output_file:\n",
    "    pickle.dump(model, output_file)"
   ]
  },
  {
   "cell_type": "code",
   "execution_count": 17,
   "id": "564c0eee-a44c-44ef-a189-5db56414024e",
   "metadata": {},
   "outputs": [],
   "source": [
    "# Preformance details\n",
    "classes_metrics = {\"train_scores\": train_scores, \n",
    "                   \"test_scores\":  test_scores}\n",
    "\n",
    "with open(os.path.join(LOG_PATH, LOG_METRICS_PKL), \"wb\") as output_file:\n",
    "    pickle.dump(classes_metrics, output_file)"
   ]
  },
  {
   "cell_type": "code",
   "execution_count": 18,
   "id": "17ba703e-b303-40c8-afc7-38553b2b0b52",
   "metadata": {},
   "outputs": [],
   "source": [
    "# Start a new run and track \n",
    "with mlflow.start_run(experiment_id=exp.experiment_id, \n",
    "                      run_name=model[\"model_description\"]):\n",
    "    # Log pickles\n",
    "    mlflow.log_artifacts(LOG_PATH)  \n",
    "    \n",
    "    # Track metrics \n",
    "    for metric, score in mean_test_scores.items():\n",
    "        mlflow.log_metric(metric, score) "
   ]
  },
  {
   "cell_type": "markdown",
   "id": "02c54eab-3526-4a21-89a5-c810639992fd",
   "metadata": {},
   "source": [
    "### Random Forest with Non-linearity"
   ]
  },
  {
   "cell_type": "code",
   "execution_count": 19,
   "id": "85226298-4d0a-40ff-97f7-f3103396e5bd",
   "metadata": {},
   "outputs": [
    {
     "name": "stderr",
     "output_type": "stream",
     "text": [
      "C:\\Users\\pc\\anaconda3\\lib\\site-packages\\sklearn\\utils\\validation.py:1688: FutureWarning: Feature names only support names that are all strings. Got feature names with dtypes: ['tuple']. An error will be raised in 1.2.\n",
      "  warnings.warn(\n",
      "C:\\Users\\pc\\anaconda3\\lib\\site-packages\\sklearn\\utils\\validation.py:1688: FutureWarning: Feature names only support names that are all strings. Got feature names with dtypes: ['tuple']. An error will be raised in 1.2.\n",
      "  warnings.warn(\n"
     ]
    },
    {
     "data": {
      "text/plain": [
       "Pipeline(steps=[('standardscaler', StandardScaler()),\n",
       "                ('featureunion',\n",
       "                 FeatureUnion(transformer_list=[('linear_pca',\n",
       "                                                 PCA(n_components=40)),\n",
       "                                                ('kernel_pca',\n",
       "                                                 KernelPCA(kernel='rbf',\n",
       "                                                           n_components=40))])),\n",
       "                ('randomforestclassifier',\n",
       "                 RandomForestClassifier(random_state=0))])"
      ]
     },
     "execution_count": 19,
     "metadata": {},
     "output_type": "execute_result"
    }
   ],
   "source": [
    "rf_clf = make_pipeline(StandardScaler(), \n",
    "                       FeatureUnion([('linear_pca', PCA(n_components=40)), \n",
    "                                      ('kernel_pca', KernelPCA(n_components=40, \n",
    "                                                               kernel='rbf'))]),\n",
    "                       RandomForestClassifier(random_state=0))\n",
    "\n",
    "rf_clf.fit(X_train, Y_train)"
   ]
  },
  {
   "cell_type": "code",
   "execution_count": 20,
   "id": "a6d1ff1c-55ad-47a3-bad6-14df60e5f238",
   "metadata": {},
   "outputs": [
    {
     "name": "stderr",
     "output_type": "stream",
     "text": [
      "C:\\Users\\pc\\anaconda3\\lib\\site-packages\\sklearn\\utils\\validation.py:1688: FutureWarning: Feature names only support names that are all strings. Got feature names with dtypes: ['tuple']. An error will be raised in 1.2.\n",
      "  warnings.warn(\n"
     ]
    }
   ],
   "source": [
    "# Evaluate on train set\n",
    "predictions =  pd.DataFrame(rf_clf.predict(X_train), columns=Y_train.columns)\n",
    "train_scores = {score.__name__: calculate_quality(Y_train, predictions, score) \n",
    "                for score in [accuracy_score, precision_score, recall_score, f1_score]}\n",
    "train_scores = pd.concat(train_scores,axis=1)"
   ]
  },
  {
   "cell_type": "code",
   "execution_count": 21,
   "id": "42df820d-a4af-4a77-bbcd-991ed69adff2",
   "metadata": {},
   "outputs": [
    {
     "name": "stderr",
     "output_type": "stream",
     "text": [
      "C:\\Users\\pc\\anaconda3\\lib\\site-packages\\sklearn\\utils\\validation.py:1688: FutureWarning: Feature names only support names that are all strings. Got feature names with dtypes: ['tuple']. An error will be raised in 1.2.\n",
      "  warnings.warn(\n"
     ]
    }
   ],
   "source": [
    "# Evaluate on test set\n",
    "predictions =  pd.DataFrame(rf_clf.predict(X_test), columns=Y_test.columns)\n",
    "test_scores = {score.__name__: calculate_quality(Y_test, predictions, score) \n",
    "                for score in [accuracy_score, precision_score, recall_score, f1_score]}\n",
    "test_scores = pd.concat(test_scores,axis=1)\n",
    "mean_test_scores = test_scores.mean()"
   ]
  },
  {
   "cell_type": "code",
   "execution_count": 22,
   "id": "411de2c2-34cc-4b7a-bffd-af33b77ac438",
   "metadata": {},
   "outputs": [
    {
     "name": "stdout",
     "output_type": "stream",
     "text": [
      "accuracy_score     94.837500\n",
      "precision_score    93.743125\n",
      "recall_score       57.200000\n",
      "f1_score           70.085625\n",
      "dtype: float64\n"
     ]
    },
    {
     "data": {
      "text/html": [
       "<div>\n",
       "<style scoped>\n",
       "    .dataframe tbody tr th:only-of-type {\n",
       "        vertical-align: middle;\n",
       "    }\n",
       "\n",
       "    .dataframe tbody tr th {\n",
       "        vertical-align: top;\n",
       "    }\n",
       "\n",
       "    .dataframe thead th {\n",
       "        text-align: right;\n",
       "    }\n",
       "</style>\n",
       "<table border=\"1\" class=\"dataframe\">\n",
       "  <thead>\n",
       "    <tr style=\"text-align: right;\">\n",
       "      <th></th>\n",
       "      <th>accuracy_score</th>\n",
       "      <th>precision_score</th>\n",
       "      <th>recall_score</th>\n",
       "      <th>f1_score</th>\n",
       "    </tr>\n",
       "  </thead>\n",
       "  <tbody>\n",
       "    <tr>\n",
       "      <th>Developer, desktop or enterprise applications</th>\n",
       "      <td>92.25</td>\n",
       "      <td>95.65</td>\n",
       "      <td>30.28</td>\n",
       "      <td>45.99</td>\n",
       "    </tr>\n",
       "    <tr>\n",
       "      <th>Developer, full-stack</th>\n",
       "      <td>87.20</td>\n",
       "      <td>80.98</td>\n",
       "      <td>36.97</td>\n",
       "      <td>50.77</td>\n",
       "    </tr>\n",
       "    <tr>\n",
       "      <th>Developer, embedded applications or devices</th>\n",
       "      <td>94.70</td>\n",
       "      <td>86.25</td>\n",
       "      <td>42.07</td>\n",
       "      <td>56.56</td>\n",
       "    </tr>\n",
       "    <tr>\n",
       "      <th>Developer, back-end</th>\n",
       "      <td>85.85</td>\n",
       "      <td>86.88</td>\n",
       "      <td>43.05</td>\n",
       "      <td>57.57</td>\n",
       "    </tr>\n",
       "    <tr>\n",
       "      <th>Developer, front-end</th>\n",
       "      <td>94.05</td>\n",
       "      <td>89.19</td>\n",
       "      <td>48.06</td>\n",
       "      <td>62.46</td>\n",
       "    </tr>\n",
       "    <tr>\n",
       "      <th>DevOps specialist</th>\n",
       "      <td>95.35</td>\n",
       "      <td>96.67</td>\n",
       "      <td>49.15</td>\n",
       "      <td>65.17</td>\n",
       "    </tr>\n",
       "    <tr>\n",
       "      <th>Data or business analyst</th>\n",
       "      <td>95.60</td>\n",
       "      <td>95.74</td>\n",
       "      <td>51.72</td>\n",
       "      <td>67.16</td>\n",
       "    </tr>\n",
       "    <tr>\n",
       "      <th>Academic researcher</th>\n",
       "      <td>94.95</td>\n",
       "      <td>99.07</td>\n",
       "      <td>51.69</td>\n",
       "      <td>67.94</td>\n",
       "    </tr>\n",
       "    <tr>\n",
       "      <th>Data scientist or machine learning specialist</th>\n",
       "      <td>95.30</td>\n",
       "      <td>87.33</td>\n",
       "      <td>63.59</td>\n",
       "      <td>73.60</td>\n",
       "    </tr>\n",
       "    <tr>\n",
       "      <th>Developer, QA or test</th>\n",
       "      <td>96.65</td>\n",
       "      <td>100.00</td>\n",
       "      <td>58.64</td>\n",
       "      <td>73.93</td>\n",
       "    </tr>\n",
       "    <tr>\n",
       "      <th>Developer, mobile</th>\n",
       "      <td>95.90</td>\n",
       "      <td>91.67</td>\n",
       "      <td>67.45</td>\n",
       "      <td>77.72</td>\n",
       "    </tr>\n",
       "    <tr>\n",
       "      <th>System administrator</th>\n",
       "      <td>97.10</td>\n",
       "      <td>99.12</td>\n",
       "      <td>66.27</td>\n",
       "      <td>79.43</td>\n",
       "    </tr>\n",
       "    <tr>\n",
       "      <th>Engineer, data</th>\n",
       "      <td>97.20</td>\n",
       "      <td>97.32</td>\n",
       "      <td>67.28</td>\n",
       "      <td>79.56</td>\n",
       "    </tr>\n",
       "    <tr>\n",
       "      <th>Database administrator</th>\n",
       "      <td>98.30</td>\n",
       "      <td>100.00</td>\n",
       "      <td>76.22</td>\n",
       "      <td>86.51</td>\n",
       "    </tr>\n",
       "    <tr>\n",
       "      <th>Developer, game or graphics</th>\n",
       "      <td>98.35</td>\n",
       "      <td>94.02</td>\n",
       "      <td>80.88</td>\n",
       "      <td>86.96</td>\n",
       "    </tr>\n",
       "    <tr>\n",
       "      <th>Scientist</th>\n",
       "      <td>98.65</td>\n",
       "      <td>100.00</td>\n",
       "      <td>81.88</td>\n",
       "      <td>90.04</td>\n",
       "    </tr>\n",
       "  </tbody>\n",
       "</table>\n",
       "</div>"
      ],
      "text/plain": [
       "                                               accuracy_score  \\\n",
       "Developer, desktop or enterprise applications           92.25   \n",
       "Developer, full-stack                                   87.20   \n",
       "Developer, embedded applications or devices             94.70   \n",
       "Developer, back-end                                     85.85   \n",
       "Developer, front-end                                    94.05   \n",
       "DevOps specialist                                       95.35   \n",
       "Data or business analyst                                95.60   \n",
       "Academic researcher                                     94.95   \n",
       "Data scientist or machine learning specialist           95.30   \n",
       "Developer, QA or test                                   96.65   \n",
       "Developer, mobile                                       95.90   \n",
       "System administrator                                    97.10   \n",
       "Engineer, data                                          97.20   \n",
       "Database administrator                                  98.30   \n",
       "Developer, game or graphics                             98.35   \n",
       "Scientist                                               98.65   \n",
       "\n",
       "                                               precision_score  recall_score  \\\n",
       "Developer, desktop or enterprise applications            95.65         30.28   \n",
       "Developer, full-stack                                    80.98         36.97   \n",
       "Developer, embedded applications or devices              86.25         42.07   \n",
       "Developer, back-end                                      86.88         43.05   \n",
       "Developer, front-end                                     89.19         48.06   \n",
       "DevOps specialist                                        96.67         49.15   \n",
       "Data or business analyst                                 95.74         51.72   \n",
       "Academic researcher                                      99.07         51.69   \n",
       "Data scientist or machine learning specialist            87.33         63.59   \n",
       "Developer, QA or test                                   100.00         58.64   \n",
       "Developer, mobile                                        91.67         67.45   \n",
       "System administrator                                     99.12         66.27   \n",
       "Engineer, data                                           97.32         67.28   \n",
       "Database administrator                                  100.00         76.22   \n",
       "Developer, game or graphics                              94.02         80.88   \n",
       "Scientist                                               100.00         81.88   \n",
       "\n",
       "                                               f1_score  \n",
       "Developer, desktop or enterprise applications     45.99  \n",
       "Developer, full-stack                             50.77  \n",
       "Developer, embedded applications or devices       56.56  \n",
       "Developer, back-end                               57.57  \n",
       "Developer, front-end                              62.46  \n",
       "DevOps specialist                                 65.17  \n",
       "Data or business analyst                          67.16  \n",
       "Academic researcher                               67.94  \n",
       "Data scientist or machine learning specialist     73.60  \n",
       "Developer, QA or test                             73.93  \n",
       "Developer, mobile                                 77.72  \n",
       "System administrator                              79.43  \n",
       "Engineer, data                                    79.56  \n",
       "Database administrator                            86.51  \n",
       "Developer, game or graphics                       86.96  \n",
       "Scientist                                         90.04  "
      ]
     },
     "execution_count": 22,
     "metadata": {},
     "output_type": "execute_result"
    }
   ],
   "source": [
    "print(mean_test_scores)\n",
    "test_scores.sort_values(\"f1_score\")"
   ]
  },
  {
   "cell_type": "markdown",
   "id": "d544752e-b82e-446c-a809-064b7ce3c839",
   "metadata": {},
   "source": [
    "### Log"
   ]
  },
  {
   "cell_type": "code",
   "execution_count": 23,
   "id": "45c0cd74-ccae-4bc6-ad52-b701c60bcf9b",
   "metadata": {},
   "outputs": [],
   "source": [
    "# Data details\n",
    "data_details = {\"data_path\": DF_PATH,\n",
    "                \"training_indices\": X_train.index.tolist(),\n",
    "                \"test_indices\":     X_test.index.tolist(), \n",
    "                \"features_names\":   X_train.columns.droplevel(0).tolist(),\n",
    "                \"targets_names\":    Y_train.columns.tolist()}\n",
    "\n",
    "with open(os.path.join(LOG_PATH, LOG_DATA_PKL), \"wb\") as output_file:\n",
    "    pickle.dump(data_details, output_file)"
   ]
  },
  {
   "cell_type": "code",
   "execution_count": 24,
   "id": "b1fe102f-89ec-4286-b882-672b3a3aa30f",
   "metadata": {},
   "outputs": [],
   "source": [
    "# Model\n",
    "model = {\"model_description\": \"Random Forest: with PCAs + RBF kernel\",\n",
    "         \"model_details\": str(rf_clf),\n",
    "         \"model_object\": rf_clf} \n",
    "\n",
    "with open(os.path.join(LOG_PATH, LOG_MODEL_PKL), \"wb\") as output_file:\n",
    "    pickle.dump(model, output_file)"
   ]
  },
  {
   "cell_type": "code",
   "execution_count": 25,
   "id": "25ea10aa-d8d5-4af0-a61f-ab85d5bb8310",
   "metadata": {},
   "outputs": [],
   "source": [
    "# Preformance details\n",
    "classes_metrics = {\"train_scores\": train_scores, \n",
    "                   \"test_scores\":  test_scores}\n",
    "\n",
    "with open(os.path.join(LOG_PATH, LOG_METRICS_PKL), \"wb\") as output_file:\n",
    "    pickle.dump(classes_metrics, output_file)"
   ]
  },
  {
   "cell_type": "code",
   "execution_count": 26,
   "id": "8e941968-1d1a-4040-a02a-09e82e74d60a",
   "metadata": {},
   "outputs": [],
   "source": [
    "# Start a new run and track \n",
    "with mlflow.start_run(experiment_id=exp.experiment_id, \n",
    "                      run_name=model[\"model_description\"]):\n",
    "    # Log pickles\n",
    "    mlflow.log_artifacts(LOG_PATH)  \n",
    "    \n",
    "    # Track metrics \n",
    "    for metric, score in mean_test_scores.items():\n",
    "        mlflow.log_metric(metric, score) \n",
    "    "
   ]
  },
  {
   "cell_type": "markdown",
   "id": "a9a1081c-be73-431a-ad79-9e16ece5f4df",
   "metadata": {},
   "source": [
    "### Random Forest with PCAs & Hyper parameter tuning"
   ]
  },
  {
   "cell_type": "code",
   "execution_count": 27,
   "id": "ef24bd54-8dc8-4acb-b74f-a73115a3dad6",
   "metadata": {},
   "outputs": [],
   "source": [
    "hpt_rf_clf = make_pipeline(StandardScaler(), \n",
    "                           FeatureUnion([('linear_pca', PCA()), \n",
    "                                         ('kernel_pca', KernelPCA(kernel='rbf'))]),\n",
    "                           RandomForestClassifier(random_state=0, ))"
   ]
  },
  {
   "cell_type": "code",
   "execution_count": 28,
   "id": "0193d250-6d70-48b9-b9ec-6a1d02c16848",
   "metadata": {},
   "outputs": [],
   "source": [
    "# list(hpt_rf_clf.get_params().keys())\n",
    "tuned_parameters = [{'featureunion__linear_pca__n_components': [5, 10, 20, 40, 60], \n",
    "                     'featureunion__kernel_pca__n_components': [5, 10, 20, 40, 60],\n",
    "                     'randomforestclassifier__n_estimators':   [100, 500, 1000]}]"
   ]
  },
  {
   "cell_type": "code",
   "execution_count": 29,
   "id": "1afc31f4-e433-4c0d-acec-e965b02ee97e",
   "metadata": {},
   "outputs": [
    {
     "name": "stderr",
     "output_type": "stream",
     "text": [
      "exception calling callback for <Future at 0x2572bda9550 state=finished raised TerminatedWorkerError>\n",
      "Traceback (most recent call last):\n",
      "  File \"C:\\Users\\pc\\anaconda3\\lib\\site-packages\\joblib\\externals\\loky\\_base.py\", line 625, in _invoke_callbacks\n",
      "    callback(self)\n",
      "  File \"C:\\Users\\pc\\anaconda3\\lib\\site-packages\\joblib\\parallel.py\", line 359, in __call__\n",
      "    self.parallel.dispatch_next()\n",
      "  File \"C:\\Users\\pc\\anaconda3\\lib\\site-packages\\joblib\\parallel.py\", line 794, in dispatch_next\n",
      "    if not self.dispatch_one_batch(self._original_iterator):\n",
      "  File \"C:\\Users\\pc\\anaconda3\\lib\\site-packages\\joblib\\parallel.py\", line 861, in dispatch_one_batch\n",
      "    self._dispatch(tasks)\n",
      "  File \"C:\\Users\\pc\\anaconda3\\lib\\site-packages\\joblib\\parallel.py\", line 779, in _dispatch\n",
      "    job = self._backend.apply_async(batch, callback=cb)\n",
      "  File \"C:\\Users\\pc\\anaconda3\\lib\\site-packages\\joblib\\_parallel_backends.py\", line 531, in apply_async\n",
      "    future = self._workers.submit(SafeFunction(func))\n",
      "  File \"C:\\Users\\pc\\anaconda3\\lib\\site-packages\\joblib\\externals\\loky\\reusable_executor.py\", line 177, in submit\n",
      "    return super(_ReusablePoolExecutor, self).submit(\n",
      "  File \"C:\\Users\\pc\\anaconda3\\lib\\site-packages\\joblib\\externals\\loky\\process_executor.py\", line 1115, in submit\n",
      "    raise self._flags.broken\n",
      "joblib.externals.loky.process_executor.TerminatedWorkerError: A worker process managed by the executor was unexpectedly terminated. This could be caused by a segmentation fault while calling the function or by an excessive memory usage causing the Operating System to kill the worker.\n",
      "\n"
     ]
    },
    {
     "ename": "OSError",
     "evalue": "[Errno 22] Invalid argument",
     "output_type": "error",
     "traceback": [
      "\u001b[1;31m---------------------------------------------------------------------------\u001b[0m",
      "\u001b[1;31mKeyboardInterrupt\u001b[0m                         Traceback (most recent call last)",
      "\u001b[1;32m~\\anaconda3\\lib\\site-packages\\joblib\\parallel.py\u001b[0m in \u001b[0;36mretrieve\u001b[1;34m(self)\u001b[0m\n\u001b[0;32m    934\u001b[0m                 \u001b[1;32mif\u001b[0m \u001b[0mgetattr\u001b[0m\u001b[1;33m(\u001b[0m\u001b[0mself\u001b[0m\u001b[1;33m.\u001b[0m\u001b[0m_backend\u001b[0m\u001b[1;33m,\u001b[0m \u001b[1;34m'supports_timeout'\u001b[0m\u001b[1;33m,\u001b[0m \u001b[1;32mFalse\u001b[0m\u001b[1;33m)\u001b[0m\u001b[1;33m:\u001b[0m\u001b[1;33m\u001b[0m\u001b[1;33m\u001b[0m\u001b[0m\n\u001b[1;32m--> 935\u001b[1;33m                     \u001b[0mself\u001b[0m\u001b[1;33m.\u001b[0m\u001b[0m_output\u001b[0m\u001b[1;33m.\u001b[0m\u001b[0mextend\u001b[0m\u001b[1;33m(\u001b[0m\u001b[0mjob\u001b[0m\u001b[1;33m.\u001b[0m\u001b[0mget\u001b[0m\u001b[1;33m(\u001b[0m\u001b[0mtimeout\u001b[0m\u001b[1;33m=\u001b[0m\u001b[0mself\u001b[0m\u001b[1;33m.\u001b[0m\u001b[0mtimeout\u001b[0m\u001b[1;33m)\u001b[0m\u001b[1;33m)\u001b[0m\u001b[1;33m\u001b[0m\u001b[1;33m\u001b[0m\u001b[0m\n\u001b[0m\u001b[0;32m    936\u001b[0m                 \u001b[1;32melse\u001b[0m\u001b[1;33m:\u001b[0m\u001b[1;33m\u001b[0m\u001b[1;33m\u001b[0m\u001b[0m\n",
      "\u001b[1;32m~\\anaconda3\\lib\\site-packages\\joblib\\_parallel_backends.py\u001b[0m in \u001b[0;36mwrap_future_result\u001b[1;34m(future, timeout)\u001b[0m\n\u001b[0;32m    541\u001b[0m         \u001b[1;32mtry\u001b[0m\u001b[1;33m:\u001b[0m\u001b[1;33m\u001b[0m\u001b[1;33m\u001b[0m\u001b[0m\n\u001b[1;32m--> 542\u001b[1;33m             \u001b[1;32mreturn\u001b[0m \u001b[0mfuture\u001b[0m\u001b[1;33m.\u001b[0m\u001b[0mresult\u001b[0m\u001b[1;33m(\u001b[0m\u001b[0mtimeout\u001b[0m\u001b[1;33m=\u001b[0m\u001b[0mtimeout\u001b[0m\u001b[1;33m)\u001b[0m\u001b[1;33m\u001b[0m\u001b[1;33m\u001b[0m\u001b[0m\n\u001b[0m\u001b[0;32m    543\u001b[0m         \u001b[1;32mexcept\u001b[0m \u001b[0mCfTimeoutError\u001b[0m \u001b[1;32mas\u001b[0m \u001b[0me\u001b[0m\u001b[1;33m:\u001b[0m\u001b[1;33m\u001b[0m\u001b[1;33m\u001b[0m\u001b[0m\n",
      "\u001b[1;32m~\\anaconda3\\lib\\concurrent\\futures\\_base.py\u001b[0m in \u001b[0;36mresult\u001b[1;34m(self, timeout)\u001b[0m\n\u001b[0;32m    440\u001b[0m \u001b[1;33m\u001b[0m\u001b[0m\n\u001b[1;32m--> 441\u001b[1;33m                 \u001b[0mself\u001b[0m\u001b[1;33m.\u001b[0m\u001b[0m_condition\u001b[0m\u001b[1;33m.\u001b[0m\u001b[0mwait\u001b[0m\u001b[1;33m(\u001b[0m\u001b[0mtimeout\u001b[0m\u001b[1;33m)\u001b[0m\u001b[1;33m\u001b[0m\u001b[1;33m\u001b[0m\u001b[0m\n\u001b[0m\u001b[0;32m    442\u001b[0m \u001b[1;33m\u001b[0m\u001b[0m\n",
      "\u001b[1;32m~\\anaconda3\\lib\\threading.py\u001b[0m in \u001b[0;36mwait\u001b[1;34m(self, timeout)\u001b[0m\n\u001b[0;32m    311\u001b[0m             \u001b[1;32mif\u001b[0m \u001b[0mtimeout\u001b[0m \u001b[1;32mis\u001b[0m \u001b[1;32mNone\u001b[0m\u001b[1;33m:\u001b[0m\u001b[1;33m\u001b[0m\u001b[1;33m\u001b[0m\u001b[0m\n\u001b[1;32m--> 312\u001b[1;33m                 \u001b[0mwaiter\u001b[0m\u001b[1;33m.\u001b[0m\u001b[0macquire\u001b[0m\u001b[1;33m(\u001b[0m\u001b[1;33m)\u001b[0m\u001b[1;33m\u001b[0m\u001b[1;33m\u001b[0m\u001b[0m\n\u001b[0m\u001b[0;32m    313\u001b[0m                 \u001b[0mgotit\u001b[0m \u001b[1;33m=\u001b[0m \u001b[1;32mTrue\u001b[0m\u001b[1;33m\u001b[0m\u001b[1;33m\u001b[0m\u001b[0m\n",
      "\u001b[1;31mKeyboardInterrupt\u001b[0m: ",
      "\nDuring handling of the above exception, another exception occurred:\n",
      "\u001b[1;31mOSError\u001b[0m                                   Traceback (most recent call last)",
      "\u001b[1;32m~\\anaconda3\\lib\\site-packages\\sklearn\\model_selection\\_search.py\u001b[0m in \u001b[0;36mfit\u001b[1;34m(self, X, y, groups, **fit_params)\u001b[0m\n\u001b[0;32m    890\u001b[0m \u001b[1;33m\u001b[0m\u001b[0m\n\u001b[1;32m--> 891\u001b[1;33m             \u001b[0mself\u001b[0m\u001b[1;33m.\u001b[0m\u001b[0m_run_search\u001b[0m\u001b[1;33m(\u001b[0m\u001b[0mevaluate_candidates\u001b[0m\u001b[1;33m)\u001b[0m\u001b[1;33m\u001b[0m\u001b[1;33m\u001b[0m\u001b[0m\n\u001b[0m\u001b[0;32m    892\u001b[0m \u001b[1;33m\u001b[0m\u001b[0m\n",
      "\u001b[1;32m~\\anaconda3\\lib\\site-packages\\sklearn\\model_selection\\_search.py\u001b[0m in \u001b[0;36m_run_search\u001b[1;34m(self, evaluate_candidates)\u001b[0m\n\u001b[0;32m   1391\u001b[0m         \u001b[1;34m\"\"\"Search all candidates in param_grid\"\"\"\u001b[0m\u001b[1;33m\u001b[0m\u001b[1;33m\u001b[0m\u001b[0m\n\u001b[1;32m-> 1392\u001b[1;33m         \u001b[0mevaluate_candidates\u001b[0m\u001b[1;33m(\u001b[0m\u001b[0mParameterGrid\u001b[0m\u001b[1;33m(\u001b[0m\u001b[0mself\u001b[0m\u001b[1;33m.\u001b[0m\u001b[0mparam_grid\u001b[0m\u001b[1;33m)\u001b[0m\u001b[1;33m)\u001b[0m\u001b[1;33m\u001b[0m\u001b[1;33m\u001b[0m\u001b[0m\n\u001b[0m\u001b[0;32m   1393\u001b[0m \u001b[1;33m\u001b[0m\u001b[0m\n",
      "\u001b[1;32m~\\anaconda3\\lib\\site-packages\\sklearn\\model_selection\\_search.py\u001b[0m in \u001b[0;36mevaluate_candidates\u001b[1;34m(candidate_params, cv, more_results)\u001b[0m\n\u001b[0;32m    837\u001b[0m \u001b[1;33m\u001b[0m\u001b[0m\n\u001b[1;32m--> 838\u001b[1;33m                 out = parallel(\n\u001b[0m\u001b[0;32m    839\u001b[0m                     delayed(_fit_and_score)(\n",
      "\u001b[1;32m~\\anaconda3\\lib\\site-packages\\joblib\\parallel.py\u001b[0m in \u001b[0;36m__call__\u001b[1;34m(self, iterable)\u001b[0m\n\u001b[0;32m   1055\u001b[0m             \u001b[1;32mwith\u001b[0m \u001b[0mself\u001b[0m\u001b[1;33m.\u001b[0m\u001b[0m_backend\u001b[0m\u001b[1;33m.\u001b[0m\u001b[0mretrieval_context\u001b[0m\u001b[1;33m(\u001b[0m\u001b[1;33m)\u001b[0m\u001b[1;33m:\u001b[0m\u001b[1;33m\u001b[0m\u001b[1;33m\u001b[0m\u001b[0m\n\u001b[1;32m-> 1056\u001b[1;33m                 \u001b[0mself\u001b[0m\u001b[1;33m.\u001b[0m\u001b[0mretrieve\u001b[0m\u001b[1;33m(\u001b[0m\u001b[1;33m)\u001b[0m\u001b[1;33m\u001b[0m\u001b[1;33m\u001b[0m\u001b[0m\n\u001b[0m\u001b[0;32m   1057\u001b[0m             \u001b[1;31m# Make sure that we get a last message telling us we are done\u001b[0m\u001b[1;33m\u001b[0m\u001b[1;33m\u001b[0m\u001b[0m\n",
      "\u001b[1;32m~\\anaconda3\\lib\\site-packages\\joblib\\parallel.py\u001b[0m in \u001b[0;36mretrieve\u001b[1;34m(self)\u001b[0m\n\u001b[0;32m    956\u001b[0m                     \u001b[0mensure_ready\u001b[0m \u001b[1;33m=\u001b[0m \u001b[0mself\u001b[0m\u001b[1;33m.\u001b[0m\u001b[0m_managed_backend\u001b[0m\u001b[1;33m\u001b[0m\u001b[1;33m\u001b[0m\u001b[0m\n\u001b[1;32m--> 957\u001b[1;33m                     \u001b[0mbackend\u001b[0m\u001b[1;33m.\u001b[0m\u001b[0mabort_everything\u001b[0m\u001b[1;33m(\u001b[0m\u001b[0mensure_ready\u001b[0m\u001b[1;33m=\u001b[0m\u001b[0mensure_ready\u001b[0m\u001b[1;33m)\u001b[0m\u001b[1;33m\u001b[0m\u001b[1;33m\u001b[0m\u001b[0m\n\u001b[0m\u001b[0;32m    958\u001b[0m                 \u001b[1;32mraise\u001b[0m\u001b[1;33m\u001b[0m\u001b[1;33m\u001b[0m\u001b[0m\n",
      "\u001b[1;32m~\\anaconda3\\lib\\site-packages\\joblib\\_parallel_backends.py\u001b[0m in \u001b[0;36mabort_everything\u001b[1;34m(self, ensure_ready)\u001b[0m\n\u001b[0;32m    560\u001b[0m         \"\"\"\n\u001b[1;32m--> 561\u001b[1;33m         \u001b[0mself\u001b[0m\u001b[1;33m.\u001b[0m\u001b[0m_workers\u001b[0m\u001b[1;33m.\u001b[0m\u001b[0mterminate\u001b[0m\u001b[1;33m(\u001b[0m\u001b[0mkill_workers\u001b[0m\u001b[1;33m=\u001b[0m\u001b[1;32mTrue\u001b[0m\u001b[1;33m)\u001b[0m\u001b[1;33m\u001b[0m\u001b[1;33m\u001b[0m\u001b[0m\n\u001b[0m\u001b[0;32m    562\u001b[0m         \u001b[0mself\u001b[0m\u001b[1;33m.\u001b[0m\u001b[0m_workers\u001b[0m \u001b[1;33m=\u001b[0m \u001b[1;32mNone\u001b[0m\u001b[1;33m\u001b[0m\u001b[1;33m\u001b[0m\u001b[0m\n",
      "\u001b[1;32m~\\anaconda3\\lib\\site-packages\\joblib\\executor.py\u001b[0m in \u001b[0;36mterminate\u001b[1;34m(self, kill_workers)\u001b[0m\n\u001b[0;32m     85\u001b[0m             \u001b[1;32mwith\u001b[0m \u001b[0mself\u001b[0m\u001b[1;33m.\u001b[0m\u001b[0m_submit_resize_lock\u001b[0m\u001b[1;33m:\u001b[0m\u001b[1;33m\u001b[0m\u001b[1;33m\u001b[0m\u001b[0m\n\u001b[1;32m---> 86\u001b[1;33m                 \u001b[0mself\u001b[0m\u001b[1;33m.\u001b[0m\u001b[0m_temp_folder_manager\u001b[0m\u001b[1;33m.\u001b[0m\u001b[0m_unregister_temporary_resources\u001b[0m\u001b[1;33m(\u001b[0m\u001b[1;33m)\u001b[0m\u001b[1;33m\u001b[0m\u001b[1;33m\u001b[0m\u001b[0m\n\u001b[0m\u001b[0;32m     87\u001b[0m                 self._temp_folder_manager._try_delete_folder(\n",
      "\u001b[1;32m~\\anaconda3\\lib\\site-packages\\joblib\\_memmapping_reducer.py\u001b[0m in \u001b[0;36m_unregister_temporary_resources\u001b[1;34m(self, context_id)\u001b[0m\n\u001b[0;32m    634\u001b[0m             \u001b[1;32mfor\u001b[0m \u001b[0mcontext_id\u001b[0m \u001b[1;32min\u001b[0m \u001b[0mself\u001b[0m\u001b[1;33m.\u001b[0m\u001b[0m_cached_temp_folders\u001b[0m\u001b[1;33m:\u001b[0m\u001b[1;33m\u001b[0m\u001b[1;33m\u001b[0m\u001b[0m\n\u001b[1;32m--> 635\u001b[1;33m                 \u001b[0mself\u001b[0m\u001b[1;33m.\u001b[0m\u001b[0m_unregister_temporary_resources\u001b[0m\u001b[1;33m(\u001b[0m\u001b[0mcontext_id\u001b[0m\u001b[1;33m)\u001b[0m\u001b[1;33m\u001b[0m\u001b[1;33m\u001b[0m\u001b[0m\n\u001b[0m\u001b[0;32m    636\u001b[0m         \u001b[1;32melse\u001b[0m\u001b[1;33m:\u001b[0m\u001b[1;33m\u001b[0m\u001b[1;33m\u001b[0m\u001b[0m\n",
      "\u001b[1;32m~\\anaconda3\\lib\\site-packages\\joblib\\_memmapping_reducer.py\u001b[0m in \u001b[0;36m_unregister_temporary_resources\u001b[1;34m(self, context_id)\u001b[0m\n\u001b[0;32m    639\u001b[0m                 \u001b[1;32mfor\u001b[0m \u001b[0mfilename\u001b[0m \u001b[1;32min\u001b[0m \u001b[0mos\u001b[0m\u001b[1;33m.\u001b[0m\u001b[0mlistdir\u001b[0m\u001b[1;33m(\u001b[0m\u001b[0mtemp_folder\u001b[0m\u001b[1;33m)\u001b[0m\u001b[1;33m:\u001b[0m\u001b[1;33m\u001b[0m\u001b[1;33m\u001b[0m\u001b[0m\n\u001b[1;32m--> 640\u001b[1;33m                     resource_tracker.unregister(\n\u001b[0m\u001b[0;32m    641\u001b[0m                         \u001b[0mos\u001b[0m\u001b[1;33m.\u001b[0m\u001b[0mpath\u001b[0m\u001b[1;33m.\u001b[0m\u001b[0mjoin\u001b[0m\u001b[1;33m(\u001b[0m\u001b[0mtemp_folder\u001b[0m\u001b[1;33m,\u001b[0m \u001b[0mfilename\u001b[0m\u001b[1;33m)\u001b[0m\u001b[1;33m,\u001b[0m \u001b[1;34m\"file\"\u001b[0m\u001b[1;33m\u001b[0m\u001b[1;33m\u001b[0m\u001b[0m\n",
      "\u001b[1;32m~\\anaconda3\\lib\\site-packages\\joblib\\externals\\loky\\backend\\resource_tracker.py\u001b[0m in \u001b[0;36munregister\u001b[1;34m(self, name, rtype)\u001b[0m\n\u001b[0;32m    194\u001b[0m         \u001b[1;34m'''Unregister a named resource with resource tracker.'''\u001b[0m\u001b[1;33m\u001b[0m\u001b[1;33m\u001b[0m\u001b[0m\n\u001b[1;32m--> 195\u001b[1;33m         \u001b[0mself\u001b[0m\u001b[1;33m.\u001b[0m\u001b[0mensure_running\u001b[0m\u001b[1;33m(\u001b[0m\u001b[1;33m)\u001b[0m\u001b[1;33m\u001b[0m\u001b[1;33m\u001b[0m\u001b[0m\n\u001b[0m\u001b[0;32m    196\u001b[0m         \u001b[0mself\u001b[0m\u001b[1;33m.\u001b[0m\u001b[0m_send\u001b[0m\u001b[1;33m(\u001b[0m\u001b[1;34m'UNREGISTER'\u001b[0m\u001b[1;33m,\u001b[0m \u001b[0mname\u001b[0m\u001b[1;33m,\u001b[0m \u001b[0mrtype\u001b[0m\u001b[1;33m)\u001b[0m\u001b[1;33m\u001b[0m\u001b[1;33m\u001b[0m\u001b[0m\n",
      "\u001b[1;32m~\\anaconda3\\lib\\site-packages\\joblib\\externals\\loky\\backend\\resource_tracker.py\u001b[0m in \u001b[0;36mensure_running\u001b[1;34m(self)\u001b[0m\n\u001b[0;32m    101\u001b[0m                 \u001b[1;31m# resource tracker was launched before, is it still running?\u001b[0m\u001b[1;33m\u001b[0m\u001b[1;33m\u001b[0m\u001b[0m\n\u001b[1;32m--> 102\u001b[1;33m                 \u001b[1;32mif\u001b[0m \u001b[0mself\u001b[0m\u001b[1;33m.\u001b[0m\u001b[0m_check_alive\u001b[0m\u001b[1;33m(\u001b[0m\u001b[1;33m)\u001b[0m\u001b[1;33m:\u001b[0m\u001b[1;33m\u001b[0m\u001b[1;33m\u001b[0m\u001b[0m\n\u001b[0m\u001b[0;32m    103\u001b[0m                     \u001b[1;31m# => still alive\u001b[0m\u001b[1;33m\u001b[0m\u001b[1;33m\u001b[0m\u001b[0m\n",
      "\u001b[1;32m~\\anaconda3\\lib\\site-packages\\joblib\\externals\\loky\\backend\\resource_tracker.py\u001b[0m in \u001b[0;36m_check_alive\u001b[1;34m(self)\u001b[0m\n\u001b[0;32m    181\u001b[0m         \u001b[1;32mtry\u001b[0m\u001b[1;33m:\u001b[0m\u001b[1;33m\u001b[0m\u001b[1;33m\u001b[0m\u001b[0m\n\u001b[1;32m--> 182\u001b[1;33m             \u001b[0mself\u001b[0m\u001b[1;33m.\u001b[0m\u001b[0m_send\u001b[0m\u001b[1;33m(\u001b[0m\u001b[1;34m'PROBE'\u001b[0m\u001b[1;33m,\u001b[0m \u001b[1;34m''\u001b[0m\u001b[1;33m,\u001b[0m \u001b[1;34m''\u001b[0m\u001b[1;33m)\u001b[0m\u001b[1;33m\u001b[0m\u001b[1;33m\u001b[0m\u001b[0m\n\u001b[0m\u001b[0;32m    183\u001b[0m         \u001b[1;32mexcept\u001b[0m \u001b[0mBrokenPipeError\u001b[0m\u001b[1;33m:\u001b[0m\u001b[1;33m\u001b[0m\u001b[1;33m\u001b[0m\u001b[0m\n",
      "\u001b[1;32m~\\anaconda3\\lib\\site-packages\\joblib\\externals\\loky\\backend\\resource_tracker.py\u001b[0m in \u001b[0;36m_send\u001b[1;34m(self, cmd, name, rtype)\u001b[0m\n\u001b[0;32m    208\u001b[0m             \u001b[1;32mraise\u001b[0m \u001b[0mValueError\u001b[0m\u001b[1;33m(\u001b[0m\u001b[1;34m'name too long'\u001b[0m\u001b[1;33m)\u001b[0m\u001b[1;33m\u001b[0m\u001b[1;33m\u001b[0m\u001b[0m\n\u001b[1;32m--> 209\u001b[1;33m         \u001b[0mnbytes\u001b[0m \u001b[1;33m=\u001b[0m \u001b[0mos\u001b[0m\u001b[1;33m.\u001b[0m\u001b[0mwrite\u001b[0m\u001b[1;33m(\u001b[0m\u001b[0mself\u001b[0m\u001b[1;33m.\u001b[0m\u001b[0m_fd\u001b[0m\u001b[1;33m,\u001b[0m \u001b[0mmsg\u001b[0m\u001b[1;33m)\u001b[0m\u001b[1;33m\u001b[0m\u001b[1;33m\u001b[0m\u001b[0m\n\u001b[0m\u001b[0;32m    210\u001b[0m         \u001b[1;32massert\u001b[0m \u001b[0mnbytes\u001b[0m \u001b[1;33m==\u001b[0m \u001b[0mlen\u001b[0m\u001b[1;33m(\u001b[0m\u001b[0mmsg\u001b[0m\u001b[1;33m)\u001b[0m\u001b[1;33m\u001b[0m\u001b[1;33m\u001b[0m\u001b[0m\n",
      "\u001b[1;31mOSError\u001b[0m: [Errno 22] Invalid argument",
      "\nDuring handling of the above exception, another exception occurred:\n",
      "\u001b[1;31mOSError\u001b[0m                                   Traceback (most recent call last)",
      "\u001b[1;32m~\\AppData\\Local\\Temp\\ipykernel_31604\\1776135533.py\u001b[0m in \u001b[0;36m<module>\u001b[1;34m\u001b[0m\n\u001b[0;32m      3\u001b[0m                           n_jobs=-1)\n\u001b[0;32m      4\u001b[0m \u001b[1;33m\u001b[0m\u001b[0m\n\u001b[1;32m----> 5\u001b[1;33m \u001b[0mhpt_rf_clf\u001b[0m\u001b[1;33m.\u001b[0m\u001b[0mfit\u001b[0m\u001b[1;33m(\u001b[0m\u001b[0mX_train\u001b[0m\u001b[1;33m,\u001b[0m \u001b[0mY_train\u001b[0m\u001b[1;33m)\u001b[0m\u001b[1;33m\u001b[0m\u001b[1;33m\u001b[0m\u001b[0m\n\u001b[0m",
      "\u001b[1;32m~\\anaconda3\\lib\\site-packages\\sklearn\\model_selection\\_search.py\u001b[0m in \u001b[0;36mfit\u001b[1;34m(self, X, y, groups, **fit_params)\u001b[0m\n\u001b[0;32m    899\u001b[0m             \u001b[1;32mif\u001b[0m \u001b[0mcallable\u001b[0m\u001b[1;33m(\u001b[0m\u001b[0mself\u001b[0m\u001b[1;33m.\u001b[0m\u001b[0mscoring\u001b[0m\u001b[1;33m)\u001b[0m \u001b[1;32mand\u001b[0m \u001b[0mself\u001b[0m\u001b[1;33m.\u001b[0m\u001b[0mmultimetric_\u001b[0m\u001b[1;33m:\u001b[0m\u001b[1;33m\u001b[0m\u001b[1;33m\u001b[0m\u001b[0m\n\u001b[0;32m    900\u001b[0m                 \u001b[0mself\u001b[0m\u001b[1;33m.\u001b[0m\u001b[0m_check_refit_for_multimetric\u001b[0m\u001b[1;33m(\u001b[0m\u001b[0mfirst_test_score\u001b[0m\u001b[1;33m)\u001b[0m\u001b[1;33m\u001b[0m\u001b[1;33m\u001b[0m\u001b[0m\n\u001b[1;32m--> 901\u001b[1;33m                 \u001b[0mrefit_metric\u001b[0m \u001b[1;33m=\u001b[0m \u001b[0mself\u001b[0m\u001b[1;33m.\u001b[0m\u001b[0mrefit\u001b[0m\u001b[1;33m\u001b[0m\u001b[1;33m\u001b[0m\u001b[0m\n\u001b[0m\u001b[0;32m    902\u001b[0m \u001b[1;33m\u001b[0m\u001b[0m\n\u001b[0;32m    903\u001b[0m         \u001b[1;31m# For multi-metric evaluation, store the best_index_, best_params_ and\u001b[0m\u001b[1;33m\u001b[0m\u001b[1;33m\u001b[0m\u001b[0m\n",
      "\u001b[1;32m~\\anaconda3\\lib\\site-packages\\joblib\\parallel.py\u001b[0m in \u001b[0;36m__exit__\u001b[1;34m(self, exc_type, exc_value, traceback)\u001b[0m\n\u001b[0;32m    727\u001b[0m \u001b[1;33m\u001b[0m\u001b[0m\n\u001b[0;32m    728\u001b[0m     \u001b[1;32mdef\u001b[0m \u001b[0m__exit__\u001b[0m\u001b[1;33m(\u001b[0m\u001b[0mself\u001b[0m\u001b[1;33m,\u001b[0m \u001b[0mexc_type\u001b[0m\u001b[1;33m,\u001b[0m \u001b[0mexc_value\u001b[0m\u001b[1;33m,\u001b[0m \u001b[0mtraceback\u001b[0m\u001b[1;33m)\u001b[0m\u001b[1;33m:\u001b[0m\u001b[1;33m\u001b[0m\u001b[1;33m\u001b[0m\u001b[0m\n\u001b[1;32m--> 729\u001b[1;33m         \u001b[0mself\u001b[0m\u001b[1;33m.\u001b[0m\u001b[0m_terminate_backend\u001b[0m\u001b[1;33m(\u001b[0m\u001b[1;33m)\u001b[0m\u001b[1;33m\u001b[0m\u001b[1;33m\u001b[0m\u001b[0m\n\u001b[0m\u001b[0;32m    730\u001b[0m         \u001b[0mself\u001b[0m\u001b[1;33m.\u001b[0m\u001b[0m_managed_backend\u001b[0m \u001b[1;33m=\u001b[0m \u001b[1;32mFalse\u001b[0m\u001b[1;33m\u001b[0m\u001b[1;33m\u001b[0m\u001b[0m\n\u001b[0;32m    731\u001b[0m \u001b[1;33m\u001b[0m\u001b[0m\n",
      "\u001b[1;32m~\\anaconda3\\lib\\site-packages\\joblib\\parallel.py\u001b[0m in \u001b[0;36m_terminate_backend\u001b[1;34m(self)\u001b[0m\n\u001b[0;32m    757\u001b[0m     \u001b[1;32mdef\u001b[0m \u001b[0m_terminate_backend\u001b[0m\u001b[1;33m(\u001b[0m\u001b[0mself\u001b[0m\u001b[1;33m)\u001b[0m\u001b[1;33m:\u001b[0m\u001b[1;33m\u001b[0m\u001b[1;33m\u001b[0m\u001b[0m\n\u001b[0;32m    758\u001b[0m         \u001b[1;32mif\u001b[0m \u001b[0mself\u001b[0m\u001b[1;33m.\u001b[0m\u001b[0m_backend\u001b[0m \u001b[1;32mis\u001b[0m \u001b[1;32mnot\u001b[0m \u001b[1;32mNone\u001b[0m\u001b[1;33m:\u001b[0m\u001b[1;33m\u001b[0m\u001b[1;33m\u001b[0m\u001b[0m\n\u001b[1;32m--> 759\u001b[1;33m             \u001b[0mself\u001b[0m\u001b[1;33m.\u001b[0m\u001b[0m_backend\u001b[0m\u001b[1;33m.\u001b[0m\u001b[0mterminate\u001b[0m\u001b[1;33m(\u001b[0m\u001b[1;33m)\u001b[0m\u001b[1;33m\u001b[0m\u001b[1;33m\u001b[0m\u001b[0m\n\u001b[0m\u001b[0;32m    760\u001b[0m \u001b[1;33m\u001b[0m\u001b[0m\n\u001b[0;32m    761\u001b[0m     \u001b[1;32mdef\u001b[0m \u001b[0m_dispatch\u001b[0m\u001b[1;33m(\u001b[0m\u001b[0mself\u001b[0m\u001b[1;33m,\u001b[0m \u001b[0mbatch\u001b[0m\u001b[1;33m)\u001b[0m\u001b[1;33m:\u001b[0m\u001b[1;33m\u001b[0m\u001b[1;33m\u001b[0m\u001b[0m\n",
      "\u001b[1;32m~\\anaconda3\\lib\\site-packages\\joblib\\_parallel_backends.py\u001b[0m in \u001b[0;36mterminate\u001b[1;34m(self)\u001b[0m\n\u001b[0;32m    549\u001b[0m             \u001b[1;31m# calls, but cleanup the temporary resources that the Parallel call\u001b[0m\u001b[1;33m\u001b[0m\u001b[1;33m\u001b[0m\u001b[0m\n\u001b[0;32m    550\u001b[0m             \u001b[1;31m# created. This 'hack' requires a private, low-level operation.\u001b[0m\u001b[1;33m\u001b[0m\u001b[1;33m\u001b[0m\u001b[0m\n\u001b[1;32m--> 551\u001b[1;33m             self._workers._temp_folder_manager._unlink_temporary_resources(\n\u001b[0m\u001b[0;32m    552\u001b[0m                 \u001b[0mcontext_id\u001b[0m\u001b[1;33m=\u001b[0m\u001b[0mself\u001b[0m\u001b[1;33m.\u001b[0m\u001b[0mparallel\u001b[0m\u001b[1;33m.\u001b[0m\u001b[0m_id\u001b[0m\u001b[1;33m\u001b[0m\u001b[1;33m\u001b[0m\u001b[0m\n\u001b[0;32m    553\u001b[0m             )\n",
      "\u001b[1;32m~\\anaconda3\\lib\\site-packages\\joblib\\_memmapping_reducer.py\u001b[0m in \u001b[0;36m_unlink_temporary_resources\u001b[1;34m(self, context_id)\u001b[0m\n\u001b[0;32m    622\u001b[0m             \u001b[1;32mif\u001b[0m \u001b[0mos\u001b[0m\u001b[1;33m.\u001b[0m\u001b[0mpath\u001b[0m\u001b[1;33m.\u001b[0m\u001b[0mexists\u001b[0m\u001b[1;33m(\u001b[0m\u001b[0mtemp_folder\u001b[0m\u001b[1;33m)\u001b[0m\u001b[1;33m:\u001b[0m\u001b[1;33m\u001b[0m\u001b[1;33m\u001b[0m\u001b[0m\n\u001b[0;32m    623\u001b[0m                 \u001b[1;32mfor\u001b[0m \u001b[0mfilename\u001b[0m \u001b[1;32min\u001b[0m \u001b[0mos\u001b[0m\u001b[1;33m.\u001b[0m\u001b[0mlistdir\u001b[0m\u001b[1;33m(\u001b[0m\u001b[0mtemp_folder\u001b[0m\u001b[1;33m)\u001b[0m\u001b[1;33m:\u001b[0m\u001b[1;33m\u001b[0m\u001b[1;33m\u001b[0m\u001b[0m\n\u001b[1;32m--> 624\u001b[1;33m                     resource_tracker.maybe_unlink(\n\u001b[0m\u001b[0;32m    625\u001b[0m                         \u001b[0mos\u001b[0m\u001b[1;33m.\u001b[0m\u001b[0mpath\u001b[0m\u001b[1;33m.\u001b[0m\u001b[0mjoin\u001b[0m\u001b[1;33m(\u001b[0m\u001b[0mtemp_folder\u001b[0m\u001b[1;33m,\u001b[0m \u001b[0mfilename\u001b[0m\u001b[1;33m)\u001b[0m\u001b[1;33m,\u001b[0m \u001b[1;34m\"file\"\u001b[0m\u001b[1;33m\u001b[0m\u001b[1;33m\u001b[0m\u001b[0m\n\u001b[0;32m    626\u001b[0m                     )\n",
      "\u001b[1;32m~\\anaconda3\\lib\\site-packages\\joblib\\externals\\loky\\backend\\resource_tracker.py\u001b[0m in \u001b[0;36mmaybe_unlink\u001b[1;34m(self, name, rtype)\u001b[0m\n\u001b[0;32m    198\u001b[0m     \u001b[1;32mdef\u001b[0m \u001b[0mmaybe_unlink\u001b[0m\u001b[1;33m(\u001b[0m\u001b[0mself\u001b[0m\u001b[1;33m,\u001b[0m \u001b[0mname\u001b[0m\u001b[1;33m,\u001b[0m \u001b[0mrtype\u001b[0m\u001b[1;33m)\u001b[0m\u001b[1;33m:\u001b[0m\u001b[1;33m\u001b[0m\u001b[1;33m\u001b[0m\u001b[0m\n\u001b[0;32m    199\u001b[0m         \u001b[1;34m'''Decrement the refcount of a resource, and delete it if it hits 0'''\u001b[0m\u001b[1;33m\u001b[0m\u001b[1;33m\u001b[0m\u001b[0m\n\u001b[1;32m--> 200\u001b[1;33m         \u001b[0mself\u001b[0m\u001b[1;33m.\u001b[0m\u001b[0mensure_running\u001b[0m\u001b[1;33m(\u001b[0m\u001b[1;33m)\u001b[0m\u001b[1;33m\u001b[0m\u001b[1;33m\u001b[0m\u001b[0m\n\u001b[0m\u001b[0;32m    201\u001b[0m         \u001b[0mself\u001b[0m\u001b[1;33m.\u001b[0m\u001b[0m_send\u001b[0m\u001b[1;33m(\u001b[0m\u001b[1;34m\"MAYBE_UNLINK\"\u001b[0m\u001b[1;33m,\u001b[0m \u001b[0mname\u001b[0m\u001b[1;33m,\u001b[0m \u001b[0mrtype\u001b[0m\u001b[1;33m)\u001b[0m\u001b[1;33m\u001b[0m\u001b[1;33m\u001b[0m\u001b[0m\n\u001b[0;32m    202\u001b[0m \u001b[1;33m\u001b[0m\u001b[0m\n",
      "\u001b[1;32m~\\anaconda3\\lib\\site-packages\\joblib\\externals\\loky\\backend\\resource_tracker.py\u001b[0m in \u001b[0;36mensure_running\u001b[1;34m(self)\u001b[0m\n\u001b[0;32m    100\u001b[0m             \u001b[1;32mif\u001b[0m \u001b[0mself\u001b[0m\u001b[1;33m.\u001b[0m\u001b[0m_fd\u001b[0m \u001b[1;32mis\u001b[0m \u001b[1;32mnot\u001b[0m \u001b[1;32mNone\u001b[0m\u001b[1;33m:\u001b[0m\u001b[1;33m\u001b[0m\u001b[1;33m\u001b[0m\u001b[0m\n\u001b[0;32m    101\u001b[0m                 \u001b[1;31m# resource tracker was launched before, is it still running?\u001b[0m\u001b[1;33m\u001b[0m\u001b[1;33m\u001b[0m\u001b[0m\n\u001b[1;32m--> 102\u001b[1;33m                 \u001b[1;32mif\u001b[0m \u001b[0mself\u001b[0m\u001b[1;33m.\u001b[0m\u001b[0m_check_alive\u001b[0m\u001b[1;33m(\u001b[0m\u001b[1;33m)\u001b[0m\u001b[1;33m:\u001b[0m\u001b[1;33m\u001b[0m\u001b[1;33m\u001b[0m\u001b[0m\n\u001b[0m\u001b[0;32m    103\u001b[0m                     \u001b[1;31m# => still alive\u001b[0m\u001b[1;33m\u001b[0m\u001b[1;33m\u001b[0m\u001b[0m\n\u001b[0;32m    104\u001b[0m                     \u001b[1;32mreturn\u001b[0m\u001b[1;33m\u001b[0m\u001b[1;33m\u001b[0m\u001b[0m\n",
      "\u001b[1;32m~\\anaconda3\\lib\\site-packages\\joblib\\externals\\loky\\backend\\resource_tracker.py\u001b[0m in \u001b[0;36m_check_alive\u001b[1;34m(self)\u001b[0m\n\u001b[0;32m    180\u001b[0m         \u001b[1;34m'''Check for the existence of the resource tracker process.'''\u001b[0m\u001b[1;33m\u001b[0m\u001b[1;33m\u001b[0m\u001b[0m\n\u001b[0;32m    181\u001b[0m         \u001b[1;32mtry\u001b[0m\u001b[1;33m:\u001b[0m\u001b[1;33m\u001b[0m\u001b[1;33m\u001b[0m\u001b[0m\n\u001b[1;32m--> 182\u001b[1;33m             \u001b[0mself\u001b[0m\u001b[1;33m.\u001b[0m\u001b[0m_send\u001b[0m\u001b[1;33m(\u001b[0m\u001b[1;34m'PROBE'\u001b[0m\u001b[1;33m,\u001b[0m \u001b[1;34m''\u001b[0m\u001b[1;33m,\u001b[0m \u001b[1;34m''\u001b[0m\u001b[1;33m)\u001b[0m\u001b[1;33m\u001b[0m\u001b[1;33m\u001b[0m\u001b[0m\n\u001b[0m\u001b[0;32m    183\u001b[0m         \u001b[1;32mexcept\u001b[0m \u001b[0mBrokenPipeError\u001b[0m\u001b[1;33m:\u001b[0m\u001b[1;33m\u001b[0m\u001b[1;33m\u001b[0m\u001b[0m\n\u001b[0;32m    184\u001b[0m             \u001b[1;32mreturn\u001b[0m \u001b[1;32mFalse\u001b[0m\u001b[1;33m\u001b[0m\u001b[1;33m\u001b[0m\u001b[0m\n",
      "\u001b[1;32m~\\anaconda3\\lib\\site-packages\\joblib\\externals\\loky\\backend\\resource_tracker.py\u001b[0m in \u001b[0;36m_send\u001b[1;34m(self, cmd, name, rtype)\u001b[0m\n\u001b[0;32m    207\u001b[0m             \u001b[1;31m# bytes are atomic, and that PIPE_BUF >= 512\u001b[0m\u001b[1;33m\u001b[0m\u001b[1;33m\u001b[0m\u001b[0m\n\u001b[0;32m    208\u001b[0m             \u001b[1;32mraise\u001b[0m \u001b[0mValueError\u001b[0m\u001b[1;33m(\u001b[0m\u001b[1;34m'name too long'\u001b[0m\u001b[1;33m)\u001b[0m\u001b[1;33m\u001b[0m\u001b[1;33m\u001b[0m\u001b[0m\n\u001b[1;32m--> 209\u001b[1;33m         \u001b[0mnbytes\u001b[0m \u001b[1;33m=\u001b[0m \u001b[0mos\u001b[0m\u001b[1;33m.\u001b[0m\u001b[0mwrite\u001b[0m\u001b[1;33m(\u001b[0m\u001b[0mself\u001b[0m\u001b[1;33m.\u001b[0m\u001b[0m_fd\u001b[0m\u001b[1;33m,\u001b[0m \u001b[0mmsg\u001b[0m\u001b[1;33m)\u001b[0m\u001b[1;33m\u001b[0m\u001b[1;33m\u001b[0m\u001b[0m\n\u001b[0m\u001b[0;32m    210\u001b[0m         \u001b[1;32massert\u001b[0m \u001b[0mnbytes\u001b[0m \u001b[1;33m==\u001b[0m \u001b[0mlen\u001b[0m\u001b[1;33m(\u001b[0m\u001b[0mmsg\u001b[0m\u001b[1;33m)\u001b[0m\u001b[1;33m\u001b[0m\u001b[1;33m\u001b[0m\u001b[0m\n\u001b[0;32m    211\u001b[0m \u001b[1;33m\u001b[0m\u001b[0m\n",
      "\u001b[1;31mOSError\u001b[0m: [Errno 22] Invalid argument"
     ]
    }
   ],
   "source": [
    "hpt_rf_clf = GridSearchCV(hpt_rf_clf, \n",
    "                          tuned_parameters, \n",
    "                          n_jobs=-1)\n",
    "\n",
    "hpt_rf_clf.fit(X_train, Y_train)"
   ]
  },
  {
   "cell_type": "code",
   "execution_count": null,
   "id": "5db8eb4a-d75a-47e5-a520-1f76074d9e74",
   "metadata": {},
   "outputs": [],
   "source": [
    "hpt_rf_clf.best_params_"
   ]
  },
  {
   "cell_type": "code",
   "execution_count": null,
   "id": "9744c75a-a155-49e1-ae14-dc9920117288",
   "metadata": {},
   "outputs": [],
   "source": [
    "# Evaluate on test set\n",
    "predictions =  pd.DataFrame(hpt_rf_clf.predict(X_train), columns=Y_train.columns)\n",
    "train_scores = {score.__name__: calculate_quality(Y_train, predictions, score) \n",
    "                for score in [accuracy_score, precision_score, recall_score, f1_score]}\n",
    "train_scores = pd.concat(train_scores,axis=1)"
   ]
  },
  {
   "cell_type": "code",
   "execution_count": null,
   "id": "6c80b426-b808-4242-b7d3-3475d6a1ed68",
   "metadata": {},
   "outputs": [],
   "source": [
    "# Evaluate on test set\n",
    "predictions =  pd.DataFrame(hpt_rf_clf.predict(X_test), columns=Y_test.columns)\n",
    "test_scores = {score.__name__: calculate_quality(Y_test, predictions, score) \n",
    "                for score in [accuracy_score, precision_score, recall_score, f1_score]}\n",
    "test_scores = pd.concat(test_scores,axis=1)"
   ]
  },
  {
   "cell_type": "code",
   "execution_count": null,
   "id": "c389ccbd-cf73-4b32-8106-72c993bf6365",
   "metadata": {},
   "outputs": [],
   "source": [
    "print(test_scores.mean())\n",
    "test_scores.sort_values(\"f1_score\")"
   ]
  },
  {
   "cell_type": "markdown",
   "id": "7a90357b-bbd3-40c1-b561-250c9395364b",
   "metadata": {},
   "source": [
    "### Log"
   ]
  },
  {
   "cell_type": "code",
   "execution_count": null,
   "id": "e78ec22c-c262-4397-9258-529ece47fa05",
   "metadata": {},
   "outputs": [],
   "source": [
    "# Data details\n",
    "data_details = {\"data_path\": DF_PATH,\n",
    "                \"training_indices\": X_train.index.tolist(),\n",
    "                \"test_indices\":     X_test.index.tolist(), \n",
    "                \"features_names\":   X_train.columns.droplevel(0).tolist(),\n",
    "                \"targets_names\":    Y_train.columns.tolist()}\n",
    "\n",
    "with open(os.path.join(LOG_PATH, LOG_DATA_PKL), \"wb\") as output_file:\n",
    "    pickle.dump(data_details, output_file)"
   ]
  },
  {
   "cell_type": "code",
   "execution_count": null,
   "id": "5d08f58a-52ae-41ab-bfc2-bf74c0adfb85",
   "metadata": {},
   "outputs": [],
   "source": [
    "# Model\n",
    "model = {\"model_description\": \"Random Forest: with PCAs + RBF kernel + Hyperparamter tuning\",\n",
    "         \"model_details\": str(hpt_rf_clf),\n",
    "         \"model_object\": hpt_rf_clf} \n",
    "\n",
    "with open(os.path.join(LOG_PATH, LOG_MODEL_PKL), \"wb\") as output_file:\n",
    "    pickle.dump(model, output_file)"
   ]
  },
  {
   "cell_type": "code",
   "execution_count": null,
   "id": "ff9ba34e-c7e8-49de-a2da-930ba68386be",
   "metadata": {},
   "outputs": [],
   "source": [
    "# Preformance details\n",
    "classes_metrics = {\"train_scores\": train_scores, \n",
    "                   \"test_scores\":  test_scores}\n",
    "\n",
    "with open(os.path.join(LOG_PATH, LOG_METRICS_PKL), \"wb\") as output_file:\n",
    "    pickle.dump(classes_metrics, output_file)"
   ]
  },
  {
   "cell_type": "code",
   "execution_count": null,
   "id": "e71a4be2-0019-4a0b-a077-d99f6613304d",
   "metadata": {},
   "outputs": [],
   "source": [
    "# Start a new run and track \n",
    "with mlflow.start_run(experiment_id=exp.experiment_id, \n",
    "                      run_name=model[\"model_description\"]):\n",
    "    # Log pickles\n",
    "    mlflow.log_artifacts(LOG_PATH)  \n",
    "    \n",
    "    # Track metrics \n",
    "    for metric, score in mean_test_scores.items():\n",
    "        mlflow.log_metric(metric, score) "
   ]
  }
 ],
 "metadata": {
  "kernelspec": {
   "display_name": "Python 3 (ipykernel)",
   "language": "python",
   "name": "python3"
  },
  "language_info": {
   "codemirror_mode": {
    "name": "ipython",
    "version": 3
   },
   "file_extension": ".py",
   "mimetype": "text/x-python",
   "name": "python",
   "nbconvert_exporter": "python",
   "pygments_lexer": "ipython3",
   "version": "3.9.13"
  }
 },
 "nbformat": 4,
 "nbformat_minor": 5
}
